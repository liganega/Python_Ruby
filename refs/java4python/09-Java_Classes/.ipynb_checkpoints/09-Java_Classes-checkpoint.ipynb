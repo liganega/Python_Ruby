{
 "cells": [
  {
   "cell_type": "markdown",
   "metadata": {},
   "source": [
    "# 클래스"
   ]
  },
  {
   "cell_type": "markdown",
   "metadata": {},
   "source": [
    "자바에서는 무조건 클래스를 사용해야 한다.\n",
    "심지어 `println` 함수를 사용하고자 하더라도 `public class` 키워드를 이용하여 `main` 메소드가 포함된 클래스를 선언해야 한다. \n",
    "\n",
    "여기서는 자바 클래스를 이용하여 새로운 자료형을 구현하는 예제를 통해 클래스의 기본 활용법을 살펴본다. "
   ]
  },
  {
   "cell_type": "markdown",
   "metadata": {},
   "source": [
    "## 분수 자료형 구현하기"
   ]
  },
  {
   "cell_type": "markdown",
   "metadata": {},
   "source": [
    "파이썬과 자바에는 정수 자료형과 실수 자료형은 기본적으로 구현되어 있지만, 예를 들어 분수, 즉 유리수 자료형은 구현되어 있지 않다.\n",
    "여기서는 분수 자료형을 구현하는 `Fraction` 클래스를 자바에서 구현하고자 한다.\n",
    "\n",
    "`Fraction` 클래스가 분수 자료형을 구현하기 위해서는 기본적으로 아래의 구성요소를 포함해야 한다. \n",
    "\n",
    "* 분모와 분자가 주어지면 새로운 분수를 생성한다.\n",
    "* 분수 객체를 출력(print)하면 단순화된 형태로 보여져야 한다.\n",
    "* 분수들의 덧셈과 뺄셈이 가능해야 한다.\n",
    "* 분수들의 곱셈과 나눗셈이 가능해야 한다.\n",
    "* 두 분수들의 동일여부를 판단할 수 있어야 한다. \n",
    "* 분수와 정수의 덧셈이 가능해야 한다.\n",
    "* 분수들의 리스트를 정렬할 수 있어야 한다. "
   ]
  },
  {
   "cell_type": "markdown",
   "metadata": {},
   "source": [
    "### 파이썬에서 `Fraction` 클래스 구현하기\n",
    "\n",
    "먼저, 파이썬의 경우 `Fraction` 클래스를 아래와 같이 구현할 수 있다. \n",
    "앞서 언급된 요구사항의 일부가 빠져 있지만, 기본적인 요구사항들은 포함되어 있다. "
   ]
  },
  {
   "cell_type": "code",
   "execution_count": 1,
   "metadata": {
    "collapsed": false
   },
   "outputs": [],
   "source": [
    "class Fraction:\n",
    "\n",
    "    # 생성자: 분자와 분모 값이 주어질 때 Fraction 클래스 객체를 생성한다. \n",
    "    def __init__(self,top,bottom):\n",
    "\n",
    "        self.num = top        #the numerator is on top\n",
    "        self.den = bottom     #the denominator is on the bottom\n",
    "\n",
    "    # Fraction 클래스 객체를 직접 호출할 때 대분수 형식으로 보여준다. \n",
    "    def __repr__(self):\n",
    "        if self.num > self.den:\n",
    "            retWhole = self.num // self.den\n",
    "            retNum = self.num - (retWhole * self.den)\n",
    "            return str(retWhole) + \" \" + str(retNum)+\"/\"+str(self.den)\n",
    "        else:\n",
    "            return str(self.num)+\"/\"+str(self.den)\n",
    "\n",
    "    # print 함수를 이용하여 출력할 때 일반적인 분수의 형태로 보여준다.\n",
    "    def __str__(self):\n",
    "        return str(self.num) + \"/\" + str(self.den)\n",
    "\n",
    "    # 분수들의 덧셈을 정의한다.\n",
    "    # 분수와 정수, 분수와 실수의 덧셈도 함께 구현한다.\n",
    "    # 정수 또는 실수일 경우 toFract 함수를 이용하여 먼저 분수로 변환한다. \n",
    "    def __add__(self,other):\n",
    "        # convert to a fraction\n",
    "        other = self.toFract(other)\n",
    "\n",
    "        newnum = self.num*other.den + self.den*other.num\n",
    "        newden = self.den * other.den\n",
    "\n",
    "        common = gcd(newnum,newden)\n",
    "\n",
    "        return Fraction(newnum//common,newden//common)\n",
    "\n",
    "    # 정수 + 분수 또는 실수 + 분수의 경우를 처리하기 위해 구현한다. \n",
    "    def __radd__(self,leftNum):\n",
    "        other = self.toFract(leftNum)            \n",
    "        newnum = self.num*other.den + self.den*other.num\n",
    "        newden = self.den * other.den\n",
    "\n",
    "        common = gcd(newnum,newden)\n",
    "\n",
    "        return Fraction(newnum//common,newden//common)\n",
    "\n",
    "    # 분수들의 리스트를 정렬하기 위해서는 분수들의 크기를 비교할 수 있어야 한다. \n",
    "    # __cmp__ 메소드는 파이썬 2에서 사용됨.\n",
    "    # 파이썬 3에서는 __gt__ 또는 __lt__ 메소드가 필요함.\n",
    "#     def __cmp__(self,other):\n",
    "\n",
    "#         num1 = self.num*other.den \n",
    "#         num2 = self.den*other.num\n",
    "\n",
    "#         if num1 < num2:\n",
    "#            return -1\n",
    "#         else:\n",
    "#            if num1 == num2:\n",
    "#               return 0\n",
    "#            else:\n",
    "#               return 1\n",
    "\n",
    "#     def __gt__(self,other):\n",
    "\n",
    "#         num1 = self.num*other.den \n",
    "#         num2 = self.den*other.num\n",
    "\n",
    "#         return num1 > num2\n",
    "\n",
    "    def __lt__(self,other):\n",
    "\n",
    "        num1 = self.num*other.den \n",
    "        num2 = self.den*other.num\n",
    "\n",
    "        return num1 < num2\n",
    "    \n",
    "    # 분수들의 동일성 여부를 판단하기 위해 사용됨.\n",
    "    def __eq__(self,other):\n",
    "\n",
    "        num1 = self.num*other.den \n",
    "        num2 = self.den*other.num\n",
    "\n",
    "        return num1 == num2\n",
    "\n",
    "    # 정수 또는 실수를 분수로 변환한다. \n",
    "    def toFract(self,n):\n",
    "        if isinstance(n,int):\n",
    "            other = Fraction(n,1)\n",
    "        elif isinstance(n, float):\n",
    "            wholePart = int(n)\n",
    "            fracPart = n - wholePart\n",
    "            # convert to 100ths???\n",
    "            fracNum = int(fracPart * 100)\n",
    "            newNum = wholePart * 100 + fracNum\n",
    "            other = Fraction(newNum,100)\n",
    "        elif isinstance(n,Fraction):\n",
    "            other = n\n",
    "        else:\n",
    "            print(\"Error: cannot add a fraction to a \", type(n))\n",
    "            return None\n",
    "        return other\n",
    "\n",
    "# 정수들의 최대공약수를 리턴하는 함수이다.\n",
    "# Fraction 클래스의 __add__, __radd__ 메소드를 구현할 때 사용된다.\n",
    "# 즉, 덧셈의 결과를 기약분수 형태로 리턴하도록 한다. \n",
    "# gcd 함수를 Fraction 클래스 밖에서 정의되었음에 주의한다. \n",
    "\n",
    "def gcd(m,n):\n",
    "    while m%n != 0:\n",
    "        oldm = m\n",
    "        oldn = n\n",
    "\n",
    "        m = oldn\n",
    "        n = oldm%oldn\n",
    "\n",
    "    return n"
   ]
  },
  {
   "cell_type": "code",
   "execution_count": 2,
   "metadata": {
    "collapsed": true
   },
   "outputs": [],
   "source": [
    "m23 = Fraction(2,3) # m23 = 2/3"
   ]
  },
  {
   "cell_type": "code",
   "execution_count": 3,
   "metadata": {
    "collapsed": true
   },
   "outputs": [],
   "source": [
    "m54 = Fraction(5,4) # m54 = 5/4"
   ]
  },
  {
   "cell_type": "code",
   "execution_count": 4,
   "metadata": {
    "collapsed": false
   },
   "outputs": [
    {
     "name": "stdout",
     "output_type": "stream",
     "text": [
      "2/3\n"
     ]
    }
   ],
   "source": [
    "print(m23)"
   ]
  },
  {
   "cell_type": "code",
   "execution_count": 5,
   "metadata": {
    "collapsed": false
   },
   "outputs": [
    {
     "data": {
      "text/plain": [
       "1 1/4"
      ]
     },
     "execution_count": 5,
     "metadata": {},
     "output_type": "execute_result"
    }
   ],
   "source": [
    "m54"
   ]
  },
  {
   "cell_type": "code",
   "execution_count": 6,
   "metadata": {
    "collapsed": false
   },
   "outputs": [
    {
     "data": {
      "text/plain": [
       "1 11/12"
      ]
     },
     "execution_count": 6,
     "metadata": {},
     "output_type": "execute_result"
    }
   ],
   "source": [
    "m23 + m54"
   ]
  },
  {
   "cell_type": "code",
   "execution_count": 7,
   "metadata": {
    "collapsed": false
   },
   "outputs": [
    {
     "name": "stdout",
     "output_type": "stream",
     "text": [
      "23/12\n"
     ]
    }
   ],
   "source": [
    "print(m23 + m54)"
   ]
  },
  {
   "cell_type": "code",
   "execution_count": 8,
   "metadata": {
    "collapsed": false
   },
   "outputs": [
    {
     "data": {
      "text/plain": [
       "2 2/3"
      ]
     },
     "execution_count": 8,
     "metadata": {},
     "output_type": "execute_result"
    }
   ],
   "source": [
    "2 + m23"
   ]
  },
  {
   "cell_type": "code",
   "execution_count": 9,
   "metadata": {
    "collapsed": false
   },
   "outputs": [
    {
     "data": {
      "text/plain": [
       "2 69/100"
      ]
     },
     "execution_count": 9,
     "metadata": {},
     "output_type": "execute_result"
    }
   ],
   "source": [
    "m54 + 1.45"
   ]
  },
  {
   "cell_type": "code",
   "execution_count": 10,
   "metadata": {
    "collapsed": false
   },
   "outputs": [
    {
     "name": "stdout",
     "output_type": "stream",
     "text": [
      "[2/3, 1 1/4]\n"
     ]
    }
   ],
   "source": [
    "a = [m54, m23]\n",
    "a.sort()\n",
    "print(a)"
   ]
  },
  {
   "cell_type": "code",
   "execution_count": 11,
   "metadata": {
    "collapsed": true
   },
   "outputs": [],
   "source": [
    "m46 = Fraction(4, 6)"
   ]
  },
  {
   "cell_type": "code",
   "execution_count": 12,
   "metadata": {
    "collapsed": false
   },
   "outputs": [
    {
     "data": {
      "text/plain": [
       "True"
      ]
     },
     "execution_count": 12,
     "metadata": {},
     "output_type": "execute_result"
    }
   ],
   "source": [
    "m23 == m46"
   ]
  },
  {
   "cell_type": "markdown",
   "metadata": {},
   "source": [
    "### 자바에서 `Fraction` 클래스 구현하기"
   ]
  },
  {
   "cell_type": "markdown",
   "metadata": {},
   "source": [
    "이제 파이썬에서 구현한 `Fraction` 클래스를 자바에서 구현하기 위해 구성 요소들을 하나씩 살펴 본다."
   ]
  },
  {
   "cell_type": "markdown",
   "metadata": {},
   "source": [
    "#### 분자, 분모 변수 선언"
   ]
  },
  {
   "cell_type": "markdown",
   "metadata": {},
   "source": [
    "자바에서 모든 변수는 사용 전에 미리 선언되어 있어야 한다. \n",
    "예를 들어 분모와 분자를 담을 변수들이 선언되어야 한다. "
   ]
  },
  {
   "cell_type": "markdown",
   "metadata": {},
   "source": [
    "```java\n",
    "public class Fraction {\n",
    "    private int numerator;\n",
    "    private int denominator;\n",
    "```"
   ]
  },
  {
   "cell_type": "markdown",
   "metadata": {},
   "source": [
    "위 코드에서 분자를 담을 `numerator`와 분모를 담을 `denominator` 변수에 `private` 접근제어자를 추가하였다.\n",
    "따라서 두 변수를 외부에서 호출하여 사용할 수 없다. \n",
    "예를 들어, 아래와 같이 __객체 외부__에서 두 변수를 호출하면 컴파일 과정에서 오류가 발생한다. "
   ]
  },
  {
   "cell_type": "markdown",
   "metadata": {},
   "source": [
    "```java\n",
    "Fraction f = new Fraction(1,2);\n",
    "int y = f.numerator * 10;\n",
    "```"
   ]
  },
  {
   "cell_type": "markdown",
   "metadata": {},
   "source": [
    "이와 같이 분모와 분자를 외부에서 접속해서 다룰 수 없으면, 파이썬과 자바에서의 튜플과 문자열처럼 `Fraction` 클래스도 변경할 수 없는 __불변자료형(immutable)__이 된다.\n",
    "이런 경우 보통 게터(getter) 메소드를 이용하여 값을 확인하는 것을 지원하게 하는 것이 좋다.\n",
    "그렇지 않다면 예를 들어 분모, 분자가 무엇인지조차 확인할 방도가 없기 때문이다. "
   ]
  },
  {
   "cell_type": "markdown",
   "metadata": {},
   "source": [
    "```java\n",
    "public Integer getNumerator() {\n",
    "    return numerator;\n",
    "}\n",
    "\n",
    "public Integer getDenominator() {\n",
    "    return denominator;\n",
    "}\n",
    "```"
   ]
  },
  {
   "cell_type": "markdown",
   "metadata": {},
   "source": [
    "`getNumerator` 메소드는 분자를, `getDenominator` 메소드는 분모를 확인시켜주는 게터 메소드이다. \n",
    "\n",
    "`Fraction` 클래스를 파이썬의 리스트, 자바의 어레이리스트처럼 __가변자료형(mutable)__으로 만들려면 `private` 접근제어자를 사용하지 않아도 되지만, 그것 보다는\n",
    "값을 변경시켜주는 세터(setter) 메소드를 사용하는 것이 일반적이다. "
   ]
  },
  {
   "cell_type": "markdown",
   "metadata": {},
   "source": [
    "```java\n",
    "public void setNumerator(Integer numerator) {\n",
    "    this.numerator = numerator;\n",
    "}\n",
    "\n",
    "public void setDenominator(Integer denominator) {\n",
    "    this.denominator = denominator;\n",
    "}\n",
    "```"
   ]
  },
  {
   "cell_type": "markdown",
   "metadata": {},
   "source": [
    "##### 주의사항\n",
    "* 하지만 `Fraction` 클래스는 세터 메소드를 지원하지 않도록 해야 한다.\n",
    "* 그렇지 않으면 분수의 분모, 분자 값이 임의로 변경될 수 있기 때문이다. "
   ]
  },
  {
   "cell_type": "markdown",
   "metadata": {},
   "source": [
    "#### 자바에서 사용되는 변수의 종류"
   ]
  },
  {
   "cell_type": "markdown",
   "metadata": {},
   "source": [
    "자바에서 사용되는 변수는 세 가지로 분류된다. \n",
    "\n",
    "* 인스턴스 변수(instance variables)\n",
    "    + 객체가 생성될 경우에만 의미가 있는 변수. \n",
    "        위 `Fraction` 클래스에서 사용된 `numerator`, `denominator` 변수 등이 인스턴스 변수이다.\n",
    "    + 객체가 생성되어야만 의미를 갖는다.\n",
    "    + 또한 객체가 생성될 때마다 다른 메모리 영역에 존재한다.\n",
    "    + `인스턴스이름.변수이름` 형태로 사용된다.\n",
    "* 클래스 변수(class variables)\n",
    "    + 정적 변수(static variables)라 불리기도 한다. \n",
    "    + 변수 선언 시 `static` 접근제어자가 함께 사용된다.\n",
    "    + 객체를 생성하지 않아도 클래스 선언 시 바로 사용 가능하다. \n",
    "    + 모든 클래스 변수들은 동일한 메모리 영역에 존재한다. \n",
    "    + 메소드 안에서 선언될 수 없다.\n",
    "    + `클래스이름.변수이름` 형태로 사용된다.\n",
    "    + 아래 설명에서 좀 더 자세히 다룰 예정이다.\n",
    "* 지역 변수(local variables)\n",
    "    + 클래스 내에 선언된 메소드의 인자로 사용되는 매개변수(parameter) 또는 메소드 내에서 선언되는 지역변수들을 나타낸다.\n",
    "    + 메소드가 호출될 때에만 메모리에 존재하며, 호출이 종료되면 메모리에서 사라진다."
   ]
  },
  {
   "cell_type": "markdown",
   "metadata": {},
   "source": [
    "#### 정적변수 활용 예제\n",
    "\n",
    "학생들의 학급을 다루는 `Student` 클래스를 선언한 후에 학급을 개설할 때마다 10명의 학생들이 추가된다.\n",
    "여러 개의 학급을 개설한 후에 전체 인원수를 알고자 안다면\n",
    "아래와 같이 정적변수를 활용할 수 있다.\n",
    "\n",
    "아래 코드는 파이썬 코드이다."
   ]
  },
  {
   "cell_type": "code",
   "execution_count": 13,
   "metadata": {
    "collapsed": false
   },
   "outputs": [
    {
     "name": "stdout",
     "output_type": "stream",
     "text": [
      "The number of students is: 40\n"
     ]
    }
   ],
   "source": [
    "class Student:\n",
    "    numStudents = 0\n",
    "\n",
    "    def __init__(self, id, name):\n",
    "        self.id = id\n",
    "        self.name = name\n",
    "\n",
    "        Student.numStudents = Student.numStudents + 10\n",
    "\n",
    "def main(num):\n",
    "    for i in range(num):\n",
    "        s = Student(i,\"Student-\"+str(i))\n",
    "    print('The number of students is:', Student.numStudents)\n",
    "\n",
    "main(4)"
   ]
  },
  {
   "cell_type": "markdown",
   "metadata": {},
   "source": [
    "* 위 코드에서 `numStudents` 변수가 정적변수이며, 정적변수를 이용할 때는 항상 클래스명을 붙혀서\n",
    "    `Student.numStudents`와 같이 작성해야 한다. \n",
    "* 이외의 변수는 인스턴스 변수이며 `self.num`, `self.name` 처럼 `self`를 붙혀서 사용된다.\n",
    "* `main` 함수에서 사용된 것처럼 `numStudent` 변수는 객체 생성과 독립적으로 작동한다. \n",
    "* 반면에 `self.num`과 `self.name`은 특정 객체에만 한정되어서 의미를 갖는다.\n",
    "\n",
    "\n",
    "\n",
    "\n",
    "위 코드를 자바에서 구현하면 다음과 같다.\n",
    "\n",
    "```java\n",
    "public class Student {\n",
    "    public static int numStudents = 0;\n",
    "\n",
    "    private int id;\n",
    "    private String name;\n",
    "\n",
    "    public Student(int id, String name) {\n",
    "    this.id = id;\n",
    "    this.name = name;\n",
    "\n",
    "    numStudents = numStudents + 10;\n",
    "    }\n",
    "\n",
    "    public static void main(String[] args) {\n",
    "        for(int i = 0; i < 10; i++) {\n",
    "            Student s = new Student(i,\"Student\"+i.toString());\n",
    "        }\n",
    "        System.out.println(\"The number of students: \"+ Student.numStudents.toString());\n",
    "    }\n",
    "}\n",
    "```\n",
    "\n",
    "##### 주의사항\n",
    "* `numStudents` 변수처럼 `static` 키워드를 이용하여 정적변수로 선언되면 파이썬의 경우와는 달리\n",
    "    해당 클래스 내에서는 클래스명을 붙히지 않아도 된다. "
   ]
  },
  {
   "cell_type": "markdown",
   "metadata": {},
   "source": [
    "#### 생성자"
   ]
  },
  {
   "cell_type": "markdown",
   "metadata": {},
   "source": [
    "자바에서 생성자는 클래스 이름과 동일한 이름을 사용하며, 항상 `public` 접근제어자가 사용된다.\n",
    "또한 리턴 자료형을 명시하지 않는다. \n",
    "`Fraction` 클래스의 객체를 생성하려면 분자와 분모를 지정해야 하므로, 생성자 함수가 두 개의 정수를 인자로 받는다. "
   ]
  },
  {
   "cell_type": "markdown",
   "metadata": {},
   "source": [
    "```java\n",
    "public Fraction(int top, int bottom) {\n",
    "    numerator = top;\n",
    "    dennominator = bottom;\n",
    "}\n",
    "```"
   ]
  },
  {
   "cell_type": "markdown",
   "metadata": {},
   "source": [
    "파이썬에서와는 달리 `self` 인자를 사용하지 않고, 또 변수를 호출할 때에도 `self` 접두사를 사용하지도 않는다.\n",
    "하자만 지역변수와 인스턴스 변수를 구분해줘야 하는 경우에는 파이썬에서 `self` 접두사를 사용하는 것처럼 `this`라는 접두사를 붙혀주어야 한다. \n",
    "예를 들어 `Fraction` 생성자를 다음과 같이 정의할 경우에는 반드시 `this` 접두사를 사용해야 한다.\n",
    "이유는 인스턴스 변수와 생성자의 인자로 사용되는 매개변수의 이름이 동일하기 때문에 구분이 필요하기 때문이다."
   ]
  },
  {
   "cell_type": "markdown",
   "metadata": {},
   "source": [
    "```java\n",
    "public Fraction(int numerator, int denominator) {\n",
    "    this.numerator = numerator;\n",
    "    this.dennominator = denominator;\n",
    "}\n",
    "```"
   ]
  },
  {
   "cell_type": "markdown",
   "metadata": {},
   "source": [
    "#### 메소드 선언"
   ]
  },
  {
   "cell_type": "markdown",
   "metadata": {},
   "source": [
    "자바 클래스 내에서 메소드를 선언하는 방법은 함수를 파이썬에서와 크게 다르지 않다.\n",
    "다만 메소드 인자들의 자료형과 리턴값의 자료형을 명시하고, `public`, `priviate`, `static`  등의 접근제어가를 사용한다.\n",
    "또한 메소드 내에서 사용되는 지역함수를 먼저 선언하고 사용해야 한다. \n",
    "\n",
    "또 하나의 차이점은 파이썬에서 `__add__` 등과 같은 특수 메소드들은 이미 선언이 되어 있고 사용하고자 한다면 재정해야 하지만\n",
    "자바에서는 사칙연산에 대한 특수 메소드가 존재하지 않는다. \n",
    "따라서 새롭게 메소드를 정의해야 하며, 덧셈의 경우 아래와 같이 구현할 수 있다. "
   ]
  },
  {
   "cell_type": "markdown",
   "metadata": {},
   "source": [
    "```java\n",
    "public Fraction add(Fraction other) {\n",
    "    int newNum, newDen, common;\n",
    "\n",
    "    newNum = other.denominator*this.numerator +\n",
    "                             this.denominator*other.numerator;\n",
    "    newDen = this.denominator * other.denominator;\n",
    "    common = gcd(newNum,newDen);\n",
    "    return new Fraction(newNum/common, newDen/common );\n",
    "}\n",
    "```"
   ]
  },
  {
   "cell_type": "markdown",
   "metadata": {},
   "source": [
    "* 위 코드에서는 `this` 접두사를 굳이 사용할 필요는 없다. \n",
    "    다만 `this`와 `other`를 확실히 구분하기 위해 파이썬의 `self` 접두사처럼 사용되었다. \n",
    "* `public` 접근제어자가 `add` 함수에 사용되었다. 이는 `add` 함수를 어디에서나 호출해서 사용할 수 있음을 의미한다.\n",
    "* `newNum`, `newDen`, `common` 은 `add` 메소드가 호출될 때에만 의미를 갖는 지역변수이다. \n",
    "* `add` 함수의 리턴값은 새로운 `Fraction` 객체이다. \n",
    "    `add` 함수를 선언할 때 명시된 리턴 자료형과 일치한다. \n",
    "* 파이썬과는 달리 `add` 메소드가 선언되었다 하더라도 `+` 기호를 사용할 수 없으며 `add` 메소드를 아래와 같이\n",
    "    직접 호출해야 한다. \n",
    "    ```java\n",
    "    Fraction f1 = new Fraction(1,2);\n",
    "    Fraction f2 = new Fraction(2,3);\n",
    "    System.out.println(f1.add(f2));\n",
    "    ```"
   ]
  },
  {
   "cell_type": "markdown",
   "metadata": {},
   "source": [
    "##### 접근제어자(Access modifier)\n",
    "\n",
    "접근제어자에 대한 좀 더 자세한 설명은 아래 사이트를 참조한다. \n",
    "\n",
    "https://wikidocs.net/232"
   ]
  },
  {
   "cell_type": "markdown",
   "metadata": {},
   "source": [
    "####  메소드 중복정의(overloading)\n",
    "\n",
    "앞서 정의된 `add` 메소드는 분수와 분수의 덧셈을 지원하지만, 예를 들어 분수와 정수의 덧셈은 지원하지 않는다.\n",
    "파이썬 코드에서는 입력되는 인자를 `isinstance` 함수를 이용하여 동적으로 자료형을 확인하고 그에따라 다른 일을 할 수 있지만\n",
    "자바에서는 그런 일이 허용되지 않는다.\n",
    "이유는 자바 함수의 인자들은 자료형이 명시되어 있어서 지정된 자료형 이외의 자료형이 사용되면 컴파일 시 오류가 발생하기 때문이다.\n",
    "따라서 이에 대한 해결책으로 메소드 중복정의를 사용하는 것이다.\n",
    "즉, 분수와 정수의 덧셈을 따로 정의한다. \n",
    "그런데 그러기 위해서는 생성자도 중복정의해서 정수 인자 하나만을 사용하는 생성자를 구현해야 한다. \n",
    "즉, 정수를 입력받아서 분모를 1로 설정하여 `Fraction` 객체를 생성한 후, 그 값과 덧셈을 진행한다. "
   ]
  },
  {
   "cell_type": "markdown",
   "metadata": {},
   "source": [
    "```java\n",
    "public Fraction(int num) {\n",
    "    this.numerator = num;\n",
    "    this.denominator = 1;\n",
    "}\n",
    "\n",
    "public Fraction add(int other) {\n",
    "    return add(new Fraction(other));\n",
    "}\n",
    "```"
   ]
  },
  {
   "cell_type": "markdown",
   "metadata": {},
   "source": [
    "##### 주의사항\n",
    "\n",
    "* 자바에서는 연산자의 중복정의(overloading)가 허락되지 않는다.\n",
    "* 하지만 자바에서 언급된 중복정의는 파이썬에서 설명항 동일한 이름의 함수를 중복해서 정의하는 것과 내용이 좀 다르다.\n",
    "* 파이썬의 경우에는 함수의 이름이 같으면 중복정의가 되어서 환경에 따라 변수에 할당된 의미가 달라진다.\n",
    "* 하지만 자바의 경우에는 함수의 이름 뿐만 아니라 매개변수들의 개수와 자료형도 함께 사용되어 구분된다.\n",
    "    따라서 이름이 같더라도 매개변수의 구성이 다르면 다른 함수로 취급된다. "
   ]
  },
  {
   "cell_type": "markdown",
   "metadata": {},
   "source": [
    "지금까지 구현된 자바 `Fraction` 클래스는 다음과 같다. "
   ]
  },
  {
   "cell_type": "markdown",
   "metadata": {},
   "source": [
    "```java\n",
    "public class Fraction {\n",
    "\n",
    "    private int numerator;\n",
    "    private int denominator;\n",
    "\n",
    "    public Fraction(int num, int den) {\n",
    "        this.numerator = num;\n",
    "        this.denominator = den;\n",
    "    }\n",
    "\n",
    "    public Fraction(int num) {\n",
    "        this.numerator = num;\n",
    "        this.denominator = 1;\n",
    "    }\n",
    "\n",
    "    public Fraction add(Fraction other) {\n",
    "        int newNum, newDen, common;\n",
    "\n",
    "        newNum = other.denominator*this.numerator + this.denominator*other.numerator;\n",
    "        newDen = this.denominator * other.denominator;\n",
    "        common = gcd(newNum,newDen);\n",
    "        return new Fraction(newNum/common, newDen/common );\n",
    "    }\n",
    "\n",
    "    public Fraction add(int other) {\n",
    "        return add(new Fraction(other));\n",
    "    }\n",
    "\n",
    "    private static int gcd(int m, int n) {\n",
    "        while (m % n != 0) {\n",
    "            int oldm = m;\n",
    "            int oldn = n;\n",
    "            m = oldn;\n",
    "            n = oldm%oldn;\n",
    "        }\n",
    "        return n;\n",
    "    }\n",
    "\n",
    "    public static void main(String[] args) {\n",
    "        Fraction f1 = new Fraction(1,2);\n",
    "        Fraction f2 = new Fraction(2,3);\n",
    "\n",
    "        System.out.println(f1.add(f2));\n",
    "        System.out.println(f1.add(1));\n",
    "    }\n",
    "\n",
    "}\n",
    "```"
   ]
  },
  {
   "cell_type": "markdown",
   "metadata": {},
   "source": [
    "#### 정적 메소드(static methods)"
   ]
  },
  {
   "cell_type": "markdown",
   "metadata": {},
   "source": [
    "위 자바코드에서 선언된 메소드들 중에서 `gcd`와 `main` 메소드에 대해서는 `static` 키워드가 붙어 있다.\n",
    "\n",
    "두 정수의 최대공약수를 리턴하는 함수인 `gcd` 는 사실 클래스 내부에 위치할 이유가 전혀 없다.\n",
    "하지만 파이썬에서와는 달리 모든 함수가 특정 클래스 내부에 선언되어야 하기 때문에 어쩔 수 없이 `Fraction` 클래스 내에 선언되었다.\n",
    "하지만 기본적으로 `Fraction` 클래스와 아무 상관이 없다. \n",
    "따라서 `static` 접근제어자를 사용하여 객체 생성과 상관 없이 독립적으로 사용하도록 선언하였다. \n",
    "`gcd`와 같은 정적 메소드는 아래와 같은 모양으로 객체 생성 없이 바로 호출된다. \n",
    "```java\n",
    "Fraction.gcd(3, 4);\n",
    "```\n",
    "\n",
    "파이썬의 경우에 정적메소드는 `self` 인자를 사용하지 않고 선언되며 `staticmethod`라는 장식자(decorator)를 사용하며,\n",
    "아래와 같은 모양으로 선언된다.\n",
    "```python\n",
    "class C:\n",
    "    ...\n",
    "    \n",
    "    @staticmethod\n",
    "    def f(arg1, arg2, ...):\n",
    "        ...\n",
    "```"
   ]
  },
  {
   "cell_type": "markdown",
   "metadata": {},
   "source": [
    "####  상속(inheritance)"
   ]
  },
  {
   "cell_type": "markdown",
   "metadata": {},
   "source": [
    "위 자바코드를 실행하면 다음과 같은 모양의 결과를 얻을 것이다. "
   ]
  },
  {
   "cell_type": "markdown",
   "metadata": {},
   "source": [
    "```java\n",
    "Fraction@7b11a3ac\n",
    "Fraction@6c22c95b\n",
    "```"
   ]
  },
  {
   "cell_type": "markdown",
   "metadata": {},
   "source": [
    "이유는 `println` 함수가 `Fraction` 클래스의 객체를 지정된 형식으로 예쁘게 출력하는 방법을 모르기 때문에 리턴되는 `Fraction` \n",
    "클래스 객체가 저장된 메모리의 주소를 출력한다. "
   ]
  },
  {
   "cell_type": "markdown",
   "metadata": {},
   "source": [
    "### `Object`  클래스"
   ]
  },
  {
   "cell_type": "markdown",
   "metadata": {},
   "source": [
    "`println` 함수가 원하는 대로 작동하려면 파이썬의 `__str__` 메소드 역할을 하는 `toString` 메소드를 구현해야 한다. \n",
    "즉 `toString` 메소드는 모든 클래스에서 사용되는 특수 메소드이다. \n",
    "\n",
    "__모든 자바 클래스에서 사용된다__라는 부분을 좀 더 자세히 이해하기 위해서는 상속 개념을 이해해야 한다. \n",
    "이유는 `toString` 메소드가 `Object` 라는 클래스에서 아래와 같이 선언되어 있고, \n",
    "모든 자바 클래스는 `Object` 클래스를 상속하기 때문이다. 즉, `toString`  메소드가 자동으로 모든 클래스에서 사용된다. "
   ]
  },
  {
   "cell_type": "markdown",
   "metadata": {},
   "source": [
    "```java\n",
    "public String toString() {\n",
    "    return numerator + \"/\" + denominator;\n",
    "}\n",
    "```"
   ]
  },
  {
   "cell_type": "markdown",
   "metadata": {},
   "source": [
    "`Object` 클래스에서 선언된 많은 메소드들 중에서 아래 메소드들이 자주 사용된다. \n",
    "\n",
    "* `toString`\n",
    "* `equals`\n",
    "* `getClass`"
   ]
  },
  {
   "cell_type": "markdown",
   "metadata": {},
   "source": [
    "##### `equals` 메소드\n",
    "파이썬의 `__eq__` 메소드와 유사한 역할을 수행한다. \n",
    "즉, 두 객체를 비교할 때 사용한다. \n",
    "\n",
    "하지만 파이썬에서와는 달리 `==` 연산자의 의미는 달라지지 않는다.\n",
    "자바에서 `==` 연산자는 두 객체가 동일한 메모리에 저장되었을 경우, 즉 완전히 동일한 개체일 경우에 `true`를 리턴한다. \n",
    "반면에, `2/3`와 `4/6`을 동일하다고 말해주기 위해서는 `equals` 메소드를 재정의해서 직접 사용해야 한다. \n",
    "즉, `object1`과 `object2`가 동일한 클래스의 객체라 할 때, \n",
    "```java\n",
    "object1 == object2\n",
    "```\n",
    "는 `false`를 리턴하지만\n",
    "```java\n",
    "object1.equals(object2)\n",
    "```\n",
    "는 경우에 따라 `true`를 리턴할 수 있다. \n",
    "\n",
    "`Fraction` 클래스 내에서 정의되는 `equals` 메소드를 파이썬의 `__eq__` 메소드처럼 구현하면 다음과 같다. "
   ]
  },
  {
   "cell_type": "markdown",
   "metadata": {},
   "source": [
    "```java\n",
    "public boolean equals(Fraction other) {\n",
    "    int num1 = this.numerator * other.denominator;\n",
    "    int num2 = this.denominator * other.numerator;\n",
    "    return num1 == num2;\n",
    "}\n",
    "```"
   ]
  },
  {
   "cell_type": "markdown",
   "metadata": {},
   "source": [
    "하지만 자바의 `equals` 메소드는 임의의 클래스 객체들과 `null` 값과의 동일여부를 정의해야 한다.\n",
    "따라서 아래와 같이 좀 더 복잡하게 구현해야 한다. \n",
    "아래 코드에서 `getClass` 메소드의 역할을 살펴볼 수 있다. \n",
    "`getClass` 메소드는 파이썬의 `type` 연산자와 유사한 기능을 수행한다. "
   ]
  },
  {
   "cell_type": "markdown",
   "metadata": {},
   "source": [
    "```java\n",
    "public boolean equals(Object that) {\n",
    "    if (that == null) return false;\n",
    "    if (this.getClass() != that.getClass()) return false;\n",
    "    Fraction other = (Fraction) that;\n",
    "\n",
    "    int num1 = this.numerator * other.denominator;\n",
    "    int num2 = this.denominator * other.numerator;\n",
    "    return num1 == num2;\n",
    "}\n",
    "```"
   ]
  },
  {
   "cell_type": "markdown",
   "metadata": {},
   "source": [
    "##### `Object` 자료형 인자 사용하기\n",
    "\n",
    "위 코드에서 `equals` 메소드의 인자로 `Object` 자료형이 지정되었다.\n",
    "이것은 `Object` 클래스의 객체 뿐만 아니라 `Object` 클래스를 상속받는 모든 클래스의 객체, \n",
    "즉 임의의 객체를 인자로 사용해도 됨을 의미한다. \n",
    "\n",
    "일반적으로 변수의 자료형으로 선언된 클래스를 상속받는 클래스의 객체를 사용할 수 있다. "
   ]
  },
  {
   "cell_type": "markdown",
   "metadata": {},
   "source": [
    "#### 추상메소드(abstract method), 추상클래스(abstract class), 인터페이스(interface)"
   ]
  },
  {
   "cell_type": "markdown",
   "metadata": {},
   "source": [
    "추상메소드는 선언은 되었지만 구현은 되어 있지 않은 메소드를 의미한다.\n",
    "즉, 함수의 몸체가 없다. \n",
    "그리고 추상클래스는 추상메소드를 하나 이상 포함한 클래스를 의미한다. \n",
    "추상클래스는 일반 메소드가 포함되어 있어도 된다.\n",
    "\n",
    "두 경우 모두 `abstract` 키워드를 사용한다. \n",
    "```java\n",
    "abstract 클래스명{\n",
    "\n",
    "    ...\n",
    "    abstract 리턴자료형 메소드명(인자1, 인자2):\n",
    "}    \n",
    "    \n",
    "```\n",
    "\n",
    "반면에 인터페이스는 추상메소드만을 모아놓은 것이다. \n",
    "보통 아래 모양으로 선언된다. \n",
    "\n",
    "```java\n",
    "interface 인터페이스명{\n",
    "    추상메소드선언1\n",
    "    추상메소드선언2\n",
    "    ...\n",
    "}\n",
    "```"
   ]
  },
  {
   "cell_type": "markdown",
   "metadata": {},
   "source": [
    "##### 주의사항\n",
    "* 추상클래스를 상속하려면 선언된 모든 추상메소드를 구현해야 한다. \n",
    "* 인터페이스는 상속하는 것이 아니라, 인터페이스 내에 선언된 메소드들을 구현하는 것이다.\n",
    "    따라서 인터페이스는 구현한다(implement) 한다고 말한다. "
   ]
  },
  {
   "cell_type": "markdown",
   "metadata": {},
   "source": [
    "#### 추상클래스 상속 예제\n",
    "\n",
    "`Fraction` 클래스는 분수, 즉 숫자들의 클래스이다. \n",
    "이와같이 숫자를 다루는 클래스에 대해 자바에서 요구하는 사항이 있다.\n",
    "즉, 분수들을 실수 또는 정수로 변환시키는 기능이다.\n",
    "그리고 이런 변환 기능을 추상메소드로 모아놓은 추상클래스인 `Number` 클래스가 이미 존재한다. \n",
    "자바에서 사용되는 정수, 실수 등에서 사용되는 강제 형변환이 바로 `Number` 클래스에서 선언되 아래 \n",
    "메소드들에 맞추어 구현된 것이다. \n",
    "\n",
    "* `longValue`: `long` 형 정수로 변환\n",
    "* `intValue`: `int`형 정수로 변환\n",
    "* `floatValue`: `float` 형 실수로 변환\n",
    "* `doubleValue`: `double` 형 실수로 변환\n",
    "\n",
    "`Fraction` 클래스를 `Number` 클래스의 자식 클래스로 선언하기 위해서는 `extends` 키워드를 아래와 같이 \n",
    "이용해야 하며\n",
    "```java\n",
    "public class Fraction extends Number {\n",
    "```\n",
    "앞서 언급된 네 개의 메소드를 모두 구현해야 한다. \n",
    "예를 들어 아래와같이 구현할 수 있다. "
   ]
  },
  {
   "cell_type": "markdown",
   "metadata": {},
   "source": [
    "```java\n",
    "public double doubleValue() {\n",
    "    return ((double) numerator) / ((double) denominator);\n",
    "}\n",
    "\n",
    "public float floatValue() {\n",
    "    return ((float) numerator) / ((float) denominator);\n",
    "}\n",
    "\n",
    "public int intValue() {\n",
    "    return numerator / denominator;\n",
    "}\n",
    "\n",
    "public long longValue() {\n",
    "    return ((long) numerator) / ((long) denominator);\n",
    "}\n",
    "```"
   ]
  },
  {
   "cell_type": "markdown",
   "metadata": {},
   "source": [
    "##### `Number`  클래스 활용\n",
    "\n",
    "`Number` 클래스를 인자로 받도록 선언하여 메소드를 선언할 수 있다.\n",
    "그러면 `Number` 클래스를 상속받는 모든 클래스의 객체를 인자로 사용할 수 있다.\n",
    "하지만, `Number`클래스에서 선언된 메소드 이외의 메소드를 사용할 수 없다.\n",
    "예를 들어 아래에서 선언된 코드는 컴파일 시 오류를 발생시킨다.\n",
    "이유는 `add` 메소드가 `Number` 클래스에서 선언되지 않았기 때문이다.\n",
    "\n",
    "```java\n",
    "public void test(Number a, Number b) {\n",
    "    a.add(b);\n",
    "}\n",
    "```"
   ]
  },
  {
   "cell_type": "markdown",
   "metadata": {},
   "source": [
    "#### 인터페이스 구현 예제"
   ]
  },
  {
   "cell_type": "markdown",
   "metadata": {},
   "source": [
    "`Fraction` 클래스에서 구현해야할 마직막 메소드는 정렬 메소드를 지원하는 기능이다. \n",
    "파이썬의 경우에는 `__lt__` 또는 `__gt__` 메소드를 구현하면 `sort` 메소드가 지원된다.\n",
    "반면에 자바의 경우에는 좀 더 복잡하다.\n",
    "\n",
    "자바 클래스에서 정렬 기능을 구현하려면 소두 비교가능한 클래스로 만들어야 하며,\n",
    "그것은 `Comparable` 인터페이스를 구현하면 된다. \n",
    "\n",
    "`Comparable` 클래스에는 `compareTo` 라는 추상메소드가 유일하게 포함되어 있으며,\n",
    "아래 모양을 갖는다. \n",
    "```java\n",
    "int compareTo(T 인자)\n",
    "```\n",
    "여기시 `T`는 비교가능한 클래스로 만들고자 하는 클래스명을 나타낸다.\n",
    "\n",
    "`compareTo` 메소드의 리턴값은 정수이다. \n",
    "* 리턴값이 양수이면 해당 객체가 입력된 객체보다 크다는 의미임.\n",
    "* 리턴값이 음수이면 해당 객체가 입력된 객체보다 작다는 의미임.\n",
    "* 리턴값이 0이면 해당 객체와 입력된 객체가 동일하다는 의미임.\n",
    "\n",
    "`compareTo` 메소드를 구현할 때 아래 조건들이 만족되도록 구현해야 한다.\n",
    "\n",
    "* `sgn(x.compareTo(y)) == -sgn(y.compareTo(x))`가 성립해야 한다. \n",
    "    여기서 `sgn` 함수는 입력값이 양수, 음수, 0이냐에 따라 각각 1, -1, 0을 리턴하는 함수이다. \n",
    "    \n",
    "* `(x.compareTo(y)>0 && y.compareTo(z)>0)` 이면 `x.compareTo(z)>0` 도 성립해야 한다. \n",
    "* `x.compareTo(y)==0`이면 모든 `z`에 대해 `sgn(x.compareTo(z)) == sgn(y.compareTo(z))`이 성립해야 한다. \n",
    "\n",
    "이제 `Fraction` 클래스가 `Number` 클래스를 상속하면서 동시에 \n",
    "`Comparable` 인터페이스를 구현하기 위해서느 아래와 같이 선언되어야 하며,\n",
    "동시에 `compareTo` 추상메소드를 구현해야 한다. \n",
    "```java\n",
    "public class Fraction extends Number implements Comparable<Fraction> {\n",
    "    ...\n",
    "    \n",
    "    public int compareTo(Fraction other) {\n",
    "    int num1 = this.numerator * other.denominator;\n",
    "    int num2 = this.denominator * other.numerator;\n",
    "    return num1 - num2;\n",
    "    }\n",
    "}\n",
    "```\n"
   ]
  },
  {
   "cell_type": "markdown",
   "metadata": {},
   "source": [
    "##### 주의사항\n",
    "* `equals` 메소드와는 달리 `compareTo` 메소드는 `Fraction` 클래스의 자료형만을 대상으로 구현해도 된다.\n",
    "    만약에 `other` 인자에 `null`이 입력되면 `NullPointerException`이라는 오류를 발생시킨다. "
   ]
  },
  {
   "cell_type": "markdown",
   "metadata": {},
   "source": [
    "#### `Fraction` 클래스 최종 구현\n",
    "\n",
    "앞서 구현한 파이썬의 `Fraction` 클래스에 상응하는 `Fraction` 클래스를 구현하면 다음과 같다. "
   ]
  },
  {
   "cell_type": "markdown",
   "metadata": {},
   "source": [
    "```java\n",
    "import java.util.Arrays;\n",
    "\n",
    "public class Fraction extends Number implements Comparable<Fraction> {\n",
    "    private int numerator;\n",
    "    private int denominator;\n",
    "  \n",
    "    public Fraction(int num, int den) {\n",
    "        this.numerator = num;\n",
    "        this.denominator = den;\n",
    "    }\n",
    "    public Fraction(int num) {\n",
    "        this.numerator = num;\n",
    "        this.denominator = 1;\n",
    "    }\n",
    "\n",
    "    public Integer getNumerator()                   { return numerator; }\n",
    "    public Integer getDenominator()                 { return denominator; }\n",
    "    public void setNumerator  (Integer numerator)   { this.numerator = numerator; }\n",
    "    public void setDenominator(Integer denominator) { this.denominator = denominator; }\n",
    "\n",
    "    public Fraction add(int other) {\n",
    "        return add(new Fraction(other));\n",
    "    }\n",
    "    public Fraction add(Fraction other) {\n",
    "        int newNum = other.denominator*this.numerator + this.denominator*other.numerator;\n",
    "        int newDen = this.denominator * other.denominator;\n",
    "        int common = gcd(newNum,newDen);\n",
    "        return new Fraction(newNum/common, newDen/common );\n",
    "    }\n",
    "    private static int gcd(int m, int n) {\n",
    "        while (m % n != 0) {\n",
    "            int oldm = m;\n",
    "            int oldn = n;\n",
    "            m = oldn;\n",
    "            n = oldm%oldn;\n",
    "        }\n",
    "        return n;\n",
    "    }\n",
    "\n",
    "    public double doubleValue() { return ((double) numerator) / ((double) denominator); } \n",
    "    public float  floatValue()  { return ((float) numerator) / ((float) denominator); } \n",
    "    public int    intValue()    { return numerator / denominator; } \n",
    "    public long   longValue()   { return ((long) numerator) / ((long) denominator); }\n",
    "    public String toString()    { return numerator + \"/\" + denominator; }\n",
    "    public boolean equals(Object that) {\n",
    "        if (that == null) return false;\n",
    "        if (this.getClass() != that.getClass()) return false;\n",
    "        Fraction other = (Fraction) that;\n",
    "            \n",
    "        int num1 = this.numerator * other.denominator;\n",
    "        int num2 = this.denominator * other.numerator;       \n",
    "        return num1 == num2;\n",
    "    }\n",
    "    public int compareTo(Fraction other) {\n",
    "        int num1 = this.numerator * other.denominator;\n",
    "        int num2 = this.denominator * other.numerator;\n",
    "        return num1 - num2;\n",
    "    }\n",
    "\n",
    "    // This is a unit test program to test the class.\n",
    "    public static void main(String[] args) {\n",
    "        Fraction f1 = new Fraction(1,2);\n",
    "        Fraction f2 = new Fraction(2,3);\n",
    "        Fraction f3 = new Fraction(1,4);\n",
    "\n",
    "        System.out.println(f1.add(1));\n",
    "        System.out.println(f1.intValue());\n",
    "        System.out.println(f1.doubleValue());\n",
    "\n",
    "        Fraction[] myFracs = { f1, f2, f3 };\n",
    "        Arrays.sort(myFracs);\n",
    "\n",
    "        for(Fraction f : myFracs) {\n",
    "            System.out.println(f);\n",
    "        }\n",
    "    }\n",
    "}\n",
    "```"
   ]
  },
  {
   "cell_type": "markdown",
   "metadata": {},
   "source": [
    "위 코드를 실행하면 아래와 같이 출력된다. \n",
    "\n",
    "    3/2\n",
    "    0\n",
    "    0.5\n",
    "    1/4\n",
    "    1/2\n",
    "    2/3"
   ]
  }
 ],
 "metadata": {
  "kernelspec": {
   "display_name": "Python 3",
   "language": "python",
   "name": "python3"
  },
  "language_info": {
   "codemirror_mode": {
    "name": "ipython",
    "version": 3
   },
   "file_extension": ".py",
   "mimetype": "text/x-python",
   "name": "python",
   "nbconvert_exporter": "python",
   "pygments_lexer": "ipython3",
   "version": "3.5.1"
  }
 },
 "nbformat": 4,
 "nbformat_minor": 0
}
