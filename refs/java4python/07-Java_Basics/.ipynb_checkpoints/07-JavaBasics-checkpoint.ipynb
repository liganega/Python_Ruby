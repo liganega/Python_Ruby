{
 "cells": [
  {
   "cell_type": "markdown",
   "metadata": {},
   "source": [
    "# 기초 자료형 "
   ]
  },
  {
   "cell_type": "markdown",
   "metadata": {},
   "source": [
    "정수, 실수, 불 값(Boolean values), 문자열, 리스트, 배열 등등의 기초 자료형을 다루는 방식에 있어서 파이썬과 자바가 약간 다르다. \n",
    "\n",
    "* 파이썬의 경우: 정수, 부동소수점 실수 등을 포함해서 모든 자료형을 해당 클래스의 객체로 정의해서 사용한다. \n",
    "    + 예를 들어, 숫자 `3`도 정수형 클래스의 객체로 선언된 것이다.\n",
    "    + `3 + 4`는 `(3).__add__(4)`로 처리되며, `__add__`는 정수형 클래스에서 정의된 덧셈 메소드이다.\n",
    "    \n",
    "* 자바의 경우: 정수, 부동소수점 실수 등 몇 가지 기초 자료형은 클래스의 객체가 아니며, 컴퓨터가 쉽게 처리할 수 있는 방식으로 구현되어 있다. \n",
    "    + 따라서 자바에서의 숫자 계산이 파이썬에서 보다 빠르다."
   ]
  },
  {
   "cell_type": "markdown",
   "metadata": {},
   "source": [
    "## 자바의 정수 자료형과 부도소수점 실수 자료형"
   ]
  },
  {
   "cell_type": "markdown",
   "metadata": {},
   "source": [
    "자바에서는 정수 자료형과 부동소수점 실수 자료형은 클래스를 이용하지 않는다.\n",
    "\n",
    "#### 정수 자료형: 여러 종류의 정수 자료형이 존재\n",
    "\n",
    "| 정수 자료형 종류 | 크기 | 사용할 수 있는 숫자(대략) |\n",
    "|:-------------:|:-----:|:----------------:|\n",
    "| void         | 0 bits| none          |\n",
    "| boolean      | 1 bit | true, false   |\n",
    "| byte         | 8 bits | -128 ~ 127   |\n",
    "| char         | 2 bytes | -/+ 32,000  |\n",
    "| int          | 4 bytes | -/+ 10자리 수 |\n",
    "| long         | 8 bytes | -/+ 19자리 수 |\n",
    "\n",
    "* 정수와 관련해서는 보통 `int`를 사용하며, 숫자가 20억 이상이 되면 `long`을 사용한다. \n",
    "* `byte`는 잘 사용되지 않는다.\n",
    "* `void`: 리턴값이 없는 함수에 사용됨.\n",
    "* `boolean`: 조건문, while문 등의 조건식에서 사용됨.\n",
    "* `char`: 유니코드 문자열을 처리할 때 사용됨.\n",
    "\n",
    "#### 부동소수점 실수 자료형: 두 종류의 자료형 존재\n",
    "\n",
    "| 실수 자료형 종류 | 크기 | 정밀도 |\n",
    "|:-------------:|:-----:|:----------------:|\n",
    "| float         | 4 bytes | 단정밀도 (소수점 이하 7자리) |\n",
    "| double        | 8 bytes | 배정밀도 (소수점 이하 16자리)|"
   ]
  },
  {
   "cell_type": "markdown",
   "metadata": {},
   "source": [
    "## 문자열 자료형"
   ]
  },
  {
   "cell_type": "markdown",
   "metadata": {},
   "source": [
    "파이썬, 자바 두 언어 모두에서 문자열은 클래스의 객체로 선언되어야 한다. \n",
    "\n",
    "#### 파이썬과 자바에서의 공통점\n",
    "* 불변자료형이다: 자바의 문자열도 그 자체를 수정할 수 없다.\n",
    "\n",
    "#### 파이썬과 자바에서의 차이점\n",
    "* 자바에는 인덱싱과 슬라이싱 연산자가 존재하지 않는다.\n",
    "* 자바에는 기본적으로 연산자 중복정의가 허락되지 않는다. \n",
    "    따라서 파이썬에서 문자열, 리스트 등에서 동일한 기호로 사용된 인덱싱, 슬라이싱 등이 자바에서는 지원되지 않는다.\n",
    "* 자바에서 인덱싱과 슬라이싱을 적용하려면 자바 문자열만의 메소드를 사용해야 한다. \n",
    "\n",
    "\n",
    "| 파이썬       | 자바         \t| 리턴값  |\n",
    "|------------|------------------|--------------|\n",
    "| str[3]\t | str.charAt(3)\t  | 3번 인덱스 값 |\n",
    "| str[2:5]\t | str.substring(2,4) | 2번부터 4번 인덱스 값으로 이루어진 부분 문자열 |\n",
    "| len(str)\t | str.length()\t      | 문자열 길이 |\n",
    "| str.find('x') | str.indexOf('x') | x 문자가 처음 나타나는 인덱스 |\n",
    "| str.split() | str.split('\\s')\t  | 화이트스페이스(공백, 탭, 개행문자)를 기준으로 문자열을 쪼갠 부분문자열들의 리스트/어레이 |\n",
    "| str.split(',') | str.split(',') | 쉼표(콤마)를 기준으로 문자열을 쪼갠 부분문자열들의 리스트/어레이 |\n",
    "| str1 + str2 |\tstr1.concat(str2) | 두 개의 문자열을 이어붙인 문자열 |\n",
    "| str.strip() | str.trim()\t      | 문자열의 처음과 끝 부분에 있는 화이트스페이스 제거 |\n",
    "\n",
    "* __예외__: 자바에서도 `str1 + str2`를 `str1.concat(str2)` 대신에 사용할 수 있다."
   ]
  },
  {
   "cell_type": "markdown",
   "metadata": {},
   "source": [
    "## 형변환"
   ]
  },
  {
   "cell_type": "markdown",
   "metadata": {},
   "source": [
    "파이썬에서 정수와 실수의 기초 자료형들 사이의 형변환은 자동으로 이루어지지만 자바에서는 형변환을 명시적으로 지정해주어야 하는 경우가 대부분이다. \n",
    "또한 문자열과 기초 자료형들 사이의 형변환도 자바가 좀 더 복잡하다. \n",
    "\n",
    "| 형변환      | 형식     | 정보상실? |\n",
    "|------------|--------|:--------:|\n",
    "| boolean => int | anInt = aBoolean ? 1 : 0; | No |\n",
    "| char => int | anInt = aChar; | No |\n",
    "| long => int | anInt = (int) aLong; | Yes |\n",
    "| foat => int | anInt = (int) aFloat; | Yes |\n",
    "| double => int | anInt = (int) aDouble; | Yes |\n",
    "| String => int | anInt = Integer.parseInt(aString); | Yes |\n",
    "| int => float | aFloat = int; | Yes |\n",
    "| long => float | aFloat = aLong; | Yes |\n",
    "| double => float | aFloat = (float) aDouble; | Yes |\n",
    "| String => float | aFloat = Float.parseFloat(aString); | Yes |\n",
    "| int => double | aDouble = int; | No |\n",
    "| long => double | aDouble = aLong; | Yes |\n",
    "| float => double | aDouble = aFloat; | No |\n",
    "| String => double | aDouble = Double.parseDouble(aString); | Yes |\n",
    "| boolean => String | aString = Boolean.toString(aBoolean) | No |\n",
    "| int => String | aString = Integer.toString(anInt) | No |\n",
    "| long => String | aString = Long.toString(aLong) | No |\n",
    "| float => String | aString = Float.toString(aFloat) | No |\n",
    "| double => String | aString = Double.toString(aDouble) | No |"
   ]
  },
  {
   "cell_type": "markdown",
   "metadata": {},
   "source": [
    "#### 예제: 화씨(Fahrenheit)에서 섭시(Celsius)로 변환"
   ]
  },
  {
   "cell_type": "markdown",
   "metadata": {},
   "source": [
    "아래 파이썬 코드는 화씨를 섭씨로 변환해주는 함수이다. \n",
    "`input` 함수를 통해 사용자가 입력하는 값은 모두 문자열로 전달된다.\n",
    "따라서 숫자로 형변환을 해주어야 계산을 할 수 있는데 `float`, `int` 등의 함수를 사용한다. \n",
    "아래 코드에서는 실수를 다루기 위해 `float` 함수를 사용하였다. "
   ]
  },
  {
   "cell_type": "code",
   "execution_count": 1,
   "metadata": {
    "collapsed": true
   },
   "outputs": [],
   "source": [
    "def main():\n",
    "    fahr = float(input(\"화씨 온도를 입력하세요: \"))\n",
    "    cel = (fahr - 32) * 5.0/9.0\n",
    "    print(\"섭씨온도로 환산하면 %f 도입니다.\" % cel)"
   ]
  },
  {
   "cell_type": "code",
   "execution_count": 2,
   "metadata": {
    "collapsed": false
   },
   "outputs": [
    {
     "name": "stdout",
     "output_type": "stream",
     "text": [
      "화씨 온도를 입력하세요: 33\n",
      "섭씨온도로 환산하면 0.555556 도입니다.\n"
     ]
    }
   ],
   "source": [
    "main()"
   ]
  },
  {
   "cell_type": "markdown",
   "metadata": {},
   "source": [
    "동일한 기능을 수행하는 자바함수는 아래와 같이 구현할 수 있다. "
   ]
  },
  {
   "cell_type": "markdown",
   "metadata": {},
   "source": [
    "```java\n",
    "import java.util.Scanner;\n",
    "\n",
    "public class TempConv {\n",
    "    public static void main(String[] args) {\n",
    "        double fahr;\n",
    "        double cel;\n",
    "        Scanner in;\n",
    "\n",
    "        in = new Scanner(System.in);\n",
    "        System.out.println(\"Enter the temperature in F: \");\n",
    "        fahr = in.nextDouble();\n",
    "\n",
    "        cel = (fahr - 32) * 5.0/9.0;\n",
    "        System.out.println(\"The temperature in C is: \" + cel);\n",
    "\n",
    "        System.exit(0);\n",
    "    }\n",
    "}\n",
    "```"
   ]
  },
  {
   "cell_type": "markdown",
   "metadata": {},
   "source": [
    "위 자바 코드를 이용하여 파이썬에서와는 다르게 활용되는 자바 언어만의 특징 세 가지를 살펴보고자 한다. \n",
    "\n",
    "1. `import` 선언문\n",
    "1. 변수 선언\n",
    "1. 입력(input)/출력(output)과 `Scanner` 클래스"
   ]
  },
  {
   "cell_type": "markdown",
   "metadata": {},
   "source": [
    "### 1. `import` 선언문\n",
    "\n",
    "파이썬에서와는 달리 자바에서는 어떤 클래스도 `import` 선언 없이 사용할 수 있다.\n",
    "단, 두 조건이 만족되었을 때에만 가능하다.\n",
    "\n",
    "1. 해당 클래스를 javac와 java가 알고 있어야 한다.\n",
    "1. 해당 클래스의 전체 이름(full name)을 사용해야 한다. \n",
    "\n",
    "javac와 java는 특정 클래스의 존재여부를 아래 기준으로 판단한다. \n",
    "\n",
    "1. 현재 일을 하고 있는 디렉토리(current working directory) 내에 존재하는 확장자가 .java 또는 .class인 자바 파일 모두\n",
    "1. 자바를 설치할 때 딸려온 모든 클래스\n",
    "1. 자바 환경에서 설정된 `CLASSPATH` 환경 변수에서 설정된 경로에 저장된 자바 파일들.\n",
    "    `CLASSPATH` 환경 변수에는 아래 두 종류 파일의 경로를 가리킬 수 있다. \n",
    "    1. jar 파일, 즉 자바 클래스들의 팩키지 파일\n",
    "    1. 임의의 자바 클래스 파일들을 포함한 디렉토리\n",
    "    \n",
    "자바에서의 `import java.util.Scanner` 선언문이 파이썬에서의 `from java.util import Scanner` 와 비슷하게 작동하기는 하지만\n",
    "두 언어에서의 `import` 선언문은 완전히 다른 일을 수행한다. "
   ]
  },
  {
   "cell_type": "markdown",
   "metadata": {},
   "source": [
    "#### 자바에서의 `import` 선언문 이해\n",
    "\n",
    "* 파이썬에서와는 달리 자바에서의 `import` 선언문은 항상 소스코드 최상단에 위치해야 한다. \n",
    "* 자바에서 `import`로 선언된 클래스 파일은 로딩이 바로 되는 것이 아니라, 클래스 파일에 대한 전체 경로를 명시하지 않아도 된다고 선언하는 것 뿐이다.\n",
    "* 즉, 자바에서 클래스를 로딩하는 것은 `import` 명령문이 아니고 __자바 클래스 로더(class loader)__가 해당 명령문이 실행될 때 수행한다. "
   ]
  },
  {
   "cell_type": "markdown",
   "metadata": {},
   "source": [
    "#### 자바의 패키지와 클래스파일 이해\n",
    "\n",
    "파이썬과 자바 두 언어에서 `import` 선언문이 다르게 작동하는 것을 이해하려면 먼저 두 언어에서의 사용되는 패키지, 클래스파일, 모듈의 개념을 이해해야 한다. \n",
    "\n",
    "1. 아래 사이트 참조: http://studymake.tistory.com/428 (상단부분만 읽어도 됨. netbeans 에디터 부분은 관심 있는 경우 읽음.)\n",
    "\n",
    "    _자바의 패키지(package)는 클래스(interface, enum..)의 묶음으로서 하나의 디렉토리(폴더)이다. \n",
    "    패키지의 이름과 같은 디렉토리 내에 클래스 파일들을 포함하며 하위 패키지도 포함하는 중첩된 구조도 가능하다. \n",
    "    (C/C++에 비해서 무척 단순한 구조를 가지고 있다.)_\n",
    "\n",
    "    <img src=\"images/java-packages.png\" alt=\"Drawing\" style=\"width: 600px;\"/>\n",
    "\n",
    "    _퍼블릭 클래스(퍼블릭 인터페이스, 퍼블릭 이넘..)가 물리적으로 하나의 파일인 것과 유사하게 패키지는 물리적으로 하나의 디렉토리이다. \n",
    "    즉, 같은 폴더 내의 이러한 파일들이 패키지를 구성한다. \n",
    "    예를 들어서 java.lang.System 클래스는 java패키지의 하위 패키지인 lang에 속한다. \n",
    "    따라서 물리적으로 java디렉토리 밑의 lang디렉토리 밑의 System.class 파일이다._\n",
    "\n",
    "1. public 클래스 이해: https://wikidocs.net/262\n",
    "\n",
    "    _class와 public class의 차이점에 대해서 알아보자._\n",
    "\n",
    "    _다음과 같은 클래스 파일을 MyProgram.java라는 이름으로 작성해 보자._\n",
    "\n",
    "    _MyProgram.java_\n",
    "\n",
    "    ```java\n",
    "    class MyProgram {\n",
    "    }\n",
    "    ```\n",
    "    \n",
    "    _이상없이 잘 컴파일이 된다.\n",
    "    위 소스 파일에 다음과 같이 클래스를 하나 더 추가 해 보자._\n",
    "    \n",
    "    ```java\n",
    "    class MyProgram {\n",
    "    }\n",
    "\n",
    "    class MyProgram2 {\n",
    "    }\n",
    "    ```\n",
    "    \n",
    "    _역시 이상없이 잘 컴파일이 될 것이다.\n",
    "    다시 다음과 같이 수정 해 보자._\n",
    "    \n",
    "    ```java\n",
    "    class MyProgram {\n",
    "    }\n",
    "\n",
    "    public class MyProgram2 {\n",
    "    }\n",
    "    ```\n",
    "    \n",
    "    _MyProgram2라는 클래스 앞에 public 이라는 키워드를 붙였더니 이번에는 컴파일 에러가 발생했다.\n",
    "    다시 다음과 같이 수정 해 보자._\n",
    "\n",
    "    ```java\n",
    "    public class MyProgram {\n",
    "    }\n",
    "\n",
    "    class MyProgram2 {\n",
    "    }\n",
    "    ```\n",
    "    \n",
    "    _MyProgram2 클래스 앞에 public 키워드를 제거하고 MyProgram 앞에 public 키워드를 추가하였다.\n",
    "    이번에는 컴파일이 잘 될 것이다._\n",
    "\n",
    "    _이렇게 되는 이유는 파일명(MyProgram.java) 때문이다.\n",
    "    클래스명 앞에 public 키워드를 추가하면 그 클래스의 이름은 파일명과 동일해야만 하는 규칙이 있기 때문이다._\n",
    "\n",
    "    _그렇다면 자바는 왜 이런 규칙을 만들었을까?_\n",
    "\n",
    "    _(중략)_\n",
    "    \n",
    "    _보통 이렇게 하나의 자바파일에 여러개의 클래스를 작성하는 경우에는 하나의 대표 클래스를 지정하고 파일명과 동일하게 하는 것이 \n",
    "    코드의 가독성에 도움이 된다고들 말한다._\n",
    "\n",
    "    _이제 여러분은 소스코드를 읽을 때 public 키워드가 붙어 있는 class를 보게 된다면 현재 소스코드가 어떤 자바파일명으로 \n",
    "    저장되어 있는지 알 수 있을 것이다. \n",
    "    또한 public 키워드가 없는 경우라면 자바 파일명과 클래스명이 일치하지 않을 수 있다고 생각하면 될 것이다._"
   ]
  },
  {
   "cell_type": "markdown",
   "metadata": {},
   "source": [
    "#### 파이썬의 패키지와 클래스파일 이해\n",
    "\n",
    "* 아래 사이트 참조: https://wikidocs.net/1418\n"
   ]
  },
  {
   "cell_type": "markdown",
   "metadata": {},
   "source": [
    "### 2. 변수 선언(Variable declaration)\n",
    "\n",
    "파이썬은 동적 타입 언어(dynamically typed language)이다. 동적 타입 언어의 대표적인 특징 중에 하나가 변수에 할당되는 값이 임의로 변할 수 있다는 점이다. 특정 변수에 정수, 실수, 문자열, 리스트 등 임의의 값을 언제든지 원할 때마다 할당할 수 있다. "
   ]
  },
  {
   "cell_type": "code",
   "execution_count": 3,
   "metadata": {
    "collapsed": false
   },
   "outputs": [
    {
     "name": "stdout",
     "output_type": "stream",
     "text": [
      "<class 'int'>\n",
      "<class 'float'>\n",
      "<class 'str'>\n",
      "<class 'list'>\n"
     ]
    }
   ],
   "source": [
    "x = 3\n",
    "print(type(x))\n",
    "\n",
    "x = 7.1\n",
    "print(type(x))\n",
    "\n",
    "x = 'abce'\n",
    "print(type(x))\n",
    "\n",
    "x = [0, 1, 2]\n",
    "print(type(x))"
   ]
  },
  {
   "cell_type": "markdown",
   "metadata": {},
   "source": [
    "반면에 자바는 정적 타입 언어(statically typed language)이다. 정적 타입 언어에서는 변수에 할당될 수 있는 자료형이 변수 선언을 먼저 하면서 정해지며, 이후에 절대로 변경할 수 없다. \n",
    "\n",
    "위 `TempConv` 클래스에서 선언된 `fahr`, `cel` 변수들은 `double` 형, 즉 더블 실수 자료형 값만 담을 수 있다. \n",
    "따라서 문자열, 리스트 등 이외의 자료형이 할당이 되고자 하면 바로 오류가 발생한다.\n",
    "즉, `fahr = \"abc\"` 등을 선언하면 바로 오류가 발생한다. \n",
    "\n",
    "자바에서 변수를 미리 선언하지 않으면 바로 오류가 발생한다. \n",
    "파이썬에 익숙한 개발자에게 쉽게 일어날 수 있는 대표적인 오류이다. \n",
    "예를 들어 `TempConv` 클래스 정의에서 `double cel;` 선언문을 생략하고 컴파일을 하면 아래와 같은 오류가 발생한다. "
   ]
  },
  {
   "cell_type": "markdown",
   "metadata": {},
   "source": [
    "```java\n",
    "TempConv.java:13: cannot find symbol\n",
    "symbol  : variable cel\n",
    "location: class TempConv\n",
    "         cel = (fahr - 32) * 5.0/9.0;\n",
    "         ^\n",
    "TempConv.java:14: cannot find symbol\n",
    "symbol  : variable cel\n",
    "location: class TempConv\n",
    "         System.out.println(\"The temperature in C is: \" + cel);\n",
    "                                                          ^\n",
    "2 errors\n",
    "```"
   ]
  },
  {
   "cell_type": "markdown",
   "metadata": {},
   "source": [
    "위 오류 메이시지에 두 개의 오류가 발생했음을 알 수 있다. \n",
    "그런데 첫 째 오류는 파이썬의 경우에는 발생하지 않았을 것인 반면에, 두 번째 오류는 파이썬에서도 발생할 수 있다.\n",
    "즉, 변수를 초기화하지 않을 경우 두 번째 오류와 동일한 오류가 파이썬에서도 발생한다. \n",
    "\n",
    "두 언어의 또 다른 차이점은 자바의 경우에는 위와 같은 오류는 실행을 하기 전 단계인 컴파일 과정에서 확인된다는 점이다. "
   ]
  },
  {
   "cell_type": "markdown",
   "metadata": {},
   "source": [
    "### 3. 입출력과 `Scanner` 클래스"
   ]
  },
  {
   "cell_type": "markdown",
   "metadata": {},
   "source": [
    "#### 입력과 `Scanner` 클래스"
   ]
  },
  {
   "cell_type": "markdown",
   "metadata": {},
   "source": [
    "`TempConv` 클래스 파일 정의에서 `Scanner` 객체가 아래와 같이 사용되었다. \n",
    "```java\n",
    "in = new Scanner(System.in);\n",
    "```    \n",
    "위 명령문에서 변수 `in`에 할당된 `Scanner` 객체는 사용자로부터 값을 입력받는 창구 역할을 수행하며 파이썬의 `input` 함수와\n",
    "비슷한 기능을 수행한다. \n",
    "\n",
    "##### 주의: \n",
    "\n",
    "* _위 명령문에서 `in`이 두 번 나타난다. 그런데 왼쪽에 있는 `in`은 변수이고 `System.in`의 `in`은 `System` 클래스에서 사용된  `InputStream` 클래스의 객체이다._\n",
    "* _`InputStream` 클래스는 사용자로부터 키보드를 이용하여 입력된 값을 전달하는 기능을 수행한다._\n",
    "\n",
    "`Scanner` 클래스는 이외에도 파일의 내용을 읽거나 인터넷 자료를 읽어오는 기능을 갖춘 객체를 생성하는 데에 활용될 수 있다.\n",
    "즉, 파이썬의 `open` 함수 또는 `urlopen` 함수와 비슷한 기능을 갖춘 객체를 `Scanner` 클래스를 이용하여 생성할 수 있다. \n",
    "방식은 `Scanner` 객체를 생성할 때 사용되는 인자로 `System.in` 대신에 다른 객체를 인자로 사용하면 된다. \n",
    "여러 방식이 있지만 중요한 예제들은 다음과 같다. \n",
    "\n",
    "\n",
    "\n",
    "#### 예제: 키보드를 이용해 입력 받기\n",
    "```java\n",
    "in = new Scanner(System.in);\n",
    "fahr = in.nextDouble();\n",
    "```\n",
    "\n",
    "실행결과:\n",
    "파이썬의 `input` 함수가 호출되었을 때 처럼 사용자로부터 입력을 받아 더블형 변수인 `fahr`에 저장한다. \n",
    "여기서는 입력값으로 더블형 실수가 들어와야 하며 정수를 입력받고자 하면 `nextDouble` 대신에 `nextInt` 메소드를 호출해야 한다.\n",
    "\n",
    "#### 예제: 컴퓨터에 저장된 파일 읽어들이기\n",
    "```java\n",
    "Scanner sc = new Scanner(new File(\"myNumbers.dat\"));\n",
    "      while (sc.hasNextLong()) {\n",
    "          long aLong = sc.nextLong();\n",
    "      }\n",
    "```\n",
    "\n",
    "실행결과: `myNumbers.dat` 파일 내용을 읽어서 `Scanner`객체 변수인 `sc`에 할당한다. \n",
    "`myNumbers.dat` 파일에 `long` 정수형 정수들이 각 줄에 하나씩 저장되었다고 가정한다. \n",
    "`while`문을 이용하여 읽어 드린 파일 내용을 한 줄씩 읽어서 `long` 정수형 변수인 `aLong`에 할당한다. \n",
    "`Scanner` 클래스의 `hasNextLong` 메소드는 더 이상 읽을 줄이 있는지 여부를 확인하며,\n",
    "`nextLong` 메소드는 다음 줄에 읽을 내용이 `long` 정수형 값일 때 사용한다. \n",
    "\n",
    "#### 예제: 인터넷 상에 존재하는 파일 읽어들이기\n",
    "```java\n",
    "URL url = new URL(\"http://www.puzzlers.org/pub/wordlists/pocket.txt\");\n",
    "Scanner s = new Scanner(url.openStream());\n",
    "```\n",
    "\n",
    "실행결과: 인터넷 주소 `http://www.puzzlers.org/pub/wordlists/pocket.txt`에 저장된 파일 내용을 읽어 들여 \n",
    "`Scanner` 객체 변수인 `s`에 할당한다. \n",
    "`URL` 객체변수인 `url`에 할당된 값은 파일 내용 뿐만 아니라 다양한 정보를 포함하고 있다.\n",
    "따라서 내용만을 확인하기 위해서는 `openStream` 메소드를 호출해야 한다. \n",
    "`openStream` 메소드의 리턴값은 `System.in`과 마찬가지로 `InputStream` 클래스의 객체이다. \n",
    "\n",
    "#### 예제: 문자열 활용하기\n",
    "```java\n",
    "String input = \"1 fish 2 fish red fish blue fish\";\n",
    "Scanner s = new Scanner(input).useDelimiter(\"\\\\s*fish\\\\s*\");\n",
    "System.out.println(s.nextInt());\n",
    "System.out.println(s.nextInt());\n",
    "System.out.println(s.next());\n",
    "System.out.println(s.next());\n",
    "s.close();\n",
    "```\n",
    "\n",
    "실행결과: 문자열 객체를 읽어 드릴 때 사용한다. \n",
    "여기서는 파이썬의 `split` 문자열 메소드처럼 읽어드린 문자열을 특정 기준으로 쪼개서 사용하는 것을 보여준다. \n",
    "`useDelimiter` 메소드가 파이썬의 `split` 메소드와 비슷한 역할을 수행한다.\n",
    "다만 좀 더 복잡한 인자를 사용하는데 정규표현식(Regular expression이라 하며 보통 Regex라 줄여 부름)을 이용한다. \n",
    "정규표현식은 조금만 관심있으면 금새 배운다. \n",
    "예를 들어, [RegexOne](http://regexone.com \"정규표현식 연습사이트\") 사이트에서 제공하는 연습을 통해 쉽게 익힐 수 있다. \n",
    "위 코드의 `\"\\\\s*fish\\\\s*\"`는 `fish` 문자열을 기준으로 쪼개기 위해 사용되었다는 점만 우선 알아두면 된다.\n",
    "또한 `next` 메소드는 읽은 데이터를 문자열로 처리한다는 점에 주의한다. 따라서 위 코드를 실행하면 아래의 결과가 나온다. \n",
    "```java\n",
    "1\n",
    "2\n",
    "red\n",
    "blue\n",
    "```\n",
    "\n",
    "##### 주의:\n",
    "\n",
    "* _Scanner 객체를 생성할 때 인자로 사용할 수 있는 객체로는 `InputStream`, `File`, `String` 이외에 `Path`, `Readable`, `ReadableByteChannel` 등이 있다._\n",
    "* `Scanner` 클래스의 주요 메소드들을 정리하면 다음과 같다.\n",
    "\n",
    "| 리턴 자료형 | 메소드 명 | 기능 |\n",
    "|-------------|-------------|------------|\n",
    "| boolean |\thasNext() |\t더 읽을 데이터의 존재 여부 |\n",
    "| boolean |\thasNextInt() | 더 읽을 int형 데이터의 존재 여부 |\n",
    "| boolean |\thasNextFloat() | 더 읽을 float형 데이터의 존재 여부 |\n",
    "| boolean |\thasNextDouble()\t| 더 읽을 double형 데이터의 존재 여부 |\n",
    "| int |\tnextInt() |\t읽은 데이터를 int형으로 리턴 |\n",
    "| Float | nextFloat() |\t읽은 데이터를 float형으로 리턴 |\n",
    "| double | nextDouble() | 읽은 데이터를 double형으로 리턴 |\n",
    "| String | next() |\t읽은 데이터를 문자열로 리턴 |"
   ]
  },
  {
   "cell_type": "markdown",
   "metadata": {},
   "source": [
    "#### 출력"
   ]
  },
  {
   "cell_type": "markdown",
   "metadata": {},
   "source": [
    "자바에서 출력은 기본적으로 `System` 클래스의 정적 객체(static object)로 선언된 `PrintStream` 클래스의 객체인 `out`이 담당한다. \n",
    "특히 `println`과 `print` 두 개의 메소드가 기본적으로 사용된다. 두 메소드는 출력후 개행문자, 즉 리턴키가 작동하냐 않느냐의 차이를 갖고 있으며,\n",
    "기본적으로 아래와 같은 모양으로 사용된다. \n",
    "\n",
    "```java\n",
    "System.out.println(\"The temperature in C is: \" + cel);\n",
    "System.out.print(\"The temperature in C is: \" + cel);\n",
    "```\n",
    "\n",
    "두 메소드의 인자는 문자열이어야 한다. \n",
    "위 예제에서 사용된 인자는 문자열과 float형 값의 덧셈이라는 점에 주의한다. \n",
    "자바에서 문자열과 숫자의 덧셈은 숫자를 문자열로 변환하여 이어붙이기를 하는 것으로 간주한다.\n",
    "자바와 같이 __정적 타입 언어__에서는 기본적으로 허용되지 않는 연산이지만 예외적인 경우로 처리한다.\n",
    "내부적으로으는 아래와 같이 취급한다. \n",
    "```java\n",
    "\"The temperature in C is: \" + tostring(cel)\n",
    "```\n",
    "\n",
    "`tostring` 메소드는 자바의 모든 객체에 포함되어 있다. \n",
    "파이썬의 모든 객체에 포함되어 있는 `__str__` 메소드와 유사한 기능을 갖는다고 생각하면 된다. "
   ]
  },
  {
   "cell_type": "markdown",
   "metadata": {},
   "source": [
    "#### GUI를 이용한 입출력\n",
    "\n",
    "자바에서 GUI를 이용하여 입출력 기능을 구현하려면 `javax.swing` 패키지를 이용하면 된다.\n",
    "앞서 사용한 `TempConv` 클래스를 GUI 버전으로 구현하면 다음과 같다. "
   ]
  },
  {
   "cell_type": "markdown",
   "metadata": {},
   "source": [
    "```java\n",
    "import javax.swing.*;\n",
    "\n",
    "public class TempConvGUI {\n",
    "\n",
    "    public static void main(String[] args) {\n",
    "        String fahrString;\n",
    "        double fahr, cel;\n",
    "\n",
    "        fahrString = JOptionPane.showInputDialog(\"화씨 온도(F) 숫자를 입력하세요: \");\n",
    "        fahr = Double.parseDouble(fahrString);\n",
    "        cel = (fahr - 32) * 5.0/9.0;\n",
    "\n",
    "        JOptionPane.showMessageDialog(null,\"The temperature in C is, \" + cel);\n",
    "    }\n",
    "\n",
    "}\n",
    "```"
   ]
  },
  {
   "cell_type": "markdown",
   "metadata": {},
   "source": [
    "`JOptionPane` 클래스는 값을 받아들이거나 메시지를 보여주는 기본적인 창들을 생성하여 띄우는데 필요한 다양한 메소드들을 포함하고 있다. \n",
    "위 코드에서는 `showInputDialog`와 `showMessageDialog` 메소드가 사용되었다. \n",
    "\n",
    "'\n",
    "`JOptionPane.showInputDialog` 메소드를 호출하면 화씨 온도를 입력할 수 있는 창이 생성된다. \n",
    "\n",
    "<img src=\"images/java-input.png\" alt=\"Drawing\" style=\"width: 400px;\"/>\n",
    "\n",
    "입력창에 어떠한 문자열도 입력할 수 있으므로 리턴값은 문자열로 처리된다.\n",
    "따라서 double 자료형으로 형변환을 해야 하는데 여기서 `Double.parseDouble` 함수를 사용한다. \n",
    "파이썬의 `float` 함수를 사용하는 것과 동일하다. \n",
    "\n",
    "`JOptionPane.showMessageDialog` 함수는 메시지를 보여주는 창을 생성한다. \n",
    "아래 패널창은 위 입력창에 숫자 `33`을 입력한 결과를 보여준다. \n",
    "첫째 인자로 사용된 `null`은 파이썬의 `None` 값에 해당한다. \n",
    "여기서는 메인 윈도우(main window)가 없다는 의미로 사용되었다는 것을 기억하면 충분하다. \n",
    "이후에 다양한 예제들을 살펴볼 것이다.\n",
    "\n",
    "<img src=\"images/java-message.png\" alt=\"Drawing\" style=\"width: 400px;\"/>\n",
    "\n",
    "이 두 메소드 이외에 yes/no/cancel 등을 묻는 `showConfirmDialog` 메소드와\n",
    "언급한 세 개의 메소드들의 기능을 동시에 제공하는 `showOptionDialog` 메소드가 대표적으로 많이 사용된다.\n",
    "\n",
    "#### 예제: `showConfirmDialog` 활용법\n",
    "```java\n",
    "JOptionPane.showConfirmDialog(null, \"choose one\", \"choose one\", JOptionPane.YES_NO_OPTION);\n",
    "```\n",
    "\n",
    "실행결과: \n",
    "<img src=\"images/java-confirm.png\" alt=\"Drawing\" style=\"width: 350px;\"/>\n",
    "\n",
    "#### 예제: `showOptionDialog` 활용법\n",
    "```java\n",
    "Object[] options = { \"OK\", \"CANCEL\" };\n",
    "JOptionPane.showOptionDialog(null, \"Click OK to continue\", \"Warning\",\n",
    "             JOptionPane.DEFAULT_OPTION, JOptionPane.WARNING_MESSAGE,\n",
    "             null, options, options[0]);\n",
    "```\n",
    "\n",
    "실행결과: \n",
    "<img src=\"images/java-option.png\" alt=\"Drawing\" style=\"width: 350px;\"/>"
   ]
  },
  {
   "cell_type": "markdown",
   "metadata": {},
   "source": [
    "## 리스트"
   ]
  },
  {
   "cell_type": "markdown",
   "metadata": {},
   "source": [
    "0에서 9 사이의 숫자 10개를 10개의 줄에 적어놓은 `test.dat` 파일이 있다고 가정하자.\n",
    "이제 파일을 읽어 들인 후 각각의 숫자가 몇 번씩 적혀있는지 도수분포표(히스토그램)을 작성하기 위해 아래 파이썬 프로그램을 이용할 수 있다. \n",
    "\n",
    "`test.dat` 파일은 아래 내용을 담고 있다. \n",
    "```\n",
    "9\n",
    "3\n",
    "4\n",
    "1\n",
    "3\n",
    "4\n",
    "0\n",
    "7\n",
    "5\n",
    "8\n",
    "```"
   ]
  },
  {
   "cell_type": "code",
   "execution_count": 4,
   "metadata": {
    "collapsed": false
   },
   "outputs": [],
   "source": [
    "import sys\n",
    "\n",
    "def main():\n",
    "    count = [0] * 10\n",
    "    try:\n",
    "        data = open('test.dat', 'r')\n",
    "    except IOError as e:\n",
    "        print(\"Sorry but I was unable to open your data file.\")\n",
    "        sys.exit(e)\n",
    "\n",
    "    for line in data:\n",
    "        count[int(line)] = count[int(line)] + 1\n",
    "        \n",
    "    idx = 0\n",
    "    for num in count:\n",
    "        print(idx, \" occurred \", num, \" times.\")\n",
    "        idx += 1"
   ]
  },
  {
   "cell_type": "markdown",
   "metadata": {},
   "source": [
    "위 파이썬 코드를 좀 자세히 살펴보자. \n",
    "\n",
    "* `count` 변수는 길이가 10인 리스트를 할당받으며, 리스트의 각 항목은 0으로 초기화된다. \n",
    "* `test.dat` 라는 데이터 파일을 연다. \n",
    "* 첫째 `for`문: 파일 내용을 줄 단위로 확인하여 `count` 변수에 할당된 리스트의 확인된 값에 \n",
    "    해당하는 인덱스에 위치한 값을 1씩 증가시킨다. \n",
    "    파이썬의 경우 파일 내용을 읽을 때 모두 문자열로 처리하므로 `int` 함수를 이용하여 정수형으로 형변환을 해야 한다. \n",
    "* 둘째 `for`문: `count` 변수에 할당된 리스트의 각 항목을 인덱스 번호와 함께 출력한다. \n",
    "    여기서 인덱스 번호는 0부터 9까지의 숫자에 해당하며, 각 인덱스에 위치한 값은 그 숫자가 몇 번 나타나는지를 알려준다. "
   ]
  },
  {
   "cell_type": "code",
   "execution_count": 5,
   "metadata": {
    "collapsed": false
   },
   "outputs": [
    {
     "name": "stdout",
     "output_type": "stream",
     "text": [
      "0  occurred  1  times.\n",
      "1  occurred  1  times.\n",
      "2  occurred  0  times.\n",
      "3  occurred  2  times.\n",
      "4  occurred  2  times.\n",
      "5  occurred  1  times.\n",
      "6  occurred  0  times.\n",
      "7  occurred  1  times.\n",
      "8  occurred  1  times.\n",
      "9  occurred  1  times.\n"
     ]
    }
   ],
   "source": [
    "main()"
   ]
  },
  {
   "cell_type": "markdown",
   "metadata": {},
   "source": [
    "#### 예외처리\n",
    "\n",
    "위 코드에서 사용된 `try/except` 명령문은 읽고자 하는 파일이 존재하지 않을 경우를 대비하기 위해 사용되었다. \n",
    "예를 들어 `no_test.dat`라는 파일이 존재하지 않는다면 아래와 같은 오류메시지가 발생하며 실행을 멈추게 된다. "
   ]
  },
  {
   "cell_type": "markdown",
   "metadata": {},
   "source": [
    "```python\n",
    "Sorry but I was unable to open your data file.\n",
    "An exception has occurred, use %tb to see the full traceback.\n",
    "SystemExit: [Errno 2] No such file or directory: 'no_test.dat'\n",
    "\n",
    "To exit: use 'exit', 'quit', or Ctrl-D.\n",
    "```"
   ]
  },
  {
   "cell_type": "markdown",
   "metadata": {},
   "source": [
    "이와같이 오류가 발생할 가능성에 대비하는 일을 __예외처리__라 부른다. \n",
    "자바에서의 예외처리는 `try/catch` 형태로 사용되며 아래 예제코드에서 사용법을 확인할 수 있다. "
   ]
  },
  {
   "cell_type": "markdown",
   "metadata": {},
   "source": [
    "#### 자바에서 리스트와 예외처리 다루기"
   ]
  },
  {
   "cell_type": "markdown",
   "metadata": {},
   "source": [
    "이제 위 파이썬 코드와 동일한 일을 수행하는 자바 프로그램을 살펴보자. "
   ]
  },
  {
   "cell_type": "markdown",
   "metadata": {},
   "source": [
    "```java\n",
    "import java.util.Scanner;\n",
    "import java.util.ArrayList;\n",
    "import java.io.File;\n",
    "import java.io.IOException;\n",
    "\n",
    "public class Histo {\n",
    "\n",
    "    public static void main(String[] args) {\n",
    "        Scanner data = null;\n",
    "        ArrayList<Integer> count;\n",
    "        int idx;\n",
    "\n",
    "        try {\n",
    "                data = new Scanner(new File(\"test.dat\"));\n",
    "        }\n",
    "        catch ( IOException e) {\n",
    "            System.out.println(\"Sorry but I was unable to open your data file\");\n",
    "            e.printStackTrace();\n",
    "            System.exit(0);\n",
    "        }\n",
    "\n",
    "        count = new ArrayList<Integer>(10);\n",
    "        for (int i =0; i<10;i++) {\n",
    "            count.add(i,0);\n",
    "        }\n",
    "\n",
    "        while(data.hasNextInt()) {\n",
    "            idx = data.nextInt();\n",
    "            count.set(idx,count.get(idx)+1);\n",
    "        }\n",
    "\n",
    "        idx = 0;\n",
    "        for(int i : count) {\n",
    "            System.out.println(idx + \" occured \" + i + \" times.\");\n",
    "            idx++;\n",
    "        }\n",
    "    }\n",
    "}\n",
    "```"
   ]
  },
  {
   "cell_type": "markdown",
   "metadata": {},
   "source": [
    "파이선 코드와 비교했을 때 위 자바 코드는 네 가지 특징을 갖고 있다. \n",
    "\n",
    "1. 파이썬의 리스트 자료형에 대응하는 자바의 자료형은 `ArrayList`이다.\n",
    "\n",
    "1. 자바의 `for` 문은 파이썬의 경우와 비슷한 모양과 조금 다른 모양으로 사용된다. \n",
    "\n",
    "    위 코드에서 사용된 `for` 문 중에서 첫째 `for`문은 파이썬에서 볼 수 없는 모양이다:\n",
    "    ```java\n",
    "    for (int i =0; i<10;i++)\n",
    "    ```\n",
    "    는 파이썬의\n",
    "    ```python\n",
    "    for i in range(10)\n",
    "    ```\n",
    "    에 상응한다.\n",
    "    반면에 둘째 `for`문인\n",
    "    ```java\n",
    "    for(int i : count)\n",
    "    ```\n",
    "    파이썬의 \n",
    "    ```python\n",
    "    for i in count\n",
    "    ```\n",
    "    명령문과 동일한 모양이라 할 수 있다. \n",
    "    두 경우 모두 자바에서는 `int i` 형태로 변수의 자료형을 명시한다는 점에 주의해야 한다.     \n",
    "    \n",
    "1. 반면에 `while`문의 사용법은 두 언어에서 거의 비슷하다. \n",
    "    `while` 키워드 다음에 참/거짓을 확인할 수 있는 불 값 자료형이 오는데 \n",
    "    위 자바 코드에서는 `data.hasNextInt()` 메소드의 리턴값을 사용하였다. \n",
    "    즉, `data` 파일에 더 읽을 내용이 있고 그것이 정수형 값인지의 여부에 따라 `while`문을 반복한다는 의미이다.     "
   ]
  },
  {
   "cell_type": "markdown",
   "metadata": {},
   "source": [
    "#### 자바의 어레이리스트\n",
    "\n",
    "파이썬의 리스트에 가장 가까운 자바의 자료형은 __어레이리스트(`ArrayList`)__이다. \n",
    "두 자료형의 공통점은 다음과 같다:\n",
    "\n",
    "* 길이를 미리 지정하지 않는다.\n",
    "* 임의의 원소를 추가하거나 삭제하여 길이를 늘리거나 줄일 수 있다. \n",
    "\n",
    "하지만 차이점도 존재하는데, 그것은 파이썬은 동적 타입 언어인 반면에 자바는 정적 타입 언어이기 때문에 발생한다:\n",
    "\n",
    "* 파이썬의 리스트에는 어떤 자료형도 항목으로 사용될 수 있으며, 서로 다른 자료형이 섞일 수도 있다.\n",
    "    따라서 리스트를 선언할 때 항목들의 자료형을 명시하지 않는다. \n",
    "* 반면에 자바의 어레이리스트를 선언할 때는 기본적으로 항목들의 자료형을 명시해야 한다. \n",
    "    문법상 반드시 자료형을 명시할 필요는 없지만 명시하지 않을 경우 많은 오류를 유발하게 된다. \n",
    "    \n",
    "    위 코드의 `main` 메소드의 2번 줄에서 `count` 변수를 선언하면서 `<Integer>`라는 옵션을 사용하여 \n",
    "    `count` 변수에는 정수들로 이루어진 어레이리스트가 할당될 것임을 명시하였다. \n",
    "    \n",
    "* 자바 어레이리스트의 항목의 읽기/수정/추가/삭제는 항상 해당 메소드를 이용해야 한다.\n",
    "    파이썬의 경우에는 인덱싱을 이용할 수 있지만 자바에서는 그런 기능을 가진 함수가 존재하지 않는다. \n",
    "    아래 `while`문에서 어레이리스트의 `get` 메소드를 이용하여 특정 인덱스의 항목값을 확인한 다음에 \n",
    "    `set` 메소드를 이용하여 해당 인덱스의 항목값을 업데이트 하였다. \n",
    "    ```java\n",
    "    while(data.hasNextInt()) {\n",
    "        idx = data.nextInt();\n",
    "        count.set(idx,count.get(idx)+1);\n",
    "    }\n",
    "    ```\n"
   ]
  },
  {
   "cell_type": "markdown",
   "metadata": {},
   "source": [
    "#### 자바에서의 예외처리\n",
    "\n",
    "앞서 파이썬 코드에서 설명한 대로 `try/catch` 명령문을 이용한다. \n",
    "두 언어에서의 예외처리 방식은 매우 비슷하다. \n",
    "파이썬의 `IOError`는 자바의 `IOException`에 해당하는 것처럼 사용하는 이름이 다르지만 기본적으로 동일한 역할을 수행한다. "
   ]
  },
  {
   "cell_type": "markdown",
   "metadata": {},
   "source": [
    "#### 연습문제\n",
    "\n",
    "아래 코드는 파이썬에서 사용되는 `for` 선언문 예제들이다. \n",
    "자바에서 상응하는 `for` 선언문을 확인하라. \n",
    "\n",
    "* `for i in range(2,101,2)`\n",
    "* `for i in range(1,100)`\n",
    "* `for i in range(100,0,-1)`\n",
    "* `for x,y in zip(range(10),range(0,20,2))`"
   ]
  },
  {
   "cell_type": "markdown",
   "metadata": {},
   "source": [
    "## 자바의 어레이(arrays)"
   ]
  },
  {
   "cell_type": "markdown",
   "metadata": {},
   "source": [
    "자바는 어레이리스트 이외에 어레이(array) 자료형을 기본적으로 제공한다.\n",
    "자바의 어레이 자료형은 C 언어의 리스트와 비슷하다. \n",
    "즉, 어레이를 선언할 때 길이와 항목으로 사용되는 자료형을 지정해야 한다. \n",
    "즉, 어레이리스트와는 달리 어레이으 길이는 임의로 늘리거나 줄일 수 없다.\n",
    "\n",
    "앞서 설명된 `Histo` 클래스를 어레이를 이용하여 구현하면 다음과 같다.\n",
    "```java\n",
    "import java.util.Scanner;\n",
    "import java.io.File;\n",
    "import java.io.IOException;\n",
    "\n",
    "public class HistoArray {\n",
    "    public static void main(String[] args) {\n",
    "        Scanner data = null;\n",
    "        int[] count = {0,0,0,0,0,0,0,0,0,0};\n",
    "        int idx;\n",
    "\n",
    "\n",
    "\n",
    "        try {\n",
    "                data = new Scanner(new File(\"test.dat\"));\n",
    "        }\n",
    "        catch ( IOException e) {\n",
    "            System.out.println(\"Sorry but I was unable to open your data file\");\n",
    "            e.printStackTrace();\n",
    "            System.exit(0);\n",
    "        }\n",
    "\n",
    "        while(data.hasNextInt()) {\n",
    "            idx = data.nextInt();\n",
    "            count[idx] = count[idx] + 1;\n",
    "        }\n",
    "\n",
    "        idx = 0;\n",
    "        for(int i : count) {\n",
    "            System.out.println(idx + \" occured \" + i + \" times.\");\n",
    "            idx++;\n",
    "        }\n",
    "    }\n",
    "}\n",
    "```"
   ]
  },
  {
   "cell_type": "markdown",
   "metadata": {},
   "source": [
    "이전의 `Histo`와의 차이점은 `count` 변수에  길이가 10인 어레이 값을 할당하면서 초기화 하였다. \n",
    "* `count` 어레이의 각 항목은 모두 0으로 초기화 되었다.\n",
    "* 특이한 점은, 어레이리스트를 사용할 때와는 달리 파이썬의 인덱싱 함수처럼 대괄호를 이용하여 항목값을 읽고 지정할 수 있다는 것이다. "
   ]
  },
  {
   "cell_type": "markdown",
   "metadata": {},
   "source": [
    "## 사전"
   ]
  },
  {
   "cell_type": "markdown",
   "metadata": {},
   "source": [
    "파이썬에서 키와 값들의 쌍으로 이루어진 집합들의 자료형인 사전 자료형과 유사한 기능을 갖고 있는 자료형이 자바에도 있다. \n",
    "자바에서는 사전이라는 말보다 __맵(map)__이라고 표현하며, `TreeMap`과 `HashMap` 두 개의 클래스가 맵 개념을 구현하고 있다. \n",
    "`TreeMap`과 `HashMap`은 기본적으로 구현 방식이 다르지만, 사용방법엔 별다른 차이점이 크지 않다.\n",
    "여기서는 `TreeMap`의 활용을 살펴본다. "
   ]
  },
  {
   "cell_type": "markdown",
   "metadata": {},
   "source": [
    "예를 들어 파이썬에서 사전을 이용하여 단어가 반복해서 사용된 횟수를 세어주는 함수를 아래와 구현할 수 있다. "
   ]
  },
  {
   "cell_type": "code",
   "execution_count": 6,
   "metadata": {
    "collapsed": false
   },
   "outputs": [
    {
     "name": "stdout",
     "output_type": "stream",
     "text": [
      "0 occured 1 times.\n",
      "1 occured 1 times.\n",
      "3 occured 2 times.\n",
      "4 occured 2 times.\n",
      "5 occured 1 times.\n",
      "7 occured 1 times.\n",
      "8 occured 1 times.\n",
      "9 occured 1 times.\n"
     ]
    }
   ],
   "source": [
    " def main():\n",
    "     data = open('test.dat')\n",
    "     wordList = data.read().split()\n",
    "     count = {}\n",
    "     for w in wordList:\n",
    "         w = w.lower()\n",
    "         count[w] = count.setdefault(w,0) + 1\n",
    "\n",
    "     keyList = list(count.keys())\n",
    "     keyList.sort()\n",
    "     for k in keyList:\n",
    "         print(\"%s occured %d times.\"%(k, count[k]))\n",
    "\n",
    " main()"
   ]
  },
  {
   "cell_type": "markdown",
   "metadata": {},
   "source": [
    "앞서 다룬 `Histo` 클래스를 `TreeMap`을 이용하여 구현하면 다음과 같다. "
   ]
  },
  {
   "cell_type": "markdown",
   "metadata": {},
   "source": [
    "```java\n",
    "import java.util.Scanner;\n",
    "import java.util.ArrayList;\n",
    "import java.io.File;\n",
    "import java.io.IOException;\n",
    "import java.util.TreeMap;\n",
    "\n",
    "public class HistoMap {\n",
    "\n",
    "  public static void main(String[] args) {\n",
    "    Scanner data = null;\n",
    "    TreeMap<String,Integer> count;\n",
    "    int idx;\n",
    "    String word;\n",
    "    int wordCount;\n",
    "\n",
    "    try {\n",
    "      data = new Scanner(new File(\"alice30.txt\"));\n",
    "    }\n",
    "    catch ( IOException e) {\n",
    "      System.out.println(\"Sorry but I was unable to open your data file\");\n",
    "      e.printStackTrace();\n",
    "      System.exit(0);\n",
    "    }\n",
    "\n",
    "    count = new TreeMap<String,Integer>();\n",
    "\n",
    "    while(data.hasNext()) {\n",
    "      word = data.next().toLowerCase();\n",
    "      wordCount = count.get(word);\n",
    "      if (wordCount == null) {\n",
    "        wordCount = 0;\n",
    "      }\n",
    "      count.put(word,++wordCount);\n",
    "    }\n",
    "\n",
    "    for(String i : count.keySet()) {\n",
    "      System.out.printf(\"%-20s occured %5d times\\n\", i, count.get(i) );\n",
    "    }\n",
    "  }\n",
    "}\n",
    "```"
   ]
  }
 ],
 "metadata": {
  "kernelspec": {
   "display_name": "Python 3",
   "language": "python",
   "name": "python3"
  },
  "language_info": {
   "codemirror_mode": {
    "name": "ipython",
    "version": 3
   },
   "file_extension": ".py",
   "mimetype": "text/x-python",
   "name": "python",
   "nbconvert_exporter": "python",
   "pygments_lexer": "ipython3",
   "version": "3.5.1"
  }
 },
 "nbformat": 4,
 "nbformat_minor": 0
}
