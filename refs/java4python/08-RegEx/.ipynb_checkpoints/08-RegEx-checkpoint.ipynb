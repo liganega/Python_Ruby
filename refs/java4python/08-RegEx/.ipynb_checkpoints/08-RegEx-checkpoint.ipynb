{
 "cells": [
  {
   "cell_type": "markdown",
   "metadata": {},
   "source": [
    "# 정규 표현식(Regular Expression)"
   ]
  },
  {
   "cell_type": "markdown",
   "metadata": {},
   "source": [
    "정규 표현식은 특정한 규칙에 따라 문자들을 합성해서 만든 문자열이며, \n",
    "특정 모양(패턴)의 문자열을 탐색 및 대체하는 데에 사용된다. \n",
    "자바, 파이썬, C, C++ 등 많은 프로그래밍 언어에는 정규 표현식을 지원하는 표준 라이브러리가 포함되어 있다. \n",
    "\n",
    "정규 표현식을 잘 모를 경우 아래에 소개하는 사이트를 이용하여 정규 표현식 언어의 문법과 사용법에 대해 공부할 것을 강력하게 추천한다. \n",
    "\n",
    "* 추천 사이트: [RegexOne](http://regexone.com)\n",
    "\n",
    "* 위 사이트 이용 방법: 위 사이트에서 Interactive Tutorial을 처음부터 끝까지 풀어 볼 것.\n",
    "    즉, Lesson 1 ~ Lesson 15 뿐만 아니라 Problem 1 ~ Problem 8 모두 풀어보아야 함.\n",
    "    \n",
    "여기서는 파이썬에서 정규 표현식을 다루는 방법을 간단한 예제를 통해 살펴본다. "
   ]
  },
  {
   "cell_type": "markdown",
   "metadata": {},
   "source": [
    "## 파이썬에서 정규 표현식 다루기"
   ]
  },
  {
   "cell_type": "markdown",
   "metadata": {},
   "source": [
    "파이썬에서 정규 표현식을 사용하려면 `re` 모듈을 임포트 해야 한다. "
   ]
  },
  {
   "cell_type": "code",
   "execution_count": 1,
   "metadata": {
    "collapsed": true
   },
   "outputs": [],
   "source": [
    "import re"
   ]
  },
  {
   "cell_type": "markdown",
   "metadata": {},
   "source": [
    "`re` 모듈에 포함된 다양한 함수들중에서 가장 많이 사용되는 것들은 다음과 같다. "
   ]
  },
  {
   "cell_type": "markdown",
   "metadata": {},
   "source": [
    "* `seach` 메소드\n",
    "* `findall` 메소드\n",
    "* `finditer` 메소드\n",
    "* `sub` 메소드"
   ]
  },
  {
   "cell_type": "markdown",
   "metadata": {},
   "source": [
    "###  `re.search` 함수\n",
    "\n",
    "* 특정 정규 표현식과 매칭되는 문자열의 존재여부를 확인하기 위해서 사용한다. \n",
    "* 리턴값은 매칭되는 값이 없을 경우에는 `None`, 있을 경우에는 해당 문자열의 위치 정보를 포함하는 `re.MatchObject` 클래스 자료형이다. \n",
    "* 첫 번째로 매칭되는 문자열을 찾으면 탐색을 더 이상 하지 않는다. \n",
    "\n",
    "기본 사용법은 다음과 같다. \n",
    "\n",
    "    matchObject = re.search(pattern, input_str, flags=0)"
   ]
  },
  {
   "cell_type": "markdown",
   "metadata": {},
   "source": [
    "#### 예제\n",
    "\n",
    "'June 24'와 같은 \"월 일\" 형식의 문자열의 존재여부를 확인하는 방법."
   ]
  },
  {
   "cell_type": "code",
   "execution_count": 2,
   "metadata": {
    "collapsed": false
   },
   "outputs": [
    {
     "name": "stdout",
     "output_type": "stream",
     "text": [
      "처음으로 매칭되는 날짜의 인덱스 구간은 [4, 11)이다.\n",
      "처음으로 매칭되는 날짜는 July 23 이다.\n",
      "처음으로 매칭되는 날짜의 월은 July 이다.\n",
      "처음으로 매칭되는 날짜의 일은 23 이다.\n"
     ]
    }
   ],
   "source": [
    "import re\n",
    "\n",
    "# 날짜를 표현할 때 사용하는 \"월\"과 \"일\" 두 개의 그룹에 해당하는 정규 표현식은 다음과 같다.\n",
    "regex = r\"([a-zA-Z]+) (\\d+)\"\n",
    "\n",
    "# 임의의 문자열에서 \"월 일\"에 해당하는 부분을 찾아서 활용하고자 한다.\n",
    "aString= \"날짜1 July 23, 날짜2 Aug 15 날짜3\"\n",
    "\n",
    "if re.search(regex, aString):\n",
    "    match = re.search(regex, aString)\n",
    "    \n",
    "    # match에 저장된 정보 중에서 해당 문자열이 위치한 인덱스 구간을 확인할 수 있다. \n",
    "    print(\"처음으로 매칭되는 날짜의 인덱스 구간은 [%s, %s)이다.\" % (match.start(), match.end()))\n",
    "    \n",
    "    # 처음으로 매칭되는 문자열을 확인하기 위해 group 메소드를 이용한다.\n",
    "    # 매칭되는 문자열 전체를 확인하려면 인자로 0을 사용한다. \n",
    "    print(\"처음으로 매칭되는 날짜는 %s 이다.\" % (match.group(0)))\n",
    "    \n",
    "    # 처음으로 매칭되는 문자열을 확인하기 위해 group 메소드를 이용한다.\n",
    "    # 매칭되는 문자열 중에서 첫 번째 그룹에 매칭되는 문자열, 여기서는 \"월\"에 해당하는 문자열을 확인하려면 인자로 1을 사용한다. \n",
    "\n",
    "    print(\"처음으로 매칭되는 날짜의 월은 %s 이다.\" % (match.group(1)))\n",
    "    \n",
    "    # 처음으로 매칭되는 문자열을 확인하기 위해 group 메소드를 이용한다.\n",
    "    # 매칭되는 문자열 중에서 두 번째 그룹에 매칭되는 문자열, 여기서는 \"일\"에 해당하는 문자열을 확인하려면 인자로 2를 사용한다. \n",
    "\n",
    "    print(\"처음으로 매칭되는 날짜의 일은 %s 이다.\" % (match.group(2)))    \n",
    "\n",
    "else:\n",
    "    print(\"regex에 해당하는 문자열이 존재하지 않는다. :(\")"
   ]
  },
  {
   "cell_type": "markdown",
   "metadata": {},
   "source": [
    "###  `re.findall` 함수\n",
    "\n",
    "* 매칭되는 모든 문자열들의 리스트를 반환한다. \n",
    "* 그룹 매칭을 할 경우 매칭 되는 그룹들의 리스트를 반환한다. \n",
    "* 매칭 되는 문자열이 없을 경우 공리스트를 반환한다.\n",
    "\n",
    "기본 사용법은 다음과 같다. \n",
    "\n",
    "    matchList = re.findall(pattern, input_str, flags=0)"
   ]
  },
  {
   "cell_type": "markdown",
   "metadata": {},
   "source": [
    "#### 예제\n",
    "\n",
    "'June 24'와 같은 \"달 일\" 형식의 문자열을 모두 찾아 해당 문자열들의 리스트를 구하고자 할 경우."
   ]
  },
  {
   "cell_type": "code",
   "execution_count": 3,
   "metadata": {
    "collapsed": false
   },
   "outputs": [
    {
     "name": "stdout",
     "output_type": "stream",
     "text": [
      "매칭되는 문자열은 July 23 이다.\n",
      "매칭되는 문자열은 Aug 15 이다.\n"
     ]
    }
   ],
   "source": [
    "import re\n",
    "\n",
    "# 날짜를 표현할 때 사용하는 \"월 일\"의 패턴에 해당하는 정규 표현식은 다음과 같다.\n",
    "# 주의: 그룹핑이 없다.\n",
    "regex = r\"[a-zA-Z]+ \\d+\"\n",
    "\n",
    "# 임의의 문자열에서 \"월 일\"에 해당하는 부분을 찾아서 활용하고자 한다.\n",
    "aString= \"날짜1 July 23, 날짜2 Aug 15 날짜3\"\n",
    "\n",
    "matches = re.findall(regex, aString)\n",
    "\n",
    "for match in matches:    \n",
    "    print(\"매칭되는 문자열은 %s 이다.\" % (match))"
   ]
  },
  {
   "cell_type": "code",
   "execution_count": 4,
   "metadata": {
    "collapsed": false
   },
   "outputs": [
    {
     "name": "stdout",
     "output_type": "stream",
     "text": [
      "['July 23', 'Aug 15']\n"
     ]
    }
   ],
   "source": [
    "print(matches)"
   ]
  },
  {
   "cell_type": "markdown",
   "metadata": {},
   "source": [
    "#### 예제\n",
    "\n",
    "'June 24'와 같은 \"월 일\" 형식의 문자열을 모두 찾은 후 그 중에서 \"월\"에 해당하는 문자열들의 리스트를 구하고자 할 경우."
   ]
  },
  {
   "cell_type": "code",
   "execution_count": 5,
   "metadata": {
    "collapsed": false
   },
   "outputs": [
    {
     "name": "stdout",
     "output_type": "stream",
     "text": [
      "매칭되는 문자열은 July 이다.\n",
      "매칭되는 문자열은 Aug 이다.\n"
     ]
    }
   ],
   "source": [
    "regex = r\"([a-zA-Z]+) \\d+\"\n",
    "\n",
    "matches = re.findall(regex, aString)\n",
    "\n",
    "for match in matches:    \n",
    "    print(\"매칭되는 문자열은 %s 이다.\" % (match))"
   ]
  },
  {
   "cell_type": "code",
   "execution_count": 6,
   "metadata": {
    "collapsed": false
   },
   "outputs": [
    {
     "name": "stdout",
     "output_type": "stream",
     "text": [
      "['July', 'Aug']\n"
     ]
    }
   ],
   "source": [
    "print(matches)"
   ]
  },
  {
   "cell_type": "markdown",
   "metadata": {},
   "source": [
    "#### 예제\n",
    "\n",
    "'June 24'와 같은 \"월 일\" 형식의 문자열을 모두 찾은 후 \"월\"과 \"일\"에 해당하는 문자열들의 리스트를 구하고자 할 경우."
   ]
  },
  {
   "cell_type": "code",
   "execution_count": 7,
   "metadata": {
    "collapsed": false
   },
   "outputs": [
    {
     "name": "stdout",
     "output_type": "stream",
     "text": [
      "매칭되는 문자열은 July 23이다.\n",
      "매칭되는 문자열은 Aug 15이다.\n"
     ]
    }
   ],
   "source": [
    "regex = r\"([a-zA-Z]+) (\\d+)\"\n",
    "\n",
    "matches = re.findall(regex, aString)\n",
    "\n",
    "# matches는 튜플들의 리스트이므로 인덱싱을 이용할 수 있다.\n",
    "for match in matches:    \n",
    "    print(\"매칭되는 문자열은 %s %s이다.\" % (match[0], match[1]))"
   ]
  },
  {
   "cell_type": "code",
   "execution_count": 8,
   "metadata": {
    "collapsed": false
   },
   "outputs": [
    {
     "name": "stdout",
     "output_type": "stream",
     "text": [
      "[('July', '23'), ('Aug', '15')]\n"
     ]
    }
   ],
   "source": [
    "print(matches)"
   ]
  },
  {
   "cell_type": "markdown",
   "metadata": {},
   "source": [
    "###  `re.finditer` 함수\n",
    "\n",
    "* `re.findall` 함수보다 많은 정보를 포함한다. \n",
    "\n",
    "기본 사용법은 다음과 같다. \n",
    "\n",
    "    matchList = re.findall(pattern, input_str, flags=0)"
   ]
  },
  {
   "cell_type": "markdown",
   "metadata": {},
   "source": [
    "#### 예제\n",
    "\n",
    "`re.finditer` 함수는 `re.findall` 보다 위치 정보 등 좀 더 많은 정보를 갖고 있다. \n",
    "\n",
    "예를 들어 \"월\"에 대한 보다 많은 정보를 얻고자 할 경우 아래와 같이 실행한다. "
   ]
  },
  {
   "cell_type": "code",
   "execution_count": 9,
   "metadata": {
    "collapsed": false
   },
   "outputs": [
    {
     "name": "stdout",
     "output_type": "stream",
     "text": [
      "'월 일'에 해당하는 문자열의 처음과 시작은 4, 11이다\n",
      "'월 일'에 해당하는 문자열의 처음과 시작은 17, 23이다\n"
     ]
    }
   ],
   "source": [
    "regex = r\"([a-zA-Z]+) \\d+\"\n",
    "\n",
    "matches = re.finditer(regex, aString)\n",
    "\n",
    "for match in matches:\n",
    "    print(\"'월 일'에 해당하는 문자열의 처음과 시작은 %s, %s이다\" % (match.start(), match.end()))"
   ]
  },
  {
   "cell_type": "code",
   "execution_count": 10,
   "metadata": {
    "collapsed": false
   },
   "outputs": [
    {
     "name": "stdout",
     "output_type": "stream",
     "text": [
      "<callable_iterator object at 0x104a0bf60>\n"
     ]
    }
   ],
   "source": [
    "print(matches)"
   ]
  },
  {
   "cell_type": "markdown",
   "metadata": {},
   "source": [
    "### `re.sub` 함수\n",
    "\n",
    "* 특정 패턴의 문자열을 다른 특정 패턴의 문자열로 대체하고자 할 때 사용.\n",
    "\n",
    "기본 사용법은 다음과 같다.\n",
    "\n",
    "    replacedString = re.sub(pattern, replacement_pattern, input_str, count=0, flags=0)\n",
    "    \n",
    "`count` 키워드 변수는 대체를 할 수 있는 최대 횟수를 나타낸다. 기본값인 0은 대체 횟수의 제한이 없다는 의미이다."
   ]
  },
  {
   "cell_type": "markdown",
   "metadata": {},
   "source": [
    "#### 예제"
   ]
  },
  {
   "cell_type": "code",
   "execution_count": 11,
   "metadata": {
    "collapsed": false
   },
   "outputs": [
    {
     "name": "stdout",
     "output_type": "stream",
     "text": [
      "날짜1 23 July, 날짜2 15 Aug 날짜3\n"
     ]
    }
   ],
   "source": [
    "regex = r\"([a-zA-Z]+) (\\d+)\"\n",
    "\n",
    "print(re.sub(regex, r\"\\2 \\1\", aString ))"
   ]
  },
  {
   "cell_type": "markdown",
   "metadata": {},
   "source": [
    "### `flags` 키워드 인자\n",
    "\n",
    "앞서 설명한 네 개의 함수 모두 `flags` 키워드 인자를 사용하며 기본값은 `0`으로 설정되어 있다.\n",
    "\n",
    "기본값 `0`의 의미는 대소문자를 구분하고, 개행문자를 무시하고 모든 줄에서 패턴에 해당하는 문자열을 찾으라는 말이다.\n",
    "예를 들어 대소문자를 구분하지 않거나, 각 행에 한정해서 문자열을 찾고자 한다면 옵션값을 달리 주어야 한다. \n",
    "옵션값으로 사용되는 다양한 값들이 있으며 대표적으로 다음의 세 개의 옵션이 사용된다. \n",
    "\n",
    "* `re.IGNORECASE`: 대소문자 구분하지 않기\n",
    "* `RE.MULTILINE`: 각 행에 한정해서 문자열 찾기\n",
    "* `RE.DOTALL`: dot(`.`) 특수 기호가 개행문자(`\\n`)까지 대표할 수 있도록 함."
   ]
  },
  {
   "cell_type": "markdown",
   "metadata": {},
   "source": [
    "#### 예제: IGNORECASE"
   ]
  },
  {
   "cell_type": "code",
   "execution_count": 12,
   "metadata": {
    "collapsed": false
   },
   "outputs": [
    {
     "data": {
      "text/plain": [
       "'Baked Beans & Spam'"
      ]
     },
     "execution_count": 12,
     "metadata": {},
     "output_type": "execute_result"
    }
   ],
   "source": [
    "re.sub(r'\\sAND\\s', ' & ', 'Baked Beans And Spam', flags=re.IGNORECASE)"
   ]
  },
  {
   "cell_type": "markdown",
   "metadata": {},
   "source": [
    "#### 예제: MULTILINE"
   ]
  },
  {
   "cell_type": "markdown",
   "metadata": {},
   "source": [
    "모자(^) 기호는 첫 부분에 위치하는 문자열을 찾을 때 사용\n",
    "MULTILINE 옵션을 사용할 때와 사요하지 않을 때 확연히 다르다."
   ]
  },
  {
   "cell_type": "code",
   "execution_count": 13,
   "metadata": {
    "collapsed": false
   },
   "outputs": [],
   "source": [
    "re.search('^X', 'A\\nB\\nX')"
   ]
  },
  {
   "cell_type": "code",
   "execution_count": 14,
   "metadata": {
    "collapsed": false
   },
   "outputs": [
    {
     "data": {
      "text/plain": [
       "<_sre.SRE_Match object; span=(4, 5), match='X'>"
      ]
     },
     "execution_count": 14,
     "metadata": {},
     "output_type": "execute_result"
    }
   ],
   "source": [
    "re.search('^X', 'A\\nB\\nX', re.MULTILINE)"
   ]
  },
  {
   "cell_type": "markdown",
   "metadata": {},
   "source": [
    "#### 예제: DOTALL"
   ]
  },
  {
   "cell_type": "code",
   "execution_count": 15,
   "metadata": {
    "collapsed": false
   },
   "outputs": [],
   "source": [
    "re.search('.X', 'A\\nB\\nX')"
   ]
  },
  {
   "cell_type": "code",
   "execution_count": 16,
   "metadata": {
    "collapsed": false
   },
   "outputs": [
    {
     "data": {
      "text/plain": [
       "<_sre.SRE_Match object; span=(3, 5), match='\\nX'>"
      ]
     },
     "execution_count": 16,
     "metadata": {},
     "output_type": "execute_result"
    }
   ],
   "source": [
    "re.search('.X', 'A\\nB\\nX', re.DOTALL)"
   ]
  },
  {
   "cell_type": "markdown",
   "metadata": {},
   "source": [
    "#### 예제: 옵션 여러 개를 함께 사용하기"
   ]
  },
  {
   "cell_type": "code",
   "execution_count": 17,
   "metadata": {
    "collapsed": false
   },
   "outputs": [],
   "source": [
    "re.search('^x', 'A\\nB\\nX', re.MULTILINE)"
   ]
  },
  {
   "cell_type": "code",
   "execution_count": 18,
   "metadata": {
    "collapsed": false
   },
   "outputs": [],
   "source": [
    "re.search('^x', 'A\\nB\\nX', re.IGNORECASE)"
   ]
  },
  {
   "cell_type": "code",
   "execution_count": 19,
   "metadata": {
    "collapsed": false
   },
   "outputs": [
    {
     "data": {
      "text/plain": [
       "4"
      ]
     },
     "execution_count": 19,
     "metadata": {},
     "output_type": "execute_result"
    }
   ],
   "source": [
    "re.search('^x', 'A\\nB\\nX', re.MULTILINE|re.IGNORECASE).start()"
   ]
  },
  {
   "cell_type": "markdown",
   "metadata": {},
   "source": [
    "### 정규 표현식 패턴 컴파일 하기"
   ]
  },
  {
   "cell_type": "markdown",
   "metadata": {},
   "source": [
    "특정 패턴을 이용하여 탐색을 할 경우 느리거나, 동일한 패턴을 반복해서 사용하고자 할 경우 해당 패턴을 컴파일하여 사용하면 유용하다. \n",
    "사용법은 다음과 같다. \n",
    "\n",
    "    regexObject = re.compile(pattern, flags=0)\n",
    "\n",
    "`re.compie` 함수의 리턴값은 `re.RegexObject` 클래스이다. \n",
    "\n",
    "컴파일 된 패턴을 사용하는 방법은 앞서 소개한 함수와 메소드들을 동일하게 이용하면 된다. "
   ]
  },
  {
   "cell_type": "code",
   "execution_count": 20,
   "metadata": {
    "collapsed": false
   },
   "outputs": [
    {
     "name": "stdout",
     "output_type": "stream",
     "text": [
      "0 11\n",
      "Hello\n",
      "Bonjour\n",
      "Hello Earth\n"
     ]
    }
   ],
   "source": [
    "import re\n",
    "\n",
    "# 특정 패턴을 컴파일 한다. \n",
    "regex = re.compile(r\"(\\w+) World\")\n",
    "\n",
    "result = regex.search(\"Hello World is the easiest\")\n",
    "\n",
    "if result:\n",
    "    # 아래 코드를 실행하면\n",
    "    #   0 11\n",
    "    # 을 출력한다. \n",
    "    print(result.start(), result.end())\n",
    "\n",
    "# 아래 코드를 실행하면\n",
    "#   Hello\n",
    "#   Bonjour\n",
    "# 를 출력한다. \n",
    "for result in regex.findall(\"Hello World, Bonjour World\"):\n",
    "    print(result)\n",
    "\n",
    "# 아래 코드를 실행하면 \"World\"를 \"Earth\"로 대체한다. 즉\n",
    "#   Hello Earth\n",
    "# 를 출력한다. \n",
    "print(regex.sub(r\"\\1 Earth\", \"Hello World\"))"
   ]
  },
  {
   "cell_type": "markdown",
   "metadata": {},
   "source": [
    "### 참고자료 사이트\n",
    "\n",
    "파이썬에서 사용하는 정규 표현식에 대해 보다 자세히 알아보려면 아래 사이트를 참고하면 된다. \n",
    "\n",
    "* [파이썬 정규 표현식 문서](https://docs.python.org/3.5/library/re.html)\n",
    "    \n",
    "반면에 파이선에서 제공하는 정규 표현식 사용법을 테스트하기 위해서는 아래 사이트를 이용할 수 있다.\n",
    "\n",
    "* [파이썬 정규 표현식 활용 테스트 사이트](https://regex101.com/#python)"
   ]
  }
 ],
 "metadata": {
  "kernelspec": {
   "display_name": "Python 3",
   "language": "python",
   "name": "python3"
  },
  "language_info": {
   "codemirror_mode": {
    "name": "ipython",
    "version": 3
   },
   "file_extension": ".py",
   "mimetype": "text/x-python",
   "name": "python",
   "nbconvert_exporter": "python",
   "pygments_lexer": "ipython3",
   "version": "3.5.1"
  }
 },
 "nbformat": 4,
 "nbformat_minor": 0
}
