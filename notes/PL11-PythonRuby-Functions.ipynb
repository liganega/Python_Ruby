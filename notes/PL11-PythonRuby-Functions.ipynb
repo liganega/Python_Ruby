{
 "cells": [
  {
   "cell_type": "markdown",
   "metadata": {},
   "source": [
    "# 함수"
   ]
  },
  {
   "cell_type": "markdown",
   "metadata": {},
   "source": [
    "코딩의 기본은 **중복 제거**이다. \n",
    "중복을 가능한 한 피하면서 구현한 코드는 아래의 성질을 만족한다.\n",
    "\n",
    "* 코드의 양이 줄어든다.\n",
    "* 수정하기 편하다.\n",
    "* 이해하기 쉽다.\n",
    "* 재활용이 용이하다.\n",
    "\n",
    "실제로 모든 프로그래밍언어는 일반 사용자가 위 조건을 충족시키는 프로그램을 구현하도록\n",
    "도와주는 많은 장치와 도구를 함께 제공한다. \n",
    "지금까지 살펴 본 변수, 조건문, 다양한 자료구조(문자열, 불리언, 컨테이너 등등), 반복문 모두\n",
    "보다 효율적으로 버그가 없는 프로그램을 구현하도록 도와주는 장치와 도구들이다.\n",
    "이외에 함수, 모듈, 클래스와 객체 등 다른 장치와 도구들이 있으며 앞으로 하나씩 살펴볼 것이다.\n",
    "\n",
    "프로그래밍을 배우는 사용자의 입장에서는 그런 장치와 도구들을 어떻게 잘 사용할 수 있는지를 \n",
    "경험하고 연습하는 것이 무엇보다도 중요하다.\n",
    "\n",
    "여기서는 함수의 활용을 간단한 예제를 통해 살펴본다."
   ]
  },
  {
   "cell_type": "markdown",
   "metadata": {},
   "source": [
    "### 추천\n",
    "\n",
    "먼저,\n",
    "[Think Python 3장](http://greenteapress.com/thinkpython2/html/thinkpython2004.html) \n",
    "내용을 번역 및 요약수정한 내용을 담고 있는 \n",
    "[이곳](https://github.com/liganega/bpp/blob/master/notes/03-ThinkPython-Functions.ipynb)을 \n",
    "읽기를 추천한다.\n",
    "\n",
    "파이썬을 이용한 설명이지만 루비, 자바 등 어떤 언어에 대해서도 동일한 내용의 예제를 이용한\n",
    "설명이 가능하다."
   ]
  },
  {
   "cell_type": "markdown",
   "metadata": {},
   "source": [
    "## 로그인 예제\n",
    "\n",
    "사용자 명단에 있는 사람의 아이디를 입력할 경우에 `Hello` 로 인사하고 그렇지 않은 경우에\n",
    "`Who are you?`라고 묻는 코드를 배열(리스트)과 반복문을 이용하여 아래와 구현하였다."
   ]
  },
  {
   "cell_type": "markdown",
   "metadata": {},
   "source": [
    "### 루비 로그인 코드: 어레이 활용"
   ]
  },
  {
   "cell_type": "markdown",
   "metadata": {},
   "source": [
    "```ruby\n",
    "puts(\"아이디를 입력해주세요\")\n",
    "input_id = gets.chomp()\n",
    "members = ['egoing', 'k8805', 'leezche']\n",
    "for member in members do\n",
    "    if member == input_id\n",
    "        puts('Hello!, '+member)\n",
    "        exit\n",
    "    end\n",
    "end\n",
    "puts('Who are you?')\n",
    "```"
   ]
  },
  {
   "cell_type": "markdown",
   "metadata": {},
   "source": [
    "### 파이썬 로그인 코드: 리스트 활용"
   ]
  },
  {
   "cell_type": "markdown",
   "metadata": {},
   "source": [
    "```python\n",
    "input_id = input(\"아이디를 입력해주세요.\\n\")\n",
    "members = ['egoing', 'k8805', 'leezche']\n",
    "for member in members:\n",
    "    if member == input_id:\n",
    "        print('Hello!, '+member)\n",
    "        import sys\n",
    "        sys.exit()\n",
    "print('Who are you?')\n",
    "```"
   ]
  },
  {
   "cell_type": "markdown",
   "metadata": {},
   "source": [
    "위 코드를 함수를 이용하여 동일한 기능으로 구현할 수 있다."
   ]
  },
  {
   "cell_type": "markdown",
   "metadata": {},
   "source": [
    "### 루비 로그인 코드: 함수 활용"
   ]
  },
  {
   "cell_type": "markdown",
   "metadata": {},
   "source": [
    "```ruby\n",
    "puts(\"아이디를 입력해주세요\")\n",
    "input_id = gets.chomp()\n",
    " \n",
    "def login(_id)\n",
    "  members = ['egoing', 'k8805', 'leezche']\n",
    "  for member in members do\n",
    "      if member == _id\n",
    "          return true\n",
    "      end\n",
    "  end\n",
    "  return false\n",
    "end\n",
    " \n",
    "if login(input_id)\n",
    "  puts('Hello, '+input_id)\n",
    "else\n",
    "  puts('Who are you?')\n",
    "end\n",
    "```"
   ]
  },
  {
   "cell_type": "markdown",
   "metadata": {},
   "source": [
    "### 파이썬 로그인 코드: 함수 활용"
   ]
  },
  {
   "cell_type": "markdown",
   "metadata": {},
   "source": [
    "```python\n",
    "input_id = input(\"아이디를 입력해주세요.\\n\")\n",
    "def login(_id):\n",
    "    members = ['egoing', 'k8805', 'leezche']\n",
    "    for member in members:\n",
    "        if member == _id:\n",
    "            return True\n",
    "    return False\n",
    "if login(input_id):\n",
    "    print('Hello, '+input_id)\n",
    "else:\n",
    "    print('Who are you?')\n",
    "```"
   ]
  },
  {
   "cell_type": "markdown",
   "metadata": {},
   "source": [
    "### `return` 값의 중요성\n",
    "\n",
    "`login` 함수를 사용하지 않을 경우 `for ... in ...` 반복문 코드에 \n",
    "`exit` 함수가 요구되었다. \n",
    "이유는 멤버에 포함된 사용자의 아이디가 입력된 경우 프로그램을 더 이상 실행할 필요가 없기 때문이다.\n",
    "\n",
    "반면에 `login` 함수의 정의에서는 `exit` 함수가 사용되지 않아도 된다.\n",
    "이유는 함수가 실행될 때 `return` 문을 실행하면 어차비 바로 함수의 실행이 종료되기 때문이다."
   ]
  },
  {
   "cell_type": "markdown",
   "metadata": {},
   "source": [
    "### `return` 값 단 하나\n",
    "\n",
    "코드 내에 `return` 문이 여러 번 사용되었다 하더라도 함수는 하나의 값만 리턴한다.\n",
    "\n",
    "예를 들어, 앞서 사용된 `login` 함수의 "
   ]
  }
 ],
 "metadata": {
  "kernelspec": {
   "display_name": "Python 3",
   "language": "python",
   "name": "python3"
  },
  "language_info": {
   "codemirror_mode": {
    "name": "ipython",
    "version": 3
   },
   "file_extension": ".py",
   "mimetype": "text/x-python",
   "name": "python",
   "nbconvert_exporter": "python",
   "pygments_lexer": "ipython3",
   "version": "3.6.4"
  }
 },
 "nbformat": 4,
 "nbformat_minor": 1
}
