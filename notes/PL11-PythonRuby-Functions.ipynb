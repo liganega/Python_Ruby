{
 "cells": [
  {
   "cell_type": "markdown",
   "metadata": {},
   "source": [
    "# 함수"
   ]
  },
  {
   "cell_type": "markdown",
   "metadata": {},
   "source": [
    "코딩의 기본은 **중복 제거**이다. \n",
    "중복을 가능한 한 피하면서 구현한 코드는 아래의 성질을 만족한다.\n",
    "\n",
    "* <font color='blue'>코드의 양이 줄어든다.</font>\n",
    "* <font color='blue'>수정하기 편하다.</font>\n",
    "* <font color='blue'>이해하기 쉽다.</font>\n",
    "* <font color='blue'>재활용이 용이하다.</font>\n",
    "\n",
    "실제로 모든 프로그래밍언어는 일반 사용자가 위 조건을 충족시키는 프로그램을 구현하도록\n",
    "도와주는 많은 장치와 도구를 함께 제공한다. \n",
    "지금까지 살펴 본 변수, 조건문, 다양한 자료구조(문자열, 불리언, 컨테이너 등등), 반복문 모두\n",
    "보다 효율적으로 버그가 없는 프로그램을 구현하도록 도와주는 장치와 도구들이다.\n",
    "이외에 함수, 모듈, 클래스와 객체 등 다른 장치와 도구들이 있으며 앞으로 하나씩 살펴볼 것이다.\n",
    "\n",
    "프로그래밍을 배우는 사용자의 입장에서는 그런 장치와 도구들을 어떻게 잘 사용할 수 있는지를 \n",
    "경험하고 연습하는 것이 무엇보다도 중요하다.\n",
    "\n",
    "이번 장에서는 함수에 대해 간략하게 다룬다."
   ]
  },
  {
   "cell_type": "markdown",
   "metadata": {},
   "source": [
    "### 참고 사항\n",
    "아래 내용은 \n",
    "[Think Python 3장](http://greenteapress.com/thinkpython2/html/thinkpython2004.html) \n",
    "내용을 번역 및 요약수정한 내용이다.\n",
    "\n",
    "파이썬을 이용한 설명이지만 루비, 자바 등 어떤 언어에 대해서도 동일한 내용의 예제를 이용한\n",
    "설명이 가능하다."
   ]
  },
  {
   "cell_type": "markdown",
   "metadata": {},
   "source": [
    "## 값과 함수\n",
    "\n",
    "프로그램을 구현한다는 것은 기본적으로 특정 종류의 값들을 조작하여 원하는 값을 구하는 과정을\n",
    "특정 프로그래밍언어로 표현하는 것이다. \n",
    "\n",
    "지금가지 여러 종류의 값들을 살펴 보았다.\n",
    "* 정수: -1, 0, 2, -3, ...\n",
    "* 실수: 0.25, -3.54, ...\n",
    "* 불리언 값: True, False\n",
    "* 문자열: \"python\", \"a3ge\", ...\n",
    "* 컨테이너 등등"
   ]
  },
  {
   "cell_type": "markdown",
   "metadata": {},
   "source": [
    "모든 프로그래밍언어마다 값을 표현하는 고유의 방식이 있다.\n",
    "정수와 실수는 거의 모든 언어에서 표현하는 방식이 동일하지만 이외의 자료형에 속하는 값들은 비슷하지만 조금씩 다르게\n",
    "구현되었으며, 따라서 사용되는 방식도 그에 따라 조금씩 다를 수 있다.\n",
    "\n",
    "따라서 특정 자료형을 어떻게 표현하는지 정확하게 알고 있어야 하며,\n",
    "문법에 맞지 않게 사용할 경우 기본적으로 오류가 발생한다. \n",
    "여기서는 함수를 이용하여 값을 표현하는 방식을 알아본다. \n",
    "\n",
    "먼저 함수가 무엇인지를 알아본다."
   ]
  },
  {
   "cell_type": "markdown",
   "metadata": {},
   "source": [
    "## 함수 이해하기\n",
    "\n",
    "함수가 하는 일은 매우 간단하다. \n",
    "특정 값들을 먼저 받아들인 다음에 그 값을 조작하여 어떤 값을 되돌려준다. \n",
    "\n",
    "아래 그림에서 절대값을 되돌려주는 `abs` 함수와 두 숫자의 합을 되돌려주는 `add` 함수를 예를 들어 \n",
    "함수를 설명하고 있다.\n",
    "기본적인 아이디어는 왼쪽에 입구를 통해 값을 받아들이고, 오른쪽 출구를 통해 값을 전달하는 것이다."
   ]
  },
  {
   "cell_type": "markdown",
   "metadata": {},
   "source": [
    "<p>\n",
    "<table cellspacing=\"20\">\n",
    "<tr>\n",
    "<td>\n",
    "<img src=\"images/fun_name.png\" style=\"width:300px\">\n",
    "</td>\n",
    "</tr>\n",
    "</table>\n",
    "</p>"
   ]
  },
  {
   "cell_type": "markdown",
   "metadata": {},
   "source": [
    "* `abs` 함수: 인자로 사용된 숫자의 절대값을 되돌려주는 함수"
   ]
  },
  {
   "cell_type": "code",
   "execution_count": 1,
   "metadata": {},
   "outputs": [
    {
     "data": {
      "text/plain": [
       "3"
      ]
     },
     "execution_count": 1,
     "metadata": {},
     "output_type": "execute_result"
    }
   ],
   "source": [
    "abs(-3)"
   ]
  },
  {
   "cell_type": "markdown",
   "metadata": {},
   "source": [
    "* `add` 함수: 일상적으로 덧셈(`+`) 기호로 표시되는 함수의 원래 이름이다.\n",
    "    `add` 함수를 사용하려면 `operator` 모듈을 임포트해야 한다."
   ]
  },
  {
   "cell_type": "code",
   "execution_count": 2,
   "metadata": {},
   "outputs": [],
   "source": [
    "from operator import add"
   ]
  },
  {
   "cell_type": "code",
   "execution_count": 3,
   "metadata": {},
   "outputs": [
    {
     "data": {
      "text/plain": [
       "True"
      ]
     },
     "execution_count": 3,
     "metadata": {},
     "output_type": "execute_result"
    }
   ],
   "source": [
    "add(3, 5) == 3 + 5"
   ]
  },
  {
   "cell_type": "markdown",
   "metadata": {},
   "source": [
    "### 매개변수와 인자\n",
    "위 그림에서 `number`, `left`, `right` 등은 함수의 인자를 받아들이는데 사용되는 **매개변수**들을 나타낸다. \n",
    "매개변수를 통해 함수에게 전달되는 값들을 **인자**라고 부른다. \n",
    "인자의 개수는 매개변수의 개수와 일치해야 한다.\n",
    "\n",
    "함수와 매개변수들의 이름은 각각의 역할에 맞게 정하는 것을 권유한다.\n",
    "그러면 함수와 매개변수들의 이름을 보고 함수와 각 매개변수들의 의미와 역할을 파악하는 데에 보다 유리하다."
   ]
  },
  {
   "cell_type": "markdown",
   "metadata": {},
   "source": [
    "### 지금까지 사용한 함수\n",
    "\n",
    "앞서 살펴 본 수학함수 이외에 많은 함수들이 있으며 \n",
    "이미 여러 함수들을 살펴보았다.\n",
    "`type`, `int`, `float`, `str`, `input`, `time.sleep`, `urllib.request.urlopen`, 등등"
   ]
  },
  {
   "cell_type": "code",
   "execution_count": 4,
   "metadata": {},
   "outputs": [
    {
     "data": {
      "text/plain": [
       "int"
      ]
     },
     "execution_count": 4,
     "metadata": {},
     "output_type": "execute_result"
    }
   ],
   "source": [
    "type(42)"
   ]
  },
  {
   "cell_type": "code",
   "execution_count": 5,
   "metadata": {},
   "outputs": [
    {
     "data": {
      "text/plain": [
       "32"
      ]
     },
     "execution_count": 5,
     "metadata": {},
     "output_type": "execute_result"
    }
   ],
   "source": [
    "int('32')"
   ]
  },
  {
   "cell_type": "code",
   "execution_count": 6,
   "metadata": {},
   "outputs": [
    {
     "data": {
      "text/plain": [
       "3.9999"
      ]
     },
     "execution_count": 6,
     "metadata": {},
     "output_type": "execute_result"
    }
   ],
   "source": [
    "float('3.9999')"
   ]
  },
  {
   "cell_type": "code",
   "execution_count": 7,
   "metadata": {},
   "outputs": [
    {
     "data": {
      "text/plain": [
       "'32'"
      ]
     },
     "execution_count": 7,
     "metadata": {},
     "output_type": "execute_result"
    }
   ],
   "source": [
    "str(32)"
   ]
  },
  {
   "cell_type": "code",
   "execution_count": 8,
   "metadata": {},
   "outputs": [
    {
     "data": {
      "text/plain": [
       "str"
      ]
     },
     "execution_count": 8,
     "metadata": {},
     "output_type": "execute_result"
    }
   ],
   "source": [
    "type(str(32))"
   ]
  },
  {
   "cell_type": "markdown",
   "metadata": {},
   "source": [
    "### 함수와 추상화\n",
    "도구가 이미 준비되어 있을 때 그 도구가 어떻게 만들어졌는지 알 필요 없듯이\n",
    "이미 정의된 함수가 어떻게 정의되어 있는가 또한 굳이 알 필요 없다.\n",
    "이와 같은 함수의 특성을 추상성이라 하며, 함수를 활용한 추상화를 적절하게 활용하는 것이\n",
    "프로그래밍의 핵심에 포함된다."
   ]
  },
  {
   "cell_type": "markdown",
   "metadata": {},
   "source": [
    "### 도구로서의 함수\n",
    "도구의 사용법을 알아야 하는 것처럼 함수의 경우는 \n",
    "함수를 언제 어떻게 사용하는 가를 반드시 알아야 한다.\n",
    "일반적으로 함수에 대해서는 이정도만 알고 있어도 충분하다."
   ]
  },
  {
   "cell_type": "markdown",
   "metadata": {},
   "source": [
    "### 새 함수 정의하기\n",
    "\n",
    "앞서 언급한 함수들은 파이썬에서 이미 누군가에 의해 정의된 함수들이다.\n",
    "이런 함수들을 파이썬 **내장함수**라 부른다.\n",
    "\n",
    "하지만 일반 사용자가 필요에 따라 함수를 임의로 정의할 수 있다.\n",
    "새 함수를 정의하는 양식은 다음과 같다.\n",
    "```python\n",
    "def 함수이름(인자1, 인자2, ...):\n",
    "    코드\n",
    "```"
   ]
  },
  {
   "cell_type": "markdown",
   "metadata": {},
   "source": [
    "#### 예제\n",
    "\n",
    "아래 시간을 분으로 변환해서 되돌려주는 함수를 아래와 같이 정의할 수 있다."
   ]
  },
  {
   "cell_type": "code",
   "execution_count": 9,
   "metadata": {},
   "outputs": [],
   "source": [
    "def hour_to_min(hour):\n",
    "    minutes = hour * 60\n",
    "    return minutes"
   ]
  },
  {
   "cell_type": "markdown",
   "metadata": {},
   "source": [
    "`hour_to_min` 함수는 `hour`라는 매개변수 하나만을 사용하며 인자를 받으면 분 단위로 변경한 값을\n",
    "담고 있는 `minutes` 변수의 값을 되돌려 준다.\n",
    "\n",
    "함수가 되돌려 준 값은 다른 함수의 인자로 사용되거나 변수를 선언하는 값으로 활용될 수 있다. \n",
    "이와 같이 함수가 되돌려 주는 값을 필요에 따라 재활용할 수 있다.\n",
    "\n",
    "예를 들어, 2시간이 몇 분인지 알고자 하면 `hour_to_min` 함수를 아래와 같이 사용하면 된다."
   ]
  },
  {
   "cell_type": "code",
   "execution_count": 10,
   "metadata": {},
   "outputs": [
    {
     "name": "stdout",
     "output_type": "stream",
     "text": [
      "두 시간은 120 분에 해당합니다.\n"
     ]
    }
   ],
   "source": [
    "two_hour = hour_to_min(2)\n",
    "print(\"두 시간은\", two_hour, \"분에 해당합니다.\")"
   ]
  },
  {
   "cell_type": "markdown",
   "metadata": {},
   "source": [
    "위 코드에서 `hour_to_min(2)`을 실행하여 되돌려 받은 값은 `two_hour` 변수에 할당하였고\n",
    "그 변수를 `print` 함수의 둘째 인자로 활용하였다."
   ]
  },
  {
   "cell_type": "markdown",
   "metadata": {},
   "source": [
    "### 지역변수와 전역변수\n",
    "함수를 선언할 때 사용되는 매개변수와 함수 본체에서 선언되는 변수는 함수가 실행되는 동안에만 의미를 갖는 변수들이며,\n",
    "이런 변수들을 **지역변수**라 부른다. \n",
    "지역변수 가인 변수들은 **전역변수**라 부른다.\n",
    "\n",
    "예를 들어, `hour_to_min` 함수를 정의할 때 사용된 `hour`와 본체에서 선언된 `minutes` 변수는 모두 지역함수이며,\n",
    "`two_hour` 는 함수 밖에서 선언된 전역변수이다.\n",
    "\n",
    "지역변수들은 함수 밖에서는 어떤 의미도 갖지 않는다. 예를 들어, 아래 코드를 실행하면 오류가 발생한다."
   ]
  },
  {
   "cell_type": "code",
   "execution_count": 11,
   "metadata": {},
   "outputs": [
    {
     "ename": "NameError",
     "evalue": "name 'minutes' is not defined",
     "output_type": "error",
     "traceback": [
      "\u001b[0;31m---------------------------------------------------------------------------\u001b[0m",
      "\u001b[0;31mNameError\u001b[0m                                 Traceback (most recent call last)",
      "\u001b[0;32m<ipython-input-11-031d588675a8>\u001b[0m in \u001b[0;36m<module>\u001b[0;34m()\u001b[0m\n\u001b[1;32m      1\u001b[0m \u001b[0mtwo_hour\u001b[0m \u001b[0;34m=\u001b[0m \u001b[0mhour_to_min\u001b[0m\u001b[0;34m(\u001b[0m\u001b[0;36m2\u001b[0m\u001b[0;34m)\u001b[0m\u001b[0;34m\u001b[0m\u001b[0m\n\u001b[0;32m----> 2\u001b[0;31m \u001b[0mprint\u001b[0m\u001b[0;34m(\u001b[0m\u001b[0mminutes\u001b[0m\u001b[0;34m)\u001b[0m\u001b[0;34m\u001b[0m\u001b[0m\n\u001b[0m",
      "\u001b[0;31mNameError\u001b[0m: name 'minutes' is not defined"
     ]
    }
   ],
   "source": [
    "two_hour = hour_to_min(2)\n",
    "print(minutes)"
   ]
  },
  {
   "cell_type": "markdown",
   "metadata": {},
   "source": [
    "물론 아래의 경우도 오류가 발생한다."
   ]
  },
  {
   "cell_type": "code",
   "execution_count": 12,
   "metadata": {},
   "outputs": [
    {
     "ename": "NameError",
     "evalue": "name 'hour' is not defined",
     "output_type": "error",
     "traceback": [
      "\u001b[0;31m---------------------------------------------------------------------------\u001b[0m",
      "\u001b[0;31mNameError\u001b[0m                                 Traceback (most recent call last)",
      "\u001b[0;32m<ipython-input-12-8e3688db7efa>\u001b[0m in \u001b[0;36m<module>\u001b[0;34m()\u001b[0m\n\u001b[1;32m      1\u001b[0m \u001b[0mtwo_hour\u001b[0m \u001b[0;34m=\u001b[0m \u001b[0mhour_to_min\u001b[0m\u001b[0;34m(\u001b[0m\u001b[0;36m2\u001b[0m\u001b[0;34m)\u001b[0m\u001b[0;34m\u001b[0m\u001b[0m\n\u001b[0;32m----> 2\u001b[0;31m \u001b[0mprint\u001b[0m\u001b[0;34m(\u001b[0m\u001b[0mhour\u001b[0m\u001b[0;34m)\u001b[0m\u001b[0;34m\u001b[0m\u001b[0m\n\u001b[0m",
      "\u001b[0;31mNameError\u001b[0m: name 'hour' is not defined"
     ]
    }
   ],
   "source": [
    "two_hour = hour_to_min(2)\n",
    "print(hour)"
   ]
  },
  {
   "cell_type": "markdown",
   "metadata": {},
   "source": [
    "위에서 오류가 발생하는 이유는 `hour_to_min` 함수가 인자 2와 함께 실행되어 종료가 되면 \n",
    "실행도중에 선언되어 사용된 `hour`와 `minutes` 변수의 의미도 완전히 사라지기 때문이다.\n",
    "\n",
    "아래 **함수호출**에 대한 설명에서 지역변수가 프로그램 실행 도중에 어떻게 의미를 갖거나 잃어버리는가를\n",
    "**프레임** 개념을 이용하여 좀 더 자세히 설명될 것이다."
   ]
  },
  {
   "cell_type": "markdown",
   "metadata": {},
   "source": [
    "### 함수의 리턴값\n",
    "\n",
    "`hour_to_min` 와 같은 함수가 되돌려주는 값을 일반적으로 **리턴(return)값**이라 부른다.\n",
    "리턴 값은 함수 정의 본체에서 `return`이란 키워드 바로 뒤에 오는 값을 의미하며, \n",
    "함수가 특정 인자와 함께 실행되면 함수 본체의 코드에 맞추어 값을 조작한 후에 \n",
    "최종적으로 되돌려주는 값을 가리킨다.\n",
    "\n",
    "파이썬의 경우 리턴값이 앞서 설명한 대로 `return` 키워드와 함께 명시된 함수와 \n",
    "그렇지 않은 함수가 존재한다. "
   ]
  },
  {
   "cell_type": "markdown",
   "metadata": {},
   "source": [
    "#### 리턴값이 명시된 함수\n",
    "* `hour_to_min` 함수의 경우처럼 `return` 키워드가 명시적으로 사용된 함수.\n",
    "* 함수를 실행하다가 `return`을 만나게 되면 리턴값을 되돌려 준 후 함수의 실행을 바로 멈춘다.\n",
    "\n",
    "C 또는 Java 언어와는 달리 파이썬에서는 함수의 리턴값의 자료형을 명시하지 않는다."
   ]
  },
  {
   "cell_type": "markdown",
   "metadata": {},
   "source": [
    "#### 예제\n",
    "`hour_to_min` 함수를 C언어로 구현한다면 다음과 같은 모양을 갖는다.\n",
    "```c\n",
    "int hour_to_min(int hour) {\n",
    "    int minutes = hour * 60;\n",
    "    return minutes;\n",
    "}\n",
    "```"
   ]
  },
  {
   "cell_type": "markdown",
   "metadata": {},
   "source": [
    "#### 예제\n",
    "`hour_to_min` 함수를 Java 언어로 구현한다면 다음과 같은 모양을 갖는다.\n",
    "```java\n",
    "public int hour_to_min(int hour) {\n",
    "    int minutes = hour * 60;\n",
    "    return minutes;\n",
    "}\n",
    "```"
   ]
  },
  {
   "cell_type": "markdown",
   "metadata": {},
   "source": [
    "#### 리턴값이 명시되지 않은 함수\n",
    "대표적으로 `print` 함수가 리턴값이 명시되지 않은 함수이다. \n",
    "리턴값이 명시되지 않은 함수의 리턴값은 항상 `None` 이다.\n",
    "`None`은 사실상 아무런 의미를 갖지 않는 값이며 어떠한 재활용도 불가능하다.\n",
    "\n",
    "예를 들어, 아래 코드는 `print` 함수가 리턴하는 값을 확인하고자 하지만 말했듯이 `None`이란 것만 확인할 수 있다."
   ]
  },
  {
   "cell_type": "code",
   "execution_count": 13,
   "metadata": {},
   "outputs": [
    {
     "name": "stdout",
     "output_type": "stream",
     "text": [
      "1\n",
      "None\n"
     ]
    }
   ],
   "source": [
    "x = print(1)\n",
    "print(x)"
   ]
  },
  {
   "cell_type": "markdown",
   "metadata": {},
   "source": [
    "**주의:** 위 코드를 실행한 결과의 첫째 줄에서 보이는 `1`은 `print` 함수의 리턴값이 아니라,\n",
    "`print(1)`을 실행하여 모니터에 숫자 1을 출력하는 `print` **함수의 부수효과**에 불과하다.\n",
    "함수의 부수효과에 대해서는 아래에서 좀 더 자세히 다룬다."
   ]
  },
  {
   "cell_type": "markdown",
   "metadata": {},
   "source": [
    "#### 예제\n",
    "`hour_to_min` 함수를 아래와 같이 리턴값이 명시되지 않은 함수로 정의할 수도 있다."
   ]
  },
  {
   "cell_type": "code",
   "execution_count": 14,
   "metadata": {},
   "outputs": [],
   "source": [
    "def hour_to_min_noReturn(hour):\n",
    "    minutes = hour * 60\n",
    "    print(minutes)"
   ]
  },
  {
   "cell_type": "markdown",
   "metadata": {},
   "source": [
    "위 함수를 이용하여 두 시간을 분단위로 확인하고자 하면 다음과 같다."
   ]
  },
  {
   "cell_type": "code",
   "execution_count": 15,
   "metadata": {},
   "outputs": [
    {
     "name": "stdout",
     "output_type": "stream",
     "text": [
      "120\n"
     ]
    }
   ],
   "source": [
    "hour_to_min_noReturn(2)"
   ]
  },
  {
   "cell_type": "markdown",
   "metadata": {},
   "source": [
    "위 코드를 보면 마치 120을 리턴하는 것처럼 보이지만 사실은 `print` 함수가 모니터에 출력한 결과를 \n",
    "우리에게 보여주는 거에 불과하다.\n",
    "실제로 아래와 같이 리턴값을 활용하려 하면 제대로 작동하지 않는다."
   ]
  },
  {
   "cell_type": "code",
   "execution_count": 16,
   "metadata": {},
   "outputs": [
    {
     "name": "stdout",
     "output_type": "stream",
     "text": [
      "120\n",
      "None\n"
     ]
    }
   ],
   "source": [
    "two_hour_noReturn = hour_to_min_noReturn(2)\n",
    "print(two_hour_noReturn)"
   ]
  },
  {
   "cell_type": "markdown",
   "metadata": {},
   "source": [
    "실제로 `hour_to_min_noReturn(2)`의 자료형은 `None`의 자료형인 `NoneType`이다."
   ]
  },
  {
   "cell_type": "code",
   "execution_count": 17,
   "metadata": {},
   "outputs": [
    {
     "name": "stdout",
     "output_type": "stream",
     "text": [
      "120\n"
     ]
    },
    {
     "data": {
      "text/plain": [
       "NoneType"
      ]
     },
     "execution_count": 17,
     "metadata": {},
     "output_type": "execute_result"
    }
   ],
   "source": [
    "type(hour_to_min_noReturn(2))"
   ]
  },
  {
   "cell_type": "markdown",
   "metadata": {},
   "source": [
    "#### 예제\n",
    "`hour_to_min` 함수를 C언어로 구현한다면 다음과 같은 모양을 갖는다.\n",
    "```c\n",
    "void hour_to_min(int hour) {\n",
    "    int minutes = hour * 60;\n",
    "    printf(minutes);\n",
    "}\n",
    "```"
   ]
  },
  {
   "cell_type": "markdown",
   "metadata": {},
   "source": [
    "#### 예제\n",
    "`hour_to_min_noReturn` 함수를 Java 언어로 구현한다면 다음과 같은 모양을 갖는다.\n",
    "```java\n",
    "public void hour_to_min(int hour) {\n",
    "    int minutes = hour * 60;\n",
    "    System.out.println(minutes);\n",
    "}\n",
    "```"
   ]
  },
  {
   "cell_type": "markdown",
   "metadata": {},
   "source": [
    "#### 함수의 리턴값은 단 하나\n",
    "\n",
    "함수 본체 코드에 `return` 문이 여러 번 사용되었다 하더라도 함수는 하나의 값만 리턴한다.\n",
    "\n",
    "예를 들어, 아래 루비에서 정의된 `login` 함수 본체에는 `return` 문이 두 번 사용되었다.\n",
    "\n",
    "```ruby\n",
    "def login(_id)\n",
    "  members = ['egoing', 'k8805', 'leezche']\n",
    "  for member in members do\n",
    "      if member == _id\n",
    "          return true\n",
    "      end\n",
    "  end\n",
    "  return false\n",
    "end\n",
    "```\n",
    "\n",
    "하지만 `login` 함수가 호출되어 실행되는 과정에 두 리턴문 문 중에 하나의 리턴문이 실행되면\n",
    "바로 지정된 리턴값을 반환하면서 함수의 실행이 멈추게 되어 다른 리턴문은 실행되지 않게 된다."
   ]
  },
  {
   "cell_type": "markdown",
   "metadata": {},
   "source": [
    "## 함수 표현식\n",
    "\n",
    "함수를 이용해서 값을 표현하는 방식 **함수 표현식**이라 부른다. \n",
    "\n",
    "예를 들어, 제곱근을 생성하는 함수인 `sqrt`의 경우 실수 하나를 인자로 받아서 그 실수의 제곱근을 생성하여 돌려준다.\n",
    "`sqrt` 함수를 이용하여 실수 `r`의 제곱근을 아래와 같이 표현할 수 있다.\n",
    "```python\n",
    "sqrt(r)\n",
    "```    \n",
    "또한, 실수 `r`의 제곱근에다가 `2`를 더한 값은 다음과 같이 표현된다.\n",
    "```python\n",
    "add(sqrt(r),2)\n",
    "```    \n",
    "\n",
    "#### 주의사항\n",
    "앞서 언급한 대로 `sqrt`를 이용한 함수 표현식이 `add` 함수의 첫째 인자로 활용되었다.\n",
    "이런 표현식은 **함수의 합성**을 활용한 표현식이다.\n",
    "이 경우 `add` 함수의 첫째 인자값으로 `sqrt(r)`이 실행되어 되돌려진 값, 즉, `r`의 제곱근이 사용된다."
   ]
  },
  {
   "cell_type": "markdown",
   "metadata": {},
   "source": [
    "## 함수호출"
   ]
  },
  {
   "cell_type": "markdown",
   "metadata": {},
   "source": [
    "함수 표현식은 특정 값을 표현하기 위해 사용된다.\n",
    "하지만 그 표현식이 어떤 값을 나타내는지를 알려면 사용된 함수들을 실행해야만 하며,\n",
    "이렇게 함수 표현식을 실행하는 것을 **함수호출**이라 부른다.\n",
    "\n",
    "예를 들어, `sqrt(8)`은 `8`의 제곱근을 나타내는 값이지만 실제로 `8`의 제곱근이 정확히 얼마인지는 말하지 않는다.\n",
    "`8`의 제곱근이 얼마인지를 확인하기 위해서는 이제 `sqrt`에 `8`을 인자로 입력하여 호출해야 한다.\n",
    "\n",
    "\"`sqrt`에 `8`을 인자로 입력하여 호출한다\" 란 말이 좀 복잡하게 들리지만 실제로는 매우 간단하다.\n",
    "바로 아래 명령을 실행하기만 하면 된다.\n",
    "```python\n",
    "sqrt(8)\n",
    "```"
   ]
  },
  {
   "cell_type": "markdown",
   "metadata": {},
   "source": [
    "#### 주의사항\n",
    "    \n",
    "`sqrt`를 사용하려면 먼저 `math` 모듈을 임포트해야 한다. \n",
    "파이썬의 특정 모듈에서 특정 함수를 임포트 하는 방식은 다음과 같이 할 수 있다.\n",
    "```python    \n",
    "from math import sqrt\n",
    "```"
   ]
  },
  {
   "cell_type": "code",
   "execution_count": 18,
   "metadata": {},
   "outputs": [
    {
     "data": {
      "text/plain": [
       "2.8284271247461903"
      ]
     },
     "execution_count": 18,
     "metadata": {},
     "output_type": "execute_result"
    }
   ],
   "source": [
    "from math import sqrt\n",
    "\n",
    "sqrt(8)"
   ]
  },
  {
   "cell_type": "markdown",
   "metadata": {},
   "source": [
    "즉, `sqrt(8)`의 정확한 값은 `2.8284271247461903`이다.\n",
    "8의 제곱근이 무리수이기 때문에 근사값에 불과하다.\n",
    "하지만 8의 제곱근의 정확한 값에 매우 근사한 값이다.\n",
    "\n",
    "이와 같은 방식으로 `add(sqrt(r),2)`의 정확한 값을 계산할 수 있다."
   ]
  },
  {
   "cell_type": "code",
   "execution_count": 19,
   "metadata": {},
   "outputs": [
    {
     "data": {
      "text/plain": [
       "4.82842712474619"
      ]
     },
     "execution_count": 19,
     "metadata": {},
     "output_type": "execute_result"
    }
   ],
   "source": [
    "add(sqrt(8), 2)"
   ]
  },
  {
   "cell_type": "markdown",
   "metadata": {},
   "source": [
    "이와 같이 함수호출 표현식의 정확한 값을 계산하는 과정을 **함수호출**이라 부른다.\n",
    "즉, 함수를 정말로 실행하여 특정 값을 얻어내는 과정이 함수호출이다."
   ]
  },
  {
   "cell_type": "markdown",
   "metadata": {},
   "source": [
    "### 함수호출 실행과정"
   ]
  },
  {
   "cell_type": "markdown",
   "metadata": {},
   "source": [
    "함수호출 표현식을 실행하여 결과값을 확인하는 것을 함수호출이라 하였다.\n",
    "여기서는 함수호출이 실행되는 과정을 예제들을 통해 좀 더 자세히 살펴본다. "
   ]
  },
  {
   "cell_type": "markdown",
   "metadata": {},
   "source": [
    "#### 예제"
   ]
  },
  {
   "cell_type": "markdown",
   "metadata": {},
   "source": [
    "아래 함수호출 표현식의 결과값이 어떤 순서대로 정해지는가를 확인해보자.\n",
    "\n",
    "**주의:** \n",
    "* `add` 함수와 마찬가지로 `mul` 함수는 일상적으로 곱셈(`*`) 기호로 표시되는 함수의 원래 이름이며,\n",
    "    `operator` 모듈에 포함되어 있다.\n",
    "* `0x`로 시작하는 숫자는 16진법을 의미한다.\n",
    "* `0o`로 시작하는 숫자는 8진법을 의미한다.\n",
    "\n",
    "    "
   ]
  },
  {
   "cell_type": "code",
   "execution_count": 20,
   "metadata": {},
   "outputs": [],
   "source": [
    "from operator import mul"
   ]
  },
  {
   "cell_type": "code",
   "execution_count": 21,
   "metadata": {},
   "outputs": [
    {
     "data": {
      "text/plain": [
       "208"
      ]
     },
     "execution_count": 21,
     "metadata": {},
     "output_type": "execute_result"
    }
   ],
   "source": [
    "mul(add(2, mul(0x4, 0x6)), add(0x3, 0o5))"
   ]
  },
  {
   "cell_type": "markdown",
   "metadata": {},
   "source": [
    "* `mul` 함수의 정의를 확인한다.\n",
    "* `mul`의 첫 번째 인자인 `add(2, mul(0x4, 0x6))`를 확인하고 함수호출을 실행한다.\n",
    "    + `add` 함수의 정의를 확인한다. \n",
    "    + `add`의 첫 번째 인자인 `2`를 확인한다. `2`는 더 이상 계산할 필요가 없다.\n",
    "    + `add`의 두 번째 인자닌 `mul(0x4, 0x6)`를 확인하고 함수호출을 실행한다. \n",
    "        - `mul` 함수의 정의를 확인한다. \n",
    "        - `mul`의 첫 번째 인자인 `0x4`를 확인한다. `0x4`는 16진법으로 표시된 정수 4임을 확인한다.\n",
    "        - `mul`의 두 번재 인자인 `0x6`를 확인한다. `0x6`는 16진법으로 표시된 정수 6임을 확인한다.\n",
    "        - `mul(4,6)`을 실행하여 `24`를 리턴한다.\n",
    "    + `add(2, 24)`를 실행하여 `26`을 리턴한다.\n",
    "* `mul`의 두 번째 인자인 `add(0x3, 0o5)`를 확인한다. \n",
    "    + `add` 함수의 정의를 확인한다.\n",
    "    + `add`의 첫 번째 인자인 `0x3`를 확인한다. `0x3`는 16진법으로 표시된 정수 3임을 확인한다.\n",
    "    + `add`의 두 번째 인자인 `0o5`를 확인한다. `0o5`는 8진법으로 표시된 정수 5임을 확인한다.\n",
    "    + `add(3, 5)`실행하여 `8`을 리턴한다.\n",
    "* `mul(26, 8)`을 실행하여 `208`을 리턴한다."
   ]
  },
  {
   "cell_type": "markdown",
   "metadata": {},
   "source": [
    "위 설명에서 들여쓰기에 주의해야 한다.\n",
    "더 들여서 쓴 문장이 모두 실행이 된 뒤에야 그 아랫부분에서 덜 들여서 쓴 문장이 실행된다. \n",
    "그림으로 나타내면 다음과 같다.\n",
    "\n",
    "아래 그림에 네모상자로 둘러싸인 부분이 현재 실행중인 함수호출 또는 함수호출의 결과값을 나타낸다."
   ]
  },
  {
   "cell_type": "markdown",
   "metadata": {},
   "source": [
    "<p>\n",
    "<table cellspacing=\"20\">\n",
    "<tr>\n",
    "<td>\n",
    "<img src=\"images/fun_call.png\" style=\"width:500px\">\n",
    "</td>\n",
    "</tr>\n",
    "</table>\n",
    "</p>"
   ]
  },
  {
   "cell_type": "markdown",
   "metadata": {},
   "source": [
    "## 부수효과가 없는 함수와 있는 함수"
   ]
  },
  {
   "cell_type": "markdown",
   "metadata": {},
   "source": [
    "프로그램에서 사용되는 함수를 구분하는 다양한 기준이 있다.\n",
    "여기서는 부수기능의 존재여부에 따른 함수 분류 기준을 살펴본다."
   ]
  },
  {
   "cell_type": "markdown",
   "metadata": {},
   "source": [
    "### 부수효과가 없는 함수 (Pure functions)\n",
    "\n",
    "함수가 호출되어 실행되어 실행결과를 돌려줄 때까지 실행결과를 생성하기 위한 일 이외에 다른 어떤 일도 하지 않는다면 그 함수를 부수효과가없는 함수라 부른다.\n",
    "\n",
    "예를 들어 절대값을 계산하는 `abs` 함수와 덧셈을 행하는 `add` 함수 등이 순수한 함수이다. \n",
    "아래 그림에서 보듯이 인자를 입력받은 후에 각각 절대값과 덧셈을 실행하여 결과값을 돌려주는 일 이외에는 다른 일을 행하지 않는다."
   ]
  },
  {
   "cell_type": "markdown",
   "metadata": {},
   "source": [
    "<p>\n",
    "<table cellspacing=\"20\">\n",
    "<tr>\n",
    "<td>\n",
    "<img src=\"images/fun_pure.png\" style=\"width:250px\">\n",
    "</td>\n",
    "</tr>\n",
    "</table>\n",
    "</p>"
   ]
  },
  {
   "cell_type": "markdown",
   "metadata": {},
   "source": [
    "### 부수효과가 있는 함수 (Impure functions)\n",
    "\n",
    "부수효과가 있는 함수는 부수효과가 없는 함수와는 달리 결과값을 돌려주는 것 이외에 부수적인 일을 한다.\n",
    "대표적으로 파이썬 내장함수인 `print` 함수가 부수효과를 갖는 함수이다.\n",
    "\n",
    "그런데 `print`가 부수효과를 갖는 함수라는 것을 확인하려면 아래 두 가지를 알아야 한다.\n",
    "\n",
    "* 리턴하는 값이 무엇인가?\n",
    "* 부수적으로 어떤 일을 하는가?\n",
    "\n",
    "먼저, `print`가 리턴하는 값은 널 값(null value)이다. \n",
    "널 값은 말 그대로 어무런 내용도 없는 값을 의미한다.\n",
    "즉, 값은 값인데 아무 데도 사용할 수 없는 값을 의미한다.\n",
    "즉, 무늬만 값인 것이다. \n",
    "파이썬은 이러한 널값을 `None`으로 표시한다.\n",
    "\n",
    "다음으로, `print` 함수가 부수적으로 하는 일은 예를 들어 터미널 창에 어떤 문자열을 출력하는 것이다.\n",
    "`print(\"Hello Python\")` 방식으로 `print` 함수를 호출하면 아래와 같이 `'Hello Python'` 이란 문자열을 출력한다."
   ]
  },
  {
   "cell_type": "code",
   "execution_count": 22,
   "metadata": {},
   "outputs": [
    {
     "name": "stdout",
     "output_type": "stream",
     "text": [
      "Hello Python\n"
     ]
    }
   ],
   "source": [
    "print(\"Hello Python\")"
   ]
  },
  {
   "cell_type": "markdown",
   "metadata": {},
   "source": [
    "`print(\"Hello Python\")`을 실행하였을 때 보여주는 `'Hello Python'`은 실행 결과값이 아니라 `print` 함수가 부수적으로 하는 일이라는 점을 절대적으로 명심해야 한다."
   ]
  },
  {
   "cell_type": "markdown",
   "metadata": {},
   "source": [
    "#### 예제: 부수효과를 갖는 함수의 호출과정"
   ]
  },
  {
   "cell_type": "markdown",
   "metadata": {},
   "source": [
    "부수효과를 갖는 함수호출의 실행과정은 부수효과가 없는 함수의 호출과정과 기본적으로 동일하다.\n",
    "하지만 중간중간에 부수적인 일도 함께 벌어진다.\n",
    "\n",
    "먼저 아래 코드의 실행결과가 어떻게 도출되었는가를 잘 생각해보자."
   ]
  },
  {
   "cell_type": "code",
   "execution_count": 23,
   "metadata": {},
   "outputs": [
    {
     "name": "stdout",
     "output_type": "stream",
     "text": [
      "1\n",
      "2\n",
      "None None\n"
     ]
    }
   ],
   "source": [
    "print(print(1), print(2))"
   ]
  },
  {
   "cell_type": "markdown",
   "metadata": {},
   "source": [
    "아래의 그림은 위 코드를 호출하는 과정을 설명한다."
   ]
  },
  {
   "cell_type": "markdown",
   "metadata": {},
   "source": [
    "<p>\n",
    "<table cellspacing=\"20\">\n",
    "<tr>\n",
    "<td>\n",
    "<img src=\"images/fun_print.png\" style=\"width:350px\">\n",
    "</td>\n",
    "</tr>\n",
    "</table>\n",
    "</p>"
   ]
  },
  {
   "cell_type": "markdown",
   "metadata": {},
   "source": [
    "**설명:** 기본적으로 앞서 설명한 방식으로 진행되지만 3번 사용된 각각의 `print` 함수 호출과정에서 \n",
    "특정값을 부수적으로 화면에 출력한다. \n",
    "\n",
    "* 가장 먼저 첫 번째 인자에 사용된 `print` 함수에 의해 `1`을 출력하고\n",
    "* 다음으로 두 번째 인자에 사용된 `print` 함수에 의해 `2`를 출력하고\n",
    "* 마지막으로 제일 먼저 호출된 `print` 함수에 의해 각 인자의 리턴값으로 이루어진 `None None`을 출력한다. "
   ]
  },
  {
   "cell_type": "markdown",
   "metadata": {},
   "source": [
    "## 함수호출 실행과정과 프레임 이해"
   ]
  },
  {
   "cell_type": "markdown",
   "metadata": {},
   "source": [
    "함수를 호출하여 실행을 하면 컴퓨터 메모리의 스택(stack) 영역에 함수의 호출과 실행과정, 그리고 실행결과값과 관련된\n",
    "정보의 변화가 일어난다. \n",
    "이런 정보의 변화를 **프레임(frame)** 이라 부르며, 프레임은 모든 함수와 변수의 생성, 호출, 삭제 과정을 기록한다.\n",
    "\n",
    "또한 하나의 함수가 호출될 때마다 하나의 프레임이 임시로 생성되었다가 함수의 실행이 종료되면 해당 함수의\n",
    "리턴값을 다른 프레임에 넘겨 준 후에 사라지는 과정이 반복된다. 이렇게 특정 함수호출과 관련된 프레임을 **지역 프레임**이라 \n",
    "부른다.\n",
    "반면에 프로그램이 실생되는 전 과정동안 살아 있는 프레임을 **전역 프레임**이라 부른다. \n",
    "\n",
    "아래 그림은 앞서 지역변수와 전역변수를 설명하면서 사용한 코드를 \n",
    "[파이썬 튜터](http://pythontutor.com/)에서 실행한 결과를 보여준다.\n",
    "\n",
    "#### 주의사항\n",
    "* 전역변수와 함수들은 전연 프레임(global frame)에서 다룬다.\n",
    "* 지역변수들은 함수가 호출되면 생성되어 지역변수들의 정보를 다루다가, 함수의 실행이 종료되면 \n",
    "    모든 정보와 함께 사라진다. \n",
    "    예를 들어, 마지막 그림에서 `minutes` 값을 확인하고자 할 때 오류가 발생하는 이유가 \n",
    "    `hour_to_min` 함수가 호출될 때 생성된 지역 프레임이 함수의 실행이 종료되면 사라지기 때문이라는 \n",
    "    점을 눈으로 확인할 수 있다."
   ]
  },
  {
   "cell_type": "markdown",
   "metadata": {},
   "source": [
    "<p>\n",
    "<table cellspacing=\"20\">\n",
    "<tr>\n",
    "<td>\n",
    "<img src=\"images/local_var01.png\" style=\"width:90%\">\n",
    "</td>\n",
    "</tr>\n",
    "</table>\n",
    "</p>"
   ]
  },
  {
   "cell_type": "markdown",
   "metadata": {},
   "source": [
    "<p>\n",
    "<table cellspacing=\"20\">\n",
    "<tr>\n",
    "<td>\n",
    "<img src=\"images/local_var02.png\" style=\"width:90%\">\n",
    "</td>\n",
    "</tr>\n",
    "</table>\n",
    "</p>"
   ]
  },
  {
   "cell_type": "markdown",
   "metadata": {},
   "source": [
    "<p>\n",
    "<table cellspacing=\"20\">\n",
    "<tr>\n",
    "<td>\n",
    "<img src=\"images/local_var03.png\" style=\"width:90%\">\n",
    "</td>\n",
    "</tr>\n",
    "</table>\n",
    "</p>"
   ]
  },
  {
   "cell_type": "markdown",
   "metadata": {},
   "source": [
    "<p>\n",
    "<table cellspacing=\"20\">\n",
    "<tr>\n",
    "<td>\n",
    "<img src=\"images/local_var04.png\" style=\"width:90%\">\n",
    "</td>\n",
    "</tr>\n",
    "</table>\n",
    "</p>"
   ]
  },
  {
   "cell_type": "markdown",
   "metadata": {},
   "source": [
    "<p>\n",
    "<table cellspacing=\"20\">\n",
    "<tr>\n",
    "<td>\n",
    "<img src=\"images/local_var05.png\" style=\"width:90%\">\n",
    "</td>\n",
    "</tr>\n",
    "</table>\n",
    "</p>"
   ]
  },
  {
   "cell_type": "markdown",
   "metadata": {},
   "source": [
    "<p>\n",
    "<table cellspacing=\"20\">\n",
    "<tr>\n",
    "<td>\n",
    "<img src=\"images/local_var06.png\" style=\"width:90%\">\n",
    "</td>\n",
    "</tr>\n",
    "</table>\n",
    "</p>"
   ]
  },
  {
   "cell_type": "markdown",
   "metadata": {},
   "source": [
    "<p>\n",
    "<table cellspacing=\"20\">\n",
    "<tr>\n",
    "<td>\n",
    "<img src=\"images/local_var07.png\" style=\"width:90%\">\n",
    "</td>\n",
    "</tr>\n",
    "</table>\n",
    "</p>"
   ]
  },
  {
   "cell_type": "markdown",
   "metadata": {},
   "source": [
    "<p>\n",
    "<table cellspacing=\"20\">\n",
    "<tr>\n",
    "<td>\n",
    "<img src=\"images/local_var08.png\" style=\"width:90%\">\n",
    "</td>\n",
    "</tr>\n",
    "</table>\n",
    "</p>"
   ]
  },
  {
   "cell_type": "markdown",
   "metadata": {},
   "source": [
    "## 연습문제\n",
    "1. 다음 조건을 만족시키는 `right_justify`라는 함수를 정의하라.\n",
    "    * 인자는 하나만 받으며, 매개변수는 `s`라 부른다.\n",
    "    * 문자열 하나를 인자로 받아 실행하면 해당 문자열의 끝이 70번째 칸에 위치하도록 \n",
    "        입력받은 문자열 앞에 충분한 공백이 위치하도록 출력(print)한다. \n",
    "```python\n",
    ">>> right_justify('monty')\n",
    "                                                                monty\n",
    "```                                                                 \n",
    "    힌트: 문자열 결합 및 반복, 그리고 문자열의 길이를 되돌려주는 내장함수 `len` 활용 가능.\n",
    "<br><br>\n",
    "1. 파이썬은 정의된 함수도 하나의 값으로 취급한다. \n",
    "    따라서 함수를 다른 함수의 인자로 사용하거나 변수에 할당되는 값으로 사용될 수 있다. \n",
    "    예를 들어, 아래에 정의된 `do_twice` 함수는 함수 `f`를 인자로 입력받으면\n",
    "    그 함수를 두 번 호출하여 실행하도록 하는 함수이다. \n",
    "```python\n",
    "def do_twice(f):\n",
    "    f()\n",
    "    f()\n",
    "```\n",
    "    그리고 `print_spam` 이라는 함수를 두 번 호출하도록 `do_twice`를 활용하고자 하면 \n",
    "    아래와 같이 프로그램을 작성하면 된다.\n",
    "    ```python\n",
    "    def print_spam():\n",
    "        print('spam')\n",
    "\n",
    "    do_twice(print_spam)\n",
    "    ```\n",
    "    1. 이 프로그램을 직접 입력해서 실행해 보라.\n",
    "    1. 아래 조건을 만족하도록 `do_twice` 함수를 수정하라. \n",
    "        * 두 개의 인자를 사용한다.\n",
    "        * 첫째 매개변수는 하나의 인자를 받는 함수를 인자로 입력받는다.\n",
    "        * 둘째 매개변수는 첫째 인자에 사용된 함수의 인자로 사용될 수 있는 값을 인자로 입력받는다.\n",
    "        * 첫째 인자로 사용된 함수를 둘째 인자로 사용된 값을 이용하여 두 번 연속 호출한다. \n",
    "    1. 아래 조건을 만족하도록 `do_four` 함수를 수정하라. \n",
    "        * 두 개의 인자를 사용한다.\n",
    "        * 첫째 매개변수는 하나의 인자를 받는 함수를 인자로 입력받는다.\n",
    "        * 둘째 매개변수는 첫째 인자에 사용된 함수의 인자로 사용될 수 있는 값을 인자로 입력받는다.\n",
    "        * 첫째 인자로 사용된 함수를 둘째 인자로 사용된 값을 이용하여 네 번 연속 호출한다. \n",
    "        * 앞서 정의된 `do_twice` 함수를 반드시 활용한다.\n",
    "<br><br>\n",
    "답: http://greenteapress.com/thinkpython2/code/do_four.py\n",
    "<br><br>\n",
    "1. 이번 문제는 지금까지 배운 내용을로 풀 수 있다. \n",
    "    1. 다음과 같은 격자를 그리는 함수를 작성하라.\n",
    "        ```\n",
    "        + - - - - + - - - - +\n",
    "        |         |         |\n",
    "        |         |         |\n",
    "        |         |         |\n",
    "        |         |         |\n",
    "        + - - - - + - - - - +\n",
    "        |         |         |\n",
    "        |         |         |\n",
    "        |         |         |\n",
    "        |         |         |\n",
    "        + - - - - + - - - - +\n",
    "        ```\n",
    "        힌트: 한 줄에 하나 이상의 값을 출력하려면 `print` 함수에 여러 인자를 사용하면 된다.\n",
    "        ```python\n",
    "        print('+', '-')\n",
    "        ```\n",
    "        `print` 함수는 기본적으로 줄바꿈을 실행한다.\n",
    "        줄바꿈을 하지 않기 위해서는 에를 들어 아래와 같이 실행하면 된다.\n",
    "        ```\n",
    "        print('+', end=' ')\n",
    "        print('-')\n",
    "        ```\n",
    "        위 프로그램을 실행하면 `+ -` 형식으로 출력된다. \n",
    "        <br><br>\n",
    "    1. 4개의 행과 4개의 열을 갖는 비슷한 격자를 그리는 함수를 작성하라.\n",
    "\n",
    "    답: http://greenteapress.com/thinkpython2/code/grid.py\n",
    "    <br><br>\n",
    "    이 연습문제는 아래 책의 Oualline에 포함된 연습문제를 응용하였다. \n",
    "    \n",
    "            Practical C Programming, Third Edition, O’Reilly Media, 1997."
   ]
  }
 ],
 "metadata": {
  "kernelspec": {
   "display_name": "Python 3",
   "language": "python",
   "name": "python3"
  },
  "language_info": {
   "codemirror_mode": {
    "name": "ipython",
    "version": 3
   },
   "file_extension": ".py",
   "mimetype": "text/x-python",
   "name": "python",
   "nbconvert_exporter": "python",
   "pygments_lexer": "ipython3",
   "version": "3.6.3"
  }
 },
 "nbformat": 4,
 "nbformat_minor": 1
}
