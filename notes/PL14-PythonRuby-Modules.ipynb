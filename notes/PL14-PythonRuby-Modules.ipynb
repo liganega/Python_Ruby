{
 "cells": [
  {
   "cell_type": "markdown",
   "metadata": {},
   "source": [
    "# 모듈"
   ]
  },
  {
   "cell_type": "markdown",
   "metadata": {},
   "source": [
    "모듈에 대한 일반적인 이해는\n",
    "[이곳](https://github.com/liganega/bpp/blob/master/notes/06b-ThinkPython-Modules.ipynb)을\n",
    "읽을 것을 추천한다.\n",
    "언급한 사이트는 파이썬의 모듈에 대한 설명이지만 파이썬과 루비의 모듈에 대한 기초적인 이해를 위해 도움이 될 것이다.\n",
    "\n",
    "여기서는 강의 비디오에서 언급한 루비와 파이썬의 모듈 활용의 차이점만을 언급한다."
   ]
  },
  {
   "cell_type": "markdown",
   "metadata": {},
   "source": [
    "## 모듈 사용 이유\n",
    "\n",
    "모듈을 사용하는 이유는 크게 두 가지이다.\n",
    "\n",
    "1. 한 번 구현한 함수들을 모듈에 저장한 후에 여러 파일에서 공유하여 보다 효율적으로 프로그램을 구현하기 위해.\n",
    "    * 연관된 일을 하는 함수들을 하나의 모듈로 묶어서 필요에 따라 재활용한다.\n",
    "1. 비슷한 기능을 가진 함수들을 동일한 이름으로 선언한 후에 필요에 따라 선택하여 활용하고 할 때. \n",
    "    * 동일한 이름의 함수들을 각각 다른 모듈에 저장하면 모듈 이름에 따라 구분되기에 이름충돌이 발생하지 않음."
   ]
  },
  {
   "cell_type": "markdown",
   "metadata": {},
   "source": [
    "## 내장 모듈 사용법"
   ]
  },
  {
   "cell_type": "markdown",
   "metadata": {},
   "source": [
    "### 파이썬 내장 모듈\n",
    "\n",
    "`import` 명령어를 이용하여 모듈을 먼저 불러온 후에 사용할 수 있다."
   ]
  },
  {
   "cell_type": "code",
   "execution_count": 1,
   "metadata": {},
   "outputs": [
    {
     "name": "stdout",
     "output_type": "stream",
     "text": [
      "3\n",
      "2\n",
      "4.0\n"
     ]
    }
   ],
   "source": [
    "import math\n",
    "\n",
    "print(math.ceil(2.9))\n",
    "print(math.floor(2.9))\n",
    "print(math.sqrt(16))"
   ]
  },
  {
   "cell_type": "markdown",
   "metadata": {},
   "source": [
    "### 루비 내장 모듈\n",
    "\n",
    "모듈 이름과 함수 이름을 활용하여 바로 사용할 수 있다."
   ]
  },
  {
   "cell_type": "code",
   "execution_count": 2,
   "metadata": {},
   "outputs": [
    {
     "name": "stdout",
     "output_type": "stream",
     "text": [
      "4.0\n"
     ]
    }
   ],
   "source": [
    "%%ruby\n",
    "\n",
    "puts(Math.sqrt(16))"
   ]
  },
  {
   "cell_type": "markdown",
   "metadata": {},
   "source": [
    "#### 주의\n",
    "\n",
    "루비에서 `ceil`과 `floor` 함수는 부동소수점 자료형의 메소드로 포함되어 있다."
   ]
  },
  {
   "cell_type": "code",
   "execution_count": 3,
   "metadata": {},
   "outputs": [
    {
     "name": "stdout",
     "output_type": "stream",
     "text": [
      "true\n"
     ]
    }
   ],
   "source": [
    "%%ruby\n",
    "\n",
    "puts(2.9.ceil() > 2.9.floor())"
   ]
  },
  {
   "cell_type": "markdown",
   "metadata": {},
   "source": [
    "## 사용자 정의 모듈 활용 예제 1\n",
    "\n",
    "동일한 이름의 함수들을 각각 다른 모듈에 저장하여 활용하는 방법을 소개한다."
   ]
  },
  {
   "cell_type": "markdown",
   "metadata": {},
   "source": [
    "### 파이썬 사용자 정의 모듈"
   ]
  },
  {
   "cell_type": "markdown",
   "metadata": {},
   "source": [
    "아래 함수가 `egoing.py` 파일에 정의되어 있다고 가정하자.\n",
    "\n",
    "```python\n",
    "def a():\n",
    "    return 'A'\n",
    "```\n",
    "\n",
    "그리고 아래 함수가 `k8805.py` 파일에 정의되어 있다고 가정하자.\n",
    "\n",
    "```python\n",
    "def a():\n",
    "    return 'B'\n",
    "``` \n",
    "\n",
    "이제 경우에 따라 동일한 이름의 함수를 다르게 사용하려면 아래와 같이 모듈을 불러와서 사용하면 된다.\n",
    "\n",
    "__주의:__ 두 모듈과 아래 코드를 포함한 파일이 동일한 디렉토리에 포함되어 있다고 가정함.\n",
    "\n",
    "```python\n",
    "import egoing\n",
    "import k8805\n",
    "\n",
    "print(egoing.a())\n",
    "print(k8805.a())\n",
    "```\n",
    "\n",
    "파이썬에서 모듈을 불러오는 방식은 다양하다.\n",
    "아래 코드는 위 코드와 동일한 일을 수행한다.\n",
    "\n",
    "```python\n",
    "from egoing import a as z\n",
    "import k8805 as k\n",
    "\n",
    "print(z())\n",
    "print(k.a())\n",
    "```"
   ]
  },
  {
   "cell_type": "markdown",
   "metadata": {},
   "source": [
    "### 루비 사용자 정의 모듈"
   ]
  },
  {
   "cell_type": "markdown",
   "metadata": {},
   "source": [
    "아래 함수가 `egoing.rb` 파일에 정의되어 있다고 가정하자.\n",
    "\n",
    "```ruby\n",
    "module Egoing\n",
    "    module_function()\n",
    "\n",
    "    def a():\n",
    "        return 'A'\n",
    "    end\n",
    "\n",
    "end\n",
    "```\n",
    "\n",
    "그리고 아래 함수가 `k8805.py` 파일에 정의되어 있다고 가정하자.\n",
    "\n",
    "```ruby\n",
    "module K8805\n",
    "    module_function()\n",
    "\n",
    "    def a():\n",
    "        return 'B'\n",
    "    end\n",
    "\n",
    "end\n",
    "```\n",
    "\n",
    "이제 경우에 따라 동일한 이름의 함수를 다르게 사용하려면 아래와 같이 모듈을 불러와서 사용하면 된다.\n",
    "\n",
    "__주의:__ 두 모듈과 아래 코드를 포함한 파일이 동일한 디렉토리에 포함되어 있다고 가정함.\n",
    "\n",
    "```ruby\n",
    "require_relative 'Egoing'\n",
    "require_relative 'K8805'\n",
    "\n",
    "p Egoing.a()\n",
    "p K8805.a()\n",
    "```"
   ]
  },
  {
   "cell_type": "markdown",
   "metadata": {},
   "source": [
    "#### 파이썬 모듈과의 차이점\n",
    "* 루비의 모듈은 `module` 키워드를 사용하여 선언되며 모듈 이름은 대문자로 시작해야 한다.\n",
    "* 루비의 모듈을 담은 파일 이름은 소문자로 시작하되 포함된 모듈 일음과 동일해야 한다.\n",
    "* `module_function` 함수는 이후에 정의된 함수들을 모듈 밖에서도 사용할 수 있도록 허용하는 장치 기능을 수행한다.\n",
    "    이 기능이 필요한 이유는 이후에 `Mixin` 개념을 다루면서 자세히 살펴볼 예정이다.\n",
    "* `require_relative`는 상대경로를 활용할 때 사용한다."
   ]
  },
  {
   "cell_type": "markdown",
   "metadata": {},
   "source": [
    "## 사용자 정의 모듈 활용 예제 2\n",
    "\n",
    "\"코드를 사용하면 코드중복을 제거하고 코드의 재활용성을 높여준다\"는 증거를 \n",
    "로그인 애플리케이션을 아래와 같이 수정하는 방식으로 보여주고자 한다."
   ]
  },
  {
   "cell_type": "markdown",
   "metadata": {},
   "source": [
    "### 파이썬 로그인 애플리케이션\n",
    "\n",
    "먼저 아래 코드를 `auth.py` 파일에 저장한다.\n",
    "\n",
    "```python\n",
    "def login(_id):\n",
    "    members = ['egoing', 'k8805', 'leezche']\n",
    "    for member in members:\n",
    "        if member == _id:\n",
    "            return True\n",
    "    return False\n",
    "```\n",
    "\n",
    "이제 동일한 디렉토리의 다른 파이썬 파일에서 아래와 같이 작성하면 `auth` 모듈에 포함된 `login` 함수를 활용할 수 있다.\n",
    "\n",
    "```python\n",
    "import auth\n",
    "input_id = input(\"아이디를 입력해주세요.\\n\")\n",
    "if auth.login(input_id):\n",
    "    print('Hello, '+input_id)\n",
    "else:\n",
    "    print('Who are you?')\n",
    "```"
   ]
  },
  {
   "cell_type": "markdown",
   "metadata": {},
   "source": [
    "### 루비 로그인 애플리케이션\n",
    "\n",
    "먼저 아래 코드를 `auth.rb` 파일에 저장한다.\n",
    "\n",
    "```ruby\n",
    "module Auth\n",
    "  module_function()\n",
    "  def login(_id)\n",
    "    members = ['egoing', 'k8805', 'leezche']\n",
    "    for member in members do\n",
    "        if member == _id\n",
    "            return true\n",
    "        end\n",
    "    end\n",
    "    return false\n",
    "  end\n",
    "end\n",
    "```\n",
    "\n",
    "이제 동일한 디렉토리의 다른 루비 파일에서 아래와 같이 작성하면 `Auth` 모듈에 포함된 `login` 함수를 활용할 수 있다.\n",
    "\n",
    "```ruby\n",
    "require_relative 'Auth'\n",
    "puts(\"아이디를 입력해주세요\")\n",
    "input_id = gets.chomp()\n",
    "if Auth.login(input_id)\n",
    "  puts('Hello, '+input_id)\n",
    "else\n",
    "  puts('Who are you?')\n",
    "end\n",
    "```"
   ]
  }
 ],
 "metadata": {
  "kernelspec": {
   "display_name": "Python 3",
   "language": "python",
   "name": "python3"
  },
  "language_info": {
   "codemirror_mode": {
    "name": "ipython",
    "version": 3
   },
   "file_extension": ".py",
   "mimetype": "text/x-python",
   "name": "python",
   "nbconvert_exporter": "python",
   "pygments_lexer": "ipython3",
   "version": "3.6.4"
  }
 },
 "nbformat": 4,
 "nbformat_minor": 2
}
