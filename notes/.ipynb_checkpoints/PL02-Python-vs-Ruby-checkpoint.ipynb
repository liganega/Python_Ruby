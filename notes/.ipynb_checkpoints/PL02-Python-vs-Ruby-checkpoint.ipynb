{
 "cells": [
  {
   "cell_type": "markdown",
   "metadata": {},
   "source": [
    "# 파이썬과 루비 비교"
   ]
  },
  {
   "cell_type": "markdown",
   "metadata": {},
   "source": [
    "파이썬과 루비 언어의 공통점과 차이점을 간략 정리하고자 함."
   ]
  },
  {
   "cell_type": "markdown",
   "metadata": {},
   "source": [
    "## print와 puts"
   ]
  },
  {
   "cell_type": "markdown",
   "metadata": {},
   "source": [
    "<p>\n",
    "<table cellspacing=\"20\" style=\"width:80%\">\n",
    "<tr>\n",
    "<th>Python</th><th>Ruby</th>\n",
    "</tr>\n",
    "\n",
    "<tr>\n",
    "<td>줄바꿈 자동</td><td>줄바꿈 없음</td>\n",
    "</tr>\n",
    "\n",
    "</table>\n",
    "</p>"
   ]
  },
  {
   "cell_type": "markdown",
   "metadata": {},
   "source": [
    "| Name | Description | age         \n",
    "| :- |-------------: | :-:\n",
    "|Mary| She is a nice girl.  | 20\n",
    "| Jackie Junior | He is a very naughty boy. | 5"
   ]
  },
  {
   "cell_type": "markdown",
   "metadata": {},
   "source": [
    "Group                     | Domain          | First Appearance\n",
    "------------------------- | --------------- | ----------------\n",
    "ShinRa                    | Mako Reactors   | FFVII\n",
    "Moogles                   | MogNet          | FFIII\n",
    "Vana'diel Chocobo Society | Chocobo Raising | FFXI:TOAU"
   ]
  },
  {
   "cell_type": "markdown",
   "metadata": {},
   "source": [
    "| Name | Description | age         \n",
    "| :- |-------------: | :-:\n",
    "|Mary| She is a nice girl.  | 20\n",
    "| Jackie Junior | He is a very naughty boy. | 5"
   ]
  },
  {
   "cell_type": "markdown",
   "metadata": {},
   "source": [
    "| Python | Ruby \n",
    "| :-: | :-:\n",
    "| 자동 줄바꿈 | 줄바꿈 없음\n",
    "| Jackie Junior | He is a very naughty boy."
   ]
  },
  {
   "cell_type": "markdown",
   "metadata": {},
   "source": [
    "함수 | &nbsp; &nbsp; &nbsp; &nbsp; &nbsp; &nbsp; &nbsp; &nbsp; &nbsp; &nbsp; &nbsp; &nbsp; &nbsp; &nbsp; &nbsp;&nbsp; &nbsp; &nbsp; &nbsp; &nbsp; &nbsp; Name &nbsp; &nbsp; &nbsp; &nbsp; &nbsp; &nbsp; &nbsp; &nbsp; &nbsp; &nbsp; &nbsp; &nbsp; &nbsp; &nbsp; &nbsp;&nbsp; &nbsp; &nbsp; &nbsp; &nbsp; &nbsp; | Value\n",
    ":--:| :-------:|:-------------------:\n",
    "python | `Value-One`<br> dd| Long explanation\n",
    "| `Value-Two` | Long explanation\n",
    "| `etc` | Long explanation\n"
   ]
  }
 ],
 "metadata": {
  "kernelspec": {
   "display_name": "Python 3",
   "language": "python",
   "name": "python3"
  },
  "language_info": {
   "codemirror_mode": {
    "name": "ipython",
    "version": 3
   },
   "file_extension": ".py",
   "mimetype": "text/x-python",
   "name": "python",
   "nbconvert_exporter": "python",
   "pygments_lexer": "ipython3",
   "version": "3.6.3"
  }
 },
 "nbformat": 4,
 "nbformat_minor": 2
}
