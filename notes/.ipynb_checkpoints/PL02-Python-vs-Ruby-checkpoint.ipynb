{
 "cells": [
  {
   "cell_type": "markdown",
   "metadata": {},
   "source": [
    "# 파이썬과 루비 비교"
   ]
  },
  {
   "cell_type": "markdown",
   "metadata": {},
   "source": [
    "파이썬과 루비 언어의 공통점과 차이점을 간략 정리하고자 함. 파이썬과 루비 언어의 공통점과 차이점을 간략 정리하고자 함.파이썬과 루비 언어의 공통점과 차이점을 간략 정리하고자 함.파이썬과 루비 언어의 공통점과 차이점을 간략 정리하고자 함.파이썬과 루비 언어의 공통점과 차이점을 간략 정리하고자 함."
   ]
  },
  {
   "cell_type": "markdown",
   "metadata": {},
   "source": [
    "## print와 puts"
   ]
  },
  {
   "cell_type": "markdown",
   "metadata": {},
   "source": [
    "&nbsp; &nbsp; &nbsp; &nbsp; &nbsp; &nbsp; 함수 &nbsp; &nbsp; &nbsp; &nbsp; &nbsp; &nbsp; | &nbsp; &nbsp; &nbsp; &nbsp; &nbsp; &nbsp; &nbsp; &nbsp; &nbsp; &nbsp; &nbsp; &nbsp; &nbsp; &nbsp; &nbsp; Python &nbsp; &nbsp; &nbsp; &nbsp; &nbsp; &nbsp; &nbsp; &nbsp; &nbsp; &nbsp; &nbsp; &nbsp; &nbsp; &nbsp; &nbsp; | &nbsp; &nbsp; &nbsp; &nbsp; &nbsp; &nbsp; &nbsp; &nbsp; &nbsp; &nbsp; &nbsp; &nbsp; &nbsp; &nbsp; &nbsp; Ruby &nbsp; &nbsp; &nbsp; &nbsp; &nbsp; &nbsp; &nbsp; &nbsp; &nbsp; &nbsp; &nbsp; &nbsp; &nbsp; &nbsp; &nbsp;\n",
    ":--:| :-------|:-------------------\n",
    "`print` | 자동 줄바꿈| 줄바꿈 없음\n",
    "`puts`  | NA  | 파이썬의 `print`와 비슷한 기능 파이썬의 `print`와 비슷한 기능파이썬의 `print`와 비슷한 기능 파이썬의 `print`와 비슷한 기능\n"
   ]
  },
  {
   "cell_type": "markdown",
   "metadata": {},
   "source": [
    "<p>\n",
    "<table cellspacing=\"20\" style=\"width:80%\">\n",
    "<tr>\n",
    "<th>Python</th><th>Ruby</th>\n",
    "</tr>\n",
    "\n",
    "<tr>\n",
    "<td style=\"text-align:left\">Python</td><td>Ruby</td>\n",
    "</tr>\n",
    "\n",
    "</table>\n",
    "</p>"
   ]
  },
  {
   "cell_type": "markdown",
   "metadata": {},
   "source": [
    "<p>\n",
    "<table cellspacing=\"20\" style=\"width:80%\">\n",
    "<tr>\n",
    "<th>Python</th><th>Ruby</th>\n",
    "</tr>\n",
    "\n",
    "<tr>\n",
    "<td style=\"text-align:right\">Python</td><td>Ruby</td>\n",
    "</tr>\n",
    "\n",
    "</table>\n",
    "</p>"
   ]
  },
  {
   "cell_type": "markdown",
   "metadata": {},
   "source": [
    "<p>\n",
    "<table cellspacing=\"20\" style=\"width:80%\">\n",
    "<tr>\n",
    "<th>Python</th><th>Ruby</th>\n",
    "</tr>\n",
    "\n",
    "<tr>\n",
    "<td style=\"text-align:center\">Python <br> kdkdk </td><td>Ruby</td>\n",
    "</tr>\n",
    "\n",
    "</table>\n",
    "</p>"
   ]
  }
 ],
 "metadata": {
  "kernelspec": {
   "display_name": "Python 3",
   "language": "python",
   "name": "python3"
  },
  "language_info": {
   "codemirror_mode": {
    "name": "ipython",
    "version": 3
   },
   "file_extension": ".py",
   "mimetype": "text/x-python",
   "name": "python",
   "nbconvert_exporter": "python",
   "pygments_lexer": "ipython3",
   "version": "3.6.3"
  }
 },
 "nbformat": 4,
 "nbformat_minor": 2
}
