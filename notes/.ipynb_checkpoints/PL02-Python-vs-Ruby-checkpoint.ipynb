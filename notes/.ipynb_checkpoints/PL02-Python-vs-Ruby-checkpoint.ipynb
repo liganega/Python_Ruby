{
 "cells": [
  {
   "cell_type": "markdown",
   "metadata": {},
   "source": [
    "# 파이썬과 루비 비교"
   ]
  },
  {
   "cell_type": "markdown",
   "metadata": {},
   "source": [
    "파이썬과 루비 언어의 공통점과 차이점을 간략 정리하고자 함. 파이썬과 루비 언어의 공통점과 차이점을 간략 정리하고자 함.파이썬과 루비 언어의 공통점과 차이점을 간략 정리하고자 함.파이썬과 루비 언어의 공통점과 차이점을 간략 정리하고자 함.파이썬과 루비 언어의 공통점과 차이점을 간략 정리하고자 함."
   ]
  },
  {
   "cell_type": "markdown",
   "metadata": {},
   "source": [
    "## print와 puts"
   ]
  },
  {
   "cell_type": "markdown",
   "metadata": {},
   "source": [
    "&nbsp; &nbsp; &nbsp; &nbsp; &nbsp; &nbsp; 함수 &nbsp; &nbsp; &nbsp; &nbsp; &nbsp; &nbsp; | &nbsp; &nbsp; &nbsp; &nbsp; &nbsp; &nbsp; &nbsp; &nbsp; &nbsp; &nbsp; &nbsp; &nbsp; &nbsp; &nbsp; &nbsp; Python &nbsp; &nbsp; &nbsp; &nbsp; &nbsp; &nbsp; &nbsp; &nbsp; &nbsp; &nbsp; &nbsp; &nbsp; &nbsp; &nbsp; &nbsp; | &nbsp; &nbsp; &nbsp; &nbsp; &nbsp; &nbsp; &nbsp; &nbsp; &nbsp; &nbsp; &nbsp; &nbsp; &nbsp; &nbsp; &nbsp; Ruby &nbsp; &nbsp; &nbsp; &nbsp; &nbsp; &nbsp; &nbsp; &nbsp; &nbsp; &nbsp; &nbsp; &nbsp; &nbsp; &nbsp; &nbsp;\n",
    ":----------:| :------------------------------|:------------------------------\n",
    "`print`     | 자동 줄바꿈                       | 줄바꿈 없음\n",
    "`puts`      | NA                             | 파이썬의 `print`와 비슷한 기능\n"
   ]
  },
  {
   "cell_type": "markdown",
   "metadata": {},
   "source": [
    "## 연산자"
   ]
  },
  {
   "cell_type": "markdown",
   "metadata": {},
   "source": [
    "### 사칙연산"
   ]
  },
  {
   "cell_type": "markdown",
   "metadata": {},
   "source": [
    "숫자들의 덧셈(`+`), 뺄셈(`-`), 곱셈(`*`), 나눗셈(`/`)을 위한 사칙연산 연산자의 활용은 동일하다."
   ]
  },
  {
   "cell_type": "markdown",
   "metadata": {},
   "source": [
    "### 좀 더 복잡한 연산자"
   ]
  },
  {
   "cell_type": "markdown",
   "metadata": {},
   "source": [
    "올림, 반올림, 지수 함수 등의 활용은 두 언어에서 차이를 보인다."
   ]
  },
  {
   "cell_type": "markdown",
   "metadata": {},
   "source": [
    "&nbsp; &nbsp; &nbsp; &nbsp; &nbsp; &nbsp; 함수 &nbsp; &nbsp; &nbsp; &nbsp; &nbsp; &nbsp; | &nbsp; &nbsp; &nbsp; &nbsp; &nbsp; &nbsp; &nbsp; &nbsp; &nbsp; &nbsp; &nbsp; &nbsp; &nbsp; &nbsp; &nbsp; Python &nbsp; &nbsp; &nbsp; &nbsp; &nbsp; &nbsp; &nbsp; &nbsp; &nbsp; &nbsp; &nbsp; &nbsp; &nbsp; &nbsp; &nbsp; | &nbsp; &nbsp; &nbsp; &nbsp; &nbsp; &nbsp; &nbsp; &nbsp; &nbsp; &nbsp; &nbsp; &nbsp; &nbsp; &nbsp; &nbsp; Ruby &nbsp; &nbsp; &nbsp; &nbsp; &nbsp; &nbsp; &nbsp; &nbsp; &nbsp; &nbsp; &nbsp; &nbsp; &nbsp; &nbsp; &nbsp;\n",
    ":----------:| :------------------------------|:------------------------------\n",
    "올림         | `import math<br>math.ceil(2.24)` | `2.24.ceil()`\n",
    "내림         | `import math<br>math.floor(2.24)`| `2.24.floor()`\n",
    "지수         | `import math<br>math.pow(2,10)`<br>또는 `2**10`  | `2**10`\n",
    "원주율        | `import math<br>math.pi`         | `Math::PI`\n",
    "제곱근        | `import math<br>math.sqrt(2)`    | `Math::sqrt(2)`\n",
    "상용로그      | `import math<br>math.log(2)`      | `Math::log(2)`\n",
    "삼각함수      | `import math<br>math.sin(2)`      | `Math::sin(2)`"
   ]
  },
  {
   "cell_type": "markdown",
   "metadata": {},
   "source": [
    "#### 주의사항\n",
    "* 정수 및 부동소수점 자료형\n",
    "    * 파이썬: `int`, `float` 자료형에는 올림 및 내림을 다룰 수 있는 자체 기능이 없음.\n",
    "    * 루비: `int`, `float` 자료형은 클래스로 구현되었고, 클래스 안에 올림 및 내림을 \n",
    "        다룰 수 있는 메소드인 `ceil`과 `floor`가 구현되어 있다.\n",
    "* 모듈 사용하기\n",
    "    * 파이썬: 특정 모듈을 사용하려면 먼저 임포트(import) 해야 한다.\n",
    "    * 루비: 필요할 때 모듈 이름을 함께 사용하면 된다.\n",
    "    "
   ]
  },
  {
   "cell_type": "code",
   "execution_count": 36,
   "metadata": {},
   "outputs": [
    {
     "name": "stdout",
     "output_type": "stream",
     "text": [
      "1.0\n"
     ]
    }
   ],
   "source": [
    "%%ruby\n",
    "puts(Math::sin(Math::PI/2))"
   ]
  },
  {
   "cell_type": "code",
   "execution_count": 24,
   "metadata": {
    "collapsed": true
   },
   "outputs": [],
   "source": [
    "import math"
   ]
  },
  {
   "cell_type": "code",
   "execution_count": 33,
   "metadata": {},
   "outputs": [
    {
     "data": {
      "text/plain": [
       "1.0"
      ]
     },
     "execution_count": 33,
     "metadata": {},
     "output_type": "execute_result"
    }
   ],
   "source": [
    "math.sin(math.pi/2)"
   ]
  }
 ],
 "metadata": {
  "kernelspec": {
   "display_name": "Python 3",
   "language": "python",
   "name": "python3"
  },
  "language_info": {
   "codemirror_mode": {
    "name": "ipython",
    "version": 3
   },
   "file_extension": ".py",
   "mimetype": "text/x-python",
   "name": "python",
   "nbconvert_exporter": "python",
   "pygments_lexer": "ipython3",
   "version": "3.6.3"
  }
 },
 "nbformat": 4,
 "nbformat_minor": 2
}
