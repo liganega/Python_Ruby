{
 "cells": [
  {
   "cell_type": "markdown",
   "metadata": {},
   "source": [
    "# 객체지향 프로그래밍"
   ]
  },
  {
   "cell_type": "markdown",
   "metadata": {},
   "source": [
    "## OOP란?"
   ]
  },
  {
   "cell_type": "markdown",
   "metadata": {},
   "source": [
    "__객체 지향 프로그래밍(Object-Oriented Programming)__을 줄여서 보통 __OOP__라고 부른다.\n",
    "\n",
    "OOP는 프로그래밍 기법 중의 하나이며 OOP를 지원하는 언어를 __객체 지향 언어__라고 부른다. 파이썬을 포함하여 자바, C++, C#, 루비, 자바스크립트 등 많은 컴퓨터 프로그래밍 언어가 객체 지향을 지원한다.\n",
    "\n",
    "OOP와 대비되는 개념으로 절차 지향 프로그래밍이 주로 언급된다. __절차 지향 프로그래밍__은 수행해야 할 일을 순차적으로 처리하는 과정을 묘사하는 것을 가장 중요하게 여기며 __프로그램 전체가 유기적으로 연결되도록 만드는 프로그래밍 기법__이다. C, HTML 등이 대표적인 절차 지향 프로그래밍언어이다.\n",
    "\n",
    "\"해야 할 일을 순차적으로 처리한다\"는 표현이 절차 지향 프로그래밍 기법에만 해당하는 것은 아니다. 모든 프로그램은 원하는 결과를 얻기 위한 과정을 논리적이며 순차적으로 처리하도록 구현되어야 한다.\n",
    "\n",
    "OOP 역시 예외가 아니다. 하지만 OOP는 구현해야 할 객체들을 선택하고 객체들 사이의 유기적인 관계를 논리적으로 묘사하는 데에 보다 많은 방점을 둔다. 즉, 프로그램 전체를 하나로 묶어서 구현하는 방식이 아니라 프로그램을 구성하는 객체들을 중심으로 해서 구현해야 할 프로그램을 완성시키는 방식으로 프로그래밍을 진행한다.\n",
    "\n",
    "OOP를 바로 이해하기는 정말로 어렵다. OOP와 관련된 참고서적, 참고자료는 모두 OOP에 대해 다양한 방식으로 설명하지만, OOP를 직접 경험해보지 않은 사람에게는 어떠한 설명도 피부에 와 닿기는 쉽지 않아 보인다. OOP를 이해하려면 스스로 아래 세 가지 질문에 답할 수 있어야 한다고 본다.\n",
    "\n",
    "1. 객체(object)란 무엇인가?\n",
    "1. 객체는 왜 필요한가?\n",
    "1. \"객체를 중심으로 프로그래밍 한다\" 라는 말의 의미는 무엇인가?\n",
    "\n",
    "위 세 질문에 대한 답을 참고자료에서 쉽게 찾을 수 있다. 하지만 역시 감을 얻기는 쉽지 않다. \n",
    "\n",
    "우선 파이썬을 이용하여 OOP의 활용법을 소개하는 강의노트를 추천하는 것으로 설명을 대신한다.\n",
    "\n",
    "* 추천 사이트: https://github.com/liganega/bpp/tree/master/notes\n",
    "* 위 사이트에서 OOP에 대한 강의노트를 순서대로 읽으면 됨.\n",
    "\n",
    "여기서는 파이썬과 루비에서의 문법상의 차이점에 대해서만 비디오 코드를 이용하여 간략하게 다른다."
   ]
  },
  {
   "cell_type": "markdown",
   "metadata": {},
   "source": [
    "## 생성자\n",
    "\n",
    "클래스의 인스턴스를 생성될 때 자동으로 실행되도록 약속된 메소드이다.\n",
    "생성자 메소드의 역할은 두 가지이다. \n",
    "\n",
    "* 인스턴스가 생성될 때 사용되는 인자들은 생성자 메소드를 통해\n",
    "    생성되는 인스턴스에 전달된다.\n",
    "* 생성되는 인스턴스가 기본적으로 가져야 하는 속성과 기능을 지정한다. "
   ]
  },
  {
   "cell_type": "markdown",
   "metadata": {},
   "source": [
    "### 루비 생성자: `initialize`\n",
    "\n",
    "```ruby\n",
    "class Cal\n",
    "  def initialize(v1,v2)\n",
    "    p v1, v2\n",
    "  end\n",
    "end\n",
    "\n",
    "c1 = Cal.new(10,10)\n",
    "c2 = Cal.new(30,20)\n",
    "```"
   ]
  },
  {
   "cell_type": "markdown",
   "metadata": {},
   "source": [
    "### 파이썬 생성자: `__init__`\n",
    "\n",
    "```python\n",
    "class Cal(object):\n",
    "    def __init__(self, v1, v2):\n",
    "        print(v1, v2)\n",
    " \n",
    "c1 = Cal(10,10)\n",
    "c2 = Cal(30,20)\n",
    "```"
   ]
  },
  {
   "cell_type": "markdown",
   "metadata": {},
   "source": [
    "#### 주의사항: `self`\n",
    "\n",
    "파이썬 클래스 내부에서 선언되는 메소드의 첫째 인자로 사용되는 `self`는 파이썬 언어만의 특징이다.\n",
    "`self`를 첫째 매개변수로 사용하는 메소드를 __인스턴스 메소드__라 부르며,\n",
    "인스턴스를 생성한 후에야 사용할 수 있는 메소드를 의미한다."
   ]
  },
  {
   "cell_type": "markdown",
   "metadata": {},
   "source": [
    "## 인스턴스 변수와 메소드"
   ]
  },
  {
   "cell_type": "markdown",
   "metadata": {},
   "source": [
    "* 인스턴스 변수: 생성자를 통해 전달되는 인자들 또는 인스턴스가 생성될 때 언제든 사용이 가능한 값들을 \n",
    "    저장한 변수들을 인스턴스 변수라 부른다.\n",
    "* 인스턴스 메소드: 인스턴스가 생성된 후에야 사용될 수 있는 클래스 메소드를 인스턴스 메소드라 부른다.\n",
    "    각 인스턴스 마다 인스턴스 변수에 저장된 값들이 다를 수 있기 때문에 \n",
    "    동일한 메소드가 어느 인스턴스의 메소드로 호출되는가에 따라 다른 값을 리턴할 수 있다."
   ]
  },
  {
   "cell_type": "markdown",
   "metadata": {},
   "source": [
    "### 루비 인스턴스 변수: `@` 기호 사용\n",
    "\n",
    "```ruby\n",
    "class Cal\n",
    "    \n",
    "  def initialize(v1,v2)\n",
    "    @v1 = v1\n",
    "    @v2 = v2\n",
    "  end\n",
    "    \n",
    "  def add()\n",
    "    return @v1+@v2\n",
    "  end\n",
    "    \n",
    "  def subtract()\n",
    "    return @v1-@v2\n",
    "  end\n",
    "end\n",
    "\n",
    "c1 = Cal.new(10,10)\n",
    "p c1.add()\n",
    "p c1.subtract()\n",
    "\n",
    "c2 = Cal.new(30,20)\n",
    "p c2.add()\n",
    "p c2.subtract()\n",
    "```"
   ]
  },
  {
   "cell_type": "markdown",
   "metadata": {},
   "source": [
    "### 파있너 인스턴스 변수: `self` 변수이름 사용\n",
    "\n",
    "```python\n",
    "class Cal(object):\n",
    "    \n",
    "    def __init__(self, v1, v2):\n",
    "        self.v1 = v1\n",
    "        self.v2 = v2\n",
    " \n",
    "    def add(self):\n",
    "        return self.v1+self.v2\n",
    " \n",
    "    def subtract(self):\n",
    "        return self.v1-self.v2\n",
    " \n",
    "c1 = Cal(10,10)\n",
    "print(c1.add())\n",
    "print(c1.subtract())\n",
    "\n",
    "c2 = Cal(30,20)\n",
    "print(c2.add())\n",
    "print(c2.subtract())\n",
    "```"
   ]
  },
  {
   "cell_type": "markdown",
   "metadata": {},
   "source": [
    "## 인스턴스 변수의 특징: 외부 접근성\n",
    "\n",
    "인스턴스 변수에 대한 접근성을 관리하는 방식이 파이썬과 루비가 서로 반대되는 방식을 취한다.\n",
    "\n",
    "* 루비: 인스턴스 외부에서의 접근을 원천적으로 금지하며, 지정한 변수에 대해서만 접근을 허용한다.\n",
    "* 파이썬: 인스턴스 외부에서의 접근을 기본적으로 허용하며, 지정한 변수에 대해서만 접근을 금지한다."
   ]
  },
  {
   "cell_type": "markdown",
   "metadata": {},
   "source": [
    "### 루비: 인스턴스 변수 외부 접근성\n",
    "\n",
    "루비는 인스턴스 변수에 대한 외부에서의 접근을 기본적으로 금지시킨다.\n",
    "\n",
    "아래 코드는 `c1` 인스턴스의 `value` 변수의 값을 변경하려고 할 때 오류가 발생하는 것을 보여준다."
   ]
  },
  {
   "cell_type": "code",
   "execution_count": 1,
   "metadata": {},
   "outputs": [
    {
     "name": "stderr",
     "output_type": "stream",
     "text": [
      "-:10:in `<main>': undefined method `value=' for #<C:0x007fed9a9488a8 @value=10> (NoMethodError)\n"
     ]
    }
   ],
   "source": [
    "%%ruby\n",
    "class C\n",
    "\n",
    "    def initialize(v)\n",
    "        @value = v\n",
    "    end\n",
    "\n",
    "end\n",
    "\n",
    "c1 = C.new(10)\n",
    "c1.value = 20"
   ]
  },
  {
   "cell_type": "markdown",
   "metadata": {},
   "source": [
    "아래 코드는 심지어 읽기도 불가능함을 보여준다."
   ]
  },
  {
   "cell_type": "code",
   "execution_count": 2,
   "metadata": {},
   "outputs": [
    {
     "name": "stderr",
     "output_type": "stream",
     "text": [
      "-:10:in `<main>': undefined local variable or method `value' for main:Object (NameError)\n"
     ]
    }
   ],
   "source": [
    "%%ruby\n",
    "class C\n",
    "\n",
    "    def initialize(v)\n",
    "        @value = v\n",
    "    end\n",
    "\n",
    "end\n",
    "\n",
    "c1 = C.new(10)\n",
    "p value"
   ]
  },
  {
   "cell_type": "markdown",
   "metadata": {},
   "source": [
    "### 파이썬: 인스턴스 변수 내부 접근성\n",
    "\n",
    "파이썬은 인스턴스 변수에 대한 외부에서의 접근을 기본적으로 허용한다."
   ]
  },
  {
   "cell_type": "code",
   "execution_count": 3,
   "metadata": {},
   "outputs": [
    {
     "name": "stdout",
     "output_type": "stream",
     "text": [
      "10\n",
      "20\n"
     ]
    }
   ],
   "source": [
    "class C(object):\n",
    "\n",
    "    def __init__(self, v):\n",
    "        self.value = v\n",
    "\n",
    "c1 = C(10)\n",
    "print(c1.value)\n",
    "c1.value = 20\n",
    "print(c1.value)"
   ]
  },
  {
   "cell_type": "markdown",
   "metadata": {},
   "source": [
    "## 인스턴스 변수의 특징: 내부 접근성\n",
    "\n",
    "인스턴스 변수는 생성된 인스턴스 내부 어느 곳에서도 사용될 수 있다."
   ]
  },
  {
   "cell_type": "markdown",
   "metadata": {},
   "source": [
    "### 루비: 인스턴스 변수 내부 접근성\n",
    "\n",
    "아래 코드는 `c1` 인스턴스의 `value` 변수의 값을 `show` 인스턴스 메소드가 활용하는 것을 보여준다."
   ]
  },
  {
   "cell_type": "code",
   "execution_count": 4,
   "metadata": {},
   "outputs": [
    {
     "name": "stdout",
     "output_type": "stream",
     "text": [
      "10\n"
     ]
    }
   ],
   "source": [
    "%%ruby\n",
    "class C\n",
    "\n",
    "    def initialize(v)\n",
    "        @value = v\n",
    "    end\n",
    "\n",
    "    def show()\n",
    "        p @value\n",
    "    end\n",
    "\n",
    "end\n",
    "\n",
    "c1 = C.new(10)\n",
    "c1.show()"
   ]
  },
  {
   "cell_type": "markdown",
   "metadata": {},
   "source": [
    "### 루비: 인스턴스 변수 내부 접근성\n",
    "\n",
    "아래 코드는 `c1` 인스턴스의 `value` 변수의 값을 `show` 인스턴스 메소드가 활용하는 것을 보여준다."
   ]
  },
  {
   "cell_type": "code",
   "execution_count": 5,
   "metadata": {},
   "outputs": [
    {
     "name": "stdout",
     "output_type": "stream",
     "text": [
      "10\n"
     ]
    }
   ],
   "source": [
    "class C(object):\n",
    "\n",
    "    def __init__(self, v):\n",
    "        self.value = v\n",
    "    def show(self):\n",
    "        print(self.value)\n",
    "        \n",
    "c1 = C(10)\n",
    "c1.show()"
   ]
  },
  {
   "cell_type": "markdown",
   "metadata": {},
   "source": [
    "## 인스턴스 변수의 특징: 외부 접근성 조절\n",
    "\n",
    "인스턴스 변수에 대한 외부 접근성을 관리할 수 있다.\n",
    "\n",
    "* 루비: `attr_reader`, `attr_writer`, `attr_accessor` 등의 __접근제어자__를 이용하여\n",
    "    각각 읽기, 쓰기, 읽기/쓰기 접근성을 지정할 수 있다.\n",
    "* 파이썬: 변수 이름 앞에 언드스코어 두 개를 붙히면 외부 접근을 금지한다."
   ]
  },
  {
   "cell_type": "markdown",
   "metadata": {},
   "source": [
    "### 루비 접근 제어자 활용"
   ]
  },
  {
   "cell_type": "code",
   "execution_count": 6,
   "metadata": {},
   "outputs": [
    {
     "name": "stdout",
     "output_type": "stream",
     "text": [
      "10\n",
      "20\n"
     ]
    }
   ],
   "source": [
    "%%ruby\n",
    "\n",
    "class C\n",
    "  # attr_reader :value\n",
    "  # attr_writer :value\n",
    "  attr_accessor :value\n",
    "  def initialize(v)\n",
    "    @value = v\n",
    "  end\n",
    "end\n",
    "\n",
    "c1 = C.new(10)\n",
    "p c1.value\n",
    "c1.value = 20\n",
    "p c1.value"
   ]
  },
  {
   "cell_type": "markdown",
   "metadata": {},
   "source": [
    "### 파이썬 접근 금지 인스턴스 변수 활용"
   ]
  },
  {
   "cell_type": "code",
   "execution_count": 7,
   "metadata": {},
   "outputs": [
    {
     "ename": "AttributeError",
     "evalue": "'C' object has no attribute '__value'",
     "output_type": "error",
     "traceback": [
      "\u001b[0;31m---------------------------------------------------------------------------\u001b[0m",
      "\u001b[0;31mAttributeError\u001b[0m                            Traceback (most recent call last)",
      "\u001b[0;32m<ipython-input-7-417510a9b8fa>\u001b[0m in \u001b[0;36m<module>\u001b[0;34m()\u001b[0m\n\u001b[1;32m      3\u001b[0m         \u001b[0mself\u001b[0m\u001b[0;34m.\u001b[0m\u001b[0m__value\u001b[0m \u001b[0;34m=\u001b[0m \u001b[0mv\u001b[0m\u001b[0;34m\u001b[0m\u001b[0m\n\u001b[1;32m      4\u001b[0m \u001b[0mc1\u001b[0m \u001b[0;34m=\u001b[0m \u001b[0mC\u001b[0m\u001b[0;34m(\u001b[0m\u001b[0;36m10\u001b[0m\u001b[0;34m)\u001b[0m\u001b[0;34m\u001b[0m\u001b[0m\n\u001b[0;32m----> 5\u001b[0;31m \u001b[0mprint\u001b[0m\u001b[0;34m(\u001b[0m\u001b[0mc1\u001b[0m\u001b[0;34m.\u001b[0m\u001b[0m__value\u001b[0m\u001b[0;34m)\u001b[0m\u001b[0;34m\u001b[0m\u001b[0m\n\u001b[0m",
      "\u001b[0;31mAttributeError\u001b[0m: 'C' object has no attribute '__value'"
     ]
    }
   ],
   "source": [
    "class C(object):\n",
    "    def __init__(self, v):\n",
    "        self.__value = v\n",
    "c1 = C(10)\n",
    "print(c1.__value)"
   ]
  },
  {
   "cell_type": "markdown",
   "metadata": {},
   "source": [
    "## 인스턴스 변수 활용법: `set`/`get` 메소드 활용\n",
    "\n",
    "인스턴스 변수를 직접 접근하여 활용하는 보안상 문제가 될 수 있다.\n",
    "따라서 앞서 예를 든 `show` 메소드 처럼 인스턴스 변수를 외부에 노출시키지 않으면서\n",
    "인스턴스 변수에 대한 정보를 확인하거나 수정하는 방식이 보다 일반적으로 추천된다.\n",
    "이렇듯 인스턴스 변수의 정보를 확인하거나 수정하는 것을 도와주는 기능을 가진\n",
    "메소드를 관용적으로 __셋(set)/겟(get) 메소드__ 또는 __세터(setter)/게터(getter) 메소드__라 부른다.\n",
    "\n",
    "* 게터(getter) 메소드: 지정된 인스턴스 변수의 값을 리턴한다.\n",
    "* 세터(setter) 메소드: 지정된 인스턴스 변수의 값을 변경한다.\n",
    "\n",
    "예를 들어, 앞서 사용된 `show` 메소드는 `value` 변수에 대한 일종의 게터 메소드 역할을 수행한다."
   ]
  },
  {
   "cell_type": "markdown",
   "metadata": {},
   "source": [
    "### 루비에서 세터/게터 메소드 활용"
   ]
  },
  {
   "cell_type": "markdown",
   "metadata": {},
   "source": [
    "아래 코드는 `v1` 인스턴스 변수에 대한 세터/게터 메소드의 활용을 보여준다.\n",
    "특히, 세터 메소드의 경우 `v1` 변수에 대한 읽기 기능이 `attr_writer` 키워드에 의해\n",
    "추가되었기에 실행할 때 오류가 발생하지 않는다."
   ]
  },
  {
   "cell_type": "code",
   "execution_count": 8,
   "metadata": {},
   "outputs": [
    {
     "name": "stdout",
     "output_type": "stream",
     "text": [
      "20\n",
      "0\n",
      "30\n"
     ]
    }
   ],
   "source": [
    "%%ruby\n",
    "\n",
    "class Cal\n",
    "    attr_reader :v1, :v2\n",
    "    attr_writer :v1\n",
    "\n",
    "    def initialize(v1,v2)\n",
    "        @v1 = v1\n",
    "        @v2 = v2\n",
    "    end\n",
    "\n",
    "    def add()\n",
    "        return @v1+@v2\n",
    "    end\n",
    "\n",
    "    def subtract()\n",
    "        return @v1-@v2\n",
    "    end\n",
    "\n",
    "    def setV1(v)\n",
    "        if v.is_a?(Integer)\n",
    "            @v1 = v\n",
    "        end\n",
    "    end\n",
    "\n",
    "    def getV1()\n",
    "        return @v1\n",
    "    end\n",
    "end\n",
    "\n",
    "c1 = Cal.new(10,10)\n",
    "\n",
    "p c1.add()\n",
    "p c1.subtract()\n",
    "\n",
    "c1.setV1('one')\n",
    "c1.v1 = 20\n",
    "\n",
    "p c1.add()\n",
    "c1.getV1()"
   ]
  },
  {
   "cell_type": "markdown",
   "metadata": {},
   "source": [
    "### 파이썬에서 세터/게터 메소드 활용"
   ]
  },
  {
   "cell_type": "markdown",
   "metadata": {},
   "source": [
    "아래 코드는 `v1` 인스턴스 변수에 대한 세터/게터 메소드의 활용을 보여준다."
   ]
  },
  {
   "cell_type": "code",
   "execution_count": 9,
   "metadata": {},
   "outputs": [
    {
     "name": "stdout",
     "output_type": "stream",
     "text": [
      "20\n",
      "0\n",
      "40\n",
      "-20\n"
     ]
    }
   ],
   "source": [
    "class Cal(object):\n",
    "    def __init__(self, v1, v2):\n",
    "        if isinstance(v1, int):\n",
    "            self.v1 = v1\n",
    "        if isinstance(v2, int):\n",
    "            self.v2 = v2\n",
    "\n",
    "    def add(self):\n",
    "        return self.v1+self.v2\n",
    "\n",
    "    def subtract(self):\n",
    "        return self.v1-self.v2\n",
    "\n",
    "    def setV1(self, v):\n",
    "        if isinstance(v, int):\n",
    "            self.v1 = v\n",
    "\n",
    "    def getV1(self):\n",
    "        return self.v1\n",
    "\n",
    "c1 = Cal(10,10)\n",
    "\n",
    "print(c1.add())\n",
    "print(c1.subtract())\n",
    "\n",
    "c1.setV1('one')\n",
    "c1.v2 = 30\n",
    "\n",
    "print(c1.add())\n",
    "print(c1.subtract())"
   ]
  }
 ],
 "metadata": {
  "kernelspec": {
   "display_name": "Python 3",
   "language": "python",
   "name": "python3"
  },
  "language_info": {
   "codemirror_mode": {
    "name": "ipython",
    "version": 3
   },
   "file_extension": ".py",
   "mimetype": "text/x-python",
   "name": "python",
   "nbconvert_exporter": "python",
   "pygments_lexer": "ipython3",
   "version": "3.6.3"
  }
 },
 "nbformat": 4,
 "nbformat_minor": 2
}
