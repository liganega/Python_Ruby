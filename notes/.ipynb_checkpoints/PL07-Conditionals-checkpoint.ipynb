{
 "cells": [
  {
   "cell_type": "markdown",
   "metadata": {},
   "source": [
    "# 조건문"
   ]
  },
  {
   "cell_type": "markdown",
   "metadata": {},
   "source": [
    "불리언 표현식의 진리값에 따라 다른 일을 지정하는 명령문을 나타냄."
   ]
  },
  {
   "cell_type": "markdown",
   "metadata": {},
   "source": [
    "## 양식 1\n",
    "\n",
    "특정 조건이 참일 때만 중요한 경우 사용\n",
    "\n",
    "* 파이썬\n",
    "```python\n",
    "if 불리언표현식:\n",
    "    코드\n",
    "```\n",
    "**주의:** 들여쓰기 의무\n",
    "<br><br>\n",
    "* 루비\n",
    "```ruby\n",
    "if 불리언표현식\n",
    "    코드\n",
    "end\n",
    "```\n",
    "**주의:** 들여쓰기 의무 아니지만 권장"
   ]
  },
  {
   "cell_type": "markdown",
   "metadata": {},
   "source": [
    "## 양식 2\n",
    "\n",
    "특정 조건이 참일 때와 그렇지 않을 때 모두 다루고자 할 경우 사용\n",
    "\n",
    "* 파이썬\n",
    "```python\n",
    "if 불리언표현식:\n",
    "    코드1\n",
    "else:\n",
    "    코드2\n",
    "```\n",
    "**주의:** `else` 부분은 `if`와 함께 사용된 불리언 표현식의 반대 값이 적용되는 경우임.\n",
    "<br><br>\n",
    "* 루비\n",
    "```ruby\n",
    "if 불리언표현식\n",
    "    코드1\n",
    "else\n",
    "    코드2\n",
    "end\n",
    "```\n",
    "**주의:** `else` 부분은 `if`와 함께 사용된 불리언 표현식의 반대 값이 적용되는 경우임."
   ]
  },
  {
   "cell_type": "markdown",
   "metadata": {},
   "source": [
    "## 양식 3\n",
    "\n",
    "다루어야 하는 경우가 여러 조건으로 나누어지는 경우\n",
    "* 파이썬\n",
    "```python\n",
    "if 불리언표현식1:\n",
    "    코드1\n",
    "elif 불리언표현식2:\n",
    "    코드2\n",
    "elif 불리언표현식3:\n",
    "    코드3\n",
    "등등\n",
    "else:\n",
    "    코드n\n",
    "```\n",
    "**주의:** `else` 부분은 `if`와 함께 사용된 불리언 표현식의 반대 값이 적용되는 경우임.\n",
    "<br><br>\n",
    "* 루비\n",
    "```ruby\n",
    "if 불리언표현식1\n",
    "    코드1\n",
    "elsif 불리언표현식2:\n",
    "    코드2\n",
    "elsif 불리언표현식3:\n",
    "    코드3\n",
    "등등\n",
    "else\n",
    "    코드n\n",
    "end\n",
    "```\n",
    "**주의:** `else` 부분은 `if`와 함께 사용된 불리언 표현식의 반대 값이 적용되는 경우임."
   ]
  }
 ],
 "metadata": {
  "kernelspec": {
   "display_name": "Python 3",
   "language": "python",
   "name": "python3"
  },
  "language_info": {
   "codemirror_mode": {
    "name": "ipython",
    "version": 3
   },
   "file_extension": ".py",
   "mimetype": "text/x-python",
   "name": "python",
   "nbconvert_exporter": "python",
   "pygments_lexer": "ipython3",
   "version": "3.6.3"
  }
 },
 "nbformat": 4,
 "nbformat_minor": 2
}
