{
 "cells": [
  {
   "cell_type": "markdown",
   "metadata": {},
   "source": [
    "# 객체지향 프로그래밍: 모듈과 클래스"
   ]
  },
  {
   "cell_type": "markdown",
   "metadata": {},
   "source": [
    "파이썬과 루비 언어의 모듈은 클래스 선언을 포함하여 임의의 코드가 저장된다.\n",
    "두 언어의 모듈 사용방법은 거의 비슷하지만 양식 면에서 약간 다르다. \n",
    "먼저, 이전에 살펴 본 대로 파이썬은 말 그대로 임의의 파이썬 코드를 저장한 파이썬 코드 파일이다.\n",
    "반면에 루비의 모듈 파일은 `module` 키워드로 시작해야 하며 모듈 이름은 해당 모듈을 저장한 파일의 이름과 동일해야 한다.\n",
    "여기서는 모듈 내에 포함된 클래스를 호출하여 인스턴스를 생성하는 방법의 차이점을 예를 통해 보이고자 한다."
   ]
  },
  {
   "cell_type": "markdown",
   "metadata": {},
   "source": [
    "## 모듈 내의 클래스 호출 방법"
   ]
  },
  {
   "cell_type": "markdown",
   "metadata": {},
   "source": [
    "&nbsp; &nbsp; &nbsp; &nbsp; &nbsp; &nbsp; 구분 &nbsp; &nbsp; &nbsp; &nbsp; &nbsp; &nbsp; | &nbsp; &nbsp; &nbsp; &nbsp; &nbsp; &nbsp; &nbsp; &nbsp; &nbsp; &nbsp; &nbsp; &nbsp; &nbsp; &nbsp; &nbsp; Python &nbsp; &nbsp; &nbsp; &nbsp; &nbsp; &nbsp; &nbsp; &nbsp; &nbsp; &nbsp; &nbsp; &nbsp; &nbsp; &nbsp; &nbsp; | &nbsp; &nbsp; &nbsp; &nbsp; &nbsp; &nbsp; &nbsp; &nbsp; &nbsp; &nbsp; &nbsp; &nbsp; &nbsp; &nbsp; &nbsp; Ruby &nbsp; &nbsp; &nbsp; &nbsp; &nbsp; &nbsp; &nbsp; &nbsp; &nbsp; &nbsp; &nbsp; &nbsp; &nbsp; &nbsp; &nbsp;\n",
    ":----------:| :------------------------------|:------------------------------\n",
    " 모듈내 클래스 호출방법   | `import 모듈명`          | `require_relative '모듈명'`\n",
    "                     |                        | 또는 `require '경로/모듈명'`\n",
    "                     | `모듈명.클래스명(인자,...)` | `모듈명::클래스명.new(인자, ...)`"
   ]
  },
  {
   "cell_type": "markdown",
   "metadata": {},
   "source": [
    "**주의:** 루비의 `require_relative`와 `require`의 차이점\n",
    "\n",
    "* `require_relaive`: 루비 파일 내에서 사용\n",
    "    * 작성중인 루비 파일 기준으로 상대 경로 활용\n",
    "* `require`: 루비 파일 뿐만 아니라 터미널 등에서 디렉토리의 상대 및 절대 경로를 사용하는 경우 사용"
   ]
  },
  {
   "cell_type": "markdown",
   "metadata": {},
   "source": [
    "## 모듈 내 클래스 활용 예제"
   ]
  },
  {
   "cell_type": "markdown",
   "metadata": {},
   "source": [
    "### 파이썬 예제"
   ]
  },
  {
   "cell_type": "markdown",
   "metadata": {},
   "source": [
    "여기서는 아래 내용을 담은 `lib.py` 파일이 현재 작업 디렉토리(cwd)의 하위 디렉토리인 `codes` 디렉토리에 저장되 있다고 가정한다.\n",
    "\n",
    "```python\n",
    "class A:\n",
    "    def a(self):\n",
    "        return 'a'\n",
    "```\n",
    "\n",
    "`lib` 모듈의 `A` 클래스 호출하여 활용하는 방법은 다음과 같다."
   ]
  },
  {
   "cell_type": "code",
   "execution_count": 1,
   "metadata": {},
   "outputs": [
    {
     "name": "stdout",
     "output_type": "stream",
     "text": [
      "a\n"
     ]
    }
   ],
   "source": [
    "import codes.lib as lib\n",
    "obj = lib.A()\n",
    "\n",
    "print(obj.a())"
   ]
  },
  {
   "cell_type": "markdown",
   "metadata": {},
   "source": [
    "### 루비 예제"
   ]
  },
  {
   "cell_type": "markdown",
   "metadata": {},
   "source": [
    "여기서는 아래 내용을 담은 `lib.rb` 파일이 현재 작업 디렉토리(cwd)의 하위 디렉토리인 `codes` 디렉토리에 저장되 있다고 가정한다.\n",
    "\n",
    "```ruby\n",
    "module Lib\n",
    "    class A\n",
    "        def a()\n",
    "            return 'a'\n",
    "        end\n",
    "    end\n",
    "end\n",
    "```\n",
    "\n",
    "`lib` 모듈의 `A` 클래스 호출하여 활용하는 방법은 다음과 같다."
   ]
  },
  {
   "cell_type": "markdown",
   "metadata": {},
   "source": [
    "#### `require` 사용 예제 1\n",
    "\n",
    "`LOAD_PATH`에 현재 작업 디렉토리를 지정한 후에 `require` 와 상대경로를 사용하는 방법은 다음과 같다."
   ]
  },
  {
   "cell_type": "code",
   "execution_count": 2,
   "metadata": {},
   "outputs": [
    {
     "name": "stdout",
     "output_type": "stream",
     "text": [
      "\"a\"\n"
     ]
    }
   ],
   "source": [
    "%%ruby\n",
    "$LOAD_PATH << '.'\n",
    "require 'codes/lib'\n",
    "obj = Lib::A.new()\n",
    "\n",
    "p obj.a()\n"
   ]
  },
  {
   "cell_type": "markdown",
   "metadata": {},
   "source": [
    "#### `require` 사용 예제 2\n",
    "\n",
    "`require`와 절대경로를 사용하는 방법은 다음과 같다."
   ]
  },
  {
   "cell_type": "code",
   "execution_count": 3,
   "metadata": {},
   "outputs": [
    {
     "name": "stdout",
     "output_type": "stream",
     "text": [
      "\"a\"\n"
     ]
    }
   ],
   "source": [
    "%%ruby\n",
    "require './codes/lib'\n",
    "obj = Lib::A.new()\n",
    "\n",
    "p obj.a()"
   ]
  },
  {
   "cell_type": "markdown",
   "metadata": {},
   "source": [
    "#### `require_relative` 사용 예제\n",
    "\n",
    "아래 내용을 독립된 루비 파일로 저장할 때 `require_relative`와 상대경로 사용이 가능하다.\n",
    "\n",
    "```ruby\n",
    "require 'codes/lib'\n",
    "obj = Lib::A.new()\n",
    "\n",
    "p obj.a()\n",
    "```"
   ]
  }
 ],
 "metadata": {
  "kernelspec": {
   "display_name": "Python 3",
   "language": "python",
   "name": "python3"
  },
  "language_info": {
   "codemirror_mode": {
    "name": "ipython",
    "version": 3
   },
   "file_extension": ".py",
   "mimetype": "text/x-python",
   "name": "python",
   "nbconvert_exporter": "python",
   "pygments_lexer": "ipython3",
   "version": "3.6.3"
  }
 },
 "nbformat": 4,
 "nbformat_minor": 2
}
