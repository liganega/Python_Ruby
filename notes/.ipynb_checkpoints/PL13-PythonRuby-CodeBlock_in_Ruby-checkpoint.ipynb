{
 "cells": [
  {
   "cell_type": "markdown",
   "metadata": {},
   "source": [
    "# 루비 언어의 코드블럭(code block) 활용 기초"
   ]
  },
  {
   "cell_type": "markdown",
   "metadata": {},
   "source": [
    "특정 코드의 모둠을 __코드블록__ 이라 부른다. \n",
    "코드블록은 항상 해당 코드블록을 어떤 방식으로 활용할지를 담은 지침서와 함께 사용된다.\n",
    "\n",
    "여기서는 코드블록을 선언하는 방식과 함께 코드블록의 기초적인 활용예제를 살펴본다.\n",
    "\n",
    "**안내:** \n",
    "[Mastering ruby blocks in less than 5 minutes](https://mixandgo.com/blog/mastering-ruby-blocks-in-less-than-5-minutes) \n",
    "내용을 요약/수정하였음."
   ]
  },
  {
   "cell_type": "markdown",
   "metadata": {},
   "source": [
    "## 코드블럭 선언하기\n",
    "\n",
    "두 가지 방식이 있다.\n",
    "\n",
    "1. `do`와 `end`로 감싸기: 여러 줄을 코드블럭으로 지정할 때 추천\n",
    "    ```ruby\n",
    "    do\n",
    "        puts '5 times'\n",
    "    end\n",
    "    ```\n",
    "1. 중괄호(`{ }`)로 감싸기: 한 줄 코드를 블럭으로 지정할 때 추천\n",
    "    ```ruby\n",
    "    {puts '5 times'}\n",
    "    ```\n",
    "\n",
    "두 방식은 동일한 일을 수행하며 어느 방식을 사용할지는 일반적으로 코드블록의 길이에 의존한다."
   ]
  },
  {
   "cell_type": "markdown",
   "metadata": {},
   "source": [
    "## 코드블럭 활용 기초"
   ]
  },
  {
   "cell_type": "markdown",
   "metadata": {},
   "source": [
    "코드블럭은 독립적으로 사용될 수 없다.\n",
    "대신에 해당 코드블럭 활용법을 담고 있는 일종의 지침서 역할을 수행하는 코드와 함께 사용된다."
   ]
  },
  {
   "cell_type": "markdown",
   "metadata": {},
   "source": [
    "### 예제: 단순 반복\n",
    "\n",
    "아래 코드에서 `5.times()`는 뒤에 따라오는 코드블록 내용을 다섯 번 반복하라는 지침서 역할을 수행한다.\n",
    "실제로는 한 가지 기능을 더 갖고 있으며 잠시 뒤에 추가로 설명한다."
   ]
  },
  {
   "cell_type": "code",
   "execution_count": 1,
   "metadata": {},
   "outputs": [
    {
     "name": "stdout",
     "output_type": "stream",
     "text": [
      "5 times\n",
      "5 times\n",
      "5 times\n",
      "5 times\n",
      "5 times\n"
     ]
    }
   ],
   "source": [
    "%%ruby\n",
    "5.times() {puts '5 times'}"
   ]
  },
  {
   "cell_type": "markdown",
   "metadata": {},
   "source": [
    "#### 주의사항\n",
    "* 루비에서 정수들 역시 정수(Integer) 클래스의 객체로 선언된다.\n",
    "* 따라서 `times`는 정수 클래스에서 선언된 메소드인데, 항상 코드블록과 함께 사용되는 특수한 메소드이다.\n",
    "    즉, 정수 클래스의 `times` 메소드는 항상 아래 형식으로 사용된다.\n",
    "    \n",
    "    ```ruby\n",
    "    정수.times() 코드블럭\n",
    "    ```"
   ]
  },
  {
   "cell_type": "markdown",
   "metadata": {},
   "source": [
    "## 코드블럭의 매개변수\n",
    "\n",
    "코드블럭에 인자를 넘겨주는 역할을 수행하는 매개변수를 사용할 수 있다. \n",
    "함수의 매개변수가 인자를 함수 본체에 넘겨주는 것처럼 인자를 코드블럭에 넘겨주는 역할을 수행한다."
   ]
  },
  {
   "cell_type": "markdown",
   "metadata": {},
   "source": [
    "### 예제: 단순 반복\n",
    "\n",
    "위 코드에서 사용한 `5.times()`는 두 가지 기능을 갖는 지침서이다.\n",
    "\n",
    "* 뒤 따라오는 코드블럭을 5번 반복 실행하라.\n",
    "* 그리고 뒤 따라오는 코드블럭을 실행할 때마다 0부터 4까지의 정수를 하나씩 차례대로 넘겨준다.\n",
    "\n",
    "따라서 `5.times()` 지침서가 코드블럭에 넘겨주는 값을 코드블럭에 전달해주는 기능이 필요한데,\n",
    "이 기능을 코드블럭의 매개변수가 수행한다.\n",
    "코드블럭의 매개변수는 파이프(짝대기) 기호(`| |`)로 둘러싸인다."
   ]
  },
  {
   "cell_type": "markdown",
   "metadata": {},
   "source": [
    "이제 아래 코드를 이해할 수 있어야 한다.\n",
    "\n",
    "**주의:** 문자열 안에 있는 `#{표현식}`은 넘겨받은 표현식의 값으로 대체된다.\n",
    "여기서는 매개변수를 통해 코드블럭에 전달되는 값을 문자열 안에 넣는 기능으로 사용된다."
   ]
  },
  {
   "cell_type": "code",
   "execution_count": 2,
   "metadata": {},
   "outputs": [
    {
     "name": "stdout",
     "output_type": "stream",
     "text": [
      "0th time\n",
      "1th time\n",
      "2th time\n",
      "3th time\n",
      "4th time\n"
     ]
    }
   ],
   "source": [
    "%%ruby\n",
    "5.times() {|num| puts \"#{num}th time\"}"
   ]
  },
  {
   "cell_type": "markdown",
   "metadata": {},
   "source": [
    "위 코드를 `for ... in ...` 또는 `while` 반복문으로 구현할 수 있다."
   ]
  },
  {
   "cell_type": "code",
   "execution_count": 3,
   "metadata": {},
   "outputs": [
    {
     "name": "stdout",
     "output_type": "stream",
     "text": [
      "0th time\n",
      "1th time\n",
      "2th time\n",
      "3th time\n",
      "4th time\n"
     ]
    }
   ],
   "source": [
    "%%ruby\n",
    "for num in 0..4 do\n",
    "    puts \"#{num}th time\"\n",
    "end"
   ]
  },
  {
   "cell_type": "code",
   "execution_count": 4,
   "metadata": {},
   "outputs": [
    {
     "name": "stdout",
     "output_type": "stream",
     "text": [
      "0 times\n",
      "1 times\n",
      "2 times\n",
      "3 times\n",
      "4 times\n"
     ]
    }
   ],
   "source": [
    "%%ruby \n",
    "\n",
    "num = 0\n",
    "while num < 5 do\n",
    "    puts \"#{num} times\"\n",
    "    num += 1\n",
    "end"
   ]
  },
  {
   "cell_type": "markdown",
   "metadata": {},
   "source": [
    "### 예제: `upto` 메소드 활용\n",
    "\n",
    "정수 클래스의 `times` 메소드와 비슷한 기능을 수행하는 `upto` 메소드 활용을 살펴 본다.\n",
    "\n",
    "아래 코드는 3부터 5까지의 수를 차례대로 코드블럭에 넘겨주면서 총 3번 코드블럭을 실행한다."
   ]
  },
  {
   "cell_type": "code",
   "execution_count": 5,
   "metadata": {},
   "outputs": [
    {
     "name": "stdout",
     "output_type": "stream",
     "text": [
      "3\n",
      "4\n",
      "5\n"
     ]
    }
   ],
   "source": [
    "%%ruby\n",
    "3.upto(5) do |num|\n",
    "    puts num\n",
    "end"
   ]
  },
  {
   "cell_type": "markdown",
   "metadata": {},
   "source": [
    "위 코드 또한 `for` 또는 `while` 반복문으로 구현할 수 있다."
   ]
  },
  {
   "cell_type": "code",
   "execution_count": 6,
   "metadata": {},
   "outputs": [
    {
     "name": "stdout",
     "output_type": "stream",
     "text": [
      "3\n",
      "4\n",
      "5\n"
     ]
    }
   ],
   "source": [
    "%%ruby\n",
    "for num in 3..5 do\n",
    "    puts num\n",
    "end"
   ]
  },
  {
   "cell_type": "code",
   "execution_count": 7,
   "metadata": {},
   "outputs": [
    {
     "name": "stdout",
     "output_type": "stream",
     "text": [
      "3\n",
      "4\n",
      "5\n"
     ]
    }
   ],
   "source": [
    "%%ruby\n",
    "num = 3\n",
    "while num <=5 do\n",
    "    puts num\n",
    "    num += 1\n",
    "end"
   ]
  },
  {
   "cell_type": "markdown",
   "metadata": {},
   "source": [
    "## 배열과 코드블럭"
   ]
  },
  {
   "cell_type": "markdown",
   "metadata": {},
   "source": [
    "정수 클래스의 `times`, `upto` 메소드가 코드블럭과 함께 사용되는 것처럼\n",
    "배열의 특정 메소드들도 코드블럭과 함께 사용된다."
   ]
  },
  {
   "cell_type": "markdown",
   "metadata": {},
   "source": [
    "### 예제: `each` 메소드\n",
    "\n",
    "배열 클래스의 `each` 메소드의 활용은 정수 클래스의 `times`, `upto` 메소드의 활용과 거의 비슷하다."
   ]
  },
  {
   "cell_type": "code",
   "execution_count": 8,
   "metadata": {},
   "outputs": [
    {
     "name": "stdout",
     "output_type": "stream",
     "text": [
      "Number 1\n",
      "Number 2\n",
      "Number 3\n"
     ]
    }
   ],
   "source": [
    "%%ruby\n",
    "[1, 2, 3].each() {|item| puts \"Number #{item}\"}"
   ]
  },
  {
   "cell_type": "markdown",
   "metadata": {},
   "source": [
    "__주의:__ 루비의 함수는 소괄호(`( )`)를 생략하고 호출해도 된다. \n",
    "아래 코드에서는 `each` 메소드가 소괄호 없시 호출되었다."
   ]
  },
  {
   "cell_type": "code",
   "execution_count": 9,
   "metadata": {},
   "outputs": [
    {
     "name": "stdout",
     "output_type": "stream",
     "text": [
      "Number 1\n",
      "Number 2\n",
      "Number 3\n"
     ]
    }
   ],
   "source": [
    "%%ruby\n",
    "[1, 2, 3].each {|item| puts \"Number #{item}\"}"
   ]
  },
  {
   "cell_type": "markdown",
   "metadata": {},
   "source": [
    "즉, `each` 메소드는 어레이의 각각의 항목을 뒤 따라오는 코드블럭에 차례대로 넘겨주면서 코드블럭을 실행한다.\n",
    "따라서 아래와 같이 `for ... in ...` 반복문으로 쉽게 표현할 수 있다."
   ]
  },
  {
   "cell_type": "code",
   "execution_count": 10,
   "metadata": {},
   "outputs": [
    {
     "name": "stdout",
     "output_type": "stream",
     "text": [
      "Number 1\n",
      "Number 2\n",
      "Number 3\n"
     ]
    }
   ],
   "source": [
    "%%ruby\n",
    "for item in [1, 2,3] do\n",
    "    puts \"Number #{item}\"\n",
    "end"
   ]
  },
  {
   "cell_type": "markdown",
   "metadata": {},
   "source": [
    "### 예제: `delete_if` 메소드\n",
    "\n",
    "배열 클래스의 `delete_if` 메소드는 뒤에 따라오는 코드블럭의 리턴값을 활용하며,\n",
    "리턴값은 `true` 또는 `false`의 값을 갖는 표현식이이야 한다.\n",
    "그러면 `each` 메소드처럼 각각의 항목을 코드블럭에 넘겨준 후 코드블럭을 실행하여 얻은\n",
    "리턴값이 `true`이면 해당 항목을 배열에서 삭제한다.\n",
    "\n",
    "아래 코드는 배열에서 7보다 큰 정수를 모두 제거한 배열을 리턴한다."
   ]
  },
  {
   "cell_type": "code",
   "execution_count": 11,
   "metadata": {},
   "outputs": [
    {
     "name": "stdout",
     "output_type": "stream",
     "text": [
      "[1, 3, 7]"
     ]
    }
   ],
   "source": [
    "%%ruby\n",
    "arr = [1, 3, 56, 7, 13 , 52]\n",
    "arr.delete_if() do |item|\n",
    "    item > 7\n",
    "end\n",
    "\n",
    "print arr"
   ]
  },
  {
   "cell_type": "markdown",
   "metadata": {},
   "source": [
    "## 코드블럭의 리턴값\n",
    "\n",
    "코드블럭을 실행할 때 마지막으로 계산된 표현식의 값이 코드블럭의 값이다.\n",
    "\n",
    "위 코드에서 사용된 코드블럭에 사용된 코드는 다음과 같다.\n",
    "\n",
    "```ruby\n",
    "item > 7\n",
    "```\n",
    "\n",
    "그런데 `item > 7` 은 엄밀히 따지면 명령문이 아니라 단순한 표현식이다.\n",
    "하지만 루비에서는 `return` 키워드를 생략해도 된다는 사실을 기억해야 한다.\n",
    "따라서 위 코드는 아래 코드처럼 함수의 리턴값을 선언하는 것처럼 이해해야 한다.\n",
    "\n",
    "```ruby\n",
    "return item > 7\n",
    "```\n",
    "\n",
    "이제 아래 코드를 이해할 수 있다."
   ]
  },
  {
   "cell_type": "code",
   "execution_count": 12,
   "metadata": {},
   "outputs": [
    {
     "name": "stdout",
     "output_type": "stream",
     "text": [
      "[97, 75, 33, 87, 99]"
     ]
    }
   ],
   "source": [
    "%%ruby\n",
    "scores = [97, 42, 75, 33, 87, 99, 102]\n",
    "scores.delete_if do |score| \n",
    "    arity = score.remainder(2)\n",
    "    arity == 0\n",
    "end\n",
    "\n",
    "print scores"
   ]
  },
  {
   "cell_type": "markdown",
   "metadata": {},
   "source": [
    "즉, 위 코드는 배열에서 짝수 모두 제거한 배열을 리턴한다.\n",
    "\n",
    "**주의:** 코드블록의 리턴값을 표시하기 위해 `return` 키워드를 사용하면 오류가 발생한다."
   ]
  },
  {
   "cell_type": "code",
   "execution_count": 13,
   "metadata": {},
   "outputs": [
    {
     "name": "stderr",
     "output_type": "stream",
     "text": [
      "-:4:in `block in <main>': unexpected return (LocalJumpError)\n",
      "\tfrom -:2:in `delete_if'\n",
      "\tfrom -:2:in `<main>'\n"
     ]
    }
   ],
   "source": [
    "%%ruby\n",
    "scores = [97, 42, 75, 33, 87, 99, 102]\n",
    "scores.delete_if do |score| \n",
    "    arity = score.remainder(2)\n",
    "    return arity == 0\n",
    "end\n",
    "\n",
    "print scores"
   ]
  },
  {
   "cell_type": "markdown",
   "metadata": {},
   "source": [
    "## 참조 사이트\n",
    "\n",
    "1. 코드블럭의 보다 다양한 기능에 대한 설명은 아래 사이트에서 찾아볼 수 있다.\n",
    "    * https://mixandgo.com/blog/mastering-ruby-blocks-in-less-than-5-minutes\n",
    "1. 이어서 코드블럭의 기초 활용에 대한 비디오도 활용하면 좋다.\n",
    "    * https://www.youtube.com/watch?v=O3fU3gLSvsI\n",
    "    * https://www.youtube.com/watch?v=UogjRwGl7k0"
   ]
  }
 ],
 "metadata": {
  "kernelspec": {
   "display_name": "Python 3",
   "language": "python",
   "name": "python3"
  },
  "language_info": {
   "codemirror_mode": {
    "name": "ipython",
    "version": 3
   },
   "file_extension": ".py",
   "mimetype": "text/x-python",
   "name": "python",
   "nbconvert_exporter": "python",
   "pygments_lexer": "ipython3",
   "version": "3.6.3"
  }
 },
 "nbformat": 4,
 "nbformat_minor": 2
}
