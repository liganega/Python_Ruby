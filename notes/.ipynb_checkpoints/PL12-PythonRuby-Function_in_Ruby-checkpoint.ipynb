{
 "cells": [
  {
   "cell_type": "markdown",
   "metadata": {},
   "source": [
    "# 루비의 함수에서 일어나는 생략"
   ]
  },
  {
   "cell_type": "markdown",
   "metadata": {},
   "source": [
    "다음 두 가지 사항이 루비에서 함수를 정의하고 활용할 때 파이썬의 경우와 다르게 적용될 수 있다.\n",
    "\n",
    "1. 매개변수 선언 및 함수 인자 지정에 필요한 괄호 생략 가능\n",
    "1. `return` 키워드 생략 가능"
   ]
  },
  {
   "cell_type": "markdown",
   "metadata": {},
   "source": [
    "## 예제\n",
    "\n",
    "아래 예제들을 통해 함수 선언과 호출 시에 필요한 괄호와 `return` 키워드가 생략되었을 때의 \n",
    "경우를 다루는 방법을 연습한다."
   ]
  },
  {
   "cell_type": "markdown",
   "metadata": {},
   "source": [
    "* 함수선언 시에 매개변수가 필요하지 않아도 일반적으로 괄호를 요구한다."
   ]
  },
  {
   "cell_type": "code",
   "execution_count": 1,
   "metadata": {},
   "outputs": [
    {
     "name": "stdout",
     "output_type": "stream",
     "text": [
      "f1\n"
     ]
    }
   ],
   "source": [
    "%%ruby\n",
    "def f1()\n",
    "  return 'f1'\n",
    "end\n",
    "\n",
    "puts(f1())"
   ]
  },
  {
   "cell_type": "markdown",
   "metadata": {},
   "source": [
    "* 하지만 매개변수가 없으면 괄호를 아예 생략해도 된다."
   ]
  },
  {
   "cell_type": "code",
   "execution_count": 2,
   "metadata": {},
   "outputs": [
    {
     "name": "stdout",
     "output_type": "stream",
     "text": [
      "f2\n"
     ]
    }
   ],
   "source": [
    "%%ruby\n",
    "def f2\n",
    "  return 'f2'\n",
    "end\n",
    "\n",
    "puts(f2())"
   ]
  },
  {
   "cell_type": "markdown",
   "metadata": {},
   "source": [
    "* 심지어 함수 호출시에도 괄호를 생략해도 된다."
   ]
  },
  {
   "cell_type": "code",
   "execution_count": 3,
   "metadata": {},
   "outputs": [
    {
     "name": "stdout",
     "output_type": "stream",
     "text": [
      "f3\n"
     ]
    }
   ],
   "source": [
    "%%ruby\n",
    "def f3\n",
    "  return 'f3'\n",
    "end\n",
    "\n",
    "puts(f3)"
   ]
  },
  {
   "cell_type": "markdown",
   "metadata": {},
   "source": [
    "* 인자가 필요한 경우에는 일반적으로 괄호를 사용한다."
   ]
  },
  {
   "cell_type": "code",
   "execution_count": 4,
   "metadata": {},
   "outputs": [
    {
     "name": "stdout",
     "output_type": "stream",
     "text": [
      "f4\n"
     ]
    }
   ],
   "source": [
    "%%ruby\n",
    "def f4(a1)\n",
    "  return a1\n",
    "end\n",
    "\n",
    "puts(f4('f4'))"
   ]
  },
  {
   "cell_type": "markdown",
   "metadata": {},
   "source": [
    "* 하지만 인자가 필요한 경우에도 괄호를 언제나 생략할 수 있다.\n",
    "* **주의:** `puts`도 함수이며 인자를 괄호 없이 공백을 이용하여 사용할 수 있다."
   ]
  },
  {
   "cell_type": "code",
   "execution_count": 5,
   "metadata": {},
   "outputs": [
    {
     "name": "stdout",
     "output_type": "stream",
     "text": [
      "f5\n",
      "f5\n"
     ]
    }
   ],
   "source": [
    "%%ruby\n",
    "def f5 a1\n",
    "  return a1\n",
    "end\n",
    "\n",
    "puts(f5 'f5')\n",
    "puts f5 'f5'"
   ]
  },
  {
   "cell_type": "markdown",
   "metadata": {},
   "source": [
    "* 리턴값을 지정하기 위해 `return` 키워드가 일반적으로 요구된다."
   ]
  },
  {
   "cell_type": "code",
   "execution_count": 6,
   "metadata": {},
   "outputs": [
    {
     "name": "stdout",
     "output_type": "stream",
     "text": [
      "f6\n"
     ]
    }
   ],
   "source": [
    "%%ruby\n",
    "def f6\n",
    "  return 'f6'\n",
    "end\n",
    "\n",
    "puts f6"
   ]
  },
  {
   "cell_type": "markdown",
   "metadata": {},
   "source": [
    "* 하지만 루비의 경우 `return` 키워드를 생략해도 된다."
   ]
  },
  {
   "cell_type": "code",
   "execution_count": 7,
   "metadata": {},
   "outputs": [
    {
     "name": "stdout",
     "output_type": "stream",
     "text": [
      "f7\n"
     ]
    }
   ],
   "source": [
    "%%ruby\n",
    "def f7\n",
    "  'f7'\n",
    "end\n",
    "\n",
    "puts f7"
   ]
  },
  {
   "cell_type": "code",
   "execution_count": 8,
   "metadata": {},
   "outputs": [
    {
     "name": "stdout",
     "output_type": "stream",
     "text": [
      "3\n"
     ]
    }
   ],
   "source": [
    "%%ruby\n",
    "def f8\n",
    "  a = 1\n",
    "  b = 2\n",
    "  a + b\n",
    "end\n",
    "\n",
    "puts f8"
   ]
  },
  {
   "cell_type": "markdown",
   "metadata": {},
   "source": [
    "## 참고사항\n",
    "\n",
    "앞서 설명한 내용은 함수형 언어라고 불리는 프로그래밍언어들의 갖는 특징 중의 하나이다. \n",
    "함수형 언어에는 하스켈(Haskell), 오캐믈(Ocaml) 등이 있다."
   ]
  }
 ],
 "metadata": {
  "kernelspec": {
   "display_name": "Python 3",
   "language": "python",
   "name": "python3"
  },
  "language_info": {
   "codemirror_mode": {
    "name": "ipython",
    "version": 3
   },
   "file_extension": ".py",
   "mimetype": "text/x-python",
   "name": "python",
   "nbconvert_exporter": "python",
   "pygments_lexer": "ipython3",
   "version": "3.6.3"
  }
 },
 "nbformat": 4,
 "nbformat_minor": 2
}
