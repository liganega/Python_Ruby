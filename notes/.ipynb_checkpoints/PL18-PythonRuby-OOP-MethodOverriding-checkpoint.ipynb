{
 "cells": [
  {
   "cell_type": "markdown",
   "metadata": {},
   "source": [
    "# 객체지향 프로그래밍: 메소드 오버라이딩"
   ]
  },
  {
   "cell_type": "markdown",
   "metadata": {},
   "source": [
    "부모클래스의 메소드를 자식클래스에서 다시 정의하는 것을 __메소드 오버라이딩__이라고 한다.\n",
    "\n",
    "이전에 자식클래스의 생성자를 굳이 선언하지 않으면 부모클래스의 생성자를 그대로 이어받지만\n",
    "그렇지 않은 경우 동일 이름의 생성자를 자식클래스에서 다시 정의 하는 것을 보았다. \n",
    "또한 파이썬과 루비 두 언어 모두 부모클래스를 가리키는 `super` 함수를 사용한다. \n",
    "물론 `super`를 반드시 호출해야할 필요는 없지만, `super`를 사용하는 경우와 그렇지 않은 \n",
    "경우에 상속 관계에 제한을 가할 수 있음을 예제를 통해 살펴 보았다. \n",
    "\n",
    "생성자 이외의 다른 메소드는 `super`의 사용여부가 상속에 특별한 영향을 미치지는 않으며,\n",
    "편의에 따라 사용여부를 판단하면 된다. \n",
    "물론 `super` 함수를 최대한 사용한다면 이미 부모클래스에서 정의된 메소드를 재정의 할 때로 \n",
    "가능한 코드중복을 피할 수 있다. \n",
    "\n",
    "여기서는 `super`를 최대한 사용하는 `데코레이터 디지인패턴`을 계산기 클래스인 `Cal` 클래스를\n",
    "상속하는 과정에 적용하면서 메소드 오버라이딩 기능을 소개한다."
   ]
  },
  {
   "cell_type": "markdown",
   "metadata": {},
   "source": [
    "## 데코레이터 디자인 패턴\n",
    "\n",
    "인스턴스의 기능을 동적으로 자식클래스를 이용하여 확장하는 프로그래밍 기술이다.\n",
    "\n",
    "아래 코드는 `Cal` 클래스를 상속할 때마다 `info` 메소드의 기능이 확장되도록 구현되어 있다."
   ]
  },
  {
   "cell_type": "markdown",
   "metadata": {},
   "source": [
    "## 파이썬 데코레이터 디자인 패턴 예제\n",
    "\n",
    "**주의:** 부모클래스 소속 메소드 호출 방법\n",
    "\n",
    "```python\n",
    "super().메소드이름(인자, ...)\n",
    "```"
   ]
  },
  {
   "cell_type": "code",
   "execution_count": 1,
   "metadata": {},
   "outputs": [
    {
     "name": "stdout",
     "output_type": "stream",
     "text": [
      "Cal => v1 : 30, v2 : 60\n",
      "CalMultiply => Cal => v1 : 10, v2 : 10\n",
      "CalDivide => CalMultiply => Cal => v1 : 20, v2 : 10\n"
     ]
    }
   ],
   "source": [
    "class Cal(object):    \n",
    "    def __init__(self, v1, v2):\n",
    "        if isinstance(v1, int):\n",
    "            self.v1 = v1\n",
    "        if isinstance(v2, int):\n",
    "            self.v2 = v2\n",
    "            \n",
    "    def add(self):\n",
    "        result = self.v1+self.v2\n",
    "        return result\n",
    "    \n",
    "    def subtract(self):\n",
    "        result = self.v1-self.v2\n",
    "        return result\n",
    "\n",
    "    # info 메소드: 이후에 오버라이딩 될 예정임\n",
    "    def info(self):\n",
    "        return \"Cal => v1 : %d, v2 : %d\" % (self.v1, self.v2)\n",
    "    \n",
    "class CalMultiply(Cal):\n",
    "    def multiply(self):\n",
    "        result = self.v1*self.v2\n",
    "        return result\n",
    "    \n",
    "    # info 메소드 오버라이딩: super 값을 덧쒸운다.\n",
    "    def info(self):\n",
    "        return \"CalMultiply => %s\" % super().info()\n",
    "    \n",
    "class CalDivide(CalMultiply):\n",
    "    def divide(self):\n",
    "        result = self.v1/self.v2\n",
    "        return result\n",
    "    \n",
    "    # info 메소드 오버라이딩: super 값을 또다시 덧쒸운다.\n",
    "    def info(self):\n",
    "        return \"CalDivide => %s\" % super().info()\n",
    " \n",
    "c0 = Cal(30, 60)\n",
    "print(c0.info())\n",
    "c1 = CalMultiply(10,10)\n",
    "print(c1.info())\n",
    "c2 = CalDivide(20,10)\n",
    "print(c2.info())"
   ]
  },
  {
   "cell_type": "markdown",
   "metadata": {},
   "source": [
    "## 루비 데코레이터 디자인 패턴 예제\n",
    "\n",
    "**주의:** 자식클래스 메소드 본문에서 `super`만 사용하면 부모클래스 소속 동일 메소드를 호출함.\n",
    "\n",
    "```ruby\n",
    "super(인자, ...)\n",
    "```"
   ]
  },
  {
   "cell_type": "code",
   "execution_count": 2,
   "metadata": {},
   "outputs": [
    {
     "name": "stdout",
     "output_type": "stream",
     "text": [
      "\"Cal => v1 : 30, v2 : 60\"\n",
      "\"CalMultiply => Cal => v1 : 10, v2 : 10\"\n",
      "\"CalDivide => CalMultiply => Cal => v1 : 20, v2 : 10\"\n"
     ]
    }
   ],
   "source": [
    "%%ruby\n",
    "class Cal\n",
    "    attr_reader :v1, :v2\n",
    "    attr_writer :v1\n",
    "\n",
    "    def initialize(v1,v2)\n",
    "        @v1 = v1\n",
    "        @v2 = v2\n",
    "    end\n",
    "\n",
    "    def add()\n",
    "        result = @v1+@v2\n",
    "        return result\n",
    "    end\n",
    "\n",
    "    def subtract()\n",
    "        result = @v1-@v2\n",
    "        return result\n",
    "    end\n",
    "\n",
    "    # info 메소드: 이후에 오버라이딩 될 예정임\n",
    "    def info()\n",
    "        return \"Cal => v1 : #{@v1}, v2 : #{@v2}\"\n",
    "    end\n",
    "end\n",
    "\n",
    "class CalMultiply < Cal\n",
    "    def multiply()\n",
    "        result = @v1*@v2\n",
    "        return result\n",
    "    end\n",
    "\n",
    "    # info 메소드 오버라이딩: super 값을 덧쒸운다.\n",
    "    def info()\n",
    "        return \"CalMultiply => #{super()}\"\n",
    "    end\n",
    "end\n",
    "\n",
    "class CalDivide < CalMultiply\n",
    "    def divide()\n",
    "        result = @v1/@v2\n",
    "        return result\n",
    "    end\n",
    "\n",
    "    # info 메소드 오버라이딩: super 값을 또다시 덧쒸운다.\n",
    "    def info()\n",
    "        return \"CalDivide => #{super()}\"\n",
    "    end\n",
    "end\n",
    "\n",
    "c0 = Cal.new(30, 60)\n",
    "p c0.info()\n",
    "c1 = CalMultiply.new(10, 10)\n",
    "p c1.info()\n",
    "c2 = CalDivide.new(20, 10)\n",
    "p c2.info()"
   ]
  },
  {
   "cell_type": "markdown",
   "metadata": {},
   "source": [
    "## 연습문제"
   ]
  },
  {
   "cell_type": "markdown",
   "metadata": {},
   "source": [
    "1. 자바 언어의 오버라이딩에서 `super` 함수의 활용방법을 예제를 이용하여 설명하라."
   ]
  }
 ],
 "metadata": {
  "kernelspec": {
   "display_name": "Python 3",
   "language": "python",
   "name": "python3"
  },
  "language_info": {
   "codemirror_mode": {
    "name": "ipython",
    "version": 3
   },
   "file_extension": ".py",
   "mimetype": "text/x-python",
   "name": "python",
   "nbconvert_exporter": "python",
   "pygments_lexer": "ipython3",
   "version": "3.6.3"
  }
 },
 "nbformat": 4,
 "nbformat_minor": 2
}
