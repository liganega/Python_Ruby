{
 "cells": [
  {
   "cell_type": "markdown",
   "metadata": {},
   "source": [
    "# 프로그래밍언어 분류"
   ]
  },
  {
   "cell_type": "markdown",
   "metadata": {},
   "source": [
    "본문 내용을 이해하려면 프로그래밍언어론과 관련된 몇 가지 용어들의 개념을 확실하게 알고 있어야 한다.\n",
    "* 기계어(machine code): 컴퓨터 CPU에게 직접 명령을 내리는 언어\n",
    "    * 사람이 읽고 이해하기에는 매우 어려움\n",
    "    * 하지만 컴퓨터 CPU가 이해할 수 있는 언어이며 매우 빠르게 실행됨.\n",
    "    * 어셈블리어(Assembly language)와 함께 저수준(low-level) 언어라 불림\n",
    "* 소스 코드(source code): 특정 프로그래밍언어를 사용하여 사람이 작성한 코드 원본\n",
    "    * 일반적으로 C, Java, Python 등 고수준(high-level) 언어를 사용하여 작성\n",
    "    * 경우에 따라 실행되기 전에 기계어로 번역하는 과정이 필요할 수 있음\n",
    "* 컴파일(compilation) 또는 번역(translation): 소스코드를 기계가 이해할 수 있는 기계어 등으로 변환하는 과정\n",
    "* 런타임(run-time): 프로그램이 실행되는 기간\n",
    "* 런타임 오류(run-time error): 프로그램이 실행되는 도중에 발생하는 오류\n",
    "* 컴파일 타임 오류(compile time error): 소스코드가 실행되기 이전에 컴파일 과정에서 발견되는 오류\n",
    "    * C, Java 언어 등 컴파일러 사용 언어에서 발생\n",
    "    * 예제: 문법 오류(syntac error), 자료형 오류(typechecking error) 등\n",
    "* 타입(type): 정수, 부동소수점, 문자, 문자열, 튜플, 배열 등 코드에서 사용되는 값들을 분류하는 기준\n",
    "    * 보통 자료형(data type)이라고 불림.\n",
    "* 타입 선언(typing): 변수 또는 함수의 리턴값의 자료형 지정하기\n",
    "* 타입 검사(typechecking): 특정 값 또는 특정 함수의 리턴값 자료형을 확인하는 과정"
   ]
  },
  {
   "cell_type": "markdown",
   "metadata": {},
   "source": [
    "## 컴파일러 vs. 해석기(Compiler vs. Interpreter)"
   ]
  },
  {
   "cell_type": "markdown",
   "metadata": {},
   "source": [
    "### 컴파일러 사용 언어(compiled language)\n",
    "\n",
    "* 소스코드를 실행하기 위해 먼저 기계어 등으로 컴파일(번역)해야 하는 언어.\n",
    "* 컴파일 된 코드는 컴퓨터가 가장 이해하기 쉬운 형태로 최적화되어 매우 빠르게 작동함.\n",
    "* 컴파일 된 코드는 사용하는 cpu에 의존적이 된다.\n",
    "    즉, 사용하는 운영체제 및 플랫폼에 따라 컴파일 결과가 일반적으로 다르다. \n",
    "* 예제: C, C++ 등등"
   ]
  },
  {
   "cell_type": "markdown",
   "metadata": {},
   "source": [
    "### 해석기 사용 언어(interpreted language)\n",
    "* 소스코드가 한줄한줄 차례대로 해석되어 실행하는 언어\n",
    "* 해석기 역할: 사용자와 컴퓨터 사이의 통역관\n",
    "* 적절한 해석기가 있으면 사용하는 플랫폼에 특별히 의존하지 않는다. \n",
    "* 예제: Python, Ruby"
   ]
  },
  {
   "cell_type": "markdown",
   "metadata": {},
   "source": [
    "### 좀 특별한 언어: Java\n",
    "* 한 번 작성된 코드로 다양한 환경의 하드웨어 아키텍쳐와 운영체제에서 실행 할 수 있도록 \n",
    "    자바가상머신(Java Virtual Machine) 개념을 도입하였음.\n",
    "* 소스코드는 컴파일러에 의해 바이트코드(bytecode)라는 자바 런타임 환경(Java Runtime Environment, JRE)\n",
    "    에서 실행되기 위해 최적화된 코드 집합으로 번역됨.\n",
    "    * 확장자: `.class`\n",
    "* 운영체제 및 하드웨어에 따라 JVM의 구조가 다르지만 한 번 생성된 바이트코드는 모든 JVM에서 실행됨.\n",
    "* 바이트코드는 JVM 상에서 해석과정을 통해 실행된다.\n",
    "* 최근에는 JIT 컴파일러(Just In Time Compiler) 기술을 사용하여 바이트코드가 보다 빠르게 실행되도록 하고 있다."
   ]
  },
  {
   "cell_type": "markdown",
   "metadata": {},
   "source": [
    "### 스크립트 언어(Scripting Language)\n",
    "* 연극배우가 대사(script)에 적힌대로 말하고 행동하듯이 컴퓨터가 적힌 명령문을 순서대로 \n",
    "    실행하는 프로그래밍언어를 스크립트 언어라 부름.\n",
    "* Perl, Python, Ruby 등 범용 프로그래밍언어부터 \n",
    "    운영체제를 직접 활용하는 쉘(shell)과 웹페이지 및 웹서버 개발에 사용되는 HTML, Javascript 등 \n",
    "    특정 영역에 특화된 언어 등이 포함된다.\n",
    "* 스크립트 언어는는 일반적으로 해석기를 사용한다."
   ]
  },
  {
   "cell_type": "markdown",
   "metadata": {},
   "source": [
    "## 동적 타이핑 vs. 정적 타이핑 (Dynamic vs. Static Typing)"
   ]
  },
  {
   "cell_type": "markdown",
   "metadata": {},
   "source": [
    "본 강의노트는 친절한 설명으로 동적 타이핑과 정적 타이핑의 차이점을 설명한 아래 사이트의 내용을\n",
    "요약 및 정리한 내용을 담고 있다.\n",
    "\n",
    "자료출처: https://hackernoon.com/i-finally-understand-static-vs-dynamic-typing-and-you-will-too-ad0c2bd0acc7\n"
   ]
  },
  {
   "cell_type": "markdown",
   "metadata": {},
   "source": [
    "### 동적 타이핑\n",
    "* 변수 또는 함수의 리턴값의 자료형을 미리 지정하거나 확인하지 않음\n",
    "* 대신에 실행중에 사용되는 값들의 자료형을 검사하여 타입이 적절하게 사용되었는지 여부를 판단함."
   ]
  },
  {
   "cell_type": "markdown",
   "metadata": {},
   "source": [
    "#### 예제: 파이썬\n",
    "```python\n",
    "def dynamic_fun(a):\n",
    "    if a > 0:\n",
    "        print('안녕')\n",
    "    else:\n",
    "        print(\"10\" + a)\n",
    "```\n",
    "\n",
    "위 파이썬 코드는 `dynamic_fun` 이라는 함수를 선언하고 있으며, 파이썬 해석기는 어떤 오류도 발생시키지 않는다."
   ]
  },
  {
   "cell_type": "code",
   "execution_count": 7,
   "metadata": {},
   "outputs": [],
   "source": [
    "def dynamic_fun(a):\n",
    "    if a > 0:\n",
    "        print('안녕')\n",
    "    else:\n",
    "        print(\"10\" + a)"
   ]
  },
  {
   "cell_type": "markdown",
   "metadata": {},
   "source": [
    "실제로 아래와 같이 실행해도 문제가 없다."
   ]
  },
  {
   "cell_type": "code",
   "execution_count": 8,
   "metadata": {},
   "outputs": [
    {
     "name": "stdout",
     "output_type": "stream",
     "text": [
      "안녕\n"
     ]
    }
   ],
   "source": [
    "dynamic_fun(10)"
   ]
  },
  {
   "cell_type": "markdown",
   "metadata": {},
   "source": [
    "그런데 아래의 경우는 오류가 발생한다."
   ]
  },
  {
   "cell_type": "code",
   "execution_count": 9,
   "metadata": {},
   "outputs": [
    {
     "ename": "TypeError",
     "evalue": "must be str, not int",
     "output_type": "error",
     "traceback": [
      "\u001b[0;31m---------------------------------------------------------------------------\u001b[0m",
      "\u001b[0;31mTypeError\u001b[0m                                 Traceback (most recent call last)",
      "\u001b[0;32m<ipython-input-9-78e16857b909>\u001b[0m in \u001b[0;36m<module>\u001b[0;34m()\u001b[0m\n\u001b[0;32m----> 1\u001b[0;31m \u001b[0mdynamic_fun\u001b[0m\u001b[0;34m(\u001b[0m\u001b[0;34m-\u001b[0m\u001b[0;36m10\u001b[0m\u001b[0;34m)\u001b[0m\u001b[0;34m\u001b[0m\u001b[0m\n\u001b[0m",
      "\u001b[0;32m<ipython-input-7-ebad6da5007c>\u001b[0m in \u001b[0;36mdynamic_fun\u001b[0;34m(a)\u001b[0m\n\u001b[1;32m      3\u001b[0m         \u001b[0mprint\u001b[0m\u001b[0;34m(\u001b[0m\u001b[0;34m'안녕'\u001b[0m\u001b[0;34m)\u001b[0m\u001b[0;34m\u001b[0m\u001b[0m\n\u001b[1;32m      4\u001b[0m     \u001b[0;32melse\u001b[0m\u001b[0;34m:\u001b[0m\u001b[0;34m\u001b[0m\u001b[0m\n\u001b[0;32m----> 5\u001b[0;31m         \u001b[0mprint\u001b[0m\u001b[0;34m(\u001b[0m\u001b[0;34m\"10\"\u001b[0m \u001b[0;34m+\u001b[0m \u001b[0ma\u001b[0m\u001b[0;34m)\u001b[0m\u001b[0;34m\u001b[0m\u001b[0m\n\u001b[0m",
      "\u001b[0;31mTypeError\u001b[0m: must be str, not int"
     ]
    }
   ],
   "source": [
    "dynamic_fun(-10)"
   ]
  },
  {
   "cell_type": "markdown",
   "metadata": {},
   "source": [
    "자료형 오류(TypeError)가 발생하였으며, `\"10\" + a` 표현식에서 문제가 있음을 표시하고 있다.\n",
    "실제로 `a` 매개변수에 `-10`을 인자로 넘겨주면,\n",
    "`\"10\"`은 문자열 자료형에, `-10`은 정수 자료형에 속하며, 문자열과 정수형에 대해 덧셈 연산자는 \n",
    "정의되어 있지 않기 때문에 발생한 오류이다.\n",
    "\n",
    "이와 같이 파이썬은 타입 검사를 미리 하지 않고 프로그램이 실행되는 과정에 이루어진다."
   ]
  },
  {
   "cell_type": "markdown",
   "metadata": {},
   "source": [
    "### 정적 타이핑\n",
    "* 변수 또는 함수의 리턴값의 자료형을 미리 지정함.\n",
    "* 프로그램이 실행되기 전에 타입 검사가 이루어짐. \n",
    "* 컴파일러 사용 언어의 경우 컴파일 되는 과정에 타입 검사가 이루어짐."
   ]
  },
  {
   "cell_type": "markdown",
   "metadata": {},
   "source": [
    "#### 예제: C 언어\n",
    "```c\n",
    "#include <stdio.h>\n",
    "\n",
    "void static_fun(int a) {\n",
    "\tif (a > 0)\n",
    "\t\tprintf(\"Hi\");\n",
    "\telse\n",
    "\t\tprintf(\"10\" + a);\n",
    "}\n",
    "\n",
    "int main(void) {\n",
    "\tstatic_fun(10);\n",
    "\treturn 0;\n",
    "}\n",
    "```\n",
    "\n",
    "위 C 코드는 `static_fun` 이라는 함수를 선언한 후에 `main` 함수에서 호출하고 있다. \n",
    "(`static_fun` 함수는 `dynamic_fun`과 동일한 기능을 가진 함수이다.)\n",
    "\n",
    "그런데 위 코드를 컴파일 하려고 하면 아래 그림과 같은 경고가 발생하는데, `\"10\" + a` 표현식에서\n",
    "`\"10\"`은 문자열 자료형(`str`)에 속하고, `a`는 정수 자료형(`int`)에 속하는데 두 자료형의\n",
    "덧셈은 정의되어 있지 않다는 내용을 담고 있다."
   ]
  },
  {
   "cell_type": "markdown",
   "metadata": {},
   "source": [
    "<p>\n",
    "<table cellspacing=\"20\">\n",
    "<tr>\n",
    "<td>\n",
    "<img src=\"images/static_typing01.png\" style=\"width:100%;\">\n",
    "</td>\n",
    "</tr>\n",
    "</table>\n",
    "</p>"
   ]
  },
  {
   "cell_type": "markdown",
   "metadata": {},
   "source": [
    "## 유형(패러다임, Paradigms)"
   ]
  },
  {
   "cell_type": "markdown",
   "metadata": {},
   "source": [
    "* 프로그래밍 접근방식 기준: 명령언어 언어, 함수중심 언어, 논리중심 언어 등등."
   ]
  },
  {
   "cell_type": "markdown",
   "metadata": {},
   "source": [
    "내용 추가 예정임"
   ]
  },
  {
   "cell_type": "markdown",
   "metadata": {},
   "source": [
    "## 객체지향(OOP, Object-Oriented Programming)"
   ]
  },
  {
   "cell_type": "markdown",
   "metadata": {},
   "source": [
    "* 객체 사용 기준: 객체지향언어와 절차지향 언어"
   ]
  },
  {
   "cell_type": "markdown",
   "metadata": {},
   "source": [
    "내용 추가 예정임"
   ]
  }
 ],
 "metadata": {
  "kernelspec": {
   "display_name": "Python 3",
   "language": "python",
   "name": "python3"
  },
  "language_info": {
   "codemirror_mode": {
    "name": "ipython",
    "version": 3
   },
   "file_extension": ".py",
   "mimetype": "text/x-python",
   "name": "python",
   "nbconvert_exporter": "python",
   "pygments_lexer": "ipython3",
   "version": "3.6.3"
  }
 },
 "nbformat": 4,
 "nbformat_minor": 2
}
