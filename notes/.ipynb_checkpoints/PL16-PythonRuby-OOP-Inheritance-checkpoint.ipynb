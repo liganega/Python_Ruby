{
 "cells": [
  {
   "cell_type": "markdown",
   "metadata": {},
   "source": [
    "# 객체지향 프로그래밍: 상속"
   ]
  },
  {
   "cell_type": "markdown",
   "metadata": {},
   "source": [
    "## 상속"
   ]
  },
  {
   "cell_type": "markdown",
   "metadata": {},
   "source": [
    "기존 클래스의 속성과 기능(메소드)을 모두 사용할 수 있으면서 새로운 속성과 기능을 추가하여 새로운 클래스를 선언하는 것을 __상속__이라 부른다.\n",
    "이때 상속을 하는 클래스를 __자식__ 클래스라 부르며, 상속 대상 클래스를 __부모__ 클래스라 부른다."
   ]
  },
  {
   "cell_type": "markdown",
   "metadata": {},
   "source": [
    "### 상속 문법"
   ]
  },
  {
   "cell_type": "markdown",
   "metadata": {},
   "source": [
    "#### 파이썬의 경우"
   ]
  },
  {
   "cell_type": "markdown",
   "metadata": {},
   "source": [
    "아래 코드는 `Class1` 클래스를 상속하여 `Class3`를 선언하는 것을 보여준다."
   ]
  },
  {
   "cell_type": "code",
   "execution_count": 1,
   "metadata": {},
   "outputs": [],
   "source": [
    "class Class1(object):\n",
    "    def method1(self): return 'm1'\n",
    "\n",
    "# Class1 상속\n",
    "class Class3(Class1): \n",
    "    def method2(self): return 'm2'"
   ]
  },
  {
   "cell_type": "markdown",
   "metadata": {},
   "source": [
    "* `Class3`는 `Class1`을 상속하였는데, 이는 `Class3`의 어떤 인스턴스도 `Class1`의 속성과\n",
    "기능을 모두 상속함을 의미한다.\n",
    "\n",
    "* **주의:** `object`는 파이썬에서 제공하는 최상위 클래스이며, 모든 클래스는 암묵적으로 `object` 클래스를 상속받는다는\n",
    "사실을 기억해 두어야 한다. \n",
    "특별할 경우 `object` 클래스에서 선언된 속성과 기능을 살펴볼 필요가 있지만 여기서는 언급하지 않는다."
   ]
  },
  {
   "cell_type": "markdown",
   "metadata": {},
   "source": [
    "아래 코드는 `Class3`의 인스턴스가 `Class1`에 속한 `method1` 메소드를 사용할 수 있음을 보여준다.\n",
    "\n",
    "**주의:** `Class1`의 인스턴스인 `c1`과 `Class3`의 인스턴스인 `c3`가 서로 다른 인스턴스라는 사실은\n",
    "두 인스턴스의 주소가 다르다는 사실에서 확인할 수 있다."
   ]
  },
  {
   "cell_type": "code",
   "execution_count": 2,
   "metadata": {},
   "outputs": [
    {
     "name": "stdout",
     "output_type": "stream",
     "text": [
      "<__main__.Class1 object at 0x10a720630> m1\n",
      "<__main__.Class3 object at 0x10a7206a0> m1\n",
      "<__main__.Class3 object at 0x10a7206a0> m2\n"
     ]
    }
   ],
   "source": [
    "c1 = Class1()\n",
    "print(c1, c1.method1())\n",
    " \n",
    "c3 = Class3()\n",
    "print(c3, c3.method1())\n",
    "print(c3, c3.method2())"
   ]
  },
  {
   "cell_type": "markdown",
   "metadata": {},
   "source": [
    "반면에 아래 코드에서 정의된 `Class2`는 `Class3`와 동일한 속성과 기능을 갖지만 `Class1`과는 전혀 무관하며\n",
    "상속을 사용하지 않았다.\n",
    "\n",
    "**주의:** `Class2`의 인스턴스의 `c2`의 주소가 `c3`의 주소와 다름에 주의하라. 즉, 서로 아무 상관이 없다."
   ]
  },
  {
   "cell_type": "code",
   "execution_count": 3,
   "metadata": {},
   "outputs": [
    {
     "name": "stdout",
     "output_type": "stream",
     "text": [
      "<__main__.Class2 object at 0x10a720550> m1\n",
      "<__main__.Class2 object at 0x10a720550> m2\n"
     ]
    }
   ],
   "source": [
    "class Class2(object):\n",
    "    def method1(self): return 'm1'\n",
    "    def method2(self): return 'm2'\n",
    "\n",
    "c2 = Class2()\n",
    "print(c2, c2.method1())\n",
    "print(c2, c2.method2())"
   ]
  },
  {
   "cell_type": "markdown",
   "metadata": {},
   "source": [
    "#### 루비의 경우"
   ]
  },
  {
   "cell_type": "markdown",
   "metadata": {},
   "source": [
    "루비에서 상속을 선언하려면 `<` 기호를 사용한다.\n",
    "아래 코드는 앞서 설명한 파이썬 코드와 동일한 내용을 갖는다."
   ]
  },
  {
   "cell_type": "code",
   "execution_count": 4,
   "metadata": {},
   "outputs": [
    {
     "name": "stdout",
     "output_type": "stream",
     "text": [
      "#<Class1:0x007fd189985960>\n",
      "\"m1\"\n",
      "#<Class3:0x007fd189985758>\n",
      "\"m1\"\n",
      "#<Class3:0x007fd189985758>\n",
      "\"m2\"\n",
      "#<Class2:0x007fd189985258>\n",
      "\"m1\"\n",
      "#<Class2:0x007fd189985258>\n",
      "\"m2\"\n"
     ]
    }
   ],
   "source": [
    "%%ruby\n",
    "class Class1\n",
    "    def method1()\n",
    "        return 'm1'\n",
    "    end\n",
    "end\n",
    "\n",
    "# Class1 상속\n",
    "class Class3 < Class1\n",
    "    def method2()\n",
    "        return 'm2'\n",
    "    end\n",
    "end\n",
    "\n",
    "c1 = Class1.new()\n",
    "p c1, c1.method1()\n",
    " \n",
    "c3 = Class3.new()\n",
    "p c3, c3.method1()\n",
    "p c3, c3.method2()\n",
    "\n",
    "# 직접 선언\n",
    "class Class2\n",
    "    def method1()\n",
    "        return 'm1'\n",
    "    end\n",
    "    \n",
    "    def method2()\n",
    "        return 'm2'\n",
    "    end\n",
    "end\n",
    "\n",
    "c2 = Class2.new()\n",
    "p c2, c2.method1()\n",
    "p c2, c2.method2()"
   ]
  },
  {
   "cell_type": "markdown",
   "metadata": {},
   "source": [
    "### 상속 응용 예제"
   ]
  },
  {
   "cell_type": "markdown",
   "metadata": {},
   "source": [
    "덧셈과 뺄셈을 지원하는 `Cal` 클래스를 상속을 이용하여 곱셈과 나눗셈을 지원하는 클래스인 \n",
    "`CalMultiply`와 `Caldivide`를 구현하면 다음과 같다."
   ]
  },
  {
   "cell_type": "markdown",
   "metadata": {},
   "source": [
    "#### 파이썬 예제"
   ]
  },
  {
   "cell_type": "code",
   "execution_count": 5,
   "metadata": {},
   "outputs": [
    {
     "name": "stdout",
     "output_type": "stream",
     "text": [
      "20\n",
      "100\n",
      "<__main__.CalDivide object at 0x10a738d68> 30\n",
      "<__main__.CalDivide object at 0x10a738d68> 200\n",
      "<__main__.CalDivide object at 0x10a738d68> 2.0\n"
     ]
    }
   ],
   "source": [
    "class Cal(object):\n",
    "    def __init__(self, v1, v2):\n",
    "        if isinstance(v1, int):\n",
    "            self.v1 = v1\n",
    "        if isinstance(v2, int):\n",
    "            self.v2 = v2\n",
    "    def add(self):\n",
    "        return self.v1+self.v2\n",
    "    \n",
    "    def subtract(self):\n",
    "        return self.v1-self.v2\n",
    "    \n",
    "    def setV1(self, v):\n",
    "        if isinstance(v, int):\n",
    "            self.v1 = v\n",
    "            \n",
    "    def getV1(self):\n",
    "        return self.v1\n",
    "\n",
    "# Cal 상속: 곱셈기능 추가\n",
    "class CalMultiply(Cal):\n",
    "    def multiply(self):\n",
    "        return self.v1*self.v2\n",
    "    \n",
    "# CalMultiply 상속: 나눗셈 기능도 추가\n",
    "class CalDivide(CalMultiply):\n",
    "    def divide(self):\n",
    "        return self.v1/self.v2\n",
    "    \n",
    "c1 = CalMultiply(10,10)\n",
    "print(c1.add())\n",
    "print(c1.multiply())\n",
    "\n",
    "c2 = CalDivide(20,10)\n",
    "print(c2, c2.add())\n",
    "print(c2, c2.multiply())\n",
    "print(c2, c2.divide())"
   ]
  },
  {
   "cell_type": "markdown",
   "metadata": {},
   "source": [
    "#### 루비 예제"
   ]
  },
  {
   "cell_type": "code",
   "execution_count": 6,
   "metadata": {},
   "outputs": [
    {
     "name": "stdout",
     "output_type": "stream",
     "text": [
      "20\n",
      "100\n",
      "#<CalDivide:0x007fd71788f978 @v1=20, @v2=10>\n",
      "30\n",
      "#<CalDivide:0x007fd71788f978 @v1=20, @v2=10>\n",
      "200\n",
      "#<CalDivide:0x007fd71788f978 @v1=20, @v2=10>\n",
      "2\n"
     ]
    }
   ],
   "source": [
    "%%ruby\n",
    "class Cal\n",
    "    attr_reader :v1, :v2\n",
    "    attr_writer :v1\n",
    "\n",
    "    def initialize(v1,v2)\n",
    "        @v1 = v1\n",
    "        @v2 = v2\n",
    "    end\n",
    "\n",
    "    def add()\n",
    "        return @v1+@v2\n",
    "    end\n",
    "\n",
    "    def subtract()\n",
    "        return @v1-@v2\n",
    "    end\n",
    "\n",
    "    def setV1(v)\n",
    "        if v.is_a?(Integer)\n",
    "            @v1 = v\n",
    "        end\n",
    "    end\n",
    "\n",
    "    def getV1()\n",
    "        return @v1\n",
    "    end\n",
    "end\n",
    "\n",
    "class CalMultiply < Cal\n",
    "    def multiply()\n",
    "        return @v1*@v2\n",
    "    end\n",
    "end\n",
    "\n",
    "class CalDivide < CalMultiply\n",
    "    def divide()\n",
    "        return @v1/@v2\n",
    "    end\n",
    "end\n",
    "\n",
    "c1 = CalMultiply.new(10,10)\n",
    "p c1.add()\n",
    "p c1.multiply()\n",
    "\n",
    "c2 = CalDivide.new(20, 10)\n",
    "p c2, c2.add()\n",
    "p c2, c2.multiply()\n",
    "p c2, c2.divide()"
   ]
  },
  {
   "cell_type": "markdown",
   "metadata": {},
   "source": [
    "## 상속과 생성자"
   ]
  },
  {
   "cell_type": "markdown",
   "metadata": {},
   "source": [
    "모든 클래스에는 생성자가 포함되어 있다.\n",
    "생성자를 선언하지 않으면 자동으로 기본 값으로 선언된다.\n",
    "상속의 경우 자식 클래스에서 생성자를 선언하지 않으면 \n",
    "자식 클래스의 인스턴스가 생성될 때 부모 클래스의 생성자를 자동으로 호출한다.\n",
    "`CalDivide`에서 `CalMultiply`와 `Cal`의 메소드를 모두 사용할 수 있는 이유가 여기에 있다.\n",
    "\n",
    "하지만 자식 클래스에서 생성자를 명시한다면 부모 클래스의 생성자도 다시 명시적으로 호출해야 한다.\n",
    "그렇지 않으면 아래 파이썬 예제에서처럼 부모 클래스의 기능을 제대로 이어받지 못한다."
   ]
  },
  {
   "cell_type": "markdown",
   "metadata": {},
   "source": [
    "### 파이썬의 상속과 생성자"
   ]
  },
  {
   "cell_type": "code",
   "execution_count": 7,
   "metadata": {},
   "outputs": [],
   "source": [
    "class Cal(object):\n",
    "    def __init__(self, v1, v2):\n",
    "        if isinstance(v1, int):\n",
    "            self.v1 = v1\n",
    "        if isinstance(v2, int):\n",
    "            self.v2 = v2\n",
    "            \n",
    "    def add(self):\n",
    "        return self.v1+self.v2\n",
    "    \n",
    "    def subtract(self):\n",
    "        return self.v1-self.v2\n",
    "    \n",
    "# Cal 상속: 곱셈기능 추가\n",
    "class CalMultiply(Cal):\n",
    "    # 자식 클래스의 생성자를 선언하면서\n",
    "    # 부모 클래스의 생성자를 명시하지 않은 경우\n",
    "    def __init__(self, v3, v4):\n",
    "        self.v3 = v3\n",
    "        self.v4 = v4\n",
    "\n",
    "    def multiply(self):\n",
    "        return self.v3*self.v4"
   ]
  },
  {
   "cell_type": "markdown",
   "metadata": {},
   "source": [
    "아래와 같이 `CalMultiply`의 인스턴스를 생성하였지만 생성자의 매개변수가 \n",
    "`Cal` 클래스 생성자의 매개변수와 이름이 다르기 때문에 오류가 발생한다.\n",
    "보다 구체적으로 아래 코드를 실행하면 `v1`이 누군지 모른다는 오류가 발생한다."
   ]
  },
  {
   "cell_type": "code",
   "execution_count": 8,
   "metadata": {},
   "outputs": [
    {
     "ename": "AttributeError",
     "evalue": "'CalMultiply' object has no attribute 'v1'",
     "output_type": "error",
     "traceback": [
      "\u001b[0;31m---------------------------------------------------------------------------\u001b[0m",
      "\u001b[0;31mAttributeError\u001b[0m                            Traceback (most recent call last)",
      "\u001b[0;32m<ipython-input-8-61433986b043>\u001b[0m in \u001b[0;36m<module>\u001b[0;34m()\u001b[0m\n\u001b[1;32m      1\u001b[0m \u001b[0mc1\u001b[0m \u001b[0;34m=\u001b[0m \u001b[0mCalMultiply\u001b[0m\u001b[0;34m(\u001b[0m\u001b[0;36m10\u001b[0m\u001b[0;34m,\u001b[0m\u001b[0;36m10\u001b[0m\u001b[0;34m)\u001b[0m\u001b[0;34m\u001b[0m\u001b[0m\n\u001b[0;32m----> 2\u001b[0;31m \u001b[0mprint\u001b[0m\u001b[0;34m(\u001b[0m\u001b[0mc1\u001b[0m\u001b[0;34m.\u001b[0m\u001b[0madd\u001b[0m\u001b[0;34m(\u001b[0m\u001b[0;34m)\u001b[0m\u001b[0;34m)\u001b[0m\u001b[0;34m\u001b[0m\u001b[0m\n\u001b[0m",
      "\u001b[0;32m<ipython-input-7-e4f1a0a0c969>\u001b[0m in \u001b[0;36madd\u001b[0;34m(self)\u001b[0m\n\u001b[1;32m      7\u001b[0m \u001b[0;34m\u001b[0m\u001b[0m\n\u001b[1;32m      8\u001b[0m     \u001b[0;32mdef\u001b[0m \u001b[0madd\u001b[0m\u001b[0;34m(\u001b[0m\u001b[0mself\u001b[0m\u001b[0;34m)\u001b[0m\u001b[0;34m:\u001b[0m\u001b[0;34m\u001b[0m\u001b[0m\n\u001b[0;32m----> 9\u001b[0;31m         \u001b[0;32mreturn\u001b[0m \u001b[0mself\u001b[0m\u001b[0;34m.\u001b[0m\u001b[0mv1\u001b[0m\u001b[0;34m+\u001b[0m\u001b[0mself\u001b[0m\u001b[0;34m.\u001b[0m\u001b[0mv2\u001b[0m\u001b[0;34m\u001b[0m\u001b[0m\n\u001b[0m\u001b[1;32m     10\u001b[0m \u001b[0;34m\u001b[0m\u001b[0m\n\u001b[1;32m     11\u001b[0m     \u001b[0;32mdef\u001b[0m \u001b[0msubtract\u001b[0m\u001b[0;34m(\u001b[0m\u001b[0mself\u001b[0m\u001b[0;34m)\u001b[0m\u001b[0;34m:\u001b[0m\u001b[0;34m\u001b[0m\u001b[0m\n",
      "\u001b[0;31mAttributeError\u001b[0m: 'CalMultiply' object has no attribute 'v1'"
     ]
    }
   ],
   "source": [
    "c1 = CalMultiply(10,10)\n",
    "print(c1.add())"
   ]
  },
  {
   "cell_type": "markdown",
   "metadata": {},
   "source": [
    "따라서 자식 클래스의 생성자를 선언할 경우 부모 클래스의 생성자를 다시 호출해서 생성자의\n",
    "매개변수를 서로 연동시켜야 한다."
   ]
  },
  {
   "cell_type": "code",
   "execution_count": 9,
   "metadata": {},
   "outputs": [],
   "source": [
    "class Cal(object):\n",
    "    def __init__(self, v1, v2):\n",
    "        if isinstance(v1, int):\n",
    "            self.v1 = v1\n",
    "        if isinstance(v2, int):\n",
    "            self.v2 = v2\n",
    "            \n",
    "    def add(self):\n",
    "        return self.v1+self.v2\n",
    "    \n",
    "    def subtract(self):\n",
    "        return self.v1-self.v2\n",
    "    \n",
    "# Cal 상속: 곱셈기능 추가\n",
    "class CalMultiply(Cal):\n",
    "    # 부모 클래스의 매개변수와 자식 클래스의 매개변수를 연동시켜야 함.\n",
    "    def __init__(self, v3, v4):\n",
    "        # 부모 클래스 생성자 호출하는 방법: super() 활용.\n",
    "        # 주의: self 매개변수 생략해야 함.\n",
    "        super().__init__(v3, v4)\n",
    "        self.v3 = v3\n",
    "        self.v4 = v4\n",
    "\n",
    "    def multiply(self):\n",
    "        return self.v3*self.v4"
   ]
  },
  {
   "cell_type": "code",
   "execution_count": 10,
   "metadata": {},
   "outputs": [
    {
     "name": "stdout",
     "output_type": "stream",
     "text": [
      "20\n",
      "100\n"
     ]
    }
   ],
   "source": [
    "c1 = CalMultiply(10,10)\n",
    "print(c1.add())\n",
    "print(c1.multiply())"
   ]
  },
  {
   "cell_type": "markdown",
   "metadata": {},
   "source": [
    "### 루비의 상속과 생성자\n",
    "\n",
    "파이썬의 경우와 마찬가지 오류가 발생한다.\n",
    "보다 구체적으로 아래 코드를 실행하면 `add` 메소드의 인자로 `Nil` 값이 사용될 수 없다는 오류가 발생한다.\n",
    "이는 `v1`의 값이 선언되지 않았음을 나타낸다."
   ]
  },
  {
   "cell_type": "code",
   "execution_count": 11,
   "metadata": {},
   "outputs": [
    {
     "name": "stderr",
     "output_type": "stream",
     "text": [
      "-:11:in `add': undefined method `+' for nil:NilClass (NoMethodError)\n",
      "\tfrom -:31:in `<main>'\n"
     ]
    }
   ],
   "source": [
    "%%ruby\n",
    "class Cal\n",
    "    attr_reader :v1, :v2\n",
    "    attr_writer :v1\n",
    "\n",
    "    def initialize(v1,v2)\n",
    "        @v1 = v1\n",
    "        @v2 = v2\n",
    "    end\n",
    "\n",
    "    def add()\n",
    "        return @v1+@v2\n",
    "    end\n",
    "\n",
    "    def subtract()\n",
    "        return @v1-@v2\n",
    "    end\n",
    "end\n",
    "\n",
    "class CalMultiply < Cal\n",
    "    def initialize(v3, v4)\n",
    "        @v3 = v3\n",
    "        @v4 = v4\n",
    "    end\n",
    "\n",
    "    def multiply()\n",
    "        return @v3*@v4\n",
    "    end\n",
    "end\n",
    "\n",
    "c1 = CalMultiply.new(10,10)\n",
    "p c1.add()"
   ]
  },
  {
   "cell_type": "markdown",
   "metadata": {},
   "source": [
    "파이썬의 경우처럼 루비에서도 부모클래스의 생성자를 호출하면 상속이 제대로 작동하며\n",
    "역시나 `super` 키워드를 사용한다."
   ]
  },
  {
   "cell_type": "code",
   "execution_count": 12,
   "metadata": {},
   "outputs": [
    {
     "name": "stdout",
     "output_type": "stream",
     "text": [
      "20\n",
      "100\n"
     ]
    }
   ],
   "source": [
    "%%ruby\n",
    "class Cal\n",
    "    attr_reader :v1, :v2\n",
    "    attr_writer :v1\n",
    "\n",
    "    def initialize(v1,v2)\n",
    "        @v1 = v1\n",
    "        @v2 = v2\n",
    "    end\n",
    "\n",
    "    def add()\n",
    "        return @v1+@v2\n",
    "    end\n",
    "\n",
    "    def subtract()\n",
    "        return @v1-@v2\n",
    "    end\n",
    "end\n",
    "\n",
    "class CalMultiply < Cal\n",
    "    def initialize(v3, v4)\n",
    "        # 부모클래스 생성자 호출\n",
    "        super(v3, v4)\n",
    "        @v3 = v3\n",
    "        @v4 = v4\n",
    "    end\n",
    "\n",
    "    def multiply()\n",
    "        return @v3*@v4\n",
    "    end\n",
    "end\n",
    "\n",
    "c1 = CalMultiply.new(10,10)\n",
    "p c1.add()\n",
    "p c1.multiply()"
   ]
  },
  {
   "cell_type": "markdown",
   "metadata": {},
   "source": [
    "#### 주의 사항\n",
    "자식클래스의 생성자를 선언할 때 부모클래스의 생성자에서 사용된 매개변수 이름을 사용할 경우 부모클래스의 생성자가 동일하게 호출되도록 설정되었다."
   ]
  },
  {
   "cell_type": "code",
   "execution_count": 13,
   "metadata": {},
   "outputs": [
    {
     "name": "stdout",
     "output_type": "stream",
     "text": [
      "20\n",
      "100\n"
     ]
    }
   ],
   "source": [
    "class Cal(object):\n",
    "    def __init__(self, v1, v2):\n",
    "        if isinstance(v1, int):\n",
    "            self.v1 = v1\n",
    "        if isinstance(v2, int):\n",
    "            self.v2 = v2\n",
    "            \n",
    "    def add(self):\n",
    "        return self.v1+self.v2\n",
    "    \n",
    "    def subtract(self):\n",
    "        return self.v1-self.v2\n",
    "    \n",
    "# Cal 상속: 곱셈기능 추가\n",
    "class CalMultiply(Cal):\n",
    "    # 부모 클래스의 매개변수와 자식 클래스의 매개변수를 연동시켜야 함.\n",
    "    def __init__(self, v1, v2):\n",
    "        # 동일한 매개변수 사용할 경우 \n",
    "        # 부모 클래스 생성자를 호출하지 않아도 동명의 변수를 사용하면 자동 호출됨\n",
    "        self.v1 = v1\n",
    "        self.v2 = v2\n",
    "\n",
    "    def multiply(self):\n",
    "        return self.v1*self.v2\n",
    "\n",
    "c1 = CalMultiply(10,10)\n",
    "print(c1.add())\n",
    "print(c1.multiply())"
   ]
  },
  {
   "cell_type": "markdown",
   "metadata": {},
   "source": [
    "루비의 경우도 동일하다."
   ]
  },
  {
   "cell_type": "code",
   "execution_count": 14,
   "metadata": {},
   "outputs": [
    {
     "name": "stdout",
     "output_type": "stream",
     "text": [
      "20\n",
      "100\n"
     ]
    }
   ],
   "source": [
    "%%ruby\n",
    "class Cal\n",
    "    attr_reader :v1, :v2\n",
    "    attr_writer :v1\n",
    "\n",
    "    def initialize(v1,v2)\n",
    "        @v1 = v1\n",
    "        @v2 = v2\n",
    "    end\n",
    "\n",
    "    def add()\n",
    "        return @v1+@v2\n",
    "    end\n",
    "\n",
    "    def subtract()\n",
    "        return @v1-@v2\n",
    "    end\n",
    "end\n",
    "\n",
    "class CalMultiply < Cal\n",
    "    def initialize(v1, v2)\n",
    "        # 동일한 매개변수 사용할 경우 \n",
    "        # 부모 클래스 생성자를 호출하지 않아도 동명의 변수를 사용하면 자동 호출됨\n",
    "        @v1 = v1\n",
    "        @v2 = v2\n",
    "    end\n",
    "\n",
    "    def multiply()\n",
    "        return @v1*@v2\n",
    "    end\n",
    "end\n",
    "\n",
    "c1 = CalMultiply.new(10,10)\n",
    "p c1.add()\n",
    "p c1.multiply()"
   ]
  },
  {
   "cell_type": "markdown",
   "metadata": {},
   "source": [
    "### 자식클래스 생성자의 매개변수\n",
    "\n",
    "자식클래스 생성자의 매개변수가 부모클래스의 매개변수와 동일하지 않아도 된다.\n",
    "하지만 앞서 설명한 대로 다른 매개변수를 사용할 경우 부모클래스의 생성자를 호출하는 것을 잊지 말아야 한다."
   ]
  },
  {
   "cell_type": "markdown",
   "metadata": {},
   "source": [
    "#### 파이썬 예제\n",
    "\n",
    "아래 예제는 `CalMultiply` 클래스를 상속하면서 지수함수를 추가한다.\n",
    "생성자는 지수함수의 밑으로 사용되는 값을 추가로 받도록 선언된다."
   ]
  },
  {
   "cell_type": "code",
   "execution_count": 15,
   "metadata": {},
   "outputs": [
    {
     "name": "stdout",
     "output_type": "stream",
     "text": [
      "20\n",
      "100\n",
      "8\n"
     ]
    }
   ],
   "source": [
    "class Cal(object):\n",
    "    def __init__(self, v1, v2):\n",
    "        if isinstance(v1, int):\n",
    "            self.v1 = v1\n",
    "        if isinstance(v2, int):\n",
    "            self.v2 = v2\n",
    "            \n",
    "    def add(self):\n",
    "        return self.v1+self.v2\n",
    "    \n",
    "    def subtract(self):\n",
    "        return self.v1-self.v2\n",
    "    \n",
    "# Cal 상속: 곱셈기능 추가\n",
    "class CalMultiply(Cal):\n",
    "    # 부모 클래스의 매개변수와 자식 클래스의 매개변수를 연동시켜야 함.\n",
    "    def __init__(self, v1, v2):\n",
    "        super().__init__(v1, v2)\n",
    "        self.v1 = v1\n",
    "        self.v2 = v2\n",
    "\n",
    "    def multiply(self):\n",
    "        return self.v1*self.v2\n",
    "\n",
    "# CalMultiply 상속: 지수함수 추가\n",
    "class CalExponential(CalMultiply):\n",
    "    # 지수함수의 밑으로 사용될 값을 추가로 받도록 함\n",
    "    def __init__(self, v1, v2, v3):\n",
    "        # 부모클래스에 v1, v2만 전달함\n",
    "        super().__init__(v1, v2)\n",
    "        # v3는 다른 용도로 사용될 예정임\n",
    "        self.v3 = v3\n",
    "        \n",
    "    # 지수함수 선언: 밑 = self.v3, 지수 = v = 입력받는 값\n",
    "    def exponential(self, v):\n",
    "        return self.v3 ** v    \n",
    "    \n",
    "c1 = CalExponential(10,10, 2)\n",
    "print(c1.add())\n",
    "print(c1.multiply())\n",
    "print(c1.exponential(3))        # 2의 3승"
   ]
  },
  {
   "cell_type": "markdown",
   "metadata": {},
   "source": [
    "#### 루비 예제"
   ]
  },
  {
   "cell_type": "code",
   "execution_count": 16,
   "metadata": {},
   "outputs": [
    {
     "name": "stdout",
     "output_type": "stream",
     "text": [
      "20\n",
      "100\n",
      "8\n"
     ]
    }
   ],
   "source": [
    "%%ruby\n",
    "class Cal\n",
    "    attr_reader :v1, :v2\n",
    "    attr_writer :v1\n",
    "\n",
    "    def initialize(v1,v2)\n",
    "        @v1 = v1\n",
    "        @v2 = v2\n",
    "    end\n",
    "\n",
    "    def add()\n",
    "        return @v1+@v2\n",
    "    end\n",
    "\n",
    "    def subtract()\n",
    "        return @v1-@v2\n",
    "    end\n",
    "end\n",
    "\n",
    "class CalMultiply < Cal\n",
    "    def initialize(v1, v2)\n",
    "        super(v1, v2)\n",
    "        @v1 = v1\n",
    "        @v2 = v2\n",
    "    end\n",
    "\n",
    "    def multiply()\n",
    "        return @v1*@v2\n",
    "    end\n",
    "end\n",
    "\n",
    "# CalMultiply 상속: 지수함수 추가\n",
    "class CalExponential < CalMultiply\n",
    "    # 지수함수의 밑으로 사용될 값을 추가로 받도록 함\n",
    "    def initialize(v1, v2, v3)\n",
    "        # 부모클래스에 v1, v2만 전달함\n",
    "        super(v1, v2)\n",
    "        # v3는 다른 용도로 사용될 예정임\n",
    "        @v3 = v3\n",
    "    end\n",
    "        \n",
    "    # 지수함수 선언: 밑 = self.v3, 지수 = v = 입력받는 값\n",
    "    def exponential(v)\n",
    "        return @v3 ** v\n",
    "    end\n",
    "end\n",
    "\n",
    "c1 = CalExponential.new(10,10, 2)\n",
    "p c1.add()\n",
    "p c1.multiply()\n",
    "p c1.exponential(3)        # 2의 3승"
   ]
  },
  {
   "cell_type": "markdown",
   "metadata": {},
   "source": [
    "## 연습문제"
   ]
  },
  {
   "cell_type": "markdown",
   "metadata": {},
   "source": [
    "1. `Cal`, `CalMultiply`, `CalDivide`, `CalExponential` 클래스를 동일한 방식으로 자바 언어를 이용하여 구현하라."
   ]
  }
 ],
 "metadata": {
  "kernelspec": {
   "display_name": "Python 3",
   "language": "python",
   "name": "python3"
  },
  "language_info": {
   "codemirror_mode": {
    "name": "ipython",
    "version": 3
   },
   "file_extension": ".py",
   "mimetype": "text/x-python",
   "name": "python",
   "nbconvert_exporter": "python",
   "pygments_lexer": "ipython3",
   "version": "3.6.3"
  }
 },
 "nbformat": 4,
 "nbformat_minor": 2
}
