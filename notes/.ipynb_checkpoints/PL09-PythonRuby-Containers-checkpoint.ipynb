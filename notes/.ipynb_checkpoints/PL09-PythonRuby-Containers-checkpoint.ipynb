{
 "cells": [
  {
   "cell_type": "markdown",
   "metadata": {},
   "source": [
    "# 컨테이너"
   ]
  },
  {
   "cell_type": "markdown",
   "metadata": {},
   "source": [
    "여러 개의 값을 하나로 묶은 값을 **컨테이너(container)** 라고 부르며, \n",
    "경우에 따라 컬렉션(collection) 자료형이라 불리기도 한다.\n",
    "가장 많이 사용되는 컨테이너에는 다음 자료형들이 있다.\n",
    "\n",
    "* 리스트(배열, 어레이)\n",
    "* 튜플\n",
    "* 사전(해시)\n",
    "* 문자열"
   ]
  },
  {
   "cell_type": "markdown",
   "metadata": {},
   "source": [
    "여기서는 리스트(어레이)를 이용하여 컨테이너의 기본 속성들을 알아본다."
   ]
  },
  {
   "cell_type": "markdown",
   "metadata": {},
   "source": [
    "## 파이썬의 리스트와 루비의 어레이"
   ]
  },
  {
   "cell_type": "markdown",
   "metadata": {},
   "source": [
    "파이썬의 리스트와 루비의 어레이는 거의 동일한 속성과 기능을 갖으며,\n",
    "아래 형태를 가진다.\n",
    "\n",
    "> [항목1, 항목2, ..., 항목n]"
   ]
  },
  {
   "cell_type": "markdown",
   "metadata": {},
   "source": [
    "### 인덱싱"
   ]
  },
  {
   "cell_type": "markdown",
   "metadata": {},
   "source": [
    "리스트(어레이)의 각 항목을 색인(인덱스)을 사용하여 활용할 수 있다."
   ]
  },
  {
   "cell_type": "code",
   "execution_count": 1,
   "metadata": {},
   "outputs": [
    {
     "name": "stdout",
     "output_type": "stream",
     "text": [
      "leezche\n"
     ]
    }
   ],
   "source": [
    "names = ['egoing', 'leezche', 'graphitttie']\n",
    "print(names[1])"
   ]
  },
  {
   "cell_type": "code",
   "execution_count": 2,
   "metadata": {},
   "outputs": [
    {
     "name": "stdout",
     "output_type": "stream",
     "text": [
      "leezche\n"
     ]
    }
   ],
   "source": [
    "%%ruby\n",
    "names = ['egoing', 'leezche', 'graphitttie']\n",
    "puts(names[1])"
   ]
  },
  {
   "cell_type": "markdown",
   "metadata": {},
   "source": [
    "### 색인 범위\n",
    "\n",
    "인덱싱을 실행할 때 색인 범위에 조심해야 한다.\n",
    "예를 들어, `names` 변수에 할당된 리스트(어레이)에는 3번 인덱스 값이 존재하지 않는다.\n",
    "\n",
    "**주의:** 색인은 0부터 시작한다."
   ]
  },
  {
   "cell_type": "markdown",
   "metadata": {},
   "source": [
    "#### 파이썬\n",
    "색인 범위를 벗어난 인덱싱은 색인오류(IndexError)를 발생시킨다."
   ]
  },
  {
   "cell_type": "code",
   "execution_count": 3,
   "metadata": {},
   "outputs": [
    {
     "ename": "IndexError",
     "evalue": "list index out of range",
     "output_type": "error",
     "traceback": [
      "\u001b[0;31m---------------------------------------------------------------------------\u001b[0m",
      "\u001b[0;31mIndexError\u001b[0m                                Traceback (most recent call last)",
      "\u001b[0;32m<ipython-input-3-2b16c36e87e2>\u001b[0m in \u001b[0;36m<module>\u001b[0;34m()\u001b[0m\n\u001b[1;32m      1\u001b[0m \u001b[0mnames\u001b[0m \u001b[0;34m=\u001b[0m \u001b[0;34m[\u001b[0m\u001b[0;34m'egoing'\u001b[0m\u001b[0;34m,\u001b[0m \u001b[0;34m'leezche'\u001b[0m\u001b[0;34m,\u001b[0m \u001b[0;34m'graphitttie'\u001b[0m\u001b[0;34m]\u001b[0m\u001b[0;34m\u001b[0m\u001b[0m\n\u001b[0;32m----> 2\u001b[0;31m \u001b[0mprint\u001b[0m\u001b[0;34m(\u001b[0m\u001b[0mnames\u001b[0m\u001b[0;34m[\u001b[0m\u001b[0;36m3\u001b[0m\u001b[0;34m]\u001b[0m\u001b[0;34m)\u001b[0m\u001b[0;34m\u001b[0m\u001b[0m\n\u001b[0m",
      "\u001b[0;31mIndexError\u001b[0m: list index out of range"
     ]
    }
   ],
   "source": [
    "names = ['egoing', 'leezche', 'graphitttie']\n",
    "print(names[3])"
   ]
  },
  {
   "cell_type": "markdown",
   "metadata": {},
   "source": [
    "#### 루비\n",
    "루비의 경우는 색인의 범위를 벗어나면 오류 대신에 `nil`이 리턴된다."
   ]
  },
  {
   "cell_type": "code",
   "execution_count": 4,
   "metadata": {},
   "outputs": [
    {
     "name": "stdout",
     "output_type": "stream",
     "text": [
      "\n"
     ]
    }
   ],
   "source": [
    "%%ruby\n",
    "names = ['egoing', 'leezche', 'graphitttie']\n",
    "puts(names[3])"
   ]
  },
  {
   "cell_type": "markdown",
   "metadata": {},
   "source": [
    "### 수정 가능한 자료형\n",
    "\n",
    "파이썬의 리스트와 루비의 어레이 모두 수정 가능한 자료형이다.\n",
    "예를 들어, 아래와 같이 인덱싱을 이용하여 특정 항목의 값을 수정할 수 있다."
   ]
  },
  {
   "cell_type": "code",
   "execution_count": 5,
   "metadata": {},
   "outputs": [
    {
     "name": "stdout",
     "output_type": "stream",
     "text": [
      "['k8805', 'leezche', 'graphitttie']\n"
     ]
    }
   ],
   "source": [
    "names = ['egoing', 'leezche', 'graphitttie']\n",
    "names[0] = 'k8805'\n",
    "print(names)"
   ]
  },
  {
   "cell_type": "code",
   "execution_count": 6,
   "metadata": {},
   "outputs": [
    {
     "name": "stdout",
     "output_type": "stream",
     "text": [
      "[\"k8805\", \"leezche\", \"graphitttie\"]"
     ]
    }
   ],
   "source": [
    "%%ruby\n",
    "names = ['egoing', 'leezche', 'graphitttie']\n",
    "names[0] = 'k8805'\n",
    "print(names)"
   ]
  },
  {
   "cell_type": "markdown",
   "metadata": {},
   "source": [
    "#### 주의사항\n",
    "\n",
    "루비의 `puts` 함수는 어레이를 출력할 때 각각의 항목을 한 줄씩 출력한다."
   ]
  },
  {
   "cell_type": "code",
   "execution_count": 7,
   "metadata": {},
   "outputs": [
    {
     "name": "stdout",
     "output_type": "stream",
     "text": [
      "k8805\n",
      "leezche\n",
      "graphitttie\n"
     ]
    }
   ],
   "source": [
    "%%ruby\n",
    "names = ['egoing', 'leezche', 'graphitttie']\n",
    "names[0] = 'k8805'\n",
    "puts(names)"
   ]
  },
  {
   "cell_type": "markdown",
   "metadata": {},
   "source": [
    "### 항목의 자료형\n",
    "\n",
    "파이썬의 리스트, 루비의 어레이 모두 여러 자료형의 값들을 항목으로 섞어 사용할 수 있다."
   ]
  },
  {
   "cell_type": "code",
   "execution_count": 8,
   "metadata": {},
   "outputs": [
    {
     "name": "stdout",
     "output_type": "stream",
     "text": [
      "['egoing', 25, False]\n"
     ]
    }
   ],
   "source": [
    "print(['egoing', 25, False])"
   ]
  },
  {
   "cell_type": "code",
   "execution_count": 9,
   "metadata": {},
   "outputs": [
    {
     "name": "stdout",
     "output_type": "stream",
     "text": [
      "[\"egoing\", 25, false]"
     ]
    }
   ],
   "source": [
    "%%ruby\n",
    "print(['egoing', 25, false])"
   ]
  },
  {
   "cell_type": "markdown",
   "metadata": {},
   "source": [
    "## 시퀀스 자료형\n",
    "\n",
    "리스트와 어레이처럼 항목들의 순서가 중요한 컨테이너를 **시퀀스 자료형(sequence types)** 라고 부르기도 한다. "
   ]
  },
  {
   "cell_type": "markdown",
   "metadata": {},
   "source": [
    "### 시퀀스 자료형 공통 연산자\n",
    "\n",
    "모든 시퀀스 자료형에 공통으로 사용되는 연산자가 몇 개 있다.\n",
    "대표적으로 아래와 같다.\n",
    "\n",
    "* `in`\n",
    "* `not in`\n",
    "* `+` (결합)\n",
    "* `*` (복제결합)\n",
    "* 길이(length) 알아내는 함수\n",
    "    * 파이썬: `len` 함수 또는 `__len__` 메소드\n",
    "    * 루비: `length` 메소드\n",
    "* 특정 색인의 항목 삭제\n",
    "    * 파이썬: `del` 함수 또는 `pop` 메소드\n",
    "    * 루비: `delete_at` 메소드\n",
    "* 최대값 및 최소값 찾기 함수\n",
    "    * 파이썬: `max`와 `min` 함수\n",
    "    * 루비: 없음\n",
    "* 특정 항목의 색인 찾기 함수\n",
    "    * 파이썬: `index` 메소드\n",
    "    * 루비: `index` 메소드\n",
    "* 특정 항목의 출현 횟수 찾기 함수\n",
    "    * 파이썬: `count` 메소드\n",
    "    * 루비: `count` 메소드    "
   ]
  },
  {
   "cell_type": "markdown",
   "metadata": {},
   "source": [
    "## 연습문제"
   ]
  },
  {
   "cell_type": "markdown",
   "metadata": {},
   "source": [
    "1. 1. 파이썬의 리스트와 루비의 어레이는 사실상 동일하게 작동한다. \n",
    "        반면에 JAVA의 경우는 리스트와 어레이를 엄격하게 구분한다. \n",
    "        서로 어떻게 다른지 예를 들어서 설명하라.\n",
    "   1. Java의 어레이리스트가 파이썬의 리스트, 루비의 어레이와 상당히 유사한 자료형이다.\n",
    "    유사점과 차이점을 예를 들어 설명하라.\n",
    "    <br><br>\n",
    "    참조: https://wayhome25.github.io/cs/2017/04/17/cs-18-1/\n",
    "    <br><br>\n",
    "1. 파이썬 리스트 자료형의 `pop` 메소드와 루비 어레이 자료형의 `delete_at` 메소드가 대표적으로\n",
    "    부수효과가 있는 함수, 즉 순수하지 않은 함수(impure function) 들이다.\n",
    "    부수효과를 갖는 함수는 리턴값을 되돌려 주는 것 이외에 실행중에 메모리의 프레임 상태를 변화시킨다.\n",
    "    두 메소드의 리턴값이 무엇이고 실행중에 메모리의 프레임이 어떻게 변화하는지 예를 들어 설명하라.\n",
    "    \n",
    "    힌트: 파이썬 함수를 이용한 부수효과가 있는/없는 함수에 대한 설명은 [여기](https://github.com/liganega/bpp/blob/master/notes/03-ThinkPython-Functions.ipynb)를 참조한다. "
   ]
  }
 ],
 "metadata": {
  "kernelspec": {
   "display_name": "Python 3",
   "language": "python",
   "name": "python3"
  },
  "language_info": {
   "codemirror_mode": {
    "name": "ipython",
    "version": 3
   },
   "file_extension": ".py",
   "mimetype": "text/x-python",
   "name": "python",
   "nbconvert_exporter": "python",
   "pygments_lexer": "ipython3",
   "version": "3.6.3"
  }
 },
 "nbformat": 4,
 "nbformat_minor": 2
}
