{
 "cells": [
  {
   "cell_type": "markdown",
   "metadata": {},
   "source": [
    "# 다중상속과 믹스인"
   ]
  },
  {
   "cell_type": "markdown",
   "metadata": {},
   "source": [
    "## 다중상속이란?\n",
    "\n",
    "__다중상속__은 하나의 클래스가 여러 클래스의 기능을 상속 받는 것을 의미한다. \n",
    "즉, 부모클래스가 여럿일 수 있다.\n",
    "\n",
    "지금까지 다룬 클래스의 상속은 선형적이었다. \n",
    "즉, 부모클래스가 하나 뿐이었으며 아래 모양을 갖는다. \n",
    "\n",
    "<p>\n",
    "<table cellspacing=\"20\">\n",
    "<tr>\n",
    "<td>\n",
    "<img src=\"images/inheritance02.png\" style=\"width:50\">\n",
    "</td>\n",
    "</tr>\n",
    "</table>\n",
    "</p>\n",
    "\n",
    "반면에 다중상속은 부모클래스가 여럿일 수 있으며 보통 아래 모양을 갖는다. \n",
    "\n",
    "<p>\n",
    "<table cellspacing=\"20\">\n",
    "<tr>\n",
    "<td>\n",
    "<img src=\"images/inheritance03.png\" style=\"width:50\">\n",
    "</td>\n",
    "</tr>\n",
    "</table>\n",
    "</p>"
   ]
  },
  {
   "cell_type": "markdown",
   "metadata": {},
   "source": [
    "## 주요 OOP 지원 프로그래밍언어들의 다중상속 지원 여부"
   ]
  },
  {
   "cell_type": "markdown",
   "metadata": {},
   "source": [
    "파이썬은 다중상속을 지원하지만 루비는 지원하지 않는다. \n",
    "많이 알려진 언어들의 다중상속 지원여부는 다음과 같다."
   ]
  },
  {
   "cell_type": "markdown",
   "metadata": {},
   "source": [
    "&nbsp; &nbsp; &nbsp; &nbsp; &nbsp; &nbsp; &nbsp; &nbsp; &nbsp; &nbsp; &nbsp; &nbsp; &nbsp; &nbsp; &nbsp; 프로그래밍언어 &nbsp; &nbsp; &nbsp; &nbsp; &nbsp; &nbsp; &nbsp; &nbsp; &nbsp; &nbsp; &nbsp; &nbsp; &nbsp; &nbsp; &nbsp; | &nbsp; &nbsp; &nbsp; &nbsp; &nbsp; &nbsp; &nbsp; &nbsp; &nbsp; &nbsp; &nbsp; &nbsp; &nbsp; &nbsp; &nbsp; 다중상속 지원 &nbsp; &nbsp; &nbsp; &nbsp; &nbsp; &nbsp; &nbsp; &nbsp; &nbsp; &nbsp; &nbsp; &nbsp; &nbsp; &nbsp; &nbsp;\n",
    ":----------:| :------------------------------|:------------------------------\n",
    "파이썬 | O \n",
    "C++ | O\n",
    "JavaScript | O\n",
    "루비 | X\n",
    "자바 | X\n",
    "PHP | X"
   ]
  },
  {
   "cell_type": "markdown",
   "metadata": {},
   "source": [
    "## 다중상속을 허용하지 않는 OOP 지원 프로그래밍언어들의 특징"
   ]
  },
  {
   "cell_type": "markdown",
   "metadata": {},
   "source": [
    "루비, 자바, PHP 등의 프로그래밍언어는 OOP를 지원하지만 다중상속을 허용하지 않는다.\n",
    "하지만 다중상속을 허용했을 때 발생할 수 있는 문제들을 원천적으로 방지하기 위한 차원에서 지원하지 않는 것 뿐이며,\n",
    "언어별로 다중상속과 유사하게 작동하는 기술을 지원한다. \n",
    "\n",
    "* 루비: 모듈 활용 믹스인(mixin)\n",
    "    * 아래 설명 참조\n",
    "* 자바: 인터페이스(`interface`)와 클래스의 조합\n",
    "    * 참조 1: https://wikidocs.net/217\n",
    "    * 참조 2: http://mainia.tistory.com/2139\n",
    "* PHP: 트레이트(`trait`)와 클래스의 조합\n",
    "    * 참조 1: http://php.net/manual/kr/language.oop5.traits.php\n",
    "    * 참조 2: https://www.lesstif.com/pages/viewpage.action?pageId=26083451\n",
    "    \n",
    "여기서는 파이썬의 다중상속과 루비의 믹스인 기술을 간단한 예제를 이용하여 소개한다."
   ]
  },
  {
   "cell_type": "markdown",
   "metadata": {},
   "source": [
    "## 파이썬의 다중상속"
   ]
  },
  {
   "cell_type": "markdown",
   "metadata": {},
   "source": []
  },
  {
   "cell_type": "markdown",
   "metadata": {},
   "source": [
    "## 루비의 모듈 활용 믹스인"
   ]
  },
  {
   "cell_type": "markdown",
   "metadata": {},
   "source": []
  }
 ],
 "metadata": {
  "kernelspec": {
   "display_name": "Python 3",
   "language": "python",
   "name": "python3"
  },
  "language_info": {
   "codemirror_mode": {
    "name": "ipython",
    "version": 3
   },
   "file_extension": ".py",
   "mimetype": "text/x-python",
   "name": "python",
   "nbconvert_exporter": "python",
   "pygments_lexer": "ipython3",
   "version": "3.6.4"
  }
 },
 "nbformat": 4,
 "nbformat_minor": 2
}
