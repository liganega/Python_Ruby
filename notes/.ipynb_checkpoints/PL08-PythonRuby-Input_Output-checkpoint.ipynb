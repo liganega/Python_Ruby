{
 "cells": [
  {
   "cell_type": "markdown",
   "metadata": {},
   "source": [
    "# 입력과 출력(Input and Output, I/O)"
   ]
  },
  {
   "cell_type": "markdown",
   "metadata": {},
   "source": [
    "## 입력"
   ]
  },
  {
   "cell_type": "markdown",
   "metadata": {},
   "source": [
    "정해진 일만 하는 프로그램은 별로 흥미롭지 않다.\n",
    "반면에 여러 입력 데이터에 따라 다양하게 반응하는 프로그램은 다양한 방식으로 활용될 수 있다.\n",
    "\n",
    "프로그램이 데이터를 입력받는 방법은 다양하다. \n",
    "\n",
    "> 키보드, 마우스, 터치, 소리, 센서 등등\n",
    "\n",
    "여기서는 사용자가 키보드를 이용하여 직접 입력한 내용에 따라 다른 일을 처리하는 방식을 소개한다."
   ]
  },
  {
   "cell_type": "markdown",
   "metadata": {},
   "source": [
    "## 출력\n",
    "\n",
    "반면에 출력은 프로그램의 실행 중간에 또는 실행이 종료된 후에 특정 값이나 결과에 대한 정보를 사용자에게 전달하는 방식을 의미하며, 다양한 방식으로 구현된다.\n",
    "\n",
    "> 커맨드 창(셸, 터미널), 팝업창, 소리(경고음 등) 등등\n",
    "\n",
    "여기서는 커맨드 창에 출력하는 방식을 소개한다."
   ]
  },
  {
   "cell_type": "markdown",
   "metadata": {},
   "source": [
    "## 예제\n",
    "\n",
    "생활코딩의 Python & Ruby에서 입력과 출력에 대해 다룬 예제는 아래와 같음."
   ]
  },
  {
   "cell_type": "markdown",
   "metadata": {},
   "source": [
    "### 파이썬 예제"
   ]
  },
  {
   "cell_type": "code",
   "execution_count": 12,
   "metadata": {},
   "outputs": [
    {
     "name": "stdout",
     "output_type": "stream",
     "text": [
      "아이디를 입력해주세요.\n",
      "11\n",
      "Hello!, egoing\n"
     ]
    }
   ],
   "source": [
    "in_str = input(\"아이디를 입력해주세요.\\n\")\n",
    "\n",
    "real_egoing = \"11\"\n",
    "real_k8805 = \"ab\"\n",
    "\n",
    "if real_egoing == in_str:\n",
    "    print(\"Hello!, egoing\")\n",
    "elif real_k8805 == in_str:\n",
    "    print(\"Hello!, k8805\")\n",
    "else:\n",
    "    print(\"Who are you?\")"
   ]
  },
  {
   "cell_type": "markdown",
   "metadata": {},
   "source": [
    "### 루비 예제"
   ]
  },
  {
   "cell_type": "markdown",
   "metadata": {},
   "source": [
    "```ruby\n",
    "puts(\"아이디를 입력해주세요\")\n",
    "in_str = gets.chomp()\n",
    "\n",
    "real_egoing = \"11\"\n",
    "real_k8805 = \"ab\"\n",
    "\n",
    "if real_egoing == in_str\n",
    "    puts(\"Hello!, egoing\")\n",
    "elsif real_k8805 == in_str\n",
    "    puts(\"Hello!, k8805\")\n",
    "else\n",
    "    puts(\"Who are you?\")\n",
    "end\n",
    "```"
   ]
  },
  {
   "cell_type": "markdown",
   "metadata": {},
   "source": [
    "## 연습문제"
   ]
  },
  {
   "cell_type": "markdown",
   "metadata": {},
   "source": [
    "1. 루비에서 사용자로부터 입력받을 때 사용하는 `gets.chomp()` 표현식의 의미를 예를 들어 설명하라.\n",
    "    \n",
    "    **힌트:** \n",
    "    * `gets`는 함수이고 `chomp`는 문자열 메소드이다. \n",
    "    * `chomp`를 사용하는 경우와 그렇지 않은 경우를 비교하라.\n",
    "<br><br>    \n",
    "1. 루비 함수인 `gets`의 리턴값의 자료형을 확인하라.\n",
    "<br><br>\n",
    "1. 아래는 정수 두 개를 사용자로 입력받아 덧셈결과를 출력하는 파이썬 코드이다.\n",
    "    ```python\n",
    "    x = input(\"정수 하나를 입력하세요: \")\n",
    "    y = input(\"정수를 하나 더 입력하세요: \")\n",
    "    print('정수 ', x, ' 와 ', y, '의 합은 ', x+y, '입니다.', sep='')\n",
    "    ```\n",
    "    하지만 위 코드를 실행하면 오류가 발생한다. \n",
    "    오류가 발생하지 않도록 코드를 수정하라.\n",
    "    <br>\n",
    "    힌트: `input` 함수의 리턴값의 자료형을 확인할 것.\n",
    "    <br><br>\n",
    "1. 위 문제에서 다룬 파이썬 코드와 동일한 내용의 프로그램을 Ruby, C, Java로 구현하라.\n",
    "<br><br>\n",
    "1. 파이썬의 `print` 함수가 가진 모든 기능을 조사하라.\n",
    "<br><br>\n",
    "1. 아래 파이썬 코드와 동일한 내용의 프로그램을 C와 Java로 구현하라.\n",
    "    ```python\n",
    "    in_str = input(\"아이디를 입력해주세요.\\n\")\n",
    "\n",
    "    real_egoing = \"11\"\n",
    "    real_k8805 = \"ab\"\n",
    "\n",
    "    if real_egoing == in_str:\n",
    "        print(\"Hello!, egoing\")\n",
    "    elif real_k8805 == in_str:\n",
    "        print(\"Hello!, k8805\")\n",
    "    else:\n",
    "    print(\"Who are you?\")\n",
    "    ```"
   ]
  }
 ],
 "metadata": {
  "kernelspec": {
   "display_name": "Python 3",
   "language": "python",
   "name": "python3"
  },
  "language_info": {
   "codemirror_mode": {
    "name": "ipython",
    "version": 3
   },
   "file_extension": ".py",
   "mimetype": "text/x-python",
   "name": "python",
   "nbconvert_exporter": "python",
   "pygments_lexer": "ipython3",
   "version": "3.6.3"
  }
 },
 "nbformat": 4,
 "nbformat_minor": 2
}
