{
 "cells": [
  {
   "cell_type": "markdown",
   "metadata": {},
   "source": [
    "# 컨테이너와 반복문"
   ]
  },
  {
   "cell_type": "markdown",
   "metadata": {},
   "source": [
    "여러 개의 값을 하나로 묶은 값을 **컨테이너(container)** 라고 부르며, \n",
    "경우에 따라 컬렉션(collection) 자료형이라 불리기도 한다.\n",
    "가장 많이 사용되는 컨테이너에는 다음 자료형들이 있다.\n",
    "\n",
    "* 리스트(배열, 어레이)\n",
    "* 튜플\n",
    "* 사전(해시)\n",
    "* 문자열"
   ]
  },
  {
   "cell_type": "markdown",
   "metadata": {},
   "source": [
    "## 다루는 내용"
   ]
  },
  {
   "cell_type": "markdown",
   "metadata": {},
   "source": [
    "1. 리스트(어레이)를 이용하여 컨테이너의 기본 속성들을 알아본다.\n",
    "1. 리스트를 이용한 반복문의 활용법을 살펴본다."
   ]
  },
  {
   "cell_type": "markdown",
   "metadata": {},
   "source": [
    "## 파이썬의 리스트와 루비의 어레이"
   ]
  },
  {
   "cell_type": "markdown",
   "metadata": {},
   "source": [
    "파이썬의 리스트와 루비의 어레이는 거의 동일한 속성과 기능을 갖으며,\n",
    "아래 형태를 가진다.\n",
    "\n",
    "> [항목1, 항목2, ..., 항목n]"
   ]
  },
  {
   "cell_type": "markdown",
   "metadata": {},
   "source": [
    "### 인덱싱"
   ]
  },
  {
   "cell_type": "markdown",
   "metadata": {},
   "source": [
    "리스트(어레이)의 각 항목을 색인(인덱스)을 사용하여 활용할 수 있다."
   ]
  },
  {
   "cell_type": "code",
   "execution_count": 1,
   "metadata": {},
   "outputs": [],
   "source": [
    "names = ['egoing', 'leezche', 'graphitttie']\n",
    "print(names[1])"
   ]
  },
  {
   "cell_type": "code",
   "execution_count": 2,
   "metadata": {},
   "outputs": [],
   "source": [
    "%%ruby\n",
    "names = ['egoing', 'leezche', 'graphitttie']\n",
    "puts(names[1])"
   ]
  },
  {
   "cell_type": "markdown",
   "metadata": {},
   "source": [
    "### 색인 범위\n",
    "\n",
    "인덱싱을 실행할 때 색인 범위에 조심해야 한다.\n",
    "예를 들어, `names` 변수에 할당된 리스트(어레이)에는 3번 인덱스 값이 존재하지 않는다.\n",
    "\n",
    "**주의:** 색인은 0부터 시작한다."
   ]
  },
  {
   "cell_type": "markdown",
   "metadata": {},
   "source": [
    "#### 파이썬\n",
    "색인 범위를 벗어난 인덱싱은 색인오류(IndexError)를 발생시킨다."
   ]
  },
  {
   "cell_type": "code",
   "execution_count": 3,
   "metadata": {},
   "outputs": [
    {
     "ename": "IndexError",
     "evalue": "list index out of range",
     "output_type": "error",
     "traceback": [
      "\u001b[0;31m---------------------------------------------------------------------------\u001b[0m",
      "\u001b[0;31mIndexError\u001b[0m                                Traceback (most recent call last)",
      "\u001b[0;32m<ipython-input-3-2b16c36e87e2>\u001b[0m in \u001b[0;36m<module>\u001b[0;34m()\u001b[0m\n\u001b[1;32m      1\u001b[0m \u001b[0mnames\u001b[0m \u001b[0;34m=\u001b[0m \u001b[0;34m[\u001b[0m\u001b[0;34m'egoing'\u001b[0m\u001b[0;34m,\u001b[0m \u001b[0;34m'leezche'\u001b[0m\u001b[0;34m,\u001b[0m \u001b[0;34m'graphitttie'\u001b[0m\u001b[0;34m]\u001b[0m\u001b[0;34m\u001b[0m\u001b[0m\n\u001b[0;32m----> 2\u001b[0;31m \u001b[0mprint\u001b[0m\u001b[0;34m(\u001b[0m\u001b[0mnames\u001b[0m\u001b[0;34m[\u001b[0m\u001b[0;36m3\u001b[0m\u001b[0;34m]\u001b[0m\u001b[0;34m)\u001b[0m\u001b[0;34m\u001b[0m\u001b[0m\n\u001b[0m",
      "\u001b[0;31mIndexError\u001b[0m: list index out of range"
     ]
    }
   ],
   "source": [
    "names = ['egoing', 'leezche', 'graphitttie']\n",
    "print(names[3])"
   ]
  },
  {
   "cell_type": "markdown",
   "metadata": {},
   "source": [
    "#### 루비\n",
    "루비의 경우는 색인의 범위를 벗어나면 오류 대신에 `nil`이 리턴된다."
   ]
  },
  {
   "cell_type": "code",
   "execution_count": 4,
   "metadata": {},
   "outputs": [
    {
     "name": "stdout",
     "output_type": "stream",
     "text": [
      "\n"
     ]
    }
   ],
   "source": [
    "%%ruby\n",
    "names = ['egoing', 'leezche', 'graphitttie']\n",
    "puts(names[3])"
   ]
  },
  {
   "cell_type": "markdown",
   "metadata": {},
   "source": [
    "### 수정 가능한 자료형\n",
    "\n",
    "파이썬의 리스트와 루비의 어레이 모두 수정 가능한 자료형이다.\n",
    "예를 들어, 아래와 같이 인덱싱을 이용하여 특정 항목의 값을 수정할 수 있다."
   ]
  },
  {
   "cell_type": "code",
   "execution_count": 5,
   "metadata": {},
   "outputs": [
    {
     "name": "stdout",
     "output_type": "stream",
     "text": [
      "['k8805', 'leezche', 'graphitttie']\n"
     ]
    }
   ],
   "source": [
    "names = ['egoing', 'leezche', 'graphitttie']\n",
    "names[0] = 'k8805'\n",
    "print(names)"
   ]
  },
  {
   "cell_type": "code",
   "execution_count": 6,
   "metadata": {},
   "outputs": [
    {
     "name": "stdout",
     "output_type": "stream",
     "text": [
      "[\"k8805\", \"leezche\", \"graphitttie\"]"
     ]
    }
   ],
   "source": [
    "%%ruby\n",
    "names = ['egoing', 'leezche', 'graphitttie']\n",
    "names[0] = 'k8805'\n",
    "print(names)"
   ]
  },
  {
   "cell_type": "markdown",
   "metadata": {},
   "source": [
    "#### 주의사항\n",
    "\n",
    "루비의 `puts` 함수는 어레이를 출력할 때 각각의 항목을 한 줄씩 출력한다."
   ]
  },
  {
   "cell_type": "code",
   "execution_count": 7,
   "metadata": {},
   "outputs": [
    {
     "name": "stdout",
     "output_type": "stream",
     "text": [
      "k8805\n",
      "leezche\n",
      "graphitttie\n"
     ]
    }
   ],
   "source": [
    "%%ruby\n",
    "names = ['egoing', 'leezche', 'graphitttie']\n",
    "names[0] = 'k8805'\n",
    "puts(names)"
   ]
  },
  {
   "cell_type": "markdown",
   "metadata": {},
   "source": [
    "### 항목의 자료형\n",
    "\n",
    "파이썬의 리스트, 루비의 어레이 모두 여러 자료형의 값들을 항목으로 섞어 사용할 수 있다."
   ]
  },
  {
   "cell_type": "code",
   "execution_count": 8,
   "metadata": {},
   "outputs": [
    {
     "name": "stdout",
     "output_type": "stream",
     "text": [
      "['egoing', 25, False]\n"
     ]
    }
   ],
   "source": [
    "print(['egoing', 25, False])"
   ]
  },
  {
   "cell_type": "code",
   "execution_count": 9,
   "metadata": {},
   "outputs": [
    {
     "name": "stdout",
     "output_type": "stream",
     "text": [
      "[\"egoing\", 25, false]"
     ]
    }
   ],
   "source": [
    "%%ruby\n",
    "print(['egoing', 25, false])"
   ]
  },
  {
   "cell_type": "markdown",
   "metadata": {},
   "source": [
    "## 시퀀스 자료형\n",
    "\n",
    "리스트와 어레이처럼 항목들의 순서가 중요한 컨테이너를 **시퀀스 자료형(sequence types)** 라고 부르기도 한다. "
   ]
  },
  {
   "cell_type": "markdown",
   "metadata": {},
   "source": [
    "### 시퀀스 자료형 공통 연산자\n",
    "\n",
    "모든 시퀀스 자료형에 공통으로 사용되는 연산자가 몇 개 있다.\n",
    "대표적으로 아래와 같다.\n",
    "\n",
    "* `in`\n",
    "* `not in`\n",
    "* `+` (결합)\n",
    "* `*` (복제결합)\n",
    "* 길이(length) 알아내는 함수\n",
    "    * 파이썬: `len` 함수 또는 `__len__` 메소드\n",
    "    * 루비: `length` 메소드\n",
    "* 특정 색인의 항목 삭제\n",
    "    * 파이썬: `del` 함수 또는 `pop` 메소드\n",
    "    * 루비: `delete_at` 메소드\n",
    "* 최대값 및 최소값 찾기 함수\n",
    "    * 파이썬: `max`와 `min` 함수\n",
    "    * 루비: 없음\n",
    "* 특정 항목의 색인 찾기 함수\n",
    "    * 파이썬: `index` 메소드\n",
    "    * 루비: `index` 메소드\n",
    "* 특정 항목의 출현 횟수 찾기 함수\n",
    "    * 파이썬: `count` 메소드\n",
    "    * 루비: `count` 메소드    "
   ]
  },
  {
   "cell_type": "markdown",
   "metadata": {},
   "source": [
    "## 반복문(Loop)"
   ]
  },
  {
   "cell_type": "markdown",
   "metadata": {},
   "source": [
    "동일한 일을 반복해서 실행하는 명령문을 나타낸다.\n",
    "기본적으로 `while` 반복문과 `for` 반복문이 있다."
   ]
  },
  {
   "cell_type": "markdown",
   "metadata": {},
   "source": [
    "### `while`  반복문"
   ]
  },
  {
   "cell_type": "markdown",
   "metadata": {},
   "source": [
    "#### 예제\n",
    "\n",
    "아래 내용을 출력하는 프로그램을 `while` 반복문을 이용하여 쉽게 구현할 수 있다.\n",
    "\n",
    "```\n",
    "print(\"Hello world 0\")\n",
    "print(\"Hello world 9\")\n",
    "print(\"Hello world 18\")\n",
    "print(\"Hello world 27\")\n",
    "print(\"Hello world 36\")\n",
    "print(\"Hello world 45\")\n",
    "print(\"Hello world 54\")\n",
    "print(\"Hello world 63\")\n",
    "print(\"Hello world 72\")\n",
    "print(\"Hello world 81\")\n",
    "```"
   ]
  },
  {
   "cell_type": "markdown",
   "metadata": {},
   "source": [
    "* 파이썬"
   ]
  },
  {
   "cell_type": "code",
   "execution_count": 10,
   "metadata": {},
   "outputs": [
    {
     "name": "stdout",
     "output_type": "stream",
     "text": [
      "print(\"Hello world 0\")\n",
      "print(\"Hello world 9\")\n",
      "print(\"Hello world 18\")\n",
      "print(\"Hello world 27\")\n",
      "print(\"Hello world 36\")\n",
      "print(\"Hello world 45\")\n",
      "print(\"Hello world 54\")\n",
      "print(\"Hello world 63\")\n",
      "print(\"Hello world 72\")\n",
      "print(\"Hello world 81\")\n"
     ]
    }
   ],
   "source": [
    "i = 0\n",
    "while i < 10:\n",
    "    print('print(\"Hello world '+str(i*9)+'\")')\n",
    "    i = i + 1"
   ]
  },
  {
   "cell_type": "markdown",
   "metadata": {},
   "source": [
    "* 루비"
   ]
  },
  {
   "cell_type": "code",
   "execution_count": 11,
   "metadata": {},
   "outputs": [
    {
     "name": "stdout",
     "output_type": "stream",
     "text": [
      "puts(\"Hello world 0\")\n",
      "puts(\"Hello world 9\")\n",
      "puts(\"Hello world 18\")\n",
      "puts(\"Hello world 27\")\n",
      "puts(\"Hello world 36\")\n",
      "puts(\"Hello world 45\")\n",
      "puts(\"Hello world 54\")\n",
      "puts(\"Hello world 63\")\n",
      "puts(\"Hello world 72\")\n",
      "puts(\"Hello world 81\")\n"
     ]
    }
   ],
   "source": [
    "%%ruby\n",
    "i = 0\n",
    "while i < 10 do\n",
    "    puts('puts(\"Hello world '+(i*9).to_s()+'\")')\n",
    "    i = i + 1\n",
    "end"
   ]
  },
  {
   "cell_type": "markdown",
   "metadata": {},
   "source": [
    "### `for` 반복문\n",
    "\n",
    "파이썬과 루비에서 `for` 반복문은 컨테이너 자료형과 함께 사용된다.\n",
    "\n",
    "아래 \"컨테이너와 반복문\" 참조할 것."
   ]
  },
  {
   "cell_type": "markdown",
   "metadata": {},
   "source": [
    "### `break`와 `continue`(또는 `next`)"
   ]
  },
  {
   "cell_type": "markdown",
   "metadata": {},
   "source": [
    "반복문에서 `break`와 `continue`(루비에서는 `next`)는 특별한 기능을 갖고 있다.\n",
    "\n",
    "* `break`: 현재 돌고 있는 반복문을 바로 벗어난다.\n",
    "* `continue`(루비에서는 `next`): 현재 돌고 있는 반복문의 처음으로 돌아간다.\n",
    "    * `for` 반복문을 경우 다음 다음 항목을 대상으로 한다."
   ]
  },
  {
   "cell_type": "markdown",
   "metadata": {},
   "source": [
    "#### 예제\n",
    "\n",
    "아래 코드는 0부터 9까지의 숫자를 출력하는 코드이다. 단,\n",
    "* 3으로 나눈 나머지가 1이면 건너 뛴다.\n",
    "* 8을 만나면 반복문을 벗어난다."
   ]
  },
  {
   "cell_type": "code",
   "execution_count": 12,
   "metadata": {},
   "outputs": [
    {
     "name": "stdout",
     "output_type": "stream",
     "text": [
      "0\n",
      "2\n",
      "3\n",
      "5\n",
      "6\n",
      "여기까지 입니다.\n"
     ]
    }
   ],
   "source": [
    "i = 0\n",
    "while i < 10:\n",
    "    if i%3 == 1:       # 3으로 나눈 나머지가 1인 경우\n",
    "        i = i + 1\n",
    "        continue       # 건너뛰기\n",
    "    elif i == 8:       # 8인 경우\n",
    "        break          # while 문 벗어나기\n",
    "    else:\n",
    "        print(i)\n",
    "        i = i + 1\n",
    "\n",
    "print(\"여기까지 입니다.\")  # while이 끝난 후 실행"
   ]
  },
  {
   "cell_type": "code",
   "execution_count": 13,
   "metadata": {},
   "outputs": [
    {
     "name": "stdout",
     "output_type": "stream",
     "text": [
      "0\n",
      "2\n",
      "3\n",
      "5\n",
      "6\n",
      "여기까지 입니다."
     ]
    }
   ],
   "source": [
    "%%ruby\n",
    "i = 0\n",
    "while i < 10 do\n",
    "    if i%3 == 1        # 3으로 나눈 나머지가 1인 경우\n",
    "        i = i + 1\n",
    "        next           # 건너뛰기\n",
    "    elsif i == 8       # 8인 경우\n",
    "        break          # while 문 벗어나기\n",
    "    else\n",
    "        puts(i)\n",
    "        i = i + 1\n",
    "    end\n",
    "end\n",
    "\n",
    "print(\"여기까지 입니다.\")  # while이 끝난 후 실행"
   ]
  },
  {
   "cell_type": "markdown",
   "metadata": {},
   "source": [
    "## 컨테이너와 반복문"
   ]
  },
  {
   "cell_type": "markdown",
   "metadata": {},
   "source": [
    "`for` 반복문은 컨테이너 자료형의 각각의 항목을 대상으로 하여 동일한 일을 수행할 때 유용하다."
   ]
  },
  {
   "cell_type": "markdown",
   "metadata": {},
   "source": [
    "### `for ... in ...` 반복문 예제\n",
    "아래 예제는 리스트 안에 포함되어 있는 항목들을 각각 출력하는 프로그램이다."
   ]
  },
  {
   "cell_type": "code",
   "execution_count": 14,
   "metadata": {},
   "outputs": [
    {
     "name": "stdout",
     "output_type": "stream",
     "text": [
      "egoing\n",
      "leezche\n",
      "graphittie\n"
     ]
    }
   ],
   "source": [
    "members = ['egoing', 'leezche', 'graphittie']\n",
    "for member in members:\n",
    "    print(member)"
   ]
  },
  {
   "cell_type": "code",
   "execution_count": 15,
   "metadata": {},
   "outputs": [
    {
     "name": "stdout",
     "output_type": "stream",
     "text": [
      "egoing\n",
      "leezche\n",
      "graphittie\n"
     ]
    }
   ],
   "source": [
    "%%ruby\n",
    "members = ['egoing', 'leezche', 'graphittie']\n",
    "for member in members do\n",
    "    puts(member)\n",
    "end"
   ]
  },
  {
   "cell_type": "markdown",
   "metadata": {},
   "source": [
    "### 로그인 예제"
   ]
  },
  {
   "cell_type": "markdown",
   "metadata": {},
   "source": [
    "아이디를 입력 받아서 회원여부에 따라 다른 행동을 하는 프로그램은 아래와 같다.\n",
    "\n",
    "* 회원인 경우: `Hello! 회원아이디`를 출력하고 실행 멈춤\n",
    "    * 파이썬: `sys` 모듈의 `exit` 함수 활용\n",
    "    * 루비: `exit` 함수 활용\n",
    "* 비회원인 경우: `Who are you?` 출력"
   ]
  },
  {
   "cell_type": "markdown",
   "metadata": {},
   "source": [
    "#### 파이썬 코드\n",
    "```python\n",
    "input_id = input(\"아이디를 입력해주세요.\\n\")\n",
    "members = ['egoing', 'k8805', 'leezche']\n",
    "for member in members:\n",
    "    if member == input_id:\n",
    "        print('Hello!, '+member)\n",
    "        import sys\n",
    "        sys.exit()\n",
    "print('Who are you?')\n",
    "```"
   ]
  },
  {
   "cell_type": "markdown",
   "metadata": {},
   "source": [
    "#### 루비 코드\n",
    "```ruby\n",
    "puts(\"아이디를 입력해주세요\")\n",
    "input_id = gets.chomp()\n",
    "members = ['egoing', 'k8805', 'leezche']\n",
    "for member in members do\n",
    "    if member == input_id\n",
    "        puts('Hello!, '+member)\n",
    "        exit\n",
    "    end\n",
    "end\n",
    "puts('Who are you?')\n",
    "```"
   ]
  },
  {
   "cell_type": "markdown",
   "metadata": {},
   "source": [
    "## 컨테이너와 이터레이터"
   ]
  },
  {
   "cell_type": "markdown",
   "metadata": {},
   "source": [
    "### 컨테이너"
   ]
  },
  {
   "cell_type": "markdown",
   "metadata": {},
   "source": [
    "리스트, 문자열 등과 같이 여러 개의 값을 하나로 통합하여 다루는 값들을 컨테이너라고 부른다고 하였다.\n",
    "\n",
    "컨테이너는 인덱싱 처럼 포함된 항목을 확인하거나 특정 항목이 포함되어 있는지 여부를 확인해주는 기능을 갖고 있다."
   ]
  },
  {
   "cell_type": "markdown",
   "metadata": {},
   "source": [
    "#### 인덱싱"
   ]
  },
  {
   "cell_type": "code",
   "execution_count": 16,
   "metadata": {},
   "outputs": [
    {
     "name": "stdout",
     "output_type": "stream",
     "text": [
      "egoing\n"
     ]
    }
   ],
   "source": [
    "members = ['egoing', 'leezche', 'graphittie']\n",
    "print(members[0])"
   ]
  },
  {
   "cell_type": "code",
   "execution_count": 17,
   "metadata": {},
   "outputs": [
    {
     "name": "stdout",
     "output_type": "stream",
     "text": [
      "egoing\n"
     ]
    }
   ],
   "source": [
    "%%ruby\n",
    "members = ['egoing', 'leezche', 'graphittie']\n",
    "puts(members[0])"
   ]
  },
  {
   "cell_type": "markdown",
   "metadata": {},
   "source": [
    "#### 원소 확인 연산자"
   ]
  },
  {
   "cell_type": "code",
   "execution_count": 18,
   "metadata": {},
   "outputs": [
    {
     "name": "stdout",
     "output_type": "stream",
     "text": [
      "True\n"
     ]
    }
   ],
   "source": [
    "members = ['egoing', 'leezche', 'graphittie']\n",
    "print('leezche' in members)"
   ]
  },
  {
   "cell_type": "code",
   "execution_count": 19,
   "metadata": {},
   "outputs": [
    {
     "name": "stdout",
     "output_type": "stream",
     "text": [
      "true\n"
     ]
    }
   ],
   "source": [
    "%%ruby\n",
    "members = ['egoing', 'leezche', 'graphittie']\n",
    "puts(members.include?('leezche'))"
   ]
  },
  {
   "cell_type": "markdown",
   "metadata": {},
   "source": [
    "### 이터레이터"
   ]
  },
  {
   "cell_type": "markdown",
   "metadata": {},
   "source": [
    "먼저 아래 파이썬 예제를 다시 살펴보자."
   ]
  },
  {
   "cell_type": "code",
   "execution_count": 20,
   "metadata": {},
   "outputs": [
    {
     "name": "stdout",
     "output_type": "stream",
     "text": [
      "egoing\n",
      "leezche\n",
      "graphittie\n"
     ]
    }
   ],
   "source": [
    "members = ['egoing', 'leezche', 'graphittie']\n",
    "for member in members:\n",
    "    print(member)"
   ]
  },
  {
   "cell_type": "markdown",
   "metadata": {},
   "source": [
    "위 코드를 보면서 다음 두 가지 질문을 할 수 있다.\n",
    "\n",
    "1. `member` 변수에 어떻게 `members` 리스트에 포함된 항목들이 차례대로 할당되는가?\n",
    "1. `member` 변수에  할당한 더이상의 원소가 `members` 리스트에 남아있지 않다라는 것을 어떻게 아는가?"
   ]
  },
  {
   "cell_type": "markdown",
   "metadata": {},
   "source": [
    "위 질문에 답할 수 있는 자료형을 **이터레이터(Iterator)**라고 부른다."
   ]
  },
  {
   "cell_type": "markdown",
   "metadata": {},
   "source": [
    "#### 주의사항\n",
    "* 리스트와 문자열 같은 컨테이너가 이터레이터 자료형은 아니다.\n",
    "* 하지만 `for` 반복문 등에 사용될 경우 이터레이터 자료형으로 형변환되거나 아니면 비슷한 자료형으로 취급된다."
   ]
  },
  {
   "cell_type": "markdown",
   "metadata": {},
   "source": [
    "#### Java의 Iterator 인터페이스"
   ]
  },
  {
   "cell_type": "markdown",
   "metadata": {},
   "source": [
    "자바의 `java.util` 팩키지 안에 `Iterator` 인터페이스가 구현되어 있다.\n",
    "`Iterator` 인터페이스를 구현(implement) 하여 객체를 생성하기 위해서는 반드시 아래 두 개의 메소드를 구현해야 한다.\n",
    "* `next` 메소드: 다음 항목을 리턴하는 메소드\n",
    "* `hasNext` 메소드: 다음 항목의 존재여부 확인 메소드"
   ]
  },
  {
   "cell_type": "markdown",
   "metadata": {},
   "source": [
    "#### 파이썬의 이터레이터 자료형"
   ]
  },
  {
   "cell_type": "markdown",
   "metadata": {},
   "source": [
    "예를 들어, 리스트는 이터레이터 자료형이 아니다.\n",
    "하지만 앞서 언급한 대로 `for ... in ...` 반복문의 경우처럼 \n",
    "이터레이터 자료형으로 강제로 형변환되는 방식으로 사용된다.\n",
    "실제로 리스트 클래스에 `__iter__`라는 메소드가 형변환을 시킨다.\n",
    "\n",
    "아래 예제는 리스트를 이터레이터 자료형으로 형변환시키는 메소드를 설명한다."
   ]
  },
  {
   "cell_type": "code",
   "execution_count": 21,
   "metadata": {},
   "outputs": [
    {
     "name": "stdout",
     "output_type": "stream",
     "text": [
      "이터레이터로 형변환 전:\n",
      "<class 'list'>\n",
      "\n",
      "이터레이터로 형변환 후:\n",
      "<class 'list_iterator'>\n"
     ]
    }
   ],
   "source": [
    "print(\"이터레이터로 형변환 전:\")\n",
    "members = ['egoing', 'leezche', 'graphittie']\n",
    "print(type(members))                    # list 자료형\n",
    "\n",
    "print(\"\")\n",
    "print(\"이터레이터로 형변환 후:\")\n",
    "member_iterator = members.__iter__()    # 이터레이터로 형변환\n",
    "print(type(member_iterator))"
   ]
  },
  {
   "cell_type": "markdown",
   "metadata": {},
   "source": [
    "실제로 이터레이터 자료형에는 아래 두 메소드가 포함되어 있다.\n",
    "* `__next__` 메소드: 다음 항목 리턴\n",
    "* `__length_hint__` 메소드: 몇 개의 항목이 남아 있는지를 리턴. \n",
    "    * 리턴값이 0이면 `__next__` 메소드를 호출할 때 오류 발생"
   ]
  },
  {
   "cell_type": "code",
   "execution_count": 22,
   "metadata": {},
   "outputs": [
    {
     "data": {
      "text/plain": [
       "3"
      ]
     },
     "execution_count": 22,
     "metadata": {},
     "output_type": "execute_result"
    }
   ],
   "source": [
    "member_iterator.__length_hint__()"
   ]
  },
  {
   "cell_type": "code",
   "execution_count": 23,
   "metadata": {},
   "outputs": [
    {
     "data": {
      "text/plain": [
       "'egoing'"
      ]
     },
     "execution_count": 23,
     "metadata": {},
     "output_type": "execute_result"
    }
   ],
   "source": [
    "member_iterator.__next__()"
   ]
  },
  {
   "cell_type": "code",
   "execution_count": 24,
   "metadata": {},
   "outputs": [
    {
     "data": {
      "text/plain": [
       "2"
      ]
     },
     "execution_count": 24,
     "metadata": {},
     "output_type": "execute_result"
    }
   ],
   "source": [
    "member_iterator.__length_hint__()"
   ]
  },
  {
   "cell_type": "code",
   "execution_count": 25,
   "metadata": {},
   "outputs": [
    {
     "data": {
      "text/plain": [
       "'leezche'"
      ]
     },
     "execution_count": 25,
     "metadata": {},
     "output_type": "execute_result"
    }
   ],
   "source": [
    "member_iterator.__next__()"
   ]
  },
  {
   "cell_type": "code",
   "execution_count": 26,
   "metadata": {},
   "outputs": [
    {
     "data": {
      "text/plain": [
       "1"
      ]
     },
     "execution_count": 26,
     "metadata": {},
     "output_type": "execute_result"
    }
   ],
   "source": [
    "member_iterator.__length_hint__()"
   ]
  },
  {
   "cell_type": "code",
   "execution_count": 27,
   "metadata": {},
   "outputs": [
    {
     "data": {
      "text/plain": [
       "'graphittie'"
      ]
     },
     "execution_count": 27,
     "metadata": {},
     "output_type": "execute_result"
    }
   ],
   "source": [
    "member_iterator.__next__()"
   ]
  },
  {
   "cell_type": "code",
   "execution_count": 28,
   "metadata": {},
   "outputs": [
    {
     "data": {
      "text/plain": [
       "0"
      ]
     },
     "execution_count": 28,
     "metadata": {},
     "output_type": "execute_result"
    }
   ],
   "source": [
    "member_iterator.__length_hint__()"
   ]
  },
  {
   "cell_type": "code",
   "execution_count": 29,
   "metadata": {},
   "outputs": [
    {
     "ename": "StopIteration",
     "evalue": "",
     "output_type": "error",
     "traceback": [
      "\u001b[0;31m---------------------------------------------------------------------------\u001b[0m",
      "\u001b[0;31mStopIteration\u001b[0m                             Traceback (most recent call last)",
      "\u001b[0;32m<ipython-input-29-99f5b5cee803>\u001b[0m in \u001b[0;36m<module>\u001b[0;34m()\u001b[0m\n\u001b[0;32m----> 1\u001b[0;31m \u001b[0mmember_iterator\u001b[0m\u001b[0;34m.\u001b[0m\u001b[0m__next__\u001b[0m\u001b[0;34m(\u001b[0m\u001b[0;34m)\u001b[0m\u001b[0;34m\u001b[0m\u001b[0m\n\u001b[0m",
      "\u001b[0;31mStopIteration\u001b[0m: "
     ]
    }
   ],
   "source": [
    "member_iterator.__next__()"
   ]
  },
  {
   "cell_type": "markdown",
   "metadata": {},
   "source": [
    "**주의:** 파이썬의 리스트 클래스에는 `__next__` 메소드가 존재하지 않는다."
   ]
  },
  {
   "cell_type": "code",
   "execution_count": 30,
   "metadata": {},
   "outputs": [
    {
     "ename": "AttributeError",
     "evalue": "'list' object has no attribute '__next__'",
     "output_type": "error",
     "traceback": [
      "\u001b[0;31m---------------------------------------------------------------------------\u001b[0m",
      "\u001b[0;31mAttributeError\u001b[0m                            Traceback (most recent call last)",
      "\u001b[0;32m<ipython-input-30-26e11cc2f062>\u001b[0m in \u001b[0;36m<module>\u001b[0;34m()\u001b[0m\n\u001b[0;32m----> 1\u001b[0;31m \u001b[0mmembers\u001b[0m\u001b[0;34m.\u001b[0m\u001b[0m__next__\u001b[0m\u001b[0;34m(\u001b[0m\u001b[0;34m)\u001b[0m\u001b[0;34m\u001b[0m\u001b[0m\n\u001b[0m",
      "\u001b[0;31mAttributeError\u001b[0m: 'list' object has no attribute '__next__'"
     ]
    }
   ],
   "source": [
    "members.__next__()"
   ]
  },
  {
   "cell_type": "markdown",
   "metadata": {},
   "source": [
    "#### 루비의 이터레이터 자료형"
   ]
  },
  {
   "cell_type": "markdown",
   "metadata": {},
   "source": [
    "앞서 보았듯 루비의 어레이 자료형에 대해 `for ... in ....` 반복문을 사용할 수 있다."
   ]
  },
  {
   "cell_type": "code",
   "execution_count": 31,
   "metadata": {},
   "outputs": [
    {
     "name": "stdout",
     "output_type": "stream",
     "text": [
      "egoing\n",
      "leezche\n",
      "graphittie\n"
     ]
    }
   ],
   "source": [
    "%%ruby\n",
    "members = ['egoing', 'leezche', 'graphittie']\n",
    "for member in members do\n",
    "    puts(member)\n",
    "end"
   ]
  },
  {
   "cell_type": "markdown",
   "metadata": {},
   "source": [
    "그런데 루비의 어레이 자료형은 그 자체가 이터레이터 자료형이며, `each` 메소드가 매번 다음 항목을 리턴한다.\n",
    "아래 코드는 위 코드와 동일한 기능을 수행한다.\n",
    "\n",
    "**참조:** 아래 코드에서 사용된 `do ... end` 명령문은 여기서는 더이상 설명하지 않는다."
   ]
  },
  {
   "cell_type": "code",
   "execution_count": 32,
   "metadata": {},
   "outputs": [
    {
     "name": "stdout",
     "output_type": "stream",
     "text": [
      "egoing\n",
      "leezche\n",
      "graphittie\n"
     ]
    }
   ],
   "source": [
    "%%ruby\n",
    "members = ['egoing', 'leezche', 'graphittie']\n",
    "members.each do |member|\n",
    "    puts(member)\n",
    "end"
   ]
  },
  {
   "cell_type": "markdown",
   "metadata": {},
   "source": [
    "#### 레인지(range)  이터레이터\n",
    "\n",
    "파이썬과 루비 모두 **레인지**를 제공한다.\n",
    "여기서 레인지란 특정 구간의 값들을 표시하는 수단을 의미하며, 레인지 자료형 역시 대표적인 이터레이터이다."
   ]
  },
  {
   "cell_type": "markdown",
   "metadata": {},
   "source": [
    "* 파이썬: `range` 함수를 이용한다. 인자는 최대 3개 사용한다.\n",
    "    * `range(n)`: `[0, 1, ..., n-1]`에 대응하는 값이다.\n",
    "    * `range(n, m)`: `[n, n+1, ..., m-1]`에 대응하는 값이다.\n",
    "    * `range(n, m, k)`: `[n, n+k, n+2k ..., n-p*k]`에 대응하는 값이다.\n",
    "        * 단, `p`는 `n-p*k`가 `k` 보다 작게 되도록 하는 최대 정수이다."
   ]
  },
  {
   "cell_type": "markdown",
   "metadata": {},
   "source": [
    "**주의:** 리스트의 경우처럼 `range` 자료형에 `__iter__` 메소드가 있으며 \n",
    "`for` 반복문에 사용될 경우 자동으로 호출되어 이터레이터로 사용된다."
   ]
  },
  {
   "cell_type": "code",
   "execution_count": 33,
   "metadata": {},
   "outputs": [
    {
     "name": "stdout",
     "output_type": "stream",
     "text": [
      "0 1 2 3 4 5 6 7 8 9 "
     ]
    }
   ],
   "source": [
    "for num in range(10):\n",
    "    print(num, end=\" \")"
   ]
  },
  {
   "cell_type": "code",
   "execution_count": 34,
   "metadata": {},
   "outputs": [
    {
     "name": "stdout",
     "output_type": "stream",
     "text": [
      "2 3 4 5 6 7 8 9 "
     ]
    }
   ],
   "source": [
    "for num in range(2, 10):\n",
    "    print(num, end=\" \")"
   ]
  },
  {
   "cell_type": "code",
   "execution_count": 35,
   "metadata": {},
   "outputs": [
    {
     "name": "stdout",
     "output_type": "stream",
     "text": [
      "2 5 8 "
     ]
    }
   ],
   "source": [
    "for num in range(2, 10, 3):\n",
    "    print(num, end=\" \")"
   ]
  },
  {
   "cell_type": "markdown",
   "metadata": {},
   "source": [
    "* 루비: `..` 기호를 이용한다. \n",
    "    * `n..m`: `[n, n+1, ..., m]`에 대응하는 값이다.\n",
    "    * `(n..m).step(k)`: `[n, n+k, n+2k ..., n-p*k]`에 대응하는 값이다.\n",
    "        * 단, `p`는 `n-p*k`가 `k` 보다 작게 되도록 하는 최대 정수이다."
   ]
  },
  {
   "cell_type": "markdown",
   "metadata": {},
   "source": [
    "**주의:** 어레이의 경우처럼 `range` 자료형은 기본적으로 이터레이터 자료형이다. "
   ]
  },
  {
   "cell_type": "code",
   "execution_count": 36,
   "metadata": {},
   "outputs": [
    {
     "name": "stdout",
     "output_type": "stream",
     "text": [
      "2 3 4 5 6 7 8 9 10 "
     ]
    }
   ],
   "source": [
    "%%ruby\n",
    "for num in (2..10) do\n",
    "    print(num)\n",
    "    print(\" \")\n",
    "end"
   ]
  },
  {
   "cell_type": "code",
   "execution_count": 37,
   "metadata": {},
   "outputs": [
    {
     "name": "stdout",
     "output_type": "stream",
     "text": [
      "2 5 8 "
     ]
    }
   ],
   "source": [
    "%%ruby\n",
    "for num in (2..10).step(3) do\n",
    "    print(num)\n",
    "    print(\" \")\n",
    "end"
   ]
  },
  {
   "cell_type": "markdown",
   "metadata": {},
   "source": [
    "**주의:** 어레이의 경우처럼 `range` 자료형은 기본적으로 이터레이터 자료형이며, \n",
    "`each` 메소드와 `do ... end` 명령문과 함께 사용가능하다."
   ]
  },
  {
   "cell_type": "code",
   "execution_count": 38,
   "metadata": {},
   "outputs": [
    {
     "name": "stdout",
     "output_type": "stream",
     "text": [
      "2 3 4 5 6 7 8 9 10 "
     ]
    }
   ],
   "source": [
    "%%ruby\n",
    "(2..10).each do |num|\n",
    "    print(num)\n",
    "    print(\" \")\n",
    "end"
   ]
  },
  {
   "cell_type": "code",
   "execution_count": 39,
   "metadata": {},
   "outputs": [
    {
     "name": "stdout",
     "output_type": "stream",
     "text": [
      "2 5 8 "
     ]
    }
   ],
   "source": [
    "%%ruby\n",
    "(2..10).step(3).each do |num|\n",
    "    print(num)\n",
    "    print(\" \")\n",
    "end"
   ]
  },
  {
   "cell_type": "markdown",
   "metadata": {},
   "source": [
    "## 연습문제"
   ]
  },
  {
   "cell_type": "markdown",
   "metadata": {},
   "source": [
    "1. 1. 파이썬의 리스트와 루비의 어레이는 사실상 동일하게 작동한다. \n",
    "        반면에 JAVA의 경우는 리스트와 어레이를 엄격하게 구분한다. \n",
    "        서로 어떻게 다른지 예를 들어서 설명하라.\n",
    "   1. Java의 어레이리스트가 파이썬의 리스트, 루비의 어레이와 상당히 유사한 자료형이다.\n",
    "    유사점과 차이점을 예를 들어 설명하라.\n",
    "    <br><br>\n",
    "    참조: https://wayhome25.github.io/cs/2017/04/17/cs-18-1/\n",
    "    <br><br>\n",
    "1. 아래 두 파이썬 코드의 차이점을 확인한 후에 어떤 코드가 보다 좋은지 이유를 설명하라.\n",
    "    * 코드 1\n",
    "```python\n",
    "members = ['egoing', 'leezche', 'k8806']\n",
    "i = 0\n",
    "while i < 3:\n",
    "        print(members[i])\n",
    "        i = i + 1\n",
    "```\n",
    "    * 코드 2\n",
    "```python\n",
    "members = ['egoing', 'leezche', 'k8806']\n",
    "i = 0\n",
    "while i < len(members):\n",
    "        print(members[i])\n",
    "        i = i + 1\n",
    "```\n",
    "1. 파이썬 리스트 자료형의 `pop` 메소드와 루비 어레이 자료형의 `delete_at` 메소드가 대표적으로\n",
    "    부수효과가 있는 함수, 즉 순수하지 않은 함수(impure function) 들이다.\n",
    "    부수효과를 갖는 함수는 리턴값을 되돌려 주는 것 이외에 실행중에 메모리의 프레임 상태를 변화시킨다.\n",
    "    두 메소드의 리턴값이 무엇이고 실행중에 메모리의 프레임이 어떻게 변화하는지 예를 들어 설명하라.\n",
    "    \n",
    "    힌트: 파이썬 함수를 이용한 부수효과가 있는/없는 함수에 대한 설명은 [여기](https://github.com/liganega/bpp/blob/master/notes/03-ThinkPython-Functions.ipynb)를 참조한다.\n",
    "    <br><br>\n",
    "1. 파이썬에서 `continue`와 `pass` 두 명령문의 차이점을 예를 들어 설명하라.\n",
    "    <br><br>\n",
    "1. 파이썬의 `pass`에 상응하는 루비의 명령문이 무엇인지 예를 들어 설명하라.\n",
    "    <br><br>\n",
    "1. C와 Java에서는 `for ... in 컨테이너` 형식의 반복문이 지원되지 않는다.\n",
    "    아래 루비 코드를 C와 Java로 구현하라. 단, 일반적인 `for` 반복문을 사용해야 한다.\n",
    "```ruby\n",
    "members = ['egoing', 'leezche', 'graphittie']\n",
    "for member in members do\n",
    "    puts(member)\n",
    "end\n",
    "```\n",
    "1. 아래 파이썬 코드를 `sys.exit` 함수를 활용하지 않으면서 동일한 기능을 갖도록 수정하라.\n",
    "```python\n",
    "input_id = input(\"아이디를 입력해주세요.\\n\")\n",
    "members = ['egoing', 'k8805', 'leezche']\n",
    "for member in members:\n",
    "     if member == input_id:\n",
    "       print('Hello!, '+ member)\n",
    "       import sys\n",
    "       sys.exit()\n",
    "print('Who are you?')\n",
    "```\n",
    "    힌트: 회원명부인 `members` 리스트의 항목을 확인할 때 해당 아이디의 존재여부를\n",
    "    기억하는 장치가 필요함\n",
    "    <br><br>\n",
    "1. 아래 코드의 문제점을 설명하라.\n",
    "```ruby\n",
    "puts(\"아이디를 입력해주세요\")\n",
    "input_id = gets.chomp()\n",
    "real_egoing = 'egoing'\n",
    "real_k8805 = 'k8805'\n",
    "real_leezche = 'leezche'\n",
    "if real_egoing = input_id\n",
    "     puts(\"Hello!, \" + input_id)\n",
    "elsif real_k8805 = input_id\n",
    "     puts(\"Hello!, \" + input_id)\n",
    "elsif real_leezche = input_id\n",
    "     puts(\"Hello!, \" + input_id)\n",
    "else\n",
    "     puts('Who are you?')\n",
    "end\n",
    "```\n",
    "1. 자바의 java.util 팩키지에 포함된 Iterator 인터페이스를 이용하여 이터레이터 클래스를 하나 생성하라.\n",
    "    <br><br>"
   ]
  }
 ],
 "metadata": {
  "kernelspec": {
   "display_name": "Python 3",
   "language": "python",
   "name": "python3"
  },
  "language_info": {
   "codemirror_mode": {
    "name": "ipython",
    "version": 3
   },
   "file_extension": ".py",
   "mimetype": "text/x-python",
   "name": "python",
   "nbconvert_exporter": "python",
   "pygments_lexer": "ipython3",
   "version": "3.6.3"
  }
 },
 "nbformat": 4,
 "nbformat_minor": 2
}
