{
 "cells": [
  {
   "cell_type": "markdown",
   "metadata": {},
   "source": [
    "# 프로그래밍언어의 역사\n",
    "\n",
    "* 한양대학교 에리카캠퍼스 소프트웨어학부 도경구 교수님 강의자료를 발췌한 내용임."
   ]
  },
  {
   "cell_type": "markdown",
   "metadata": {},
   "source": [
    "## 주요 프로그래밍언어 개발 역사 전체그림 "
   ]
  },
  {
   "cell_type": "markdown",
   "metadata": {
    "collapsed": true
   },
   "source": [
    "<p>\n",
    "<table cellspacing=\"20\">\n",
    "<tr>\n",
    "<td>\n",
    "<img src=\"images/history/slide0-history_Page_02.jpg\" style=\"width:700px\">\n",
    "</td>\n",
    "</tr>\n",
    "</table>\n",
    "</p>"
   ]
  },
  {
   "cell_type": "markdown",
   "metadata": {},
   "source": [
    "## 1950년대 - 튜링 기계, 폰 노이만 기계, 프로그래밍언어"
   ]
  },
  {
   "cell_type": "markdown",
   "metadata": {},
   "source": [
    "### 진공관 컴퓨터의 출현\n",
    "* [튜링 기계](http://www.aistudy.com/ai/algo_turing.htm)(Turing machine)을 진공관을 이용하여 현실화함. \n",
    "* 진공관끼리 선을 연결하는 작업자체가 프로그래밍"
   ]
  },
  {
   "cell_type": "markdown",
   "metadata": {
    "collapsed": true
   },
   "source": [
    "<p>\n",
    "<table cellspacing=\"20\">\n",
    "<tr>\n",
    "<td>\n",
    "<img src=\"images/history/slide0-history_Page_03.jpg\" style=\"width:700px\">\n",
    "</td>\n",
    "</tr>\n",
    "</table>\n",
    "</p>"
   ]
  },
  {
   "cell_type": "markdown",
   "metadata": {},
   "source": [
    "### 폰 노이만 기계\n",
    "* 폰 노이만(von Neumann, J.)이 괴델(G&ouml;del)의 이론에서 영감을 얻어 프로그램을 수로 표현하여 \n",
    "    메모리에 저장하여 실행시킴\n",
    "* 최초의 기계어 구현\n",
    "* 어셈블리 언어는 기계어에 이름을 붙인 것에 불과함. \n",
    "* 어셈블러는 어셈블리 프로그램을 기계어로 번역함"
   ]
  },
  {
   "cell_type": "markdown",
   "metadata": {
    "collapsed": true
   },
   "source": [
    "<p>\n",
    "<table cellspacing=\"20\">\n",
    "<tr>\n",
    "<td>\n",
    "<img src=\"images/history/slide0-history_Page_04.jpg\" style=\"width:700\">\n",
    "</td>\n",
    "</tr>\n",
    "</table>\n",
    "</p>"
   ]
  },
  {
   "cell_type": "markdown",
   "metadata": {},
   "source": [
    "### 프로그래밍언어의 출현\n",
    "* Fortran\n",
    "    * Fotran = FORmula TRANslator\n",
    "    * 과학자들이 풀 문제를 수식으로 쓰면 이를 컴퓨터가 계산 할 수 있도록 하는 \"자동 프로그래밍 언어\"\n",
    "    * 프로그램을 읽고 어셈블리 언어로 번역하는 파서와 컴파일러를 개발함. 대성공!!\n",
    "    * IBM의 백커스(Backus, J.)가 개발\n",
    "* COBOL    \n",
    "    * COBOL = COmmon Business-Oriented Language\n",
    "    * 비즈니스에 사용할 수 있는 \"자동 프로그래밍언어\""
   ]
  },
  {
   "cell_type": "markdown",
   "metadata": {
    "collapsed": true
   },
   "source": [
    "<p>\n",
    "<table cellspacing=\"20\">\n",
    "<tr>\n",
    "<td>\n",
    "<img src=\"images/history/slide0-history_Page_05.jpg\" style=\"width:700\">\n",
    "</td>\n",
    "</tr>\n",
    "</table>\n",
    "</p>"
   ]
  },
  {
   "cell_type": "markdown",
   "metadata": {},
   "source": [
    "## 1960년대 - 문법, 블록구조, 시스템 언어, 파싱기술, 컴파일 기술, 실행 의미론"
   ]
  },
  {
   "cell_type": "markdown",
   "metadata": {},
   "source": [
    "### Algol60\n",
    "* 스택stack이라는 새로운 개념의 자료구조를 처음으로 사용한 언어\n",
    "* 50년대 후반, 유럽의 컴퓨터 학자들이 위원회를 조직하여 만듦\n",
    "* 혁신 포인트\n",
    "    * 문법으로 구문 정의 \n",
    "    * 자동 메모리 관리 가능\n",
    "    * 재귀 프로시저 개념\n",
    "    * 나우어(Naur, P.)가 프로그래밍언어의 의미를 귀납적으로 정의함.\n",
    "* Algol은 혁신적인 언어였지만 IBM의 마케팅에 밀려 빛을 보지 못함."
   ]
  },
  {
   "cell_type": "markdown",
   "metadata": {
    "collapsed": true
   },
   "source": [
    "<p>\n",
    "<table cellspacing=\"20\">\n",
    "<tr>\n",
    "<td>\n",
    "<img src=\"images/history/slide0-history_Page_06.jpg\" style=\"width:700\">\n",
    "</td>\n",
    "</tr>\n",
    "</table>\n",
    "</p>"
   ]
  },
  {
   "cell_type": "markdown",
   "metadata": {},
   "source": [
    "### 시스템 프로그래밍언어\n",
    "* 하드웨어를 동작시키는 운영체제 등의 시스템을 만들기 위해 필요한 언어\n",
    "* 어셈블리어 같은 언어들이 지속적으로 개발됨. \n",
    "* CPL(Common Programming Language)에서 출발하여, BCPL, B, C가 차례로 개발됨.\n",
    "    * 캠브리지와 옥스포드 대학의 스트라치(Strachey, C.)가 개발함."
   ]
  },
  {
   "cell_type": "markdown",
   "metadata": {
    "collapsed": true
   },
   "source": [
    "<p>\n",
    "<table cellspacing=\"20\">\n",
    "<tr>\n",
    "<td>\n",
    "<img src=\"images/history/slide0-history_Page_07.jpg\" style=\"width:700\">\n",
    "</td>\n",
    "</tr>\n",
    "</table>\n",
    "</p>"
   ]
  },
  {
   "cell_type": "markdown",
   "metadata": {},
   "source": [
    "### 파서, 번역기, 해석기, 컴파일러\n",
    "* 파서와 번역기 연구가 활발하게 진행됨. \n",
    "* 파서: 정의된 구문 문법에 따라 프로그램 코드를 분석한 결과를 돌려주는 구문분석기\n",
    "* 번역기: 파서가 만들어 내는 파서트리를 입력으로 받아 의미를 계산하여 결과를 돌려주는 프로그램\n",
    "* 해석기(인터프리터, interpreter): 번역기의 결과가 바로 실행되는 경우 번역기를 해석기라 부름.\n",
    "    * 파이썬, 루비 등이 대표적인 해석기 언어임\n",
    "* 컴파일러(compiler): 출력이 컴퓨터에서 실행할 수 있는 기계어코드 또는 어셈블리코드인 경우 번역기를 컴파일러라 부름.\n",
    "    * C, Java 등이 대표적인 컴파일러 언어임."
   ]
  },
  {
   "cell_type": "markdown",
   "metadata": {
    "collapsed": true
   },
   "source": [
    "<p>\n",
    "<table cellspacing=\"20\">\n",
    "<tr>\n",
    "<td>\n",
    "<img src=\"images/history/slide0-history_Page_08.jpg\" style=\"width:700\">\n",
    "</td>\n",
    "</tr>\n",
    "</table>\n",
    "</p>"
   ]
  },
  {
   "cell_type": "markdown",
   "metadata": {},
   "source": [
    "### 언어의 의미와 가상머신\n",
    "* 언어의 의미를 귀납적으로 정의하여 그 언어의 프로그램이 직접 실행되는 가상머신 개발 시작. \n",
    "* Vienna Definition Language\n",
    "    * 프로그래밍언어의 실행의미를 표현해주는 최초의 가상머신\n",
    "    * 비엔나의 IBM 연구소에서 디네스 비요너와 크리프 존스가 주도하여 개발한 . "
   ]
  },
  {
   "cell_type": "markdown",
   "metadata": {
    "collapsed": true
   },
   "source": [
    "<p>\n",
    "<table cellspacing=\"20\">\n",
    "<tr>\n",
    "<td>\n",
    "<img src=\"images/history/slide0-history_Page_10.jpg\" style=\"width:700\">\n",
    "</td>\n",
    "</tr>\n",
    "</table>\n",
    "</p>"
   ]
  },
  {
   "cell_type": "markdown",
   "metadata": {},
   "source": [
    "### LISP 언어(LISt Processing language)\n",
    "* 자연어처리를 용이하게 할 수 있는 언어. \n",
    "* 리스트 자료구조 사용\n",
    "* 람다 대수(Lambda calculus) 활용\n",
    "* MIT 대학의 존 맥카시(John McCarthy)가 개발\n",
    "* 상업적으로 성공하지는 못하였지만, 이후 인공지능 언어로 널리 사용됨"
   ]
  },
  {
   "cell_type": "markdown",
   "metadata": {
    "collapsed": true
   },
   "source": [
    "<p>\n",
    "<table cellspacing=\"20\">\n",
    "<tr>\n",
    "<td>\n",
    "<img src=\"images/history/slide0-history_Page_11.jpg\" style=\"width:700\">\n",
    "</td>\n",
    "</tr>\n",
    "</table>\n",
    "</p>"
   ]
  },
  {
   "cell_type": "markdown",
   "metadata": {},
   "source": [
    "### 플로이드-호어 논리\n",
    "* 프로그램을 수학과 논리학적 대상으로 다루면서 프로그램의 실행과정을 __지식의 변환과정__으로 다룰 수 있게 됨. \n",
    "* 플로이드(Floyd, R.)와 호어(Hoare, T.)가 주도한 공리적 의미론으로 발전\n",
    "* 프로그램의 안전성 검증을 다루는 수단으로 활용됨."
   ]
  },
  {
   "cell_type": "markdown",
   "metadata": {
    "collapsed": true
   },
   "source": [
    "<p>\n",
    "<table cellspacing=\"20\">\n",
    "<tr>\n",
    "<td>\n",
    "<img src=\"images/history/slide0-history_Page_12.jpg\" style=\"width:700\">\n",
    "</td>\n",
    "</tr>\n",
    "</table>\n",
    "</p>"
   ]
  },
  {
   "cell_type": "markdown",
   "metadata": {},
   "source": [
    "## 1970년대 - SLR/LALR 언어, 가상기계, 표시적의미론, 함수중심언어"
   ]
  },
  {
   "cell_type": "markdown",
   "metadata": {},
   "source": [
    "### 파서 문제, 객체지향언어, 가상기계\n",
    "* 파서 문제 완전 해결\n",
    "    * 드레머(DeRemer, F)의 SLR(k)언어 개발과, 이후에 개발된 LALR(k)언어에 의핸 모든 문제 해결됨\n",
    "    * 지금은 Yacc, ANTLR과 같은 파서생성도구를 사용하여 문법만 가지고 파서를 자동으로 생성할 수 있음\n",
    "* Algol60 설계 위원회 출신들의 계속된 연구\n",
    "    * Simula67\n",
    "        * 나이가드(Nygaard, K.)가 설계\n",
    "        * 최초의 객체지향언어\n",
    "    * Pascal과 Modula\n",
    "        * 워스(Wirth, N)가 설계\n",
    "        * 체계적인 데이터타입을 최초로 제공\n",
    "        * 가상기계의 개념을 최초로 도입하여 컴파일러의 표준화를 시도\n",
    "            * 가상기계 코드를 해당 CPU의 기계어로 번역하는 어셈블러만 만들어서 넘겨주면 \n",
    "                컴파일러 하나로 여러 CPU에 사용이 가능하였다. \n",
    "            * 이후 Java 가상기계에 적용됨"
   ]
  },
  {
   "cell_type": "markdown",
   "metadata": {
    "collapsed": true
   },
   "source": [
    "<p>\n",
    "<table cellspacing=\"20\">\n",
    "<tr>\n",
    "<td>\n",
    "<img src=\"images/history/slide0-history_Page_13.jpg\" style=\"width:700\">\n",
    "</td>\n",
    "</tr>\n",
    "</table>\n",
    "</p>"
   ]
  },
  {
   "cell_type": "markdown",
   "metadata": {},
   "source": [
    "### 의미론과 함수중심언어\n",
    "* 수학적 의미론\n",
    "    * 수학 함수로 프로그램의 의미를 표현할 수 있음\n",
    "    * 스트라치와 스캇에 의해 발전됨\n",
    "* 이후 람다 대수를 활용한 프로그래밍언어들이 탄생함.\n",
    "    * 함수중심언어라 불림\n",
    "    * ML, CAML, OCAML, Haskell 등"
   ]
  },
  {
   "cell_type": "markdown",
   "metadata": {
    "collapsed": true
   },
   "source": [
    "<p>\n",
    "<table cellspacing=\"20\">\n",
    "<tr>\n",
    "<td>\n",
    "<img src=\"images/history/slide0-history_Page_14.jpg\" style=\"width:700\">\n",
    "</td>\n",
    "</tr>\n",
    "</table>\n",
    "</p>"
   ]
  },
  {
   "cell_type": "markdown",
   "metadata": {},
   "source": [
    "### 속성문법\n",
    "* 속성문법: 속성이 부착된 문법\n",
    "* 크누스(Knuth, D.)가 발견\n",
    "* 소스코드를 타겟코드 또는 의미로의 번역을 자연스럽게 표현할 수 있도록 함."
   ]
  },
  {
   "cell_type": "markdown",
   "metadata": {
    "collapsed": true
   },
   "source": [
    "<p>\n",
    "<table cellspacing=\"20\">\n",
    "<tr>\n",
    "<td>\n",
    "<img src=\"images/history/slide0-history_Page_15.jpg\" style=\"width:700\">\n",
    "</td>\n",
    "</tr>\n",
    "</table>\n",
    "</p>"
   ]
  },
  {
   "cell_type": "markdown",
   "metadata": {},
   "source": [
    "## 1980년대 - 컴포넌트 언어, 객체지향 모델"
   ]
  },
  {
   "cell_type": "markdown",
   "metadata": {},
   "source": [
    "### 컴포넌트 언어, 객체지향 모델\n",
    "* 분산시스템의 필요성과 그래픽 장비의 출현으로 소프트웨어가 대형화되기 시작\n",
    "* 이에 맞추어 소프트웨어 개발이 부품을 조립하여 조립하는 형태가 됨\n",
    "* 이를 지원하는 Modula, Ada, Euler가 설계됨. \n",
    "* 부품이 결합하면서 이름 충돌이나 부품의 규격이 맞지 않아 재사용이 힘들게 될 수 있음.\n",
    "* 이런 부류의 문제를 해결하기 위해서 이름붙이기, 수입(import), 가시거리, 영역(scope)과 관련된 연구가 활발해짐.\n",
    "* \"소형프로그램 부품\"끼리 서로 계산 기능을 공유하고 상호협조하면서 계산을 하도록 하는 연구도 진행됨.\n",
    "* 행위자(actor)라고 하는 의미 모델이 구상되었고, Smalltalk은 이러한 개념에 영감을 받아서 개발된 언어임. \n",
    "* Smalltalk에서는 이 행위자를 객체objects 라고 하였음.\n",
    "* 이리하여 객체지향 프로그래밍object-oriented programming이 시작되었다. \n",
    "* 또한 메시지 전달과 이벤트처리를 통하여 GUI(graphic user interface) 조립을 자연스럽게 할 수 있어야 한다는 \n",
    "    요청사항도 Smalltalk 언어를 설계하는데 영향을 끼쳤음."
   ]
  },
  {
   "cell_type": "markdown",
   "metadata": {
    "collapsed": true
   },
   "source": [
    "<p>\n",
    "<table cellspacing=\"20\">\n",
    "<tr>\n",
    "<td>\n",
    "<img src=\"images/history/slide0-history_Page_16.jpg\" style=\"width:700\">\n",
    "</td>\n",
    "</tr>\n",
    "</table>\n",
    "</p>"
   ]
  },
  {
   "cell_type": "markdown",
   "metadata": {},
   "source": [
    "## 1990년대 - 도메인특화 언어, 소프트웨어 구조"
   ]
  },
  {
   "cell_type": "markdown",
   "metadata": {},
   "source": [
    "### 도메인특화 언어와 Java\n",
    "* 도메인특화 언어(domain-specific language): 특정 분야에 특화된 언어\n",
    "    * GUI구축용언어, \n",
    "    * 표계산 언어, \n",
    "    * 웹문서 작성 언어, \n",
    "    * 네트워킹 프로그램, \n",
    "    * 수치계산용 언어 등등\n",
    "* Java\n",
    "    * 원래 Smalltalk에서 쓰는 것과 같은 객체를 처리하는 프로그램을 내장된 칩에 장착하기 위해서 개발된 \n",
    "        도메인특화 언어였음. \n",
    "    * 이후에 웹언어로도 사용할 수 있도록 확장됨.\n",
    "        * 애플릿(applets)이라는 객체를 웹으로 보내서 웹브라우저에서 실행되게 함. \n",
    "    * 가상머신에서 돌아가도록 만들었기 때문에 포팅을 하고 웹브라우저에 심기가 쉬움\n",
    "    * 따라서 Smalltalk의 실용적인 대안으로 각광을 받기 시작함. \n",
    "    * 객체지향 프로그래밍을 처음 배우는 등용문 역할도 잘 해냄. \n",
    "    * 당시 유일 한 대안은 기존의 C언어에다 객체지향을 복잡하게 장착한 C++뿐이었음."
   ]
  },
  {
   "cell_type": "markdown",
   "metadata": {
    "collapsed": true
   },
   "source": [
    "<p>\n",
    "<table cellspacing=\"20\">\n",
    "<tr>\n",
    "<td>\n",
    "<img src=\"images/history/slide0-history_Page_18.jpg\" style=\"width:700\">\n",
    "</td>\n",
    "</tr>\n",
    "</table>\n",
    "</p>"
   ]
  },
  {
   "cell_type": "markdown",
   "metadata": {},
   "source": [
    "### 소프트웨어 구조\n",
    "* 소프트웨어 구조를 표현하기 위한 그림언어(가장 유명한 건 UML)가 유명해졌다. \n",
    "* 의미가 불분명한 점이 있어 다소 혼란이 있지만 의미를 고정하기 위한 노력들이 이루어지고 있다."
   ]
  },
  {
   "cell_type": "markdown",
   "metadata": {
    "collapsed": true
   },
   "source": [
    "<p>\n",
    "<table cellspacing=\"20\">\n",
    "<tr>\n",
    "<td>\n",
    "<img src=\"images/history/slide0-history_Page_20.jpg\" style=\"width:700\">\n",
    "</td>\n",
    "</tr>\n",
    "</table>\n",
    "</p>"
   ]
  },
  {
   "cell_type": "markdown",
   "metadata": {},
   "source": [
    "## 2000년대 - 정적분석, 프로그램검증, 보안, 안전제일 애플리케이션"
   ]
  },
  {
   "cell_type": "markdown",
   "metadata": {},
   "source": [
    "* C#과 같은 대규모 언어와 Ajax, XML과 같은 소규모 언어가 계속적으로 나타나고 있다.\n",
    "* 최근에는 의미론을 응용한 분석기법을 사용하여 프로그래머가 정확한 코드를 작성하게 도와주는 도구를 \n",
    "    개발하는 쪽으로 많은 연구가 이루어지고 있다. "
   ]
  },
  {
   "cell_type": "markdown",
   "metadata": {
    "collapsed": true
   },
   "source": [
    "<p>\n",
    "<table cellspacing=\"20\">\n",
    "<tr>\n",
    "<td>\n",
    "<img src=\"images/history/slide0-history_Page_21.jpg\" style=\"width:700\">\n",
    "</td>\n",
    "</tr>\n",
    "</table>\n",
    "</p>"
   ]
  },
  {
   "cell_type": "markdown",
   "metadata": {},
   "source": [
    "## 에필로그"
   ]
  },
  {
   "cell_type": "markdown",
   "metadata": {},
   "source": [
    "* 새로운 언어는 필요에 의해서 개발됨\n",
    "    * Fortran: 물리학자들이 세운 식을 프로그램하게 도와주기 위해서 개발됨\n",
    "    * Simula: 시뮬레이션을 하기 위해서 개발됨\n",
    "    * Pascal: 이동성을 목표로 개발됨\n",
    "    * C 언어: 시스템 프로그래밍 용으로 개발됨\n",
    "    * Java: 내장 시스템에 쓰려고 개발됨\n",
    "    * 도메인 특화 언어로 보면 사례가 훨씬 더 많이 있다. \n",
    "        * 예: Javascript, Matlab, HTML, CSS, SQL, Ajax 등등\n",
    "* 특정 응용프로그램 분야에서 작업을 할때, 그 분야에 특화된 언어가 있으면 편할 것이다. \n",
    "    별로 맞는 걸 찾지 못하면 아마도 하나 만들고 싶어질지도 모른다.\n",
    "* 언어는 한 사람이 독자적으로 설계하거나, 아니면 비전을 공유하고 있는 소규모 팀이 설계한다. \n",
    "    설계자는 해당 응용 분야와 실행 (하드웨어) 프랫폼을 잘 이해하고 있어야 한다. \n",
    "    보통 설계자는 언어를 구현해본 사전 경험이 있다.\n",
    "* 실행 플랫폼부터 선정해야 한다.\n",
    "    실행머신이 될 수도, 가상머신이 될 수도 있을 것이다."
   ]
  },
  {
   "cell_type": "markdown",
   "metadata": {
    "collapsed": true
   },
   "source": [
    "<p>\n",
    "<table cellspacing=\"20\">\n",
    "<tr>\n",
    "<td>\n",
    "<img src=\"images/history/slide0-history_Page_22.jpg\" style=\"width:700\">\n",
    "</td>\n",
    "</tr>\n",
    "</table>\n",
    "</p>"
   ]
  }
 ],
 "metadata": {
  "kernelspec": {
   "display_name": "Python 3",
   "language": "python",
   "name": "python3"
  },
  "language_info": {
   "codemirror_mode": {
    "name": "ipython",
    "version": 3
   },
   "file_extension": ".py",
   "mimetype": "text/x-python",
   "name": "python",
   "nbconvert_exporter": "python",
   "pygments_lexer": "ipython3",
   "version": "3.6.3"
  }
 },
 "nbformat": 4,
 "nbformat_minor": 2
}
