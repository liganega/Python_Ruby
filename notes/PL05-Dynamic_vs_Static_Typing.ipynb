{
 "cells": [
  {
   "cell_type": "markdown",
   "metadata": {},
   "source": [
    "# 동적 타이핑 vs. 정적 타이핑"
   ]
  },
  {
   "cell_type": "markdown",
   "metadata": {},
   "source": [
    "본 강의노트는 친절한 설명으로 동적 타이핑과 정적 타이핑의 차이점을 설명한 아래 사이트의 내용을\n",
    "요약 및 정리한 내용을 담고 있다.\n",
    "\n",
    "자료출처: https://hackernoon.com/i-finally-understand-static-vs-dynamic-typing-and-you-will-too-ad0c2bd0acc7\n"
   ]
  },
  {
   "cell_type": "markdown",
   "metadata": {},
   "source": [
    "아래 내용을 이해하려면 프로그래밍언어론과 관련된 몇 가지 용어들의 개념을 확실하게 알고 있어야 한다."
   ]
  },
  {
   "cell_type": "markdown",
   "metadata": {},
   "source": [
    "* 소스 코드(source code): 특정 프로그래밍언어를 사용하여 사람이 작성한 코드 원본\n",
    "* 번역(translation): 소스코드를 기계가 이해할 수 있는 기계어 등으로 변환하는 과정\n",
    "* 런타임(run-time): 프로그램이 실행되는 기간\n",
    "* 컴파일된 언어(compiled language): 소스코드를 실행하기 위해 먼저 기계어 등으로 번역해야 하는 언어\n",
    "* 해석된 언어"
   ]
  }
 ],
 "metadata": {
  "kernelspec": {
   "display_name": "Python 3",
   "language": "python",
   "name": "python3"
  },
  "language_info": {
   "codemirror_mode": {
    "name": "ipython",
    "version": 3
   },
   "file_extension": ".py",
   "mimetype": "text/x-python",
   "name": "python",
   "nbconvert_exporter": "python",
   "pygments_lexer": "ipython3",
   "version": "3.6.3"
  }
 },
 "nbformat": 4,
 "nbformat_minor": 2
}
