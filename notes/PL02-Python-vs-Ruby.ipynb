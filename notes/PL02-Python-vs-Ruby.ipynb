{
 "cells": [
  {
   "cell_type": "markdown",
   "metadata": {},
   "source": [
    "# 파이썬과 루비 비교"
   ]
  },
  {
   "cell_type": "markdown",
   "metadata": {},
   "source": [
    "파이썬과 루비 언어의 공통점과 차이점을 간략 정리하고자 함. 파이썬과 루비 언어의 공통점과 차이점을 간략 정리하고자 함.파이썬과 루비 언어의 공통점과 차이점을 간략 정리하고자 함.파이썬과 루비 언어의 공통점과 차이점을 간략 정리하고자 함.파이썬과 루비 언어의 공통점과 차이점을 간략 정리하고자 함."
   ]
  },
  {
   "cell_type": "markdown",
   "metadata": {},
   "source": [
    "## print와 puts"
   ]
  },
  {
   "cell_type": "markdown",
   "metadata": {},
   "source": [
    "&nbsp; &nbsp; &nbsp; &nbsp; &nbsp; &nbsp; 함수 &nbsp; &nbsp; &nbsp; &nbsp; &nbsp; &nbsp; | &nbsp; &nbsp; &nbsp; &nbsp; &nbsp; &nbsp; &nbsp; &nbsp; &nbsp; &nbsp; &nbsp; &nbsp; &nbsp; &nbsp; &nbsp; Python &nbsp; &nbsp; &nbsp; &nbsp; &nbsp; &nbsp; &nbsp; &nbsp; &nbsp; &nbsp; &nbsp; &nbsp; &nbsp; &nbsp; &nbsp; | &nbsp; &nbsp; &nbsp; &nbsp; &nbsp; &nbsp; &nbsp; &nbsp; &nbsp; &nbsp; &nbsp; &nbsp; &nbsp; &nbsp; &nbsp; Ruby &nbsp; &nbsp; &nbsp; &nbsp; &nbsp; &nbsp; &nbsp; &nbsp; &nbsp; &nbsp; &nbsp; &nbsp; &nbsp; &nbsp; &nbsp;\n",
    ":----------:| :------------------------------|:------------------------------\n",
    "`print`     | 자동 줄바꿈                       | 줄바꿈 없음\n",
    "`puts`      | NA                             | 파이썬의 `print`와 비슷한 기능\n"
   ]
  },
  {
   "cell_type": "markdown",
   "metadata": {},
   "source": [
    "## 연산자"
   ]
  },
  {
   "cell_type": "markdown",
   "metadata": {},
   "source": [
    "### 사칙연산"
   ]
  },
  {
   "cell_type": "markdown",
   "metadata": {},
   "source": [
    "숫자들의 덧셈(`+`), 뺄셈(`-`), 곱셈(`*`), 나눗셈(`/`)을 위한 사칙연산 연산자의 활용은 동일하다."
   ]
  },
  {
   "cell_type": "markdown",
   "metadata": {},
   "source": [
    "### 좀 더 복잡한 연산자"
   ]
  },
  {
   "cell_type": "markdown",
   "metadata": {},
   "source": [
    "올림, 반올림, 지수 함수 등의 활용은 두 언어에서 차이를 보인다."
   ]
  },
  {
   "cell_type": "markdown",
   "metadata": {},
   "source": [
    "&nbsp; &nbsp; &nbsp; &nbsp; &nbsp; &nbsp; 함수 &nbsp; &nbsp; &nbsp; &nbsp; &nbsp; &nbsp; | &nbsp; &nbsp; &nbsp; &nbsp; &nbsp; &nbsp; &nbsp; &nbsp; &nbsp; &nbsp; &nbsp; &nbsp; &nbsp; &nbsp; &nbsp; Python &nbsp; &nbsp; &nbsp; &nbsp; &nbsp; &nbsp; &nbsp; &nbsp; &nbsp; &nbsp; &nbsp; &nbsp; &nbsp; &nbsp; &nbsp; | &nbsp; &nbsp; &nbsp; &nbsp; &nbsp; &nbsp; &nbsp; &nbsp; &nbsp; &nbsp; &nbsp; &nbsp; &nbsp; &nbsp; &nbsp; Ruby &nbsp; &nbsp; &nbsp; &nbsp; &nbsp; &nbsp; &nbsp; &nbsp; &nbsp; &nbsp; &nbsp; &nbsp; &nbsp; &nbsp; &nbsp;\n",
    ":----------:| :------------------------------|:------------------------------\n",
    "올림         | `import math<br>math.ceil(2.24)` | `2.24.ceil()`\n",
    "내림         | `import math<br>math.floor(2.24)`| `2.24.floor()`\n",
    "지수         | `import math<br>math.pow(2,10)`<br>또는 `2**10`  | `2**10`\n",
    "원주율        | `import math<br>math.pi`         | `Math::PI`\n",
    "제곱근        | `import math<br>math.sqrt(2)`    | `Math::sqrt(2)`\n",
    "로그         | `import math<br>math.log(2.71)`<br>`import math<br>math.log10(10)`<br> | `Math::log(2.71)`<br>`Math::log10(10)`\n",
    "삼각함수      | `import math<br>math.sin(2)`<br>`import math<br>math.cos(2)` | `Math::sin(2)`<br>`Math::cos(2)`"
   ]
  },
  {
   "cell_type": "markdown",
   "metadata": {},
   "source": [
    "#### 주의사항\n",
    "* 정수 및 부동소수점 자료형\n",
    "    * 파이썬: `int`, `float` 자료형에는 올림 및 내림을 다룰 수 있는 자체 기능이 없음.\n",
    "    * 루비: `int`, `float` 자료형은 클래스로 구현되었고, 클래스 안에 올림 및 내림을 \n",
    "        다룰 수 있는 메소드인 `ceil`과 `floor`가 구현되어 있다.\n",
    "    * 클래스, 객체, 메소드, 함수 등에 대해서는 이후에 자세히 다룸.\n",
    "* 모듈 사용하기\n",
    "    * 파이썬: 특정 모듈을 사용하려면 먼저 임포트(import) 해야 한다.\n",
    "    * 루비: 필요할 때 모듈 이름을 함께 사용하면 된다.\n",
    "    * 모듈 개념은 이후에 자세히 다룸."
   ]
  },
  {
   "cell_type": "markdown",
   "metadata": {},
   "source": [
    "## 값, 표현식, 명령문"
   ]
  },
  {
   "cell_type": "markdown",
   "metadata": {},
   "source": [
    "### 값과 자료형"
   ]
  },
  {
   "cell_type": "markdown",
   "metadata": {},
   "source": [
    "정수, 실수, 문자, 문자열, 리스트, 튜플, 사전 등 프로그램이 다루는 가장 기본적인 대상을 __값(value)__이라 부른다.\n",
    "예를 들어, 1, 2, 3.2, 'Hello, World!' 등이 지금까지 이 수업에서 본 값들이다.\n",
    "\n",
    "이 값들은 각기 다른 자료형에 속한다.\n",
    "* 1과 2는 정수 자료형(`int`)이고,\n",
    "* 3.2는 부동 소수점(`float`) 자료형이고,\n",
    "* 'Hello, World!'의 자료형은 문자열('str')이다. \n",
    "\n",
    "만약 값이 어떤 형에 속하는지 모르겠다면 파이썬 해석기에 아래와 같이 물어보면 된다."
   ]
  },
  {
   "cell_type": "code",
   "execution_count": 4,
   "metadata": {},
   "outputs": [
    {
     "data": {
      "text/plain": [
       "str"
      ]
     },
     "execution_count": 4,
     "metadata": {},
     "output_type": "execute_result"
    }
   ],
   "source": [
    "type('Hello, World!')"
   ]
  },
  {
   "cell_type": "code",
   "execution_count": 5,
   "metadata": {},
   "outputs": [
    {
     "data": {
      "text/plain": [
       "int"
      ]
     },
     "execution_count": 5,
     "metadata": {},
     "output_type": "execute_result"
    }
   ],
   "source": [
    "type(17)"
   ]
  },
  {
   "cell_type": "code",
   "execution_count": 6,
   "metadata": {},
   "outputs": [
    {
     "data": {
      "text/plain": [
       "float"
      ]
     },
     "execution_count": 6,
     "metadata": {},
     "output_type": "execute_result"
    }
   ],
   "source": [
    "type(3.2)"
   ]
  },
  {
   "cell_type": "markdown",
   "metadata": {},
   "source": [
    "#### 주의사항"
   ]
  },
  {
   "cell_type": "markdown",
   "metadata": {},
   "source": [
    "* '17' 이나 '3.2' 등은 숫자처럼 보이지만 따옴표로 둘러싸여 있기에 문자열로 인식된다."
   ]
  },
  {
   "cell_type": "code",
   "execution_count": 7,
   "metadata": {},
   "outputs": [
    {
     "data": {
      "text/plain": [
       "str"
      ]
     },
     "execution_count": 7,
     "metadata": {},
     "output_type": "execute_result"
    }
   ],
   "source": [
    "type('17')"
   ]
  },
  {
   "cell_type": "code",
   "execution_count": 8,
   "metadata": {},
   "outputs": [
    {
     "data": {
      "text/plain": [
       "str"
      ]
     },
     "execution_count": 8,
     "metadata": {},
     "output_type": "execute_result"
    }
   ],
   "source": [
    "type('3.2')"
   ]
  },
  {
   "cell_type": "markdown",
   "metadata": {},
   "source": [
    "* 숫자를 사용할 때 콤마를 사용하면 안된다. \n",
    "    콤마는 튜플 자료형(`tuple`)을 만들 때 사용되는 특수한 의미를 갖는 기호이기 때문이다. \n",
    "    예를 들어, `1,000,000` 이라고 입력하면 백만이 아니라 1과 0과 0을 항목으로 갖는 \n",
    "    길이가 3인 튜플 자료형으로 인식된다.\n",
    "    튜플 자료형에 대해서는 나중에 배우며 매우 중요한 자료형이다."
   ]
  },
  {
   "cell_type": "code",
   "execution_count": 9,
   "metadata": {},
   "outputs": [
    {
     "name": "stdout",
     "output_type": "stream",
     "text": [
      "(1, 0, 0)\n"
     ]
    }
   ],
   "source": [
    "a_tuple = 1,000,000\n",
    "print(a_tuple)"
   ]
  },
  {
   "cell_type": "code",
   "execution_count": 10,
   "metadata": {},
   "outputs": [
    {
     "data": {
      "text/plain": [
       "tuple"
      ]
     },
     "execution_count": 10,
     "metadata": {},
     "output_type": "execute_result"
    }
   ],
   "source": [
    "type(a_tuple)"
   ]
  },
  {
   "cell_type": "markdown",
   "metadata": {},
   "source": [
    "* 숫자는 0으로 시작하면 안된다."
   ]
  },
  {
   "cell_type": "code",
   "execution_count": 11,
   "metadata": {},
   "outputs": [
    {
     "ename": "SyntaxError",
     "evalue": "invalid token (<ipython-input-11-fa268cf0c052>, line 2)",
     "output_type": "error",
     "traceback": [
      "\u001b[0;36m  File \u001b[0;32m\"<ipython-input-11-fa268cf0c052>\"\u001b[0;36m, line \u001b[0;32m2\u001b[0m\n\u001b[0;31m    zipcode = 03048\u001b[0m\n\u001b[0m                  ^\u001b[0m\n\u001b[0;31mSyntaxError\u001b[0m\u001b[0;31m:\u001b[0m invalid token\n"
     ]
    }
   ],
   "source": [
    "# 청와대 우편번호(zipcodes): 03048\n",
    "zipcode = 03048"
   ]
  },
  {
   "cell_type": "markdown",
   "metadata": {},
   "source": [
    "### 변수의 자료형\n",
    "\n",
    "변수의 자료형은, 그 변수가 가리키는 값의 형과 같다."
   ]
  },
  {
   "cell_type": "code",
   "execution_count": 12,
   "metadata": {},
   "outputs": [
    {
     "ename": "NameError",
     "evalue": "name 'message' is not defined",
     "output_type": "error",
     "traceback": [
      "\u001b[0;31m---------------------------------------------------------------------------\u001b[0m",
      "\u001b[0;31mNameError\u001b[0m                                 Traceback (most recent call last)",
      "\u001b[0;32m<ipython-input-12-b77fe96aac84>\u001b[0m in \u001b[0;36m<module>\u001b[0;34m()\u001b[0m\n\u001b[0;32m----> 1\u001b[0;31m \u001b[0mtype\u001b[0m\u001b[0;34m(\u001b[0m\u001b[0mmessage\u001b[0m\u001b[0;34m)\u001b[0m\u001b[0;34m\u001b[0m\u001b[0m\n\u001b[0m",
      "\u001b[0;31mNameError\u001b[0m: name 'message' is not defined"
     ]
    }
   ],
   "source": [
    "type(message)"
   ]
  },
  {
   "cell_type": "code",
   "execution_count": 13,
   "metadata": {},
   "outputs": [
    {
     "ename": "NameError",
     "evalue": "name 'pi' is not defined",
     "output_type": "error",
     "traceback": [
      "\u001b[0;31m---------------------------------------------------------------------------\u001b[0m",
      "\u001b[0;31mNameError\u001b[0m                                 Traceback (most recent call last)",
      "\u001b[0;32m<ipython-input-13-e5ebea5a3834>\u001b[0m in \u001b[0;36m<module>\u001b[0;34m()\u001b[0m\n\u001b[0;32m----> 1\u001b[0;31m \u001b[0mtype\u001b[0m\u001b[0;34m(\u001b[0m\u001b[0mpi\u001b[0m\u001b[0;34m)\u001b[0m\u001b[0;34m\u001b[0m\u001b[0m\n\u001b[0m",
      "\u001b[0;31mNameError\u001b[0m: name 'pi' is not defined"
     ]
    }
   ],
   "source": [
    "type(pi)"
   ]
  },
  {
   "cell_type": "markdown",
   "metadata": {},
   "source": [
    "변수에 할당된 값의 자료형이 변하면 해당 변수의 자료형도 동일하게 변한다."
   ]
  },
  {
   "cell_type": "code",
   "execution_count": 14,
   "metadata": {},
   "outputs": [
    {
     "data": {
      "text/plain": [
       "str"
      ]
     },
     "execution_count": 14,
     "metadata": {},
     "output_type": "execute_result"
    }
   ],
   "source": [
    "pi = '3.14'\n",
    "type(pi)"
   ]
  },
  {
   "cell_type": "markdown",
   "metadata": {},
   "source": [
    "### 표현식\n",
    "표현식(expression)은 값, 변수, 연산자, 함수 등을 규칙에 맞게 조합한 결과물이다. \n",
    "\n",
    "* 연산자: 사칙연산(`+`, `-`, `*`, `/`), 거듭제곱(`**`) 등\n",
    "* 함수: sin, cos, int 등 \n",
    "\n",
    "만약에 x에 어떤 값이 할당되었다면 다음 예들은 모두 올바른 표현식이다.\n",
    "```python\n",
    "17\n",
    "x\n",
    "x + 17\n",
    "sin(x)\n",
    "int('17')\n",
    "```"
   ]
  },
  {
   "cell_type": "markdown",
   "metadata": {},
   "source": [
    "### 명령문\n",
    "\n",
    "파이썬 명령문은 파이썬 해석기가 실행하는 문장을 의미한다.\n",
    "변수 할당 명령문과 값을 출력하는 명령문 등이 대표적인 명령문이다. \n",
    "```python\n",
    "n = 17\n",
    "print(n)\n",
    "```\n",
    "파이썬 해석기는 명령문을 해석한 내용에 따라 프로그램을 실행한다."
   ]
  },
  {
   "cell_type": "markdown",
   "metadata": {},
   "source": [
    "## 연산자 우선순위"
   ]
  },
  {
   "cell_type": "markdown",
   "metadata": {},
   "source": [
    "파이썬 해석기가 표현식의 값을 계산할 때 연산자 별로 우선순위가 있으며 괄호를 사용하지 않을 경우 우선순위에 따라 계산된다.\n",
    "우선순위는 수학에서 일반적으로 사용되는 것과 동일하다.\n",
    "\n",
    "* 괄호 안에 있는 표현식을 가장 먼저 계산한다. \n",
    "    * `2 * (3-1)` 는 4이고, `(1+1)**(5-2)` 는 8이다.\n",
    "    * `(minute * 100) / 60` 과 `(minute * 100) / 60`는 동일한 값을 갖는다.\n",
    "* 거듭제곱의 우선순위가 사칙연산보다 높다.\n",
    "    * `2**1+1` 는 3이다. \n",
    "    * `3*1**3` 도 3이다.\n",
    "* 곱셈과 나눗셈을 덧셈과 뺄셈보다 먼저 계산한다. \n",
    "    * `2*3-1`은 5이다. \n",
    "    * `6+4/2`은 8이다.\n",
    "* 곱셈과 나눗셈은 서로 우선순위가 같다.\n",
    "* 덧셈과 뺄쎔도 서로 우선순위가 같다. \n",
    "* 같은 우선순위를 갖는 연산자가 연속해서 나오면 (거듭제곱을 제외하고) 왼쪽에서 오른쪽으로 계산됩니다. \n",
    "    * `degrees/2*pi`의 경우 나눗셈이 먼저 실행된 후에 곱셈이 실행된다.\n",
    "    * 즉, `(degrees * pi)/2`와 동일한 값이다.\n",
    "* 거듭제곱이 연속해서 나오면 오른쪽에서 왼쪽으로 계산된다. \n",
    "    * `2**3**2`는 `2**(3**2)`, 즉, $2^9$이다."
   ]
  },
  {
   "cell_type": "markdown",
   "metadata": {},
   "source": [
    "## 문자열 연산"
   ]
  },
  {
   "cell_type": "markdown",
   "metadata": {},
   "source": [
    "문자열들을 대상으로 덧셈기호와 곱셈기호를 사용할 수 있다. \n",
    "\n",
    "__주의:__ 문자열들의 덧셈과 곱셈이란 말은 정확하지 않다. 대신에 문자열 합치기와 반복 이어붙이기로 말해야 한다."
   ]
  },
  {
   "cell_type": "markdown",
   "metadata": {},
   "source": [
    "### 문자열 합치기\n",
    "\n",
    "아래와 같이 두 개의 문자열을 합치기 위해 덧셈 기호를 사용한다. \n",
    "```python\n",
    "'2'-'1'    'eggs'/'easy'    'third'*'a charm'\n",
    "```"
   ]
  },
  {
   "cell_type": "code",
   "execution_count": 15,
   "metadata": {},
   "outputs": [
    {
     "name": "stdout",
     "output_type": "stream",
     "text": [
      "파이썬, 안녕!\n"
     ]
    }
   ],
   "source": [
    "first = '파이썬, '\n",
    "second = '안녕!'\n",
    "print(first + second)"
   ]
  },
  {
   "cell_type": "markdown",
   "metadata": {},
   "source": [
    "### 문자열 반복 이어붙이기\n",
    "\n",
    "아래 표현식은 동일한 문자열을 지정한 숫자만큼 반복해서 이어붙이는 예제이다."
   ]
  },
  {
   "cell_type": "code",
   "execution_count": 16,
   "metadata": {},
   "outputs": [
    {
     "data": {
      "text/plain": [
       "'spamspamspam'"
      ]
     },
     "execution_count": 16,
     "metadata": {},
     "output_type": "execute_result"
    }
   ],
   "source": [
    "'spam'*3"
   ]
  },
  {
   "cell_type": "code",
   "execution_count": 17,
   "metadata": {},
   "outputs": [
    {
     "data": {
      "text/plain": [
       "'I love you! I love you! I love you! I love you! '"
      ]
     },
     "execution_count": 17,
     "metadata": {},
     "output_type": "execute_result"
    }
   ],
   "source": [
    "'I love you! '*4"
   ]
  },
  {
   "cell_type": "markdown",
   "metadata": {},
   "source": [
    "__주의:__ 뺄셈기호와 나눗셈기호는 문자열 연산에 절대로 사용되지 않는다."
   ]
  },
  {
   "cell_type": "code",
   "execution_count": 38,
   "metadata": {},
   "outputs": [
    {
     "name": "stdout",
     "output_type": "stream",
     "text": [
      "1.0\n"
     ]
    }
   ],
   "source": [
    "%%ruby\n",
    "puts(Math::log10(10))"
   ]
  },
  {
   "cell_type": "code",
   "execution_count": 48,
   "metadata": {},
   "outputs": [
    {
     "name": "stdout",
     "output_type": "stream",
     "text": [
      "Float\n"
     ]
    }
   ],
   "source": [
    "%%ruby\n",
    "puts(1.0.class)"
   ]
  },
  {
   "cell_type": "code",
   "execution_count": 24,
   "metadata": {
    "collapsed": true
   },
   "outputs": [],
   "source": [
    "import math"
   ]
  },
  {
   "cell_type": "code",
   "execution_count": 41,
   "metadata": {},
   "outputs": [
    {
     "data": {
      "text/plain": [
       "1.0"
      ]
     },
     "execution_count": 41,
     "metadata": {},
     "output_type": "execute_result"
    }
   ],
   "source": [
    "math.log10(10)"
   ]
  }
 ],
 "metadata": {
  "kernelspec": {
   "display_name": "Python 3",
   "language": "python",
   "name": "python3"
  },
  "language_info": {
   "codemirror_mode": {
    "name": "ipython",
    "version": 3
   },
   "file_extension": ".py",
   "mimetype": "text/x-python",
   "name": "python",
   "nbconvert_exporter": "python",
   "pygments_lexer": "ipython3",
   "version": "3.6.3"
  }
 },
 "nbformat": 4,
 "nbformat_minor": 2
}
