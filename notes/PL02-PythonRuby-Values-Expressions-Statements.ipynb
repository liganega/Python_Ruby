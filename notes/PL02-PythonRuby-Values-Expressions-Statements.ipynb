{
 "cells": [
  {
   "cell_type": "markdown",
   "metadata": {},
   "source": [
    "# 프로그램, 값, 표현식, 명령문"
   ]
  },
  {
   "cell_type": "markdown",
   "metadata": {},
   "source": [
    "## 주요 내용\n",
    "아래 내용들을 간략하게 다루면서 파이썬과 루비를 비교하고자 함.\n",
    "* 프로그램 주요 구성요소\n",
    "* 값(values)\n",
    "* 표현식(expressions)\n",
    "* 명령문(statements)"
   ]
  },
  {
   "cell_type": "markdown",
   "metadata": {},
   "source": [
    "## 프로그램 구성요소"
   ]
  },
  {
   "cell_type": "markdown",
   "metadata": {},
   "source": [
    "### 프로그램이란?\n",
    "\n",
    "* 내용 추가 예정"
   ]
  },
  {
   "cell_type": "markdown",
   "metadata": {},
   "source": [
    "### 프로그램 주요 구성요소\n",
    "\n",
    "* 내용 추가 예정"
   ]
  },
  {
   "cell_type": "markdown",
   "metadata": {},
   "source": [
    "## 값과 자료형"
   ]
  },
  {
   "cell_type": "markdown",
   "metadata": {},
   "source": [
    "정수, 실수, 문자, 문자열, 리스트, 튜플, 사전 등 프로그램이 다루는 가장 기본적인 대상을 __값(value)__이라 부른다.\n",
    "예를 들어, 1, 2, 3.2, 'Hello, World!' 등이 지금까지 이 수업에서 본 값들이다.\n",
    "\n",
    "이 값들은 각기 다른 자료형에 속한다.\n",
    "* 1과 2는 정수 자료형이고,\n",
    "* 3.2는 부동 소수점 자료형이고,\n",
    "* 'Hello, World!'의 자료형은 문자열이다. \n",
    "\n",
    "만약 값이 어떤 형에 속하는지 모르겠다면 아래와 같이 물어보면 된다."
   ]
  },
  {
   "cell_type": "markdown",
   "metadata": {},
   "source": [
    "&nbsp; &nbsp; &nbsp; &nbsp; &nbsp; &nbsp; 구분 &nbsp; &nbsp; &nbsp; &nbsp; &nbsp; &nbsp; | &nbsp; &nbsp; &nbsp; &nbsp; &nbsp; &nbsp; &nbsp; &nbsp; &nbsp; &nbsp; &nbsp; &nbsp; &nbsp; &nbsp; &nbsp; Python &nbsp; &nbsp; &nbsp; &nbsp; &nbsp; &nbsp; &nbsp; &nbsp; &nbsp; &nbsp; &nbsp; &nbsp; &nbsp; &nbsp; &nbsp; | &nbsp; &nbsp; &nbsp; &nbsp; &nbsp; &nbsp; &nbsp; &nbsp; &nbsp; &nbsp; &nbsp; &nbsp; &nbsp; &nbsp; &nbsp; Ruby &nbsp; &nbsp; &nbsp; &nbsp; &nbsp; &nbsp; &nbsp; &nbsp; &nbsp; &nbsp; &nbsp; &nbsp; &nbsp; &nbsp; &nbsp;\n",
    ":----------:| :------------------------------|:------------------------------\n",
    "자료형 에제    | `int`<br>`float`<br>`str`      | `Integer`<br>`Float`<br>`String`\n",
    "자료형 확인방법 | type(2)<br>type(1.2)<br>type('Hello, world!) | 2.class<br>1.2.class<br>'Hello, world!'.class\n"
   ]
  },
  {
   "cell_type": "code",
   "execution_count": 1,
   "metadata": {},
   "outputs": [
    {
     "name": "stdout",
     "output_type": "stream",
     "text": [
      "<class 'str'>\n"
     ]
    }
   ],
   "source": [
    "print(type('Hello, world!'))"
   ]
  },
  {
   "cell_type": "code",
   "execution_count": 2,
   "metadata": {},
   "outputs": [
    {
     "name": "stdout",
     "output_type": "stream",
     "text": [
      "<class 'float'>\n"
     ]
    }
   ],
   "source": [
    "print(type(1.2))"
   ]
  },
  {
   "cell_type": "code",
   "execution_count": 3,
   "metadata": {},
   "outputs": [
    {
     "name": "stdout",
     "output_type": "stream",
     "text": [
      "<class 'int'>\n"
     ]
    }
   ],
   "source": [
    "print(type(2))"
   ]
  },
  {
   "cell_type": "markdown",
   "metadata": {},
   "source": [
    "#### 주의사항\n",
    "* 여기 강의노트에는 루비 코드는 아래 기호가 항상 맨 윗줄에 표시되어 있다. 하지만 루비 코드는 아니다.\n",
    "> %%ruby"
   ]
  },
  {
   "cell_type": "code",
   "execution_count": 4,
   "metadata": {},
   "outputs": [
    {
     "name": "stdout",
     "output_type": "stream",
     "text": [
      "String\n"
     ]
    }
   ],
   "source": [
    "%%ruby\n",
    "puts('Hello, world!'.class)"
   ]
  },
  {
   "cell_type": "code",
   "execution_count": 5,
   "metadata": {},
   "outputs": [
    {
     "name": "stdout",
     "output_type": "stream",
     "text": [
      "Float\n"
     ]
    }
   ],
   "source": [
    "%%ruby\n",
    "puts(1.2.class)"
   ]
  },
  {
   "cell_type": "code",
   "execution_count": 6,
   "metadata": {},
   "outputs": [
    {
     "name": "stdout",
     "output_type": "stream",
     "text": [
      "Integer\n"
     ]
    }
   ],
   "source": [
    "%%ruby\n",
    "puts(2.class)"
   ]
  },
  {
   "cell_type": "markdown",
   "metadata": {},
   "source": [
    "#### 주의사항"
   ]
  },
  {
   "cell_type": "markdown",
   "metadata": {},
   "source": [
    "* `'3.2'` 등은 숫자처럼 보이지만 따옴표로 둘러싸여 있기에 문자열로 인식된다."
   ]
  },
  {
   "cell_type": "code",
   "execution_count": 7,
   "metadata": {},
   "outputs": [
    {
     "name": "stdout",
     "output_type": "stream",
     "text": [
      "<class 'str'>\n"
     ]
    }
   ],
   "source": [
    "print(type('3.2'))"
   ]
  },
  {
   "cell_type": "code",
   "execution_count": 8,
   "metadata": {},
   "outputs": [
    {
     "name": "stdout",
     "output_type": "stream",
     "text": [
      "String\n"
     ]
    }
   ],
   "source": [
    "%%ruby\n",
    "puts('3.2'.class)"
   ]
  },
  {
   "cell_type": "markdown",
   "metadata": {},
   "source": [
    "### 변수의 자료형\n",
    "\n",
    "변수의 자료형은, 그 변수가 가리키는 값의 형과 같다."
   ]
  },
  {
   "cell_type": "code",
   "execution_count": 9,
   "metadata": {},
   "outputs": [
    {
     "name": "stdout",
     "output_type": "stream",
     "text": [
      "<class 'str'>\n"
     ]
    }
   ],
   "source": [
    "message = \"3.2\"\n",
    "print(type(message))"
   ]
  },
  {
   "cell_type": "code",
   "execution_count": 10,
   "metadata": {},
   "outputs": [
    {
     "name": "stdout",
     "output_type": "stream",
     "text": [
      "String\n"
     ]
    }
   ],
   "source": [
    "%%ruby\n",
    "message = \"3.2\"\n",
    "puts(message.class)"
   ]
  },
  {
   "cell_type": "markdown",
   "metadata": {},
   "source": [
    "변수에 할당된 값의 자료형이 변하면 해당 변수의 자료형도 동일하게 변한다."
   ]
  },
  {
   "cell_type": "code",
   "execution_count": 11,
   "metadata": {},
   "outputs": [
    {
     "name": "stdout",
     "output_type": "stream",
     "text": [
      "<class 'float'>\n"
     ]
    }
   ],
   "source": [
    "message = 3.2\n",
    "print(type(message))"
   ]
  },
  {
   "cell_type": "code",
   "execution_count": 12,
   "metadata": {},
   "outputs": [
    {
     "name": "stdout",
     "output_type": "stream",
     "text": [
      "Float\n"
     ]
    }
   ],
   "source": [
    "%%ruby\n",
    "message = 3.2\n",
    "puts(message.class)"
   ]
  },
  {
   "cell_type": "markdown",
   "metadata": {},
   "source": [
    "## 표현식\n",
    "표현식(expression)은 값, 변수, 연산자, 함수 등을 규칙에 맞게 조합한 결과물이다. \n",
    "\n",
    "* 연산자: 사칙연산(`+`, `-`, `*`, `/`), 거듭제곱(`**`) 등\n",
    "* 수학 함수: sin, cos, int 등\n",
    "* `print`, `puts`, `type` 등도 모두 함수이다."
   ]
  },
  {
   "cell_type": "markdown",
   "metadata": {},
   "source": [
    "#### 예제\n",
    "만약에 x에 어떤 값이 할당되었다면 다음 예들은 모두 올바른 표현식이다.\n",
    "```python\n",
    "17\n",
    "x\n",
    "x + 17\n",
    "sin(x)\n",
    "```"
   ]
  },
  {
   "cell_type": "markdown",
   "metadata": {},
   "source": [
    "### 함수와 표현식\n",
    "표현식을 만들기 위해 수학 함수 뿐만아니라 어떤 종류의 함수도 사용할 수 있다."
   ]
  },
  {
   "cell_type": "markdown",
   "metadata": {},
   "source": [
    "#### 함수란\n",
    "입력을 받아 실행된 결과를 리턴하는 프로그램을 의미하며 함수가 리턴하는 것은 모두 값이 된다. \n",
    "수학 함수 이외에 지금까지 다룬 함수는 `print`, `puts`, `type` 등이며 앞으로 많은 함수들을 만나게 될 것이다."
   ]
  },
  {
   "cell_type": "markdown",
   "metadata": {},
   "source": [
    "#### 출력 함수: print와 puts의 차이점"
   ]
  },
  {
   "cell_type": "markdown",
   "metadata": {},
   "source": [
    "&nbsp; &nbsp; &nbsp; &nbsp; &nbsp; &nbsp; 함수 &nbsp; &nbsp; &nbsp; &nbsp; &nbsp; &nbsp; | &nbsp; &nbsp; &nbsp; &nbsp; &nbsp; &nbsp; &nbsp; &nbsp; &nbsp; &nbsp; &nbsp; &nbsp; &nbsp; &nbsp; &nbsp; Python &nbsp; &nbsp; &nbsp; &nbsp; &nbsp; &nbsp; &nbsp; &nbsp; &nbsp; &nbsp; &nbsp; &nbsp; &nbsp; &nbsp; &nbsp; | &nbsp; &nbsp; &nbsp; &nbsp; &nbsp; &nbsp; &nbsp; &nbsp; &nbsp; &nbsp; &nbsp; &nbsp; &nbsp; &nbsp; &nbsp; Ruby &nbsp; &nbsp; &nbsp; &nbsp; &nbsp; &nbsp; &nbsp; &nbsp; &nbsp; &nbsp; &nbsp; &nbsp; &nbsp; &nbsp; &nbsp;\n",
    ":----------:| :------------------------------|:------------------------------\n",
    "`print`     | 자동 줄바꿈                       | 줄바꿈 없음\n",
    "`puts`      | NA                             | 파이썬의 `print`와 비슷한 기능\n"
   ]
  },
  {
   "cell_type": "markdown",
   "metadata": {},
   "source": [
    "## 연산자\n",
    "\n",
    "숫자들의 덧셈(`+`), 뺄셈(`-`), 곱셈(`*`), 나눗셈(`/`)을 위한 사칙연산 연산자의 활용은 \n",
    "두 언어 모두에서 동일하다."
   ]
  },
  {
   "cell_type": "markdown",
   "metadata": {},
   "source": [
    "### 좀 더 복잡한 연산자\n",
    "\n",
    "올림, 반올림, 지수 함수 등의 활용은 두 언어에서 차이를 보인다."
   ]
  },
  {
   "cell_type": "markdown",
   "metadata": {},
   "source": [
    "&nbsp; &nbsp; &nbsp; &nbsp; &nbsp; &nbsp; 함수 &nbsp; &nbsp; &nbsp; &nbsp; &nbsp; &nbsp; | &nbsp; &nbsp; &nbsp; &nbsp; &nbsp; &nbsp; &nbsp; &nbsp; &nbsp; &nbsp; &nbsp; &nbsp; &nbsp; &nbsp; &nbsp; Python &nbsp; &nbsp; &nbsp; &nbsp; &nbsp; &nbsp; &nbsp; &nbsp; &nbsp; &nbsp; &nbsp; &nbsp; &nbsp; &nbsp; &nbsp; | &nbsp; &nbsp; &nbsp; &nbsp; &nbsp; &nbsp; &nbsp; &nbsp; &nbsp; &nbsp; &nbsp; &nbsp; &nbsp; &nbsp; &nbsp; Ruby &nbsp; &nbsp; &nbsp; &nbsp; &nbsp; &nbsp; &nbsp; &nbsp; &nbsp; &nbsp; &nbsp; &nbsp; &nbsp; &nbsp; &nbsp;\n",
    ":----------:| :------------------------------|:------------------------------\n",
    "올림         | `import math`<br>`math.ceil(2.24)` | `2.24.ceil()`\n",
    "내림         | `import math`<br>`math.floor(2.24)`| `2.24.floor()`\n",
    "지수         | `import math`<br>`math.pow(2,10)`<br>또는 `2**10`  | `2**10`\n",
    "원주율        | `import math`<br>`math.pi`         | `Math::PI`\n",
    "제곱근        | `import math`<br>`math.sqrt(2)`    | `Math::sqrt(2)`\n",
    "로그         | `import math`<br>`math.log(2.71)`<br>`import math`<br>`math.log10(10)`<br> | `Math::log(2.71)`<br><br>`Math::log10(10)`\n",
    "삼각함수      | `import math`<br>`math.sin(2)`<br>`import math`<br>`math.cos(2)` | `Math::sin(2)`<br><br>`Math::cos(2)`"
   ]
  },
  {
   "cell_type": "markdown",
   "metadata": {},
   "source": [
    "#### 주의사항\n",
    "* 정수 및 부동소수점 자료형\n",
    "    * 파이썬: `int`, `float` 자료형 클래스에는 올림 및 내림을 다룰 수 있는 자체 기능이 없어서, \n",
    "        외부 함수를 이용해야 함.\n",
    "    * 루비: `Integer`, `Float` 자료형 클래스에는 올림 및 내림을 \n",
    "        다룰 수 있는 메소드인 `ceil`과 `floor`가 구현되어 있음.\n",
    "    * 클래스, 객체, 메소드, 함수 등에 대해서는 이후에 자세히 다룸.\n",
    "* 모듈 사용하기\n",
    "    * 파이썬: 특정 모듈을 사용하려면 먼저 임포트(import) 해야 한다.\n",
    "    * 루비: 필요할 때 모듈 이름을 함께 사용하면 된다.\n",
    "    * 모듈 개념은 이후에 자세히 다룸."
   ]
  },
  {
   "cell_type": "markdown",
   "metadata": {},
   "source": [
    "### 연산자 우선순위"
   ]
  },
  {
   "cell_type": "markdown",
   "metadata": {},
   "source": [
    "해석기가 표현식의 값을 계산할 때 연산자 별로 우선순위가 있으며 괄호를 사용하지 않을 경우 우선순위에 따라 계산된다.\n",
    "우선순위는 수학에서 일반적으로 사용되는 것과 동일하다.\n",
    "\n",
    "* 괄호 안에 있는 표현식을 가장 먼저 계산한다. \n",
    "    * `2 * (3-1)` 는 4이고, `(1+1)**(5-2)` 는 8이다.\n",
    "    * `(minute * 100) / 60` 과 `(minute * 100) / 60`는 동일한 값을 갖는다.\n",
    "* 거듭제곱의 우선순위가 사칙연산보다 높다.\n",
    "    * `2**1+1` 는 3이다. \n",
    "    * `3*1**3` 도 3이다.\n",
    "* 곱셈과 나눗셈을 덧셈과 뺄셈보다 먼저 계산한다. \n",
    "    * `2*3-1`은 5이다. \n",
    "    * `6+4/2`은 8이다.\n",
    "* 곱셈과 나눗셈은 서로 우선순위가 같다.\n",
    "* 덧셈과 뺄쎔도 서로 우선순위가 같다. \n",
    "* 같은 우선순위를 갖는 연산자가 연속해서 나오면 (거듭제곱을 제외하고) 왼쪽에서 오른쪽으로 계산됩니다. \n",
    "    * `degrees/2*pi`의 경우 나눗셈이 먼저 실행된 후에 곱셈이 실행된다.\n",
    "    * 즉, `(degrees * pi)/2`와 동일한 값이다.\n",
    "* 거듭제곱이 연속해서 나오면 오른쪽에서 왼쪽으로 계산된다. \n",
    "    * `2**3**2`는 `2**(3**2)`, 즉, $2^9$이다."
   ]
  },
  {
   "cell_type": "markdown",
   "metadata": {},
   "source": [
    "### 문자열 연산\n",
    "\n",
    "문자열들을 대상으로 덧셈기호와 곱셈기호를 사용할 수 있다. "
   ]
  },
  {
   "cell_type": "markdown",
   "metadata": {},
   "source": [
    "#### 연산자 중복정의\n",
    "* 문자열들의 덧셈과 곱셈이란 말은 정확하지 않다. 대신에 문자열 합치기와 반복 이어붙이기로 말해야 한다.\n",
    "* 덧셈 기호(`+`)를 문자열 합치기의 기호로 사용한다.\n",
    "* 곱셈 기호(`*`)를 반복 이어붙이기의 기호로 사용한다.\n",
    "* 모든 프로그래밍언어에서 어떤 기호들은 다양한 의미로 사용된다.\n",
    "    * `+`와 `*`이 숫자들의 연산 뿐만 아니라 문자열들의 연산으로도 사용되는 경우가 가장 전형적이다.\n",
    "    * 이와같이 중복정의된 연산자와 연산기호들의 활용에 언어별로 주의해야 한다.\n",
    "* __주의:__ 뺄셈기호와 나눗셈기호는 문자열 연산에 절대로 사용되지 않는다.\n",
    "* 특히, 자료형이 다른 값들을 연산하면 오류가 발생할 수 있다."
   ]
  },
  {
   "cell_type": "code",
   "execution_count": 13,
   "metadata": {},
   "outputs": [
    {
     "ename": "TypeError",
     "evalue": "unsupported operand type(s) for +: 'int' and 'str'",
     "output_type": "error",
     "traceback": [
      "\u001b[0;31m---------------------------------------------------------------------------\u001b[0m",
      "\u001b[0;31mTypeError\u001b[0m                                 Traceback (most recent call last)",
      "\u001b[0;32m<ipython-input-13-258141cc0832>\u001b[0m in \u001b[0;36m<module>\u001b[0;34m()\u001b[0m\n\u001b[0;32m----> 1\u001b[0;31m \u001b[0mprint\u001b[0m\u001b[0;34m(\u001b[0m\u001b[0;36m10\u001b[0m \u001b[0;34m+\u001b[0m \u001b[0;34m'10'\u001b[0m\u001b[0;34m)\u001b[0m\u001b[0;34m\u001b[0m\u001b[0m\n\u001b[0m",
      "\u001b[0;31mTypeError\u001b[0m: unsupported operand type(s) for +: 'int' and 'str'"
     ]
    }
   ],
   "source": [
    "print(10 + '10')"
   ]
  },
  {
   "cell_type": "code",
   "execution_count": 14,
   "metadata": {},
   "outputs": [
    {
     "name": "stderr",
     "output_type": "stream",
     "text": [
      "-:1:in `+': String can't be coerced into Integer (TypeError)\n",
      "\tfrom -:1:in `<main>'\n"
     ]
    }
   ],
   "source": [
    "%%ruby\n",
    "puts(10 + '10')"
   ]
  },
  {
   "cell_type": "markdown",
   "metadata": {},
   "source": [
    "#### 문자열 합치기\n",
    "\n",
    "아래와 같이 두 개의 문자열을 합치기 위해 덧셈 기호를 사용한다. \n",
    "```python\n",
    "'2'-'1'    'eggs'/'easy'    'third'*'a charm'\n",
    "```"
   ]
  },
  {
   "cell_type": "code",
   "execution_count": 15,
   "metadata": {},
   "outputs": [
    {
     "name": "stdout",
     "output_type": "stream",
     "text": [
      "파이썬, 안녕!\n"
     ]
    }
   ],
   "source": [
    "first = '파이썬, '\n",
    "second = '안녕!'\n",
    "print(first + second)"
   ]
  },
  {
   "cell_type": "code",
   "execution_count": 16,
   "metadata": {},
   "outputs": [
    {
     "name": "stdout",
     "output_type": "stream",
     "text": [
      "파이썬, 안녕!\n"
     ]
    }
   ],
   "source": [
    "%%ruby\n",
    "first = '파이썬, '\n",
    "second = '안녕!'\n",
    "puts(first + second)"
   ]
  },
  {
   "cell_type": "markdown",
   "metadata": {},
   "source": [
    "#### 문자열 반복 이어붙이기\n",
    "\n",
    "아래 표현식은 동일한 문자열을 지정한 숫자만큼 반복해서 이어붙이는 예제이다."
   ]
  },
  {
   "cell_type": "code",
   "execution_count": 17,
   "metadata": {},
   "outputs": [
    {
     "name": "stdout",
     "output_type": "stream",
     "text": [
      "I love you! I love you! I love you! I love you! \n"
     ]
    }
   ],
   "source": [
    "print('I love you! '* 4)"
   ]
  },
  {
   "cell_type": "code",
   "execution_count": 18,
   "metadata": {},
   "outputs": [
    {
     "name": "stdout",
     "output_type": "stream",
     "text": [
      "I love you! I love you! I love you! I love you! \n"
     ]
    }
   ],
   "source": [
    "%%ruby\n",
    "puts('I love you! '* 4)"
   ]
  },
  {
   "cell_type": "markdown",
   "metadata": {},
   "source": [
    "## 명령문\n",
    "\n",
    "명령문은 (파이썬/루비) 해석기가 실행하는 문장을 의미한다.\n",
    "변수 할당 명령문과 값을 출력하는 명령문 등이 대표적인 명령문이다. \n",
    "```python\n",
    "n = 17\n",
    "print(n)\n",
    "```\n",
    "파이썬/루비 해석기는 명령문을 해석한 내용에 따라 프로그램을 실행한다."
   ]
  },
  {
   "cell_type": "markdown",
   "metadata": {},
   "source": [
    "## 해석기 vs 컴파일러"
   ]
  },
  {
   "cell_type": "markdown",
   "metadata": {},
   "source": [
    "### 해석기 사용 언어\n",
    "앞서 설명한 것과 같이 코드를 한줄한줄 실행할 수 있는 언어를 __해석기 사용 언어__ \n",
    "또는 __스크립트 언어__라고 부르며,\n",
    "파이썬/루비 코드를 해석하여 실행할 수 있도록 하는 것을 __해석기/루비(인터프리터)__라고 한다.\n",
    "해석기가 작동하는 방식은 아래 그림과 같다.\n",
    "\n",
    "<p>\n",
    "<table cellspacing=\"20\">\n",
    "<tr>\n",
    "<td>\n",
    "<img src=\"images/thinkpython001.png\", width=430>\n",
    "</td>\n",
    "</tr>\n",
    "</table>\n",
    "</p>\n",
    "\n",
    "그림 출처: [Think Python: How to Think Like a Computer Scientist](http://www.greenteapress.com/thinkpython/html/thinkpython002.html#toc4)"
   ]
  },
  {
   "cell_type": "markdown",
   "metadata": {},
   "source": [
    "### 컴파일러 사용 언어\n",
    "반면에 C 언어와 Java 언어의 경우는 __컴파일러 사용 언어__라 불린다.\n",
    "컴파이러는 소스코드를 일괄적으로 대상코드(object code)로 변환시킨다.\n",
    "변화 과정에서 소스코드 전체를 기계가 이해할 수 있는 저수준 언어로 번역하면서 링크과정 등 기타 다른 일들을 수행한다. \n",
    "파이썬의 경우와는 달리 소스코드가 아닌 대상코드를 실행하게 된다. \n",
    "컴파일 과정은 그림으로 나타내면 아래와 같다.\n",
    "\n",
    "<p>\n",
    "<table cellspacing=\"20\">\n",
    "<tr>\n",
    "<td>\n",
    "<img src=\"images/thinkpython002.png\", width=600>\n",
    "</td>\n",
    "</tr>\n",
    "</table>\n",
    "</p>\n",
    "\n",
    "그림 출처: [Think Python: How to Think Like a Computer Scientist](http://www.greenteapress.com/thinkpython/html/thinkpython002.html#toc4)"
   ]
  },
  {
   "cell_type": "markdown",
   "metadata": {},
   "source": [
    "### 프로그래밍언어의 분류\n",
    "* 프로그래밍언어를 다양한 기준으로 분류할 수 있다.\n",
    "    * 해석기/컴파일러 사용 기준: 해석기 사용 언어와 컴파일러 사용 언어\n",
    "    * 객체 사용 기준: 객체지향언어와 절차지향 언어\n",
    "    * 프로그래밍 접근방식 기준: 명령언어 언어, 함수중심 언어, 논리중심 언어 등등.\n",
    "* 프로그래밍 접근방식(패러다임)에 대해 이후 추가 설명 예정임."
   ]
  },
  {
   "cell_type": "markdown",
   "metadata": {},
   "source": [
    "## 연습문제\n",
    "1. C에서 사칙연산은 파이썬/루비와 다른지 확인하라.\n",
    "1. Java 에서 사칙연산은 파이썬/루비와 다른지 확인하라.\n",
    "1. 앞서 언급한 좀 더 복잡한 연산자가 C에서 어떻게 활용되는지 예를 들어 설명하라.\n",
    "1. 앞서 언급한 좀 더 복잡한 연산자가 Java에서 어떻게 활용되는지 예를 들어 설명하라.\n",
    "1. C에도 `ceil` 함수가 존재한다.\n",
    "    C에서 아래와 같이 실행할 때 어떤 일이 왜 발생하는지 설명하라.\n",
    "    ```\n",
    "    ceil(\"abc\")\n",
    "    ```\n",
    "    힌트: 아래 사이트 참조\n",
    "    * https://www.tutorialspoint.com/c_standard_library/c_function_ceil.htm\n",
    "1. Java의 Math 클래스 안에 `ceil` 이라는 정적메소드가 존재한다.\n",
    "    1. Java에서 아래와 같이 실행할 때 어떤 일이 왜 발생하는지 설명하라.\n",
    "        ```\n",
    "        Math.ceil(\"abc\")\n",
    "        ```\n",
    "        힌트: 아래 사이트 참조\n",
    "        * `ceil` 메소드 활용: https://www.tutorialspoint.com/java/number_ceil.htm\n",
    "        * `Math` 클래스 소개: https://www.tutorialspoint.com/java/lang/java_lang_math.htm\n",
    "    1. Java에서 사용되는 정적메소드에 대해 설명하라.\n",
    "1. `ceil` 함수/메소드가 비슷하지만 언어별로 다르게 작동함을 예제와 연습문제를 통해 보았다.\n",
    "    이제 동적타이핑과 정적타이핑에 대해 알아보고 이해한 만큼 설명하라."
   ]
  }
 ],
 "metadata": {
  "kernelspec": {
   "display_name": "Python 3",
   "language": "python",
   "name": "python3"
  },
  "language_info": {
   "codemirror_mode": {
    "name": "ipython",
    "version": 3
   },
   "file_extension": ".py",
   "mimetype": "text/x-python",
   "name": "python",
   "nbconvert_exporter": "python",
   "pygments_lexer": "ipython3",
   "version": "3.6.3"
  }
 },
 "nbformat": 4,
 "nbformat_minor": 2
}
