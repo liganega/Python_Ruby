{
 "cells": [
  {
   "cell_type": "markdown",
   "metadata": {},
   "source": [
    "# 불리언과 불리언 연산자"
   ]
  },
  {
   "cell_type": "markdown",
   "metadata": {},
   "source": [
    "## 불리언 자료형"
   ]
  },
  {
   "cell_type": "markdown",
   "metadata": {},
   "source": [
    "불리언(Boolean) 자료형에는 참과 거짓 두 개의 값만 존재한다. "
   ]
  },
  {
   "cell_type": "markdown",
   "metadata": {},
   "source": [
    "&nbsp; &nbsp; &nbsp; &nbsp; &nbsp; &nbsp; 진리값 &nbsp; &nbsp; &nbsp; &nbsp; &nbsp; &nbsp; | &nbsp; &nbsp; &nbsp; &nbsp; &nbsp; &nbsp; &nbsp; &nbsp; &nbsp; &nbsp; &nbsp; &nbsp; &nbsp; &nbsp; &nbsp; Python &nbsp; &nbsp; &nbsp; &nbsp; &nbsp; &nbsp; &nbsp; &nbsp; &nbsp; &nbsp; &nbsp; &nbsp; &nbsp; &nbsp; &nbsp; | &nbsp; &nbsp; &nbsp; &nbsp; &nbsp; &nbsp; &nbsp; &nbsp; &nbsp; &nbsp; &nbsp; &nbsp; &nbsp; &nbsp; &nbsp; Ruby &nbsp; &nbsp; &nbsp; &nbsp; &nbsp; &nbsp; &nbsp; &nbsp; &nbsp; &nbsp; &nbsp; &nbsp; &nbsp; &nbsp; &nbsp;\n",
    ":----------:| :------------------------------|:------------------------------\n",
    "참           | `True`                         | `true`\n",
    "거짓          | `False`                        | `false`\n"
   ]
  },
  {
   "cell_type": "markdown",
   "metadata": {},
   "source": [
    "파이썬에서 `True`와 `False`의 자료형을 확인하면 `bool`이라고 알려준다."
   ]
  },
  {
   "cell_type": "code",
   "execution_count": 1,
   "metadata": {},
   "outputs": [
    {
     "data": {
      "text/plain": [
       "bool"
      ]
     },
     "execution_count": 1,
     "metadata": {},
     "output_type": "execute_result"
    }
   ],
   "source": [
    "type(True)"
   ]
  },
  {
   "cell_type": "code",
   "execution_count": 2,
   "metadata": {},
   "outputs": [
    {
     "data": {
      "text/plain": [
       "bool"
      ]
     },
     "execution_count": 2,
     "metadata": {},
     "output_type": "execute_result"
    }
   ],
   "source": [
    "type(False)"
   ]
  },
  {
   "cell_type": "markdown",
   "metadata": {},
   "source": [
    "루비에서 `true`와 `false`의 자료형을 확인하면 다르게 확인되는데, \n",
    "각각 `TrueClass`와 `FalseClass` 자료형임을 알 수 있다."
   ]
  },
  {
   "cell_type": "code",
   "execution_count": 3,
   "metadata": {},
   "outputs": [
    {
     "name": "stdout",
     "output_type": "stream",
     "text": [
      "TrueClass\n"
     ]
    }
   ],
   "source": [
    "%%ruby\n",
    "puts(true.class)"
   ]
  },
  {
   "cell_type": "code",
   "execution_count": 4,
   "metadata": {},
   "outputs": [
    {
     "name": "stdout",
     "output_type": "stream",
     "text": [
      "FalseClass\n"
     ]
    }
   ],
   "source": [
    "%%ruby\n",
    "puts(false.class)"
   ]
  },
  {
   "cell_type": "markdown",
   "metadata": {},
   "source": [
    "즉, 루비에는 불리언 자료형이 따로 존재하지 않으며, `TrueClass`와 `FalseClass`가 그 역할을 대신한다. \n",
    "또한 두 클래스 모두 **싱글톤 클래스(singleton class)** 이다.\n",
    "즉, `true`가 `TrueClass`의 유일한 객체(인스턴스)이고,\n",
    "`false`는 `FalseClass`의 유일한 객체(인스턴스)이다."
   ]
  },
  {
   "cell_type": "markdown",
   "metadata": {},
   "source": [
    "#### 참조: 싱글톤 클래스(singleton class)\n",
    "\n",
    "* 오직 한 개의 클래스 인스턴스만을 갖도록 보장된 클래스를 의미함. \n",
    "* 한 번 생성된 유일한 인스턴스는 어디서든 사용이 가능하도록 전역변수를 사용하여 \n",
    "    만들어짐.\n",
    "* 객체지향프로그래밍 개념이 발전하면서 클래스와 객체을 사용하는 방식,\n",
    "    즉, 객체지향프로그래밍의 디자인패턴에 대한 많은 이론과 기술이 발전하였음.\n",
    "* 그중 싱글톤 패턴(singleton pattern)은 클래스의 인스턴스가 사용될 때에 \n",
    "    똑같은 인스턴스를 만들어 내는 대신에 한 번 만들어진 인스턴스를 사용하도록\n",
    "    강제하는 전략을 가진 디자인 패턴임.\n",
    "* 사용 이유: 프로그램상에서 하나의 객체만을 사용해야 할 때 필요.\n",
    "* 소위 4대 디자인 패턴에 포함될 정도로 매우 중요\n",
    "* Java 이용 참조 자료\n",
    "    * http://proal.tistory.com/58\n",
    "    * https://blog.seotory.com/post/2016/03/java-singleton-pattern\n",
    "    * Head First Design Patterns, 5장, 한빛미디어\n",
    "* 파이썬 이용 참조 자료\n",
    "    * https://gomjellie.github.io/파이썬/디자인%20패턴/2017/06/10/python-singleton-pattern.html\n",
    "* 루비 이용 참조 자료\n",
    "    * 앞서 언급한 `TrueClass`와 `FalseClass` 처럼 참 또는 거짓의 값을 나타내는 인스턴는 하나 뿐이어야 한다는 점을 기억해둘 것."
   ]
  },
  {
   "cell_type": "markdown",
   "metadata": {},
   "source": [
    "## 불리언 표현식\n",
    "\n",
    "참 또는 거짓의 값을 갖는 표현식을 **불리언 표현식**이라 부른다. \n",
    "즉, 불리언 표현식은 참(`True`, `true`) 또는 거짓(`False`, `false`)으로 판명될 수 있는 모든 표현식을 의미하며,\n",
    "보통은 비교 연산자 및 논리연산자를 이용하여 나타낸다. "
   ]
  },
  {
   "cell_type": "markdown",
   "metadata": {},
   "source": [
    "### 불리언 비교 연산자\n",
    "\n",
    "동일한 자료형의 값들의 동등성과 크기를 비교하는 연산자는 두 언어 모두 동일하게 작동한다."
   ]
  },
  {
   "cell_type": "markdown",
   "metadata": {},
   "source": [
    "#### 동등성 비교 연산자: `==` 와 `!=`"
   ]
  },
  {
   "cell_type": "markdown",
   "metadata": {},
   "source": [
    "* `==`: 두 값의 동등성 여부를 판단한다."
   ]
  },
  {
   "cell_type": "code",
   "execution_count": 5,
   "metadata": {},
   "outputs": [
    {
     "name": "stdout",
     "output_type": "stream",
     "text": [
      "True\n"
     ]
    }
   ],
   "source": [
    "print(1+1 == 2)"
   ]
  },
  {
   "cell_type": "code",
   "execution_count": 6,
   "metadata": {},
   "outputs": [
    {
     "name": "stdout",
     "output_type": "stream",
     "text": [
      "False\n"
     ]
    }
   ],
   "source": [
    "print(1+1 == 3)"
   ]
  },
  {
   "cell_type": "code",
   "execution_count": 7,
   "metadata": {},
   "outputs": [
    {
     "name": "stdout",
     "output_type": "stream",
     "text": [
      "true\n"
     ]
    }
   ],
   "source": [
    "%%ruby\n",
    "puts(1+1 == 2)"
   ]
  },
  {
   "cell_type": "code",
   "execution_count": 8,
   "metadata": {},
   "outputs": [
    {
     "name": "stdout",
     "output_type": "stream",
     "text": [
      "false\n"
     ]
    }
   ],
   "source": [
    "%%ruby\n",
    "puts(1+1 == 3)"
   ]
  },
  {
   "cell_type": "markdown",
   "metadata": {},
   "source": [
    "* `!=`: 두 값의 비동등성 여부를 판단한다."
   ]
  },
  {
   "cell_type": "code",
   "execution_count": 9,
   "metadata": {},
   "outputs": [
    {
     "name": "stdout",
     "output_type": "stream",
     "text": [
      "False\n"
     ]
    }
   ],
   "source": [
    "print(1+1 != 2)"
   ]
  },
  {
   "cell_type": "code",
   "execution_count": 10,
   "metadata": {},
   "outputs": [
    {
     "name": "stdout",
     "output_type": "stream",
     "text": [
      "True\n"
     ]
    }
   ],
   "source": [
    "print(1+1 != 3)"
   ]
  },
  {
   "cell_type": "code",
   "execution_count": 11,
   "metadata": {},
   "outputs": [
    {
     "name": "stdout",
     "output_type": "stream",
     "text": [
      "false\n"
     ]
    }
   ],
   "source": [
    "%%ruby\n",
    "puts(1+1 != 2)"
   ]
  },
  {
   "cell_type": "code",
   "execution_count": 12,
   "metadata": {},
   "outputs": [
    {
     "name": "stdout",
     "output_type": "stream",
     "text": [
      "true\n"
     ]
    }
   ],
   "source": [
    "%%ruby\n",
    "puts(1+1 != 3)"
   ]
  },
  {
   "cell_type": "markdown",
   "metadata": {},
   "source": [
    "#### 크기 비교 연산자: `>`,  `<`, `>=`, `<=`"
   ]
  },
  {
   "cell_type": "code",
   "execution_count": 13,
   "metadata": {},
   "outputs": [
    {
     "name": "stdout",
     "output_type": "stream",
     "text": [
      "False\n"
     ]
    }
   ],
   "source": [
    "print(1+1 > 2)"
   ]
  },
  {
   "cell_type": "code",
   "execution_count": 14,
   "metadata": {},
   "outputs": [
    {
     "name": "stdout",
     "output_type": "stream",
     "text": [
      "True\n"
     ]
    }
   ],
   "source": [
    "print(1+1 < 3)"
   ]
  },
  {
   "cell_type": "code",
   "execution_count": 15,
   "metadata": {},
   "outputs": [
    {
     "name": "stdout",
     "output_type": "stream",
     "text": [
      "True\n"
     ]
    }
   ],
   "source": [
    "print(1+1 >= 2)"
   ]
  },
  {
   "cell_type": "code",
   "execution_count": 16,
   "metadata": {},
   "outputs": [
    {
     "name": "stdout",
     "output_type": "stream",
     "text": [
      "True\n"
     ]
    }
   ],
   "source": [
    "print(1+1 <= 3)"
   ]
  },
  {
   "cell_type": "code",
   "execution_count": 17,
   "metadata": {},
   "outputs": [
    {
     "name": "stdout",
     "output_type": "stream",
     "text": [
      "false\n"
     ]
    }
   ],
   "source": [
    "%%ruby\n",
    "puts(1+1 > 2)"
   ]
  },
  {
   "cell_type": "code",
   "execution_count": 18,
   "metadata": {},
   "outputs": [
    {
     "name": "stdout",
     "output_type": "stream",
     "text": [
      "true\n"
     ]
    }
   ],
   "source": [
    "%%ruby\n",
    "puts(1+1 < 3)"
   ]
  },
  {
   "cell_type": "code",
   "execution_count": 19,
   "metadata": {},
   "outputs": [
    {
     "name": "stdout",
     "output_type": "stream",
     "text": [
      "true\n"
     ]
    }
   ],
   "source": [
    "%%ruby\n",
    "puts(1+1 >= 2)"
   ]
  },
  {
   "cell_type": "code",
   "execution_count": 20,
   "metadata": {},
   "outputs": [
    {
     "name": "stdout",
     "output_type": "stream",
     "text": [
      "true\n"
     ]
    }
   ],
   "source": [
    "%%ruby\n",
    "puts(1+1 <= 3)"
   ]
  },
  {
   "cell_type": "markdown",
   "metadata": {},
   "source": [
    "#### 불리언 비교 연산자의 한계\n",
    "\n",
    "부동소수점을 대상으로 비교 연산자를 사용하면 제대로 작동하지 않을 수도 있다.\n",
    "이것은 파이썬 또는 루비의 문제가 아니라 컴퓨터에서 부동소수점을 기본적으로 제대로 다룰 수 없는 \n",
    "한계 때문에 발생한다는 점만 기억해 두면 좋다."
   ]
  },
  {
   "cell_type": "markdown",
   "metadata": {},
   "source": [
    "* 등등성 비교 실패 예제"
   ]
  },
  {
   "cell_type": "code",
   "execution_count": 21,
   "metadata": {},
   "outputs": [
    {
     "name": "stdout",
     "output_type": "stream",
     "text": [
      "False\n"
     ]
    }
   ],
   "source": [
    "a = 1000000.0\n",
    "b = 0.00000000001\n",
    "\n",
    "x, y = 0, 0\n",
    "\n",
    "for i in range (1000000):\n",
    "    x += b\n",
    "\n",
    "x += a\n",
    "y += a\n",
    "\n",
    "for i in range (1000000):\n",
    "    y += b\n",
    "\n",
    "print(y == x)"
   ]
  },
  {
   "cell_type": "code",
   "execution_count": 22,
   "metadata": {},
   "outputs": [
    {
     "name": "stdout",
     "output_type": "stream",
     "text": [
      "false\n"
     ]
    }
   ],
   "source": [
    "%%ruby\n",
    "a = 1000000.0\n",
    "b = 0.00000000001\n",
    "\n",
    "x, y = 0, 0\n",
    "\n",
    "for i in (0..1000000) do\n",
    "    x += b\n",
    "end\n",
    "\n",
    "x += a\n",
    "y += a\n",
    "\n",
    "for i in (0..1000000) do\n",
    "    y += b\n",
    "end\n",
    "\n",
    "puts(y == x)"
   ]
  },
  {
   "cell_type": "markdown",
   "metadata": {},
   "source": [
    "* 크기 비교 실패 예제"
   ]
  },
  {
   "cell_type": "code",
   "execution_count": 23,
   "metadata": {},
   "outputs": [
    {
     "name": "stdout",
     "output_type": "stream",
     "text": [
      "False\n"
     ]
    }
   ],
   "source": [
    "a = 1000000.0\n",
    "b = 0.00000000001\n",
    "\n",
    "x, y = 0, 0\n",
    "\n",
    "for i in range (1000000):\n",
    "    x += b\n",
    "\n",
    "x += a\n",
    "y += a\n",
    "\n",
    "for i in range (10000000):\n",
    "    y += b\n",
    "\n",
    "print(y > x)"
   ]
  },
  {
   "cell_type": "code",
   "execution_count": 24,
   "metadata": {},
   "outputs": [
    {
     "name": "stdout",
     "output_type": "stream",
     "text": [
      "false\n"
     ]
    }
   ],
   "source": [
    "%%ruby\n",
    "a = 1000000.0\n",
    "b = 0.00000000001\n",
    "\n",
    "x, y = 0, 0\n",
    "\n",
    "for i in (0..1000000) do\n",
    "    x += b\n",
    "end\n",
    "\n",
    "x += a\n",
    "y += a\n",
    "\n",
    "for i in (0..10000000) do\n",
    "    y += b\n",
    "end\n",
    "\n",
    "puts(y == x)"
   ]
  },
  {
   "cell_type": "markdown",
   "metadata": {},
   "source": [
    "### 논리 연산자\n",
    "\n",
    "내용 추가 예정임."
   ]
  }
 ],
 "metadata": {
  "kernelspec": {
   "display_name": "Python 3",
   "language": "python",
   "name": "python3"
  },
  "language_info": {
   "codemirror_mode": {
    "name": "ipython",
    "version": 3
   },
   "file_extension": ".py",
   "mimetype": "text/x-python",
   "name": "python",
   "nbconvert_exporter": "python",
   "pygments_lexer": "ipython3",
   "version": "3.6.3"
  }
 },
 "nbformat": 4,
 "nbformat_minor": 2
}
