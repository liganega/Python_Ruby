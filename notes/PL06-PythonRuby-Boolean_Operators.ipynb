{
 "cells": [
  {
   "cell_type": "markdown",
   "metadata": {},
   "source": [
    "# 불리언과 불리언 연산자"
   ]
  },
  {
   "cell_type": "markdown",
   "metadata": {},
   "source": [
    "## 불리언 자료형"
   ]
  },
  {
   "cell_type": "markdown",
   "metadata": {},
   "source": [
    "불리언(Boolean) 자료형에는 참과 거짓 두 개의 값만 존재한다. "
   ]
  },
  {
   "cell_type": "markdown",
   "metadata": {},
   "source": [
    "&nbsp; &nbsp; &nbsp; &nbsp; &nbsp; &nbsp; 진리값 &nbsp; &nbsp; &nbsp; &nbsp; &nbsp; &nbsp; | &nbsp; &nbsp; &nbsp; &nbsp; &nbsp; &nbsp; &nbsp; &nbsp; &nbsp; &nbsp; &nbsp; &nbsp; &nbsp; &nbsp; &nbsp; Python &nbsp; &nbsp; &nbsp; &nbsp; &nbsp; &nbsp; &nbsp; &nbsp; &nbsp; &nbsp; &nbsp; &nbsp; &nbsp; &nbsp; &nbsp; | &nbsp; &nbsp; &nbsp; &nbsp; &nbsp; &nbsp; &nbsp; &nbsp; &nbsp; &nbsp; &nbsp; &nbsp; &nbsp; &nbsp; &nbsp; Ruby &nbsp; &nbsp; &nbsp; &nbsp; &nbsp; &nbsp; &nbsp; &nbsp; &nbsp; &nbsp; &nbsp; &nbsp; &nbsp; &nbsp; &nbsp;\n",
    ":----------:| :------------------------------|:------------------------------\n",
    "참           | `True`                         | `true`\n",
    "거짓          | `False`                        | `false`\n"
   ]
  },
  {
   "cell_type": "markdown",
   "metadata": {},
   "source": [
    "파이썬에서 `True`와 `False`의 자료형을 확인하면 `bool`이라고 알려준다."
   ]
  },
  {
   "cell_type": "code",
   "execution_count": 1,
   "metadata": {},
   "outputs": [
    {
     "data": {
      "text/plain": [
       "bool"
      ]
     },
     "execution_count": 1,
     "metadata": {},
     "output_type": "execute_result"
    }
   ],
   "source": [
    "type(True)"
   ]
  },
  {
   "cell_type": "code",
   "execution_count": 2,
   "metadata": {},
   "outputs": [
    {
     "data": {
      "text/plain": [
       "bool"
      ]
     },
     "execution_count": 2,
     "metadata": {},
     "output_type": "execute_result"
    }
   ],
   "source": [
    "type(False)"
   ]
  },
  {
   "cell_type": "markdown",
   "metadata": {},
   "source": [
    "루비에서 `true`와 `false`의 자료형을 확인하면 다르게 확인되는데, \n",
    "각각 `TrueClass`와 `FalseClass` 자료형임을 알 수 있다."
   ]
  },
  {
   "cell_type": "code",
   "execution_count": 3,
   "metadata": {},
   "outputs": [
    {
     "name": "stdout",
     "output_type": "stream",
     "text": [
      "TrueClass\n"
     ]
    }
   ],
   "source": [
    "%%ruby\n",
    "puts(true.class)"
   ]
  },
  {
   "cell_type": "code",
   "execution_count": 4,
   "metadata": {},
   "outputs": [
    {
     "name": "stdout",
     "output_type": "stream",
     "text": [
      "FalseClass\n"
     ]
    }
   ],
   "source": [
    "%%ruby\n",
    "puts(false.class)"
   ]
  },
  {
   "cell_type": "markdown",
   "metadata": {},
   "source": [
    "즉, 루비에는 불리언 자료형이 따로 존재하지 않으며, `TrueClass`와 `FalseClass`가 그 역할을 대신한다. \n",
    "또한 두 클래스 모두 **싱글톤 클래스(singleton class)** 이다.\n",
    "즉, `true`가 `TrueClass`의 유일한 객체(인스턴스)이고,\n",
    "`false`는 `FalseClass`의 유일한 객체(인스턴스)이다."
   ]
  },
  {
   "cell_type": "markdown",
   "metadata": {},
   "source": [
    "#### 참조: 싱글톤 클래스(singleton class)\n",
    "\n",
    "* 오직 한 개의 클래스 인스턴스만을 갖도록 보장된 클래스를 의미함. \n",
    "* 한 번 생성된 유일한 인스턴스는 어디서든 사용이 가능하도록 전역변수를 사용하여 \n",
    "    만들어짐.\n",
    "* 객체지향프로그래밍 개념이 발전하면서 클래스와 객체을 사용하는 방식,\n",
    "    즉, 객체지향프로그래밍의 디자인패턴에 대한 많은 이론과 기술이 발전하였음.\n",
    "* 그중 싱글톤 패턴(singleton pattern)은 클래스의 인스턴스가 사용될 때에 \n",
    "    똑같은 인스턴스를 만들어 내는 대신에 한 번 만들어진 인스턴스를 사용하도록\n",
    "    강제하는 전략을 가진 디자인 패턴임.\n",
    "* 사용 이유: 프로그램상에서 하나의 객체만을 사용해야 할 때 필요.\n",
    "* 소위 4대 디자인 패턴에 포함될 정도로 매우 중요\n",
    "* Java 이용 참조 자료\n",
    "    * http://proal.tistory.com/58\n",
    "    * https://blog.seotory.com/post/2016/03/java-singleton-pattern\n",
    "    * Head First Design Patterns, 5장, 한빛미디어\n",
    "* 파이썬 이용 참조 자료\n",
    "    * https://gomjellie.github.io/파이썬/디자인%20패턴/2017/06/10/python-singleton-pattern.html\n",
    "* 루비 이용 참조 자료\n",
    "    * 앞서 언급한 `TrueClass`와 `FalseClass` 처럼 참 또는 거짓의 값을 나타내는 인스턴는 하나 뿐이어야 한다는 점을 기억해둘 것."
   ]
  },
  {
   "cell_type": "markdown",
   "metadata": {},
   "source": [
    "## 진리값의 다른 표현"
   ]
  },
  {
   "cell_type": "markdown",
   "metadata": {},
   "source": [
    "### 거짓\n",
    "아래 값들은 거짓으로 다루어진다."
   ]
  },
  {
   "cell_type": "markdown",
   "metadata": {},
   "source": [
    "&nbsp; &nbsp; &nbsp; &nbsp; &nbsp; &nbsp; &nbsp; &nbsp; &nbsp; &nbsp; &nbsp; &nbsp; &nbsp; &nbsp; &nbsp; Python &nbsp; &nbsp; &nbsp; &nbsp; &nbsp; &nbsp; &nbsp; &nbsp; &nbsp; &nbsp; &nbsp; &nbsp; &nbsp; &nbsp; &nbsp; | &nbsp; &nbsp; &nbsp; &nbsp; &nbsp; &nbsp; &nbsp; &nbsp; &nbsp; &nbsp; &nbsp; &nbsp; &nbsp; &nbsp; &nbsp; Ruby &nbsp; &nbsp; &nbsp; &nbsp; &nbsp; &nbsp; &nbsp; &nbsp; &nbsp; &nbsp; &nbsp; &nbsp; &nbsp; &nbsp; &nbsp;\n",
    "------------------------------|------------------------------\n",
    "`False`                       | `false`\n",
    "`None`                        | `nil`\n",
    "`0`                           | \n",
    "`\"\"`, `()`, `[]`, `{}`        | "
   ]
  },
  {
   "cell_type": "markdown",
   "metadata": {},
   "source": [
    "* `\"\"`: 빈 문자열\n",
    "* `()`: 빈 튜플(파이썬)\n",
    "* `[]`: 빈 리스트(파이썬), 빈 어레이(루비)\n",
    "* `{}`: 빈 사전(파이썬), 빈 해쉬(루비)\n",
    "\n",
    "**주의:** \n",
    "* 루비에는 튜플 자료형이 존재하지 않는다.\n",
    "* 루비에서 `()`는 `nil`을 나타내는 기호이다.\n",
    "* 루비의 `nil`은 파이썬의 `None`에 대응한다."
   ]
  },
  {
   "cell_type": "markdown",
   "metadata": {},
   "source": [
    "#### 파이썬\n",
    "아래는 파이썬에서 앞서 언급된 값들이 모두 거짓으로 취급됨을 보여준다.\n",
    "\n",
    "**주의:** `bool`은 불리언 자료형으로 형변환 시키는 파이썬 함수이다."
   ]
  },
  {
   "cell_type": "code",
   "execution_count": 5,
   "metadata": {},
   "outputs": [
    {
     "data": {
      "text/plain": [
       "False"
      ]
     },
     "execution_count": 5,
     "metadata": {},
     "output_type": "execute_result"
    }
   ],
   "source": [
    "bool(\"\") or bool(()) or bool([]) or bool({})"
   ]
  },
  {
   "cell_type": "markdown",
   "metadata": {},
   "source": [
    "#### 루비\n",
    "* 루비의 경우 `nil`과 `false` 만 거짓으로 취급됨.\n",
    "* 이외의 값들은 참으로 취급됨.\n",
    "\n",
    "**주의:** \n",
    "* `!!`(더블 뱅) 기호는 파이썬의 `bool` 함수와 비슷한 기능을 갖는다.\n",
    "* 루비에는 불리언 자료형이 존재하지 않음을 기억하라."
   ]
  },
  {
   "cell_type": "code",
   "execution_count": 6,
   "metadata": {},
   "outputs": [
    {
     "name": "stdout",
     "output_type": "stream",
     "text": [
      "false\n"
     ]
    }
   ],
   "source": [
    "%%ruby\n",
    "puts(!!nil)"
   ]
  },
  {
   "cell_type": "markdown",
   "metadata": {},
   "source": [
    "하지만 `nil`과 `false`는 다른 자료형에 속하며, \n",
    "따라서 동등하지 않다."
   ]
  },
  {
   "cell_type": "code",
   "execution_count": 7,
   "metadata": {},
   "outputs": [
    {
     "name": "stdout",
     "output_type": "stream",
     "text": [
      "NilClass\n"
     ]
    }
   ],
   "source": [
    "%%ruby\n",
    "puts(nil.class)"
   ]
  },
  {
   "cell_type": "code",
   "execution_count": 8,
   "metadata": {},
   "outputs": [
    {
     "name": "stdout",
     "output_type": "stream",
     "text": [
      "false\n"
     ]
    }
   ],
   "source": [
    "%%ruby\n",
    "puts(nil == false)"
   ]
  },
  {
   "cell_type": "markdown",
   "metadata": {},
   "source": [
    "### 참\n",
    "\n",
    "#### 파이썬\n",
    "앞서 언급된 자료형에서 빈 문자열, 빈 튜플, 빈 리스트, 빈 사전(빈 해시)를 제외한 값들은 모두 참으로 해석된다."
   ]
  },
  {
   "cell_type": "code",
   "execution_count": 9,
   "metadata": {},
   "outputs": [
    {
     "data": {
      "text/plain": [
       "True"
      ]
     },
     "execution_count": 9,
     "metadata": {},
     "output_type": "execute_result"
    }
   ],
   "source": [
    "bool(\"a\") and bool((1, 2)) and bool([\"a\", \"ab\"]) and bool({'school': '학교'})"
   ]
  },
  {
   "cell_type": "code",
   "execution_count": 10,
   "metadata": {},
   "outputs": [
    {
     "name": "stdout",
     "output_type": "stream",
     "text": [
      "false\n"
     ]
    }
   ],
   "source": [
    "if {}:\n",
    "    print(\"true\")\n",
    "else:\n",
    "    print(\"false\")"
   ]
  },
  {
   "cell_type": "markdown",
   "metadata": {},
   "source": [
    "#### 루비\n",
    "`nil`과 `false` 이외에는 참으로 취급됨."
   ]
  },
  {
   "cell_type": "code",
   "execution_count": 11,
   "metadata": {},
   "outputs": [
    {
     "name": "stdout",
     "output_type": "stream",
     "text": [
      "true\n"
     ]
    }
   ],
   "source": [
    "%%ruby\n",
    "puts((!!\"\" and !![] and !!{}))"
   ]
  },
  {
   "cell_type": "code",
   "execution_count": 12,
   "metadata": {},
   "outputs": [
    {
     "name": "stdout",
     "output_type": "stream",
     "text": [
      "true\n"
     ]
    }
   ],
   "source": [
    "%%ruby\n",
    "puts((!!\"a\" and !![\"a\", \"ab\"] and !!{'school' => '학교'}))"
   ]
  },
  {
   "cell_type": "code",
   "execution_count": 13,
   "metadata": {},
   "outputs": [
    {
     "name": "stdout",
     "output_type": "stream",
     "text": [
      "true\n"
     ]
    }
   ],
   "source": [
    "%%ruby\n",
    "if {}\n",
    "    puts(\"true\")\n",
    "else\n",
    "    puts(\"false\")\n",
    "end"
   ]
  },
  {
   "cell_type": "markdown",
   "metadata": {},
   "source": [
    "## 불리언 표현식\n",
    "\n",
    "참 또는 거짓의 값을 갖는 표현식을 **불리언 표현식**이라 부른다. \n",
    "즉, 불리언 표현식은 참(`True`, `true`) 또는 거짓(`False`, `false`)으로 판명될 수 있는 모든 표현식을 의미하며,\n",
    "보통은 비교 연산자 및 논리연산자를 이용하여 나타낸다. "
   ]
  },
  {
   "cell_type": "markdown",
   "metadata": {},
   "source": [
    "### 불리언 비교 연산자\n",
    "\n",
    "동일한 자료형의 값들의 동등성과 크기를 비교하는 연산자는 두 언어 모두 동일하게 작동한다."
   ]
  },
  {
   "cell_type": "markdown",
   "metadata": {},
   "source": [
    "#### 동등성 비교 연산자: `==` 와 `!=`"
   ]
  },
  {
   "cell_type": "markdown",
   "metadata": {},
   "source": [
    "* `==`: 두 값의 동등성 여부를 판단한다."
   ]
  },
  {
   "cell_type": "code",
   "execution_count": 14,
   "metadata": {},
   "outputs": [
    {
     "name": "stdout",
     "output_type": "stream",
     "text": [
      "True\n"
     ]
    }
   ],
   "source": [
    "print(1+1 == 2)"
   ]
  },
  {
   "cell_type": "code",
   "execution_count": 15,
   "metadata": {},
   "outputs": [
    {
     "name": "stdout",
     "output_type": "stream",
     "text": [
      "False\n"
     ]
    }
   ],
   "source": [
    "print(1+1 == 3)"
   ]
  },
  {
   "cell_type": "code",
   "execution_count": 16,
   "metadata": {},
   "outputs": [
    {
     "name": "stdout",
     "output_type": "stream",
     "text": [
      "true\n"
     ]
    }
   ],
   "source": [
    "%%ruby\n",
    "puts(1+1 == 2)"
   ]
  },
  {
   "cell_type": "code",
   "execution_count": 17,
   "metadata": {},
   "outputs": [
    {
     "name": "stdout",
     "output_type": "stream",
     "text": [
      "false\n"
     ]
    }
   ],
   "source": [
    "%%ruby\n",
    "puts(1+1 == 3)"
   ]
  },
  {
   "cell_type": "markdown",
   "metadata": {},
   "source": [
    "* `!=`: 두 값의 비동등성 여부를 판단한다."
   ]
  },
  {
   "cell_type": "code",
   "execution_count": 18,
   "metadata": {},
   "outputs": [
    {
     "name": "stdout",
     "output_type": "stream",
     "text": [
      "False\n"
     ]
    }
   ],
   "source": [
    "print(1+1 != 2)"
   ]
  },
  {
   "cell_type": "code",
   "execution_count": 19,
   "metadata": {},
   "outputs": [
    {
     "name": "stdout",
     "output_type": "stream",
     "text": [
      "True\n"
     ]
    }
   ],
   "source": [
    "print(1+1 != 3)"
   ]
  },
  {
   "cell_type": "code",
   "execution_count": 20,
   "metadata": {},
   "outputs": [
    {
     "name": "stdout",
     "output_type": "stream",
     "text": [
      "false\n"
     ]
    }
   ],
   "source": [
    "%%ruby\n",
    "puts(1+1 != 2)"
   ]
  },
  {
   "cell_type": "code",
   "execution_count": 21,
   "metadata": {},
   "outputs": [
    {
     "name": "stdout",
     "output_type": "stream",
     "text": [
      "true\n"
     ]
    }
   ],
   "source": [
    "%%ruby\n",
    "puts(1+1 != 3)"
   ]
  },
  {
   "cell_type": "markdown",
   "metadata": {},
   "source": [
    "#### 크기 비교 연산자: `>`,  `<`, `>=`, `<=`"
   ]
  },
  {
   "cell_type": "code",
   "execution_count": 22,
   "metadata": {},
   "outputs": [
    {
     "name": "stdout",
     "output_type": "stream",
     "text": [
      "False\n"
     ]
    }
   ],
   "source": [
    "print(1+1 > 2)"
   ]
  },
  {
   "cell_type": "code",
   "execution_count": 23,
   "metadata": {},
   "outputs": [
    {
     "name": "stdout",
     "output_type": "stream",
     "text": [
      "True\n"
     ]
    }
   ],
   "source": [
    "print(1+1 < 3)"
   ]
  },
  {
   "cell_type": "code",
   "execution_count": 24,
   "metadata": {},
   "outputs": [
    {
     "name": "stdout",
     "output_type": "stream",
     "text": [
      "True\n"
     ]
    }
   ],
   "source": [
    "print(1+1 >= 2)"
   ]
  },
  {
   "cell_type": "code",
   "execution_count": 25,
   "metadata": {},
   "outputs": [
    {
     "name": "stdout",
     "output_type": "stream",
     "text": [
      "True\n"
     ]
    }
   ],
   "source": [
    "print(1+1 <= 3)"
   ]
  },
  {
   "cell_type": "code",
   "execution_count": 26,
   "metadata": {},
   "outputs": [
    {
     "name": "stdout",
     "output_type": "stream",
     "text": [
      "false\n"
     ]
    }
   ],
   "source": [
    "%%ruby\n",
    "puts(1+1 > 2)"
   ]
  },
  {
   "cell_type": "code",
   "execution_count": 27,
   "metadata": {},
   "outputs": [
    {
     "name": "stdout",
     "output_type": "stream",
     "text": [
      "true\n"
     ]
    }
   ],
   "source": [
    "%%ruby\n",
    "puts(1+1 < 3)"
   ]
  },
  {
   "cell_type": "code",
   "execution_count": 28,
   "metadata": {},
   "outputs": [
    {
     "name": "stdout",
     "output_type": "stream",
     "text": [
      "true\n"
     ]
    }
   ],
   "source": [
    "%%ruby\n",
    "puts(1+1 >= 2)"
   ]
  },
  {
   "cell_type": "code",
   "execution_count": 29,
   "metadata": {},
   "outputs": [
    {
     "name": "stdout",
     "output_type": "stream",
     "text": [
      "true\n"
     ]
    }
   ],
   "source": [
    "%%ruby\n",
    "puts(1+1 <= 3)"
   ]
  },
  {
   "cell_type": "markdown",
   "metadata": {},
   "source": [
    "#### 불리언 비교 연산자의 한계\n",
    "\n",
    "부동소수점을 대상으로 비교 연산자를 사용하면 제대로 작동하지 않을 수도 있다.\n",
    "이것은 파이썬 또는 루비의 문제가 아니라 컴퓨터에서 부동소수점을 기본적으로 제대로 다룰 수 없는 \n",
    "한계 때문에 발생한다는 점만 기억해 두면 좋다."
   ]
  },
  {
   "cell_type": "markdown",
   "metadata": {},
   "source": [
    "* 등등성 비교 실패 예제"
   ]
  },
  {
   "cell_type": "code",
   "execution_count": 30,
   "metadata": {},
   "outputs": [
    {
     "name": "stdout",
     "output_type": "stream",
     "text": [
      "False\n"
     ]
    }
   ],
   "source": [
    "a = 1000000.0\n",
    "b = 0.00000000001\n",
    "\n",
    "x, y = 0, 0\n",
    "\n",
    "for i in range (1000000):\n",
    "    x += b\n",
    "\n",
    "x += a\n",
    "y += a\n",
    "\n",
    "for i in range (1000000):\n",
    "    y += b\n",
    "\n",
    "print(y == x)"
   ]
  },
  {
   "cell_type": "code",
   "execution_count": 31,
   "metadata": {},
   "outputs": [
    {
     "name": "stdout",
     "output_type": "stream",
     "text": [
      "false\n"
     ]
    }
   ],
   "source": [
    "%%ruby\n",
    "a = 1000000.0\n",
    "b = 0.00000000001\n",
    "\n",
    "x, y = 0, 0\n",
    "\n",
    "for i in (0..1000000) do\n",
    "    x += b\n",
    "end\n",
    "\n",
    "x += a\n",
    "y += a\n",
    "\n",
    "for i in (0..1000000) do\n",
    "    y += b\n",
    "end\n",
    "\n",
    "puts(y == x)"
   ]
  },
  {
   "cell_type": "markdown",
   "metadata": {},
   "source": [
    "* 크기 비교 실패 예제"
   ]
  },
  {
   "cell_type": "code",
   "execution_count": 32,
   "metadata": {},
   "outputs": [
    {
     "name": "stdout",
     "output_type": "stream",
     "text": [
      "False\n"
     ]
    }
   ],
   "source": [
    "a = 1000000.0\n",
    "b = 0.00000000001\n",
    "\n",
    "x, y = 0, 0\n",
    "\n",
    "for i in range (1000000):\n",
    "    x += b\n",
    "\n",
    "x += a\n",
    "y += a\n",
    "\n",
    "for i in range (10000000):\n",
    "    y += b\n",
    "\n",
    "print(y > x)"
   ]
  },
  {
   "cell_type": "code",
   "execution_count": 33,
   "metadata": {},
   "outputs": [
    {
     "name": "stdout",
     "output_type": "stream",
     "text": [
      "false\n"
     ]
    }
   ],
   "source": [
    "%%ruby\n",
    "a = 1000000.0\n",
    "b = 0.00000000001\n",
    "\n",
    "x, y = 0, 0\n",
    "\n",
    "for i in (0..1000000) do\n",
    "    x += b\n",
    "end\n",
    "\n",
    "x += a\n",
    "y += a\n",
    "\n",
    "for i in (0..10000000) do\n",
    "    y += b\n",
    "end\n",
    "\n",
    "puts(y == x)"
   ]
  },
  {
   "cell_type": "markdown",
   "metadata": {},
   "source": [
    "### 논리 연산자\n",
    "\n",
    "불리언 자료형의 값만을 대상으로 하는 연산자는 다음과 같다:\n",
    "\n",
    "> and, or, not\n",
    "\n",
    "파이썬과 루비를 포함에서 대부분의 프로그래밍언어에서 언급된 논리연산자의 활용은 거의 비슷하다."
   ]
  },
  {
   "cell_type": "markdown",
   "metadata": {},
   "source": [
    "#### 단축연산(short-circuit evaluation)\n",
    "\n",
    "파이썬과 루비를 포함해서 논리 연산자들은 **단축연산**을 지원한다. \n",
    "단축연산이란 복잡한 불리언 표현식을 보다 빠르게 연산하기 위해 경우에 따라 연산 중간에 실행을 종료시키는 것을 의미한다. \n",
    "\n",
    "* `A or B`\n",
    "    * `A`가 참의 값을 가질 때: `A`의 값을 리턴한다.\n",
    "    * `A`가 거짓의 값을 가질 때: `B`의 값을 리턴한다.\n",
    "* `A and B`\n",
    "    * `A`가 참의 값을 가질 때: `B`의 값을 리턴한다.\n",
    "    * `A`가 거짓의 값을 가질 때: `A`의 값을 리턴한다."
   ]
  },
  {
   "cell_type": "code",
   "execution_count": 34,
   "metadata": {},
   "outputs": [
    {
     "name": "stdout",
     "output_type": "stream",
     "text": [
      "True\n"
     ]
    }
   ],
   "source": [
    "print(1==1 or B)"
   ]
  },
  {
   "cell_type": "code",
   "execution_count": 35,
   "metadata": {},
   "outputs": [
    {
     "name": "stdout",
     "output_type": "stream",
     "text": [
      "[1]\n"
     ]
    }
   ],
   "source": [
    "print([1] or B)"
   ]
  },
  {
   "cell_type": "markdown",
   "metadata": {},
   "source": [
    "아래 예제의 경우 변수 `B`는 아직 선언되지 않았지만 오류를 발생시키지 않는다."
   ]
  },
  {
   "cell_type": "code",
   "execution_count": 36,
   "metadata": {},
   "outputs": [
    {
     "ename": "NameError",
     "evalue": "name 'B' is not defined",
     "output_type": "error",
     "traceback": [
      "\u001b[0;31m---------------------------------------------------------------------------\u001b[0m",
      "\u001b[0;31mNameError\u001b[0m                                 Traceback (most recent call last)",
      "\u001b[0;32m<ipython-input-36-f7120a2524e5>\u001b[0m in \u001b[0;36m<module>\u001b[0;34m()\u001b[0m\n\u001b[0;32m----> 1\u001b[0;31m \u001b[0mprint\u001b[0m\u001b[0;34m(\u001b[0m\u001b[0;34m[\u001b[0m\u001b[0;34m]\u001b[0m \u001b[0;32mor\u001b[0m \u001b[0mB\u001b[0m\u001b[0;34m)\u001b[0m\u001b[0;34m\u001b[0m\u001b[0m\n\u001b[0m",
      "\u001b[0;31mNameError\u001b[0m: name 'B' is not defined"
     ]
    }
   ],
   "source": [
    "print([] or B)"
   ]
  },
  {
   "cell_type": "code",
   "execution_count": 37,
   "metadata": {},
   "outputs": [
    {
     "name": "stdout",
     "output_type": "stream",
     "text": [
      "1\n"
     ]
    }
   ],
   "source": [
    "%%ruby\n",
    "puts(([1] or B))"
   ]
  },
  {
   "cell_type": "code",
   "execution_count": 38,
   "metadata": {},
   "outputs": [
    {
     "name": "stdout",
     "output_type": "stream",
     "text": [
      "false\n"
     ]
    }
   ],
   "source": [
    "%%ruby\n",
    "puts((false or \"abc\" == 1))"
   ]
  },
  {
   "cell_type": "markdown",
   "metadata": {},
   "source": [
    "반면에 아래의 예제는 `B`가 선언되지 않았기에 `NameError`를 발생시킨다."
   ]
  },
  {
   "cell_type": "code",
   "execution_count": 39,
   "metadata": {},
   "outputs": [
    {
     "name": "stderr",
     "output_type": "stream",
     "text": [
      "-:1:in `<main>': uninitialized constant B (NameError)\n"
     ]
    }
   ],
   "source": [
    "%%ruby\n",
    "puts((nil or B))"
   ]
  },
  {
   "cell_type": "code",
   "execution_count": 40,
   "metadata": {},
   "outputs": [
    {
     "name": "stdout",
     "output_type": "stream",
     "text": [
      "[]\n"
     ]
    }
   ],
   "source": [
    "print([] and \"abc\")"
   ]
  },
  {
   "cell_type": "code",
   "execution_count": 41,
   "metadata": {},
   "outputs": [
    {
     "name": "stdout",
     "output_type": "stream",
     "text": [
      "abc\n"
     ]
    }
   ],
   "source": [
    "print(True and \"abc\")"
   ]
  },
  {
   "cell_type": "code",
   "execution_count": 42,
   "metadata": {},
   "outputs": [
    {
     "name": "stdout",
     "output_type": "stream",
     "text": [
      "abc\n"
     ]
    }
   ],
   "source": [
    "print([1] and \"abc\")"
   ]
  },
  {
   "cell_type": "code",
   "execution_count": 43,
   "metadata": {},
   "outputs": [
    {
     "name": "stdout",
     "output_type": "stream",
     "text": [
      "False\n"
     ]
    }
   ],
   "source": [
    "print([1] and \"abc\" == 1)"
   ]
  },
  {
   "cell_type": "code",
   "execution_count": 44,
   "metadata": {},
   "outputs": [
    {
     "name": "stdout",
     "output_type": "stream",
     "text": [
      "abc\n"
     ]
    }
   ],
   "source": [
    "%%ruby\n",
    "puts((true and \"abc\"))"
   ]
  },
  {
   "cell_type": "code",
   "execution_count": 45,
   "metadata": {},
   "outputs": [
    {
     "name": "stdout",
     "output_type": "stream",
     "text": [
      "false\n"
     ]
    }
   ],
   "source": [
    "%%ruby\n",
    "puts((true and \"abc\" == 1))"
   ]
  },
  {
   "cell_type": "markdown",
   "metadata": {},
   "source": [
    "## 연습문제"
   ]
  },
  {
   "cell_type": "markdown",
   "metadata": {},
   "source": [
    "<p>\n",
    "1. 아래 파이썬 코드에서 불리언 연산자의 활용이 어떤 문제를 갖고 있는지 설명하라.\n",
    "```python\n",
    "in_str = input(\"아이디를 입력해주세요.\\n\")\n",
    "real_egoing = \"egoing\"\n",
    "real_k8805 = \"k8805\"\n",
    "if real_egoing == in_str or real_k8805 == float(in_str):\n",
    "       print(\"Hello!\")\n",
    "else:\n",
    "       print(\"Who are you?\")\n",
    "```\n",
    "</p>\n",
    "1. 위 파이썬 코드의 문제와 비슷한 유형을 문제를 갖는 루비 코드 예제를 제시하라.\n",
    "<br><br>\n",
    "1. 아래 두 루비 코드의 차이점을 설명하라.\n",
    "    * 코드 1\n",
    "```ruby\n",
    "input_id = \"egoing\"\n",
    "input_pwd = \"1234\"\n",
    "real_id = \"egoing\"\n",
    "real_pwd = \"1111\"\n",
    "if real_id == input_id\n",
    "          if real_pwd == input_pwd\n",
    "              puts(\"Hello\")\n",
    "          else\n",
    "              puts(\"Wrong Password\")\n",
    "          end\n",
    "else\n",
    "          puts(\"Wrong ID\")\n",
    "end\n",
    "```\n",
    "    * 코드 2\n",
    "```ruby\n",
    "input_id = \"egoing\"\n",
    "input_pwd = \"1234\"\n",
    "real_id = \"egoing\"\n",
    "real_pwd = \"1111\"\n",
    "if real_id == input_id and real_pwd == input_pwd\n",
    "          puts(\"Hello\")\n",
    "else\n",
    "          puts(\"Login failed\")\n",
    "end\n",
    "```"
   ]
  }
 ],
 "metadata": {
  "kernelspec": {
   "display_name": "Python 3",
   "language": "python",
   "name": "python3"
  },
  "language_info": {
   "codemirror_mode": {
    "name": "ipython",
    "version": 3
   },
   "file_extension": ".py",
   "mimetype": "text/x-python",
   "name": "python",
   "nbconvert_exporter": "python",
   "pygments_lexer": "ipython3",
   "version": "3.6.3"
  }
 },
 "nbformat": 4,
 "nbformat_minor": 2
}
