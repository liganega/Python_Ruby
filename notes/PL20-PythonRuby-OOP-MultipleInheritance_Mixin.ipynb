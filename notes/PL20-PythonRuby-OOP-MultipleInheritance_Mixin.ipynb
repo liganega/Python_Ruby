{
 "cells": [
  {
   "cell_type": "markdown",
   "metadata": {},
   "source": [
    "# 다중상속과 믹스인"
   ]
  },
  {
   "cell_type": "markdown",
   "metadata": {},
   "source": [
    "## 다중상속이란?\n",
    "\n",
    "__다중상속__은 하나의 클래스가 여러 클래스의 기능을 상속 받는 것을 의미한다. \n",
    "즉, 부모클래스가 여럿일 수 있다.\n",
    "\n",
    "지금까지 다룬 클래스의 상속은 선형적이었다. \n",
    "즉, 부모클래스가 하나 뿐이었으며 아래 모양을 갖는다. \n",
    "\n",
    "<img src=\"images/inheritance01.png\" style=\"width:40%\">\n",
    "\n",
    "반면에 다중상속은 부모클래스가 여럿일 수 있으며 보통 아래 모양을 갖는다. \n",
    "\n",
    "<img src=\"images/inheritance02.png\" style=\"width:40%\">"
   ]
  },
  {
   "cell_type": "markdown",
   "metadata": {},
   "source": [
    "## 주요 OOP 지원 프로그래밍언어들의 다중상속 지원 여부"
   ]
  },
  {
   "cell_type": "markdown",
   "metadata": {},
   "source": [
    "파이썬은 다중상속을 지원하지만 루비는 지원하지 않는다. \n",
    "많이 알려진 언어들의 다중상속 지원여부는 다음과 같다."
   ]
  },
  {
   "cell_type": "markdown",
   "metadata": {},
   "source": [
    "&nbsp; &nbsp; &nbsp; &nbsp; &nbsp; &nbsp; &nbsp; &nbsp; &nbsp; &nbsp; &nbsp; &nbsp; &nbsp; &nbsp; &nbsp; 프로그래밍언어 &nbsp; &nbsp; &nbsp; &nbsp; &nbsp; &nbsp; &nbsp; &nbsp; &nbsp; &nbsp; &nbsp; &nbsp; &nbsp; &nbsp; &nbsp; | &nbsp; &nbsp; &nbsp; &nbsp; &nbsp; &nbsp; &nbsp; &nbsp; &nbsp; &nbsp; &nbsp; &nbsp; &nbsp; &nbsp; &nbsp; 다중상속 지원 &nbsp; &nbsp; &nbsp; &nbsp; &nbsp; &nbsp; &nbsp; &nbsp; &nbsp; &nbsp; &nbsp; &nbsp; &nbsp; &nbsp; &nbsp;\n",
    ":----------:| :------------------------------|:------------------------------\n",
    "파이썬 | O \n",
    "C++ | O\n",
    "JavaScript | O\n",
    "루비 | X\n",
    "자바 | X\n",
    "PHP | X"
   ]
  },
  {
   "cell_type": "markdown",
   "metadata": {},
   "source": [
    "## 다중상속을 허용하지 않는 OOP 지원 프로그래밍언어들의 특징"
   ]
  },
  {
   "cell_type": "markdown",
   "metadata": {},
   "source": [
    "루비, 자바, PHP 등의 프로그래밍언어는 OOP를 지원하지만 다중상속을 허용하지 않는다.\n",
    "하지만 다중상속을 허용했을 때 발생할 수 있는 문제들을 원천적으로 방지하기 위한 차원에서 지원하지 않는 것 뿐이며,\n",
    "언어별로 다중상속과 유사하게 작동하는 기술을 지원한다. \n",
    "\n",
    "* 루비: 모듈(`module`)과 클래스의 조합\n",
    "    * __믹스인(mixin)__ 이라 부름\n",
    "    * 아래 설명 참조\n",
    "* 자바: 인터페이스(`interface`)와 클래스의 조합\n",
    "    * 참조 1: https://wikidocs.net/217\n",
    "    * 참조 2: http://mainia.tistory.com/2139\n",
    "* PHP: 트레이트(`trait`)와 클래스의 조합\n",
    "    * 참조 1: http://php.net/manual/kr/language.oop5.traits.php\n",
    "    * 참조 2: https://www.lesstif.com/pages/viewpage.action?pageId=26083451\n",
    "    \n",
    "여기서는 파이썬의 다중상속과 루비의 믹스인 기술을 간단한 예제를 이용하여 소개한다."
   ]
  },
  {
   "cell_type": "markdown",
   "metadata": {},
   "source": [
    "## 파이썬의 다중상속"
   ]
  },
  {
   "cell_type": "markdown",
   "metadata": {},
   "source": [
    "### 다중상속 활용\n",
    "\n",
    "아래 예제는 `Cal` 클래스가 `CalMultiply`와 `CalDivide` 클래스를 다중상속하는 것을 보여준다.\n",
    "즉, `CalMultiply` 클래스의 `multiply` 메소드와 `CalDivide` 클래스의 `divide` 메소드를\n",
    "`Cal` 클래스의 인스턴스가 사용할 수 있음을 보여준다. \n",
    "\n",
    "**주의:** 생활코딩 동영상과 조금 다름\n",
    "\n",
    "* `Cal` 클래스가 `CalMultiply`와 `CalDivide` 클래스를 상속하지만 생성자가 `Cal` 클래스에서 명시적으로 선언됨.\n",
    "* 부모클래스가 아닌 자식클래스에서 생성자를 명시적으로 선언하는 것은 바람직하지 않음.\n",
    "* 아래 코드는 생성자를 부모클래스에 명시적으로 선언하고 있음.\n",
    "* `Cal` 클래스에서의 `super`의 역할에 주목하라."
   ]
  },
  {
   "cell_type": "code",
   "execution_count": 1,
   "metadata": {},
   "outputs": [
    {
     "name": "stdout",
     "output_type": "stream",
     "text": [
      "110\n",
      "1000\n",
      "10.0\n"
     ]
    }
   ],
   "source": [
    "class CalMultiply():\n",
    "    def __init__(self, v1, v2):\n",
    "        if isinstance(v1, int):\n",
    "            self.v1 = v1\n",
    "        if isinstance(v2, int):\n",
    "            self.v2 = v2\n",
    "\n",
    "    def multiply(self):\n",
    "        return self.v1*self.v2\n",
    "\n",
    "class CalDivide():\n",
    "    def __init__(self, v1, v2):\n",
    "        if isinstance(v1, int):\n",
    "            self.v1 = v1\n",
    "        if isinstance(v2, int):\n",
    "            self.v2 = v2\n",
    "\n",
    "    def divide(self):\n",
    "        return self.v1/self.v2\n",
    "\n",
    "class Cal(CalMultiply, CalDivide):\n",
    "    def __init__(self, v1, v2):\n",
    "        super().__init__(v1, v2)\n",
    "\n",
    "    def add(self):\n",
    "        return self.v1+self.v2\n",
    "\n",
    "    def subtract(self):\n",
    "        return self.v1-self.v2\n",
    "\n",
    "c = Cal(100, 10)\n",
    "print(c.add())\n",
    "print(c.multiply())\n",
    "print(c.divide())"
   ]
  },
  {
   "cell_type": "markdown",
   "metadata": {},
   "source": [
    "**참조:** 다중상속에서 `super` 의 역할에 대한 설명은 아래 사이트 참조할 것\n",
    "\n",
    "* [Multiple inheritance in python3 with different signatures](https://stackoverflow.com/questions/26927571/multiple-inheritance-in-python3-with-different-signatures)"
   ]
  },
  {
   "cell_type": "markdown",
   "metadata": {},
   "source": [
    "### 다중상속의 다이아몬드 문제\n",
    "\n",
    "다중상속을 할 때 여러 개의 부모클래스에서 동일한 이름의 메소드가 사용되었을 때 발생하는 문제를 __다이아몬드__ 문제라 부른다. 하지만 이 문제는 부모클래스들을 호출하는 순서대로 줄을 세우는 방식을 이용하여 해결된다.\n",
    "결론은, \"자식클래스를 선언할 때 사용되는 부모클래스들 중에서 보다 왼편에 언급된 클래스에게 우선순위를 준다\" 이다.\n",
    "\n",
    "아래 예제는 `C1`과 `C2`를 상속하는 `C3`에서 `C1`과 `C2`에서 모두 선언된 `m` 메소드를 호출하면\n",
    "인자로 먼저 사용된 `C2` 클래스의  `m` 메소드가 호출된다."
   ]
  },
  {
   "cell_type": "code",
   "execution_count": 2,
   "metadata": {},
   "outputs": [
    {
     "name": "stdout",
     "output_type": "stream",
     "text": [
      "c1_m\n",
      "c2_m\n",
      "C2 m\n"
     ]
    }
   ],
   "source": [
    "class C1():\n",
    "    def c1_m(self):\n",
    "        print(\"c1_m\")\n",
    "    def m(self):\n",
    "        print(\"C1 m\")\n",
    "\n",
    "class C2():\n",
    "    def c2_m(self):\n",
    "        print(\"c2_m\")\n",
    "    def m(self):\n",
    "        print(\"C2 m\")\n",
    "        \n",
    "class C3(C2, C1):\n",
    "    def c3_m(self):\n",
    "        print(\"c2_m\")\n",
    "        \n",
    "c = C3()\n",
    "c.c1_m()\n",
    "c.c2_m()\n",
    "c.m()"
   ]
  },
  {
   "cell_type": "markdown",
   "metadata": {},
   "source": [
    "만약 `C3`에도 `m` 클래스가 선언되었다면 `C3`의 `m` 메소드가 호출된다."
   ]
  },
  {
   "cell_type": "code",
   "execution_count": 3,
   "metadata": {},
   "outputs": [
    {
     "name": "stdout",
     "output_type": "stream",
     "text": [
      "c1_m\n",
      "c2_m\n",
      "C3 m\n"
     ]
    }
   ],
   "source": [
    "class C1():\n",
    "    def c1_m(self):\n",
    "        print(\"c1_m\")\n",
    "    def m(self):\n",
    "        print(\"C1 m\")\n",
    "\n",
    "class C2():\n",
    "    def c2_m(self):\n",
    "        print(\"c2_m\")\n",
    "    def m(self):\n",
    "        print(\"C2 m\")\n",
    "        \n",
    "class C3(C2, C1):\n",
    "    def m(self):\n",
    "        print(\"C3 m\")\n",
    "        \n",
    "c = C3()\n",
    "c.c1_m()\n",
    "c.c2_m()\n",
    "c.m()"
   ]
  },
  {
   "cell_type": "markdown",
   "metadata": {},
   "source": [
    "### 메소드 처리 순서(MRO, Method Resolution Order)\n",
    "\n",
    "앞서 설명한 것처럼 부모클래스가 언급된 순서가 중요하다고 했으며 먼저 언급된 클래스에게 우선권이 주어진다고 하였다.\n",
    "이렇게 클래스들 사이의 우선순위를 기억하는 장치가 파이썬 해석기에 포함되어 있으며,\n",
    "모든 클래스는 자신과 부모클래스들의 우선순위를 `__mro__` 라는 특별한 클래스 변수에 저장한다.\n",
    "\n",
    "예를 들어, `C3`의 `__mro__` 메소드에 저장된 정보는 다음과 같으며,\n",
    "아래 순서의 우선순위를 보여준다. \n",
    "\n",
    "> `C3` ==> `C2` ==> `C1` ==> `object`\n",
    "\n",
    "즉, 메소드나 변수의 정의를 왼편에 위치한 클래스에서부터 찾아보기 시작한다."
   ]
  },
  {
   "cell_type": "code",
   "execution_count": 4,
   "metadata": {},
   "outputs": [
    {
     "name": "stdout",
     "output_type": "stream",
     "text": [
      "(<class '__main__.C3'>, <class '__main__.C2'>, <class '__main__.C1'>, <class 'object'>)\n"
     ]
    }
   ],
   "source": [
    "print(C3.__mro__)"
   ]
  },
  {
   "cell_type": "markdown",
   "metadata": {},
   "source": [
    "## 루비의 모듈 활용 믹스인"
   ]
  },
  {
   "cell_type": "markdown",
   "metadata": {},
   "source": [
    "루비 언어는 다중상속을 지원하지 않는다.\n",
    "하지만 모듈과 클래스를 조합하는 __믹스인(mixin)__ 이라는 기술을 제공하여 다중상속과\n",
    "유사한 프로그래밍 기법을 가능하게 한다.\n",
    "\n",
    "아래 예제는 앞서 언급한 파이썬 예제의 경우처럼 `Cal` 클래스에서 `Multiply` 클래스를에서\n",
    "선언된 `multiply` 메소드와 `Divide` 모듈에 포함된 `divide` 함수를 동시에 \n",
    "이용할 수 있도록 만드는 전형적인 믹스인 기법을 보여준다. \n",
    "\n",
    "**주의:**\n",
    "* 생활코딩 동영상에서는 `Multipyly` 도 모듈로 선언하여 `Cal` 클래스에서 `Divide` 모듈과 \n",
    "    함께 `include` 되도록 설명하였다.\n",
    "* 하지만 전형적인 믹스인은 하나의 클래스를 상속하면서 여러 개의 모듈을 `include` 하는 모양을 갖는다.\n",
    "* 파이썬의 `__mro__` 가 메소드의 처리순서를 기억하는 것과 동일한 기능을 루비에서는 \n",
    "    '조상들'이라는 의미의 `ancestors` 클래스 변수가 수행한다."
   ]
  },
  {
   "cell_type": "code",
   "execution_count": 5,
   "metadata": {},
   "outputs": [
    {
     "name": "stdout",
     "output_type": "stream",
     "text": [
      "110\n",
      "1000\n",
      "10\n",
      "[Cal, Divide, Multiply, Object, Kernel, BasicObject]\n"
     ]
    }
   ],
   "source": [
    "%%ruby\n",
    "\n",
    "class Multiply\n",
    "  def initialize(v1,v2)\n",
    "    @v1 = v1\n",
    "    @v2 = v2\n",
    "  end\n",
    "\n",
    "  def multiply()\n",
    "    return @v1*@v2\n",
    "  end\n",
    "end\n",
    "\n",
    "module Divide\n",
    "  def initialize(v1,v2)\n",
    "    @v1 = v1\n",
    "    @v2 = v2\n",
    "  end\n",
    "\n",
    "  def divide()\n",
    "    return @v1/@v2\n",
    "  end\n",
    "\n",
    "end\n",
    "\n",
    "class Cal < Multiply\n",
    "  include Divide\n",
    "\n",
    "  def add()\n",
    "    return @v1+@v2\n",
    "  end\n",
    "\n",
    "  def subtract()\n",
    "    return @v1-@v2\n",
    "  end\n",
    "\n",
    "end\n",
    "\n",
    "c = Cal.new(100,10)\n",
    "p c.add()\n",
    "p c.multiply()\n",
    "p c.divide()\n",
    "\n",
    "# 메소드 처리 순서 확인하기\n",
    "p Cal.ancestors"
   ]
  },
  {
   "cell_type": "markdown",
   "metadata": {},
   "source": [
    "### `__mro__`와  `ancestors`의 비교\n",
    "\n",
    "파이썬과 루비에서 메소드 처리 순서가 비슷하지만 약간 다르다.\n",
    "자세한 설명은 아래 사이트를 참조하면 된다.\n",
    "\n",
    "* [Python MRO vs Ruby ancestors](http://timcardenas.com/post/95483055744/python-mro-vs-ruby-ancestors)"
   ]
  },
  {
   "cell_type": "markdown",
   "metadata": {},
   "source": [
    "## 연습문제"
   ]
  },
  {
   "cell_type": "markdown",
   "metadata": {},
   "source": [
    "1. 자바 언어도 다중상속을 지원하지 않는다. 앞서 언급한 루비 코드를 자바 언어로 구현하라.\n",
    "    <br>\n",
    "    힌트: 클래스와 인터페이스(`interface`)의 조합을 이용한다."
   ]
  }
 ],
 "metadata": {
  "kernelspec": {
   "display_name": "Python 3",
   "language": "python",
   "name": "python3"
  },
  "language_info": {
   "codemirror_mode": {
    "name": "ipython",
    "version": 3
   },
   "file_extension": ".py",
   "mimetype": "text/x-python",
   "name": "python",
   "nbconvert_exporter": "python",
   "pygments_lexer": "ipython3",
   "version": "3.6.3"
  }
 },
 "nbformat": 4,
 "nbformat_minor": 2
}
