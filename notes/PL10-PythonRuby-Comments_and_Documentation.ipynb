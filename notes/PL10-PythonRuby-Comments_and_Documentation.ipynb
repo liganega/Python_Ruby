{
 "cells": [
  {
   "cell_type": "markdown",
   "metadata": {},
   "source": [
    "# 주석 및 문서화"
   ]
  },
  {
   "cell_type": "markdown",
   "metadata": {},
   "source": [
    "## 주석 사용법"
   ]
  },
  {
   "cell_type": "markdown",
   "metadata": {},
   "source": [
    "&nbsp; &nbsp; &nbsp; &nbsp; &nbsp; &nbsp; 진리값 &nbsp; &nbsp; &nbsp; &nbsp; &nbsp; &nbsp; | &nbsp; &nbsp; &nbsp; &nbsp; &nbsp; &nbsp; &nbsp; &nbsp; &nbsp; &nbsp; &nbsp; &nbsp; &nbsp; &nbsp; &nbsp; Python &nbsp; &nbsp; &nbsp; &nbsp; &nbsp; &nbsp; &nbsp; &nbsp; &nbsp; &nbsp; &nbsp; &nbsp; &nbsp; &nbsp; &nbsp; | &nbsp; &nbsp; &nbsp; &nbsp; &nbsp; &nbsp; &nbsp; &nbsp; &nbsp; &nbsp; &nbsp; &nbsp; &nbsp; &nbsp; &nbsp; Ruby &nbsp; &nbsp; &nbsp; &nbsp; &nbsp; &nbsp; &nbsp; &nbsp; &nbsp; &nbsp; &nbsp; &nbsp; &nbsp; &nbsp; &nbsp;\n",
    ":----------:| :------------------------------|:------------------------------\n",
    "한 줄 주석     | `# 설명`                         | `# 설명`\n",
    "여러 줄 주석    | `'''`                          | `=begin`\n",
    "            | `여러줄 설명`                     |  `여러줄 설명`\n",
    "            | `'''`                          | `=end`"
   ]
  },
  {
   "cell_type": "markdown",
   "metadata": {},
   "source": [
    "### 예제"
   ]
  },
  {
   "cell_type": "markdown",
   "metadata": {},
   "source": [
    "#### 루비"
   ]
  },
  {
   "cell_type": "code",
   "execution_count": 1,
   "metadata": {},
   "outputs": [
    {
     "name": "stdout",
     "output_type": "stream",
     "text": [
      "Hello world!\n"
     ]
    }
   ],
   "source": [
    "%%ruby\n",
    "=begin\n",
    "여러 줄을 사용할 수 있음.\n",
    "다른 코드와 함께 사용될 수는 없음.\n",
    "=end\n",
    "\n",
    "puts(\"Hello world!\")"
   ]
  },
  {
   "cell_type": "markdown",
   "metadata": {},
   "source": [
    "#### 파이썬"
   ]
  },
  {
   "cell_type": "code",
   "execution_count": 2,
   "metadata": {},
   "outputs": [
    {
     "name": "stdout",
     "output_type": "stream",
     "text": [
      "Hello world!\n"
     ]
    }
   ],
   "source": [
    "'''\n",
    "여러 줄을 사용할 수 있음.\n",
    "다른 코드와 함께 사용될 수는 없음.\n",
    "'''\n",
    "\n",
    "print(\"Hello world!\")"
   ]
  },
  {
   "cell_type": "markdown",
   "metadata": {},
   "source": [
    "## 문서화(Documentation): 파이썬"
   ]
  },
  {
   "cell_type": "markdown",
   "metadata": {},
   "source": [
    "파이썬의 경우 여러 줄 주석에 사용된 세 개짜리 작은 따옴표 사용은 특수한 의미를 갖는다.\n",
    "여기서는 함수의 문서화 기능을 소개한다."
   ]
  },
  {
   "cell_type": "markdown",
   "metadata": {},
   "source": [
    "#### 예제\n",
    "\n",
    "아래와 같이 함수를 정의할 때 여러 줄 주석을 사용할 수 있다. "
   ]
  },
  {
   "cell_type": "code",
   "execution_count": 3,
   "metadata": {},
   "outputs": [],
   "source": [
    "def double_print(x):\n",
    "    '''\n",
    "    인자로 입력된 x를 두 번 출력하는 함수\n",
    "    '''\n",
    "    print(x + x)"
   ]
  },
  {
   "cell_type": "code",
   "execution_count": 4,
   "metadata": {},
   "outputs": [
    {
     "name": "stdout",
     "output_type": "stream",
     "text": [
      "hi hi \n"
     ]
    }
   ],
   "source": [
    "double_print(\"hi \")"
   ]
  },
  {
   "cell_type": "markdown",
   "metadata": {},
   "source": [
    "그러면 정의된 함수에 대한 정보를 원할 때 `help` 함수를 호출하면\n",
    "해당 함수를 정의할 때 여러 줄 주석에 사용된 내용이 보여진다."
   ]
  },
  {
   "cell_type": "code",
   "execution_count": 5,
   "metadata": {},
   "outputs": [
    {
     "name": "stdout",
     "output_type": "stream",
     "text": [
      "Help on function double_print in module __main__:\n",
      "\n",
      "double_print(x)\n",
      "    인자로 입력된 x를 두 번 출력하는 함수\n",
      "\n"
     ]
    }
   ],
   "source": [
    "help(double_print)"
   ]
  },
  {
   "cell_type": "markdown",
   "metadata": {},
   "source": [
    "## API와 UI"
   ]
  },
  {
   "cell_type": "markdown",
   "metadata": {},
   "source": [
    "### API\n",
    "\n",
    "루비의 [공식문서 사이트](http://ruby-doc.org)의 맨 윗부분에 **Core API**와 **Standard Library API**에\n",
    "대한 링크가 위치한다.\n",
    "\n",
    "* Core API: 루비 언어의 가장 기본 적인 클래스와 모듈에 대한 API 문서\n",
    "* Standard Library API: 루비 언어의 표준 라이브러리와 모듈에 대한 API 문서\n",
    "\n",
    "여기서 API는 Application Programming Interface, 즉, 응용 프로그램 프로그래밍의 인터페이스의 줄임말이며,\n",
    "루비와 파이썬을 포함한 모든 언어는 기본적으로 Core API와 Standard Library API로 구성된다."
   ]
  },
  {
   "cell_type": "markdown",
   "metadata": {},
   "source": [
    "### UI\n",
    "\n",
    "API와 UI란 말을 많이 들어보았을 것이다.\n",
    "여기서 UI는 User Interface, 즉 사용자 인터페이스의 줄임말이다.\n",
    "\n",
    "API와 UI에 대한 설명과 차이점은 아래 사이트의 동영상을 참조하면 좋다.\n",
    "\n",
    "https://opentutorials.org/course/1688/9379\n",
    "\n",
    "또는\n",
    "\n",
    "https://www.youtube.com/watch?v=j4T-weVcGxE\n",
    "\n",
    "위 동영상은 자바스크립트 언어를 이용하여 API와 UI를 설명하지만 자바스크립트 대신에 어떤 언어로\n",
    "대체해도 설명의 핵심은 변하지 않는다."
   ]
  }
 ],
 "metadata": {
  "kernelspec": {
   "display_name": "Python 3",
   "language": "python",
   "name": "python3"
  },
  "language_info": {
   "codemirror_mode": {
    "name": "ipython",
    "version": 3
   },
   "file_extension": ".py",
   "mimetype": "text/x-python",
   "name": "python",
   "nbconvert_exporter": "python",
   "pygments_lexer": "ipython3",
   "version": "3.6.3"
  }
 },
 "nbformat": 4,
 "nbformat_minor": 2
}
