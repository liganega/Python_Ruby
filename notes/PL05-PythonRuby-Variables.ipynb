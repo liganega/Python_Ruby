{
 "cells": [
  {
   "cell_type": "markdown",
   "metadata": {},
   "source": [
    "# 변수"
   ]
  },
  {
   "cell_type": "markdown",
   "metadata": {},
   "source": [
    "변수를 선언하는 방식은 사용하는 언어가 동적타이핑을 지원하는가, 아니면 정적타이핑을 지원하는가에 따라 다르다."
   ]
  },
  {
   "cell_type": "markdown",
   "metadata": {},
   "source": [
    "## 변수 선언"
   ]
  },
  {
   "cell_type": "markdown",
   "metadata": {},
   "source": [
    "* 동적 타이핑을 지원하는 파이썬과 루비에서 변수 선언은 아래의 모양을 갖는다.\n",
    "\n",
    "    > 변수이름 = 값\n",
    "    \n",
    "    예제:\n",
    "    ```python\n",
    "    x = 5\n",
    "    y = 1.4\n",
    "    ```"
   ]
  },
  {
   "cell_type": "markdown",
   "metadata": {},
   "source": [
    "* 정적 타이핑을 지원하는 C와 자바에서 변수 선언은 아래의 모양을 갖는다.\n",
    "\n",
    "    > 자료형 변수이름 = 값\n",
    "    \n",
    "    예제\n",
    "    ```c\n",
    "    int x = 5\n",
    "    float y = 1.4\n",
    "    ```"
   ]
  },
  {
   "cell_type": "markdown",
   "metadata": {},
   "source": [
    "## 변수 활용\n",
    "\n",
    "* 특정 값을 반복적으로 활용하는 경우\n",
    "    <br><br>\n",
    "    예제:\n",
    "    ```python\n",
    "    print(\"안녕하세요. \" + name + \"님\")\n",
    "    ```\n",
    "    * `name` 변수에 임의의 이름을 넣을 수 있다.\n",
    "    * `name`에 할당된 이름이 여러 번 사용되었을 경우 매우 유용하다.\n",
    "    <br><br>\n",
    "* 특정 항목의 값이 변하지만 항목의 기본 성질은 변하지 않는 경우\n",
    "    <br><br>\n",
    "    예제:\n",
    "    ```python\n",
    "    x = 100           # 후원금\n",
    "    y = 10            # 학생 수\n",
    "    z = 20            # 후원자 수\n",
    "    print((x * y)/z)  # 후원자 1인당 후원액수\n",
    "    ```\n",
    "    * 후원금, 학생 수, 후원자 수는 변할 수 있다. 하지만 후원자 1인당 후원액수 수식은 변하지 않는다."
   ]
  },
  {
   "cell_type": "markdown",
   "metadata": {},
   "source": [
    "### 프레임(Frame)\n",
    "\n",
    "변수 할당 명령문을 실행하면 컴퓨터 메모리 상에서 변수들과 변수들에 할당된 값들 사이의 관계에 대한 \n",
    "정보를 저장하는 __프레임(frame)__에 변화가 생긴다."
   ]
  },
  {
   "cell_type": "markdown",
   "metadata": {},
   "source": [
    "### 파이썬 튜터(pythontutor) 활용\n",
    "* [pythontutor.com](http://pythontutor.com/visualize.html)에 접속해서 \n",
    "언급된 세 개의 변수 할당 명령문을 입력한 후 'Visualize Execution' 버튼을 누르면\n",
    "메모리 프레임의 변화를 확인할 수 있다.\n",
    "\n",
    "* 이후 'Forward' 버튼을 누르면 각각의 명령문이 차례대로 실행되면서 프레임의 변화를 확인할 수 있다."
   ]
  },
  {
   "cell_type": "markdown",
   "metadata": {},
   "source": [
    "#### 예제: 파이썬"
   ]
  },
  {
   "cell_type": "markdown",
   "metadata": {},
   "source": [
    "<p>\n",
    "<table cellspacing=\"20\">\n",
    "<tr>\n",
    "<td>\n",
    "<img src=\"images/pythontutor01.png\" style=\"width:700px\">\n",
    "<img src=\"images/pythontutor02.png\" style=\"width:700px\">\n",
    "<img src=\"images/pythontutor03.png\" style=\"width:700px\">\n",
    "<img src=\"images/pythontutor04.png\" style=\"width:700px\">\n",
    "<img src=\"images/pythontutor05.png\" style=\"width:700px\">\n",
    "<img src=\"images/pythontutor06.png\" style=\"width:700px\">\n",
    "<img src=\"images/pythontutor07.png\" style=\"width:700px\">\n",
    "<img src=\"images/pythontutor08.png\" style=\"width:700px\">\n",
    "<img src=\"images/pythontutor09.png\" style=\"width:700px\">\n",
    "<img src=\"images/pythontutor10.png\" style=\"width:700px\">\n",
    "</td>\n",
    "</tr>\n",
    "</table>\n",
    "</p>"
   ]
  },
  {
   "cell_type": "markdown",
   "metadata": {},
   "source": [
    "#### 예제: 루비"
   ]
  },
  {
   "cell_type": "markdown",
   "metadata": {},
   "source": [
    "<p>\n",
    "<table cellspacing=\"20\">\n",
    "<tr>\n",
    "<td>\n",
    "<img src=\"images/pythontutor11.png\" style=\"width:700px\">\n",
    "<img src=\"images/pythontutor12.png\" style=\"width:700px\">\n",
    "<img src=\"images/pythontutor13.png\" style=\"width:700px\">\n",
    "<img src=\"images/pythontutor14.png\" style=\"width:700px\">\n",
    "<img src=\"images/pythontutor15.png\" style=\"width:700px\">\n",
    "<img src=\"images/pythontutor16.png\" style=\"width:700px\">\n",
    "<img src=\"images/pythontutor17.png\" style=\"width:700px\">\n",
    "<img src=\"images/pythontutor18.png\" style=\"width:700px\">\n",
    "<img src=\"images/pythontutor19.png\" style=\"width:700px\">\n",
    "<img src=\"images/pythontutor20.png\" style=\"width:700px\">\n",
    "</td>\n",
    "</tr>\n",
    "</table>\n",
    "</p>"
   ]
  },
  {
   "cell_type": "markdown",
   "metadata": {},
   "source": [
    "## 연습문제\n",
    "1. 파이썬 튜터 사이트를 이용하여 C 언어에서 변수를 선언할 때 메모리 상에서 발생하는 변화를 확인하라\n",
    "1. 파이썬 튜터 사이트를 이용하여 Java 언어에서 변수를 선언할 때 메모리 상에서 발생하는 변화를 확인하라."
   ]
  }
 ],
 "metadata": {
  "kernelspec": {
   "display_name": "Python 3",
   "language": "python",
   "name": "python3"
  },
  "language_info": {
   "codemirror_mode": {
    "name": "ipython",
    "version": 3
   },
   "file_extension": ".py",
   "mimetype": "text/x-python",
   "name": "python",
   "nbconvert_exporter": "python",
   "pygments_lexer": "ipython3",
   "version": "3.6.3"
  }
 },
 "nbformat": 4,
 "nbformat_minor": 2
}
