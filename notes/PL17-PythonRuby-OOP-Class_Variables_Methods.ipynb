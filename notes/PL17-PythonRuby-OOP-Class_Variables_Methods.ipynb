{
 "cells": [
  {
   "cell_type": "markdown",
   "metadata": {},
   "source": [
    "# 객체지향 프로그래밍: 클래스 변수와 클래스 메소드"
   ]
  },
  {
   "cell_type": "markdown",
   "metadata": {},
   "source": [
    "클래스 내부에서 선언된 변수와 클래스는 사용되는 방식에 따라 종류가 나뉘어진다.\n",
    "\n",
    "* 변수 \n",
    "    * 인스턴스 변수(instance variable)\n",
    "    * 클래스 변수(class variable)\n",
    "* 메소드\n",
    "    * 인스턴스 메소드(instance method)\n",
    "    * 클래스 메소드(class method)\n",
    "    * 정적 메소드(static method)\n",
    "\n",
    "지금까지 살펴본 변수와 메소드는 모두 인스턴스 변수와 인스턴스 메소드였다.\n",
    "여기서는 변수와 메소드의 종류를 나누는 기준과 사용법을 간단한 예제를 이용하여 설명한다."
   ]
  },
  {
   "cell_type": "markdown",
   "metadata": {},
   "source": [
    "## 인스턴스 변수와 인스턴스 메소드\n",
    "\n",
    "* 인스턴스 변수는 인스턴스를 생성해야만 만들어진다. \n",
    "* 인스턴스 메서드는 인스턴스 변수를 활용한다.\n",
    "* 인스턴스마다 사용되는 인스턴스 변수들의 값이 기본적으로 다르다.\n",
    "    * 서로 다른 인스턴스는 서로 독립적이다. \n",
    "    * 또한 동일한 메소드라 하더라도 사용되는 인스턴스마다 기본적으로 다른 값을 리턴한다. \n",
    "* 결론: 인스턴스 메소드와 인스턴스 변수 모두 해당 클래스의 인스턴스가 만들어져야만이 고유의 의미를 획득하게 된다."
   ]
  },
  {
   "cell_type": "markdown",
   "metadata": {},
   "source": [
    "이제부터 인스턴스 변수 변수와 인스턴스 메소드가 아닌 메소드,\n",
    "즉, 인스턴스를 생성하지 않아도 사용할 수 있는 변수와 메소드에 대해 알아보고자 한다."
   ]
  },
  {
   "cell_type": "markdown",
   "metadata": {},
   "source": [
    "아래 두 사이트 참조:\n",
    "\n",
    "* [장인개발자를 꿈꾸는](http://devbox.tistory.com/entry/Java-%EB%A9%94%EC%84%9C%EB%93%9C%EC%9D%98-%EC%A2%85%EB%A5%98)\n",
    "* [schoolofweb](http://schoolofweb.net/blog/posts/%ED%8C%8C%EC%9D%B4%EC%8D%AC-oop-part-4-%ED%81%B4%EB%9E%98%EC%8A%A4-%EB%A9%94%EC%86%8C%EB%93%9C%EC%99%80-%EC%8A%A4%ED%83%9C%ED%8B%B1-%EB%A9%94%EC%86%8C%EB%93%9C-class-method-and-static-method/)"
   ]
  },
  {
   "cell_type": "markdown",
   "metadata": {},
   "source": [
    "## 클래스 변수"
   ]
  },
  {
   "cell_type": "markdown",
   "metadata": {},
   "source": [
    "## 클래스 메소드"
   ]
  },
  {
   "cell_type": "markdown",
   "metadata": {},
   "source": [
    "## 정적 메소드"
   ]
  }
 ],
 "metadata": {
  "kernelspec": {
   "display_name": "Python 3",
   "language": "python",
   "name": "python3"
  },
  "language_info": {
   "codemirror_mode": {
    "name": "ipython",
    "version": 3
   },
   "file_extension": ".py",
   "mimetype": "text/x-python",
   "name": "python",
   "nbconvert_exporter": "python",
   "pygments_lexer": "ipython3",
   "version": "3.6.3"
  }
 },
 "nbformat": 4,
 "nbformat_minor": 2
}
