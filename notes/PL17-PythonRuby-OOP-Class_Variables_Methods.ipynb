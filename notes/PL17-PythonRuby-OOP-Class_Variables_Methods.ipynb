{
 "cells": [
  {
   "cell_type": "markdown",
   "metadata": {},
   "source": [
    "# 객체지향 프로그래밍: 클래스 변수와 클래스 메소드"
   ]
  },
  {
   "cell_type": "markdown",
   "metadata": {},
   "source": [
    "클래스 내부에서 선언된 변수와 클래스는 사용되는 방식에 따라 종류가 나뉘어진다.\n",
    "\n",
    "* 변수 \n",
    "    * 인스턴스 변수(instance variable)\n",
    "    * 클래스 변수(class variable)\n",
    "* 메소드\n",
    "    * 인스턴스 메소드(instance method)\n",
    "    * 클래스 메소드(class method)\n",
    "    * 스태틱 메소드(static method)\n",
    "\n",
    "지금까지 살펴본 변수와 메소드는 모두 인스턴스 변수와 인스턴스 메소드였다.\n",
    "여기서는 변수와 메소드의 종류를 나누는 기준과 사용법을 간단한 예제를 이용하여 설명한다."
   ]
  },
  {
   "cell_type": "markdown",
   "metadata": {},
   "source": [
    "## 클래스 변수"
   ]
  }
 ],
 "metadata": {
  "kernelspec": {
   "display_name": "Python 3",
   "language": "python",
   "name": "python3"
  },
  "language_info": {
   "codemirror_mode": {
    "name": "ipython",
    "version": 3
   },
   "file_extension": ".py",
   "mimetype": "text/x-python",
   "name": "python",
   "nbconvert_exporter": "python",
   "pygments_lexer": "ipython3",
   "version": "3.6.3"
  }
 },
 "nbformat": 4,
 "nbformat_minor": 2
}
