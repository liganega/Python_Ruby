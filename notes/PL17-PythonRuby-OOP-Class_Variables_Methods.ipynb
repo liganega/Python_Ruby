{
 "cells": [
  {
   "cell_type": "markdown",
   "metadata": {},
   "source": [
    "# 객체지향 프로그래밍: 클래스 변수와 클래스 메소드"
   ]
  },
  {
   "cell_type": "markdown",
   "metadata": {},
   "source": [
    "클래스 내부에서 선언된 변수와 클래스는 사용되는 방식에 따라 종류가 나뉘어진다.\n",
    "\n",
    "* 변수 \n",
    "    * 인스턴스 변수(instance variable)\n",
    "    * 클래스 변수(class variable)\n",
    "* 메소드\n",
    "    * 인스턴스 메소드(instance method)\n",
    "    * 클래스 메소드(class method)\n",
    "    * 정적 메소드(static method, 스태틱 메소드)\n",
    "\n",
    "지금까지 살펴본 변수와 메소드는 모두 인스턴스 변수와 인스턴스 메소드였다.\n",
    "여기서는 변수와 메소드의 종류를 나누는 기준과 사용법을 간단한 예제를 이용하여 설명한다."
   ]
  },
  {
   "cell_type": "markdown",
   "metadata": {},
   "source": [
    "## 인스턴스 멤버"
   ]
  },
  {
   "cell_type": "markdown",
   "metadata": {},
   "source": [
    "__인스턴스 메소드__와 __인스턴스 변수__ 모두 해당 클래스의 인스턴스가 만들어져야만이 고유의 의미를 획득하게 된다.\n",
    "즉, 인스턴스에 속하는 인스턴스 멤버들이다.\n",
    "\n",
    "* 인스턴스 변수는 인스턴스를 생성해야만 만들어진다. \n",
    "* 인스턴스 메서드는 인스턴스 변수를 활용한다.\n",
    "* 인스턴스마다 사용되는 인스턴스 변수들의 값이 기본적으로 다르다.\n",
    "    * 서로 다른 인스턴스는 상호 독립적이며, 서로 관여하지 못한다.\n",
    "    * 따라서 동일한 메소드라 하더라도 사용되는 인스턴스마다 기본적으로 다른 값을 리턴한다. \n",
    "\n",
    "우리가 지금까지 살펴본 변수와 메소드는 모두 인스턴스 소속이다.\n",
    "여기서는 인스턴스 멤버가 아닌 변수와 메소드를 살펴 본다."
   ]
  },
  {
   "cell_type": "markdown",
   "metadata": {},
   "source": [
    "## 클래스 멤버"
   ]
  },
  {
   "cell_type": "markdown",
   "metadata": {},
   "source": [
    "클래스를 선언할 때 이후에 생성될 인스턴스들이 공유할 수 있는 변수와 메소드를 선언할 필요가 있다.\n",
    "이렇게 선언된 변수와 메소드를 클래스 멤버라고 부르며 아래 특징을 갖는다.\n",
    "\n",
    "* 클래스 멤버는 특정 인스턴스에 속하지 않는다.\n",
    "* 모든 클래스 멤버는 이후에 생성되는 모든 인스턴스가 공유한다.\n",
    "* 클래스 멤버를 선언할 때 인스턴스 멤버를 사용할 수 없다.\n",
    "    * __주의:__ 인스턴스 멤버는 클래스 멤버를 사용할 수 있다.\n",
    "* 클래스 멤버는 인스턴스와 상관 없이 사용될 수 있다.\n",
    "* 특정 인스턴스와 상관이 없는 변수와 메소드는 클래스 멤버로 선언하는 것이 좋다."
   ]
  },
  {
   "cell_type": "markdown",
   "metadata": {},
   "source": [
    "클래스 멤버에는 두 종류가 있다. \n",
    "\n",
    "* 클래스 변수\n",
    "* 클래스 메소드\n",
    "\n",
    "__주의사항__ \n",
    "\n",
    "* 파이썬의 경우 __정적 메소드__(static method, 스태틱 메소드)로 분류되는 클래스 멤버가 있다.\n",
    "    하지만 사용 방식이 다를 뿐 기본적으로 클래스 메소드와 동일하다. 따라서 여기서는 다루지 않는다. \n",
    "* 자바 언어의 경우 클래스 변수와 클래스 메소드를 각각 정적 변수와 정적 메소드라 부르며 \n",
    "    클래스 멤버를 선언할 때 항상 `static` 이라는 제어자 키워드를 함께 사용한다."
   ]
  },
  {
   "cell_type": "markdown",
   "metadata": {},
   "source": [
    "### 클래스 변수"
   ]
  },
  {
   "cell_type": "markdown",
   "metadata": {},
   "source": [
    "클래스 변수에 할당된 값은 생성되는 모든 인스턴스에서 공유된다.\n",
    "\n",
    "예를 들어, 어떤 클래스의 인스턴스가 몇 번 생성되었는가를 기록하기 위해 클래스 변수를 이용할 수 있다."
   ]
  },
  {
   "cell_type": "markdown",
   "metadata": {},
   "source": [
    "#### 루비 예제 1\n",
    "\n",
    "루비의 클래스 변수는 골뱅이 기호가 두 번 붙는다."
   ]
  },
  {
   "cell_type": "code",
   "execution_count": 1,
   "metadata": {},
   "outputs": [
    {
     "name": "stdout",
     "output_type": "stream",
     "text": [
      "\"1 번째 인스턴스입니다.\"\n",
      "\"2 번째 인스턴스입니다.\"\n",
      "\"3 번째 인스턴스입니다.\"\n"
     ]
    }
   ],
   "source": [
    "%%ruby\n",
    "\n",
    "class Cs\n",
    "    # 클래스 변수 선언: @@ 기호 사용\n",
    "    @@count = 0\n",
    "\n",
    "    # 인스턴스가 생성될 때 마다 count 값을 1씩 키운다.\n",
    "    def initialize()\n",
    "        @@count = @@count + 1\n",
    "    end\n",
    "    \n",
    "    # 인스턴스 메소드\n",
    "    def showCount()\n",
    "        return \"#{@@count} 번째 인스턴스입니다.\"\n",
    "    end\n",
    "end\n",
    "\n",
    "c1 = Cs.new()\n",
    "p c1.showCount()\n",
    "\n",
    "c2 = Cs.new()\n",
    "p c2.showCount()\n",
    "\n",
    "c3 = Cs.new()\n",
    "p c3.showCount()"
   ]
  },
  {
   "cell_type": "markdown",
   "metadata": {},
   "source": [
    "#### 파이썬 예제 1\n",
    "\n",
    "파이썬의 클래스 변수는 생성자 밖에서 `self` 없이 선언된다."
   ]
  },
  {
   "cell_type": "code",
   "execution_count": 2,
   "metadata": {},
   "outputs": [
    {
     "name": "stdout",
     "output_type": "stream",
     "text": [
      "1번째 인스턴스입니다.\n",
      "2번째 인스턴스입니다.\n",
      "3번째 인스턴스입니다.\n"
     ]
    }
   ],
   "source": [
    "class Cs():\n",
    "    # 클래스 변수 선언: 생성자 밖에서 선언됨\n",
    "    # 클래스 변수가 메소드 내부에서 사용될 경우 클래스 이름과 함께 사용\n",
    "    count = 0\n",
    "\n",
    "    # 인스턴스가 생성될 때 마다 count 값을 1씩 키운다.\n",
    "    def __init__(self):\n",
    "        Cs.count = Cs.count + 1\n",
    "\n",
    "    # 인스턴스 메소드\n",
    "    def showCount(self):\n",
    "        return (\"%d번째 인스턴스입니다.\" % Cs.count)\n",
    "\n",
    "c1 = Cs()\n",
    "print(c1.showCount())\n",
    "\n",
    "c2 = Cs()\n",
    "print(c2.showCount())\n",
    "\n",
    "c3 = Cs()\n",
    "print(c3.showCount())"
   ]
  },
  {
   "cell_type": "markdown",
   "metadata": {},
   "source": [
    "### 클래스 메소드"
   ]
  },
  {
   "cell_type": "markdown",
   "metadata": {},
   "source": [
    "클래스 메소드는 인스턴스와 상관 없이 사용할 수 있다."
   ]
  },
  {
   "cell_type": "markdown",
   "metadata": {},
   "source": [
    "#### 루비 예제 1\n",
    "\n",
    "루비의 클래스 메소드는 해당 클래스 이름으로 시작한다. \n",
    "아래 예제에서 `getCount` 메소드는 클래스의 인스턴스가 몇 개 만들어졌는지를 확인한다."
   ]
  },
  {
   "cell_type": "code",
   "execution_count": 3,
   "metadata": {},
   "outputs": [
    {
     "name": "stdout",
     "output_type": "stream",
     "text": [
      "\"지금까지 3개의 인스턴스가 생성되었습니다.\"\n"
     ]
    }
   ],
   "source": [
    "%%ruby\n",
    "\n",
    "class Cs\n",
    "    # 클래스 변수 선언: @@ 기호 사용\n",
    "    @@count = 0\n",
    "\n",
    "    # 인스턴스가 생성될 때 마다 count 값을 1씩 키운다.\n",
    "    def initialize()\n",
    "        @@count = @@count + 1\n",
    "    end\n",
    "    \n",
    "    # 클래스 메소드: 클래스 이름으로 시작함\n",
    "    def Cs.getCount()\n",
    "        return \"지금까지 #{@@count}개의 인스턴스가 생성되었습니다.\"\n",
    "    end\n",
    "\n",
    "    # 인스턴스 메소드\n",
    "    def showCount()\n",
    "        return \"#{@@count} 번째 인스턴스입니다.\"\n",
    "    end\n",
    "end\n",
    "\n",
    "c1 = Cs.new()\n",
    "c2 = Cs.new()\n",
    "c3 = Cs.new()\n",
    "\n",
    "p Cs.getCount()"
   ]
  },
  {
   "cell_type": "markdown",
   "metadata": {},
   "source": [
    "#### 파이썬 예제 1\n",
    "\n",
    "파이썬의 클래스 메소드는 `@classmethod`라는 장식자가 추가되며,\n",
    "첫째 매개변수로 `cls`가 관용적으로 사용되며, 클래스 메소드가 호출될 때에는\n",
    "`self`의 경우처럼 인자를 직접 입력하지 않는다.\n",
    "\n",
    "`getCount` 메소드의 역할은 위 루비 코드와 동일하다."
   ]
  },
  {
   "cell_type": "code",
   "execution_count": 4,
   "metadata": {},
   "outputs": [
    {
     "name": "stdout",
     "output_type": "stream",
     "text": [
      "지금까지 3개의 인스턴스가 생성되었습니다.\n"
     ]
    }
   ],
   "source": [
    "class Cs():\n",
    "    # 클래스 변수 선언: 생성자 밖에서 선언됨\n",
    "    # 클래스 변수가 메소드 내부에서 사용될 경우 클래스 이름과 함께 사용\n",
    "    count = 0\n",
    "\n",
    "    # 인스턴스가 생성될 때 마다 count 값을 1씩 키운다.\n",
    "    def __init__(self):\n",
    "        Cs.count = Cs.count + 1\n",
    "    \n",
    "    # 클래스 메소드: classmethod 장식자 사용\n",
    "    @classmethod\n",
    "    def getCount(cls):\n",
    "        return (\"지금까지 %d개의 인스턴스가 생성되었습니다.\" % cls.count)\n",
    "\n",
    "    # 인스턴스 메소드\n",
    "    def showCount(self):\n",
    "        return (\"%d번째 인스턴스입니다.\" % Cs.count)\n",
    "\n",
    "c1 = Cs()\n",
    "c2 = Cs()\n",
    "c3 = Cs()\n",
    "\n",
    "print(Cs.getCount())"
   ]
  },
  {
   "cell_type": "markdown",
   "metadata": {},
   "source": [
    "## 클래스 멤버 활용 예제"
   ]
  },
  {
   "cell_type": "markdown",
   "metadata": {},
   "source": [
    "인스턴스의 메소드가 호출될 때마다 기록에 저장하여\n",
    "모든 인스턴스들의 행동을 기억해 두도록 할 수 있다."
   ]
  },
  {
   "cell_type": "markdown",
   "metadata": {},
   "source": [
    "### 루비: `Cal` 클래스 활용"
   ]
  },
  {
   "cell_type": "code",
   "execution_count": 5,
   "metadata": {},
   "outputs": [
    {
     "name": "stdout",
     "output_type": "stream",
     "text": [
      "20\n",
      "100\n",
      "#<CalDivide:0x007fd5f00e7158 @v1=20, @v2=10>\n",
      "30\n",
      "#<CalDivide:0x007fd5f00e7158 @v1=20, @v2=10>\n",
      "200\n",
      "#<CalDivide:0x007fd5f00e7158 @v1=20, @v2=10>\n",
      "2\n",
      "\"add : 10+10=20\"\n",
      "\"multipy : 10*10=100\"\n",
      "\"add : 20+10=30\"\n",
      "\"multipy : 20*10=200\"\n",
      "\"divide : 20/10=2\"\n"
     ]
    }
   ],
   "source": [
    "%%ruby\n",
    "class Cal\n",
    "    attr_reader :v1, :v2\n",
    "    attr_writer :v1\n",
    "    \n",
    "    # 클래스 변수: 생성된 인스턴스에서 모든 행위 기록 용도\n",
    "    # 인스턴스 메소드가 호출될 때마다 _history 리스트에 기록됨.\n",
    "    # 일종의 로그 파일 역할 수행\n",
    "    @@_history = []\n",
    "\n",
    "    def initialize(v1,v2)\n",
    "        @v1 = v1\n",
    "        @v2 = v2\n",
    "    end\n",
    "\n",
    "    def add()\n",
    "        result = @v1+@v2\n",
    "        @@_history.push(\"add : #{@v1}+#{@v2}=#{result}\")         # 기록하기\n",
    "        return result\n",
    "    end\n",
    "\n",
    "    def subtract()\n",
    "        result = @v1-@v2\n",
    "        @@_history.push(\"subtract : #{@v1}-#{@v2}=#{result}\")    # 기록하기\n",
    "        return result\n",
    "    end\n",
    "\n",
    "    # 클래스 메소드: _history 에 기록된 내용 출력하기\n",
    "    def Cal.history()\n",
    "        for item in @@_history\n",
    "            p item\n",
    "        end\n",
    "    end\n",
    "\n",
    "end\n",
    "\n",
    "class CalMultiply < Cal\n",
    "    def multiply()\n",
    "        result = @v1*@v2\n",
    "        @@_history.push(\"multipy : #{@v1}*#{@v2}=#{result}\")    # 기록하기\n",
    "        return result\n",
    "    end\n",
    "end\n",
    "\n",
    "class CalDivide < CalMultiply\n",
    "    def divide()\n",
    "        result = @v1/@v2\n",
    "        @@_history.push(\"divide : #{@v1}/#{@v2}=#{result}\")    # 기록하기\n",
    "        return result\n",
    "    end\n",
    "end\n",
    "\n",
    "c1 = CalMultiply.new(10,10)\n",
    "p c1.add()\n",
    "p c1.multiply()\n",
    "c2 = CalDivide.new(20, 10)\n",
    "p c2, c2.add()\n",
    "p c2, c2.multiply()\n",
    "p c2, c2.divide()\n",
    "\n",
    "# 기록 확인하기\n",
    "Cal.history()"
   ]
  },
  {
   "cell_type": "markdown",
   "metadata": {},
   "source": [
    "### 파이썬: `Cal` 클래스 활용"
   ]
  },
  {
   "cell_type": "code",
   "execution_count": 6,
   "metadata": {},
   "outputs": [
    {
     "name": "stdout",
     "output_type": "stream",
     "text": [
      "20\n",
      "100\n",
      "<__main__.CalDivide object at 0x108abf588> 30\n",
      "<__main__.CalDivide object at 0x108abf588> 200\n",
      "<__main__.CalDivide object at 0x108abf588> 2.0\n",
      "add : 10+10=20\n",
      "multiply : 10*10=100\n",
      "add : 20+10=30\n",
      "multiply : 20*10=200\n",
      "divide : 20/10=2\n"
     ]
    }
   ],
   "source": [
    "class Cal(object):\n",
    "\n",
    "    # 클래스 변수: 생성된 인스턴스에서 모든 행위 기록 용도\n",
    "    # 인스턴스 메소드가 호출될 때마다 _history 리스트에 기록됨.\n",
    "    # 일종의 로그 파일 역할 수행    \n",
    "    _history = []\n",
    "\n",
    "    def __init__(self, v1, v2):\n",
    "        if isinstance(v1, int):\n",
    "            self.v1 = v1\n",
    "        if isinstance(v2, int):\n",
    "            self.v2 = v2\n",
    "\n",
    "    def add(self):\n",
    "        result = self.v1+self.v2\n",
    "        Cal._history.append(\"add : %d+%d=%d\" % (self.v1, self.v2, result))        # 기록하기\n",
    "        return result\n",
    "    \n",
    "    def subtract(self):\n",
    "        result = self.v1-self.v2\n",
    "        Cal._history.append(\"subtract : %d-%d=%d\" % (self.v1, self.v2, result))   # 기록하기\n",
    "        return result\n",
    "\n",
    "    # 클래스 메소드: _history 에 기록된 내용 출력하기\n",
    "    @classmethod\n",
    "    def history(cls):\n",
    "        for item in Cal._history:\n",
    "            print(item)\n",
    "            \n",
    "class CalMultiply(Cal):\n",
    "    def multiply(self):\n",
    "        result = self.v1*self.v2\n",
    "        Cal._history.append(\"multiply : %d*%d=%d\" % (self.v1, self.v2, result))   # 기록하기\n",
    "        return result\n",
    "    \n",
    "class CalDivide(CalMultiply):\n",
    "    def divide(self):\n",
    "        result = self.v1/self.v2\n",
    "        Cal._history.append(\"divide : %d/%d=%d\" % (self.v1, self.v2, result))     # 기록하기\n",
    "        return result\n",
    "    \n",
    "c1 = CalMultiply(10,10)\n",
    "print(c1.add())\n",
    "print(c1.multiply())\n",
    "c2 = CalDivide(20,10)\n",
    "print(c2, c2.add())\n",
    "print(c2, c2.multiply())\n",
    "print(c2, c2.divide())\n",
    "\n",
    "# 기록 확인하기\n",
    "Cal.history()"
   ]
  },
  {
   "cell_type": "markdown",
   "metadata": {},
   "source": [
    "## 연습문제"
   ]
  },
  {
   "cell_type": "markdown",
   "metadata": {},
   "source": [
    "1. 아래 루비 코드를 이용해서 인스턴스 메소드와 클래스 메소드의 차이점을 설명하라.\n",
    "    ```ruby\n",
    "    require 'date'\n",
    "    d1 = Date.new(2000, 1, 1)\n",
    "    d2 = Date.new(2010, 1, 1)\n",
    "    p d1.year()\n",
    "    p d2.year()\n",
    "    p Date.today()\n",
    "    ```\n",
    "    <br>\n",
    "1. 위 루비 코드를 파이썬과 자바로 구현하라."
   ]
  }
 ],
 "metadata": {
  "kernelspec": {
   "display_name": "Python 3",
   "language": "python",
   "name": "python3"
  },
  "language_info": {
   "codemirror_mode": {
    "name": "ipython",
    "version": 3
   },
   "file_extension": ".py",
   "mimetype": "text/x-python",
   "name": "python",
   "nbconvert_exporter": "python",
   "pygments_lexer": "ipython3",
   "version": "3.6.3"
  }
 },
 "nbformat": 4,
 "nbformat_minor": 2
}
