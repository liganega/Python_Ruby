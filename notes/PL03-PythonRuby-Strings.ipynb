{
 "cells": [
  {
   "cell_type": "markdown",
   "metadata": {},
   "source": [
    "# 문자열"
   ]
  },
  {
   "cell_type": "markdown",
   "metadata": {},
   "source": [
    "## 주요 내용\n",
    "\n",
    "* 문자열 다루기\n",
    "* 문자열 관련 메소드 활용\n",
    "* 파이썬의 문자열 자료형에 대한 자료는 아래 사이트 참조\n",
    "    * https://github.com/liganega/bpp/blob/master/notes/02-ThinkPython-Strings.ipynb\n",
    "* 여기서는 문자열 자료형의 기초를 다루면서 파이썬과 루비의 특성을 확인한다."
   ]
  },
  {
   "cell_type": "markdown",
   "metadata": {},
   "source": [
    "### 주의사항\n",
    "\n",
    "* 파이썬과 루비는 문자열을 다루는 방식이 매우 비슷하다. \n",
    "* 하지만 문자열 자료형을 조작하는 방식, 특히 메소드 활용에서 약간의 차이가 존재한다."
   ]
  },
  {
   "cell_type": "markdown",
   "metadata": {},
   "source": [
    "## 문자열 색인(index)과 인덱싱(indexing)\n",
    "\n",
    "* 문자열 색인과 인덱싱의 개념과 사용법은 파이썬과 루비에서 동일하다.\n",
    "* 따라서 아래 사이트 참조할 것.\n",
    "    * https://github.com/liganega/bpp/blob/master/notes/02-ThinkPython-Strings.ipynb"
   ]
  },
  {
   "cell_type": "markdown",
   "metadata": {},
   "source": [
    "### 수정가능성\n",
    "* 파이썬과 루비에서의 문자열 클래스의 속성이 거의 비슷하지만 중요한 차이가 하나 있다.\n",
    "* 바로 수정가능성에서 차이가 있다.\n"
   ]
  },
  {
   "cell_type": "markdown",
   "metadata": {},
   "source": [
    "&nbsp; &nbsp; &nbsp; &nbsp; &nbsp; &nbsp; 구분 &nbsp; &nbsp; &nbsp; &nbsp; &nbsp; &nbsp; | &nbsp; &nbsp; &nbsp; &nbsp; &nbsp; &nbsp; &nbsp; &nbsp; &nbsp; &nbsp; &nbsp; &nbsp; &nbsp; &nbsp; &nbsp; Python &nbsp; &nbsp; &nbsp; &nbsp; &nbsp; &nbsp; &nbsp; &nbsp; &nbsp; &nbsp; &nbsp; &nbsp; &nbsp; &nbsp; &nbsp; | &nbsp; &nbsp; &nbsp; &nbsp; &nbsp; &nbsp; &nbsp; &nbsp; &nbsp; &nbsp; &nbsp; &nbsp; &nbsp; &nbsp; &nbsp; Ruby &nbsp; &nbsp; &nbsp; &nbsp; &nbsp; &nbsp; &nbsp; &nbsp; &nbsp; &nbsp; &nbsp; &nbsp; &nbsp; &nbsp; &nbsp;\n",
    ":----------:| :------------------------------:|:------------------------------:\n",
    "수정가능성     | 수정 불가                         | 수정 가능"
   ]
  },
  {
   "cell_type": "markdown",
   "metadata": {},
   "source": [
    "파이썬에서 문자열의 일부를 인덱싱을 활용하여 수정하고자 하면 오류가 발생한다."
   ]
  },
  {
   "cell_type": "code",
   "execution_count": 1,
   "metadata": {},
   "outputs": [
    {
     "ename": "TypeError",
     "evalue": "'str' object does not support item assignment",
     "output_type": "error",
     "traceback": [
      "\u001b[0;31m---------------------------------------------------------------------------\u001b[0m",
      "\u001b[0;31mTypeError\u001b[0m                                 Traceback (most recent call last)",
      "\u001b[0;32m<ipython-input-1-48281edf187e>\u001b[0m in \u001b[0;36m<module>\u001b[0;34m()\u001b[0m\n\u001b[1;32m      1\u001b[0m \u001b[0ma\u001b[0m \u001b[0;34m=\u001b[0m \u001b[0;34m\"hello\"\u001b[0m\u001b[0;34m\u001b[0m\u001b[0m\n\u001b[0;32m----> 2\u001b[0;31m \u001b[0ma\u001b[0m\u001b[0;34m[\u001b[0m\u001b[0;36m1\u001b[0m\u001b[0;34m]\u001b[0m \u001b[0;34m=\u001b[0m \u001b[0;34m'cc'\u001b[0m\u001b[0;34m\u001b[0m\u001b[0m\n\u001b[0m\u001b[1;32m      3\u001b[0m \u001b[0mprint\u001b[0m\u001b[0;34m(\u001b[0m\u001b[0ma\u001b[0m\u001b[0;34m)\u001b[0m\u001b[0;34m\u001b[0m\u001b[0m\n",
      "\u001b[0;31mTypeError\u001b[0m: 'str' object does not support item assignment"
     ]
    }
   ],
   "source": [
    "a = \"hello\"\n",
    "a[1] = 'cc'\n",
    "print(a)"
   ]
  },
  {
   "cell_type": "markdown",
   "metadata": {},
   "source": [
    "반면에 루비에서는 문자열의 일부를 인덱싱을 활용하여 수정할 수 있다."
   ]
  },
  {
   "cell_type": "code",
   "execution_count": 2,
   "metadata": {},
   "outputs": [
    {
     "name": "stdout",
     "output_type": "stream",
     "text": [
      "hccllo\n"
     ]
    }
   ],
   "source": [
    "%%ruby\n",
    "a = 'hello'\n",
    "a[1] = 'cc'\n",
    "puts(a)"
   ]
  },
  {
   "cell_type": "markdown",
   "metadata": {},
   "source": [
    "## 문자열 메소드"
   ]
  },
  {
   "cell_type": "markdown",
   "metadata": {},
   "source": [
    "파이썬과 루비 모두 문자열 자료형 클래스에 다양한 메소드가 포함되어 있다.\n",
    "두 언어 사이에 다른 기능의 메소드가 포함되어 있으며, 경우에 따라 동일한 기능의 함수가 서로 다른 이름을 갖기도 한다.\n",
    "여기서는 몇 개의 중요 메소드만 소개한다."
   ]
  },
  {
   "cell_type": "markdown",
   "metadata": {},
   "source": [
    "&nbsp; &nbsp; &nbsp; &nbsp; &nbsp; &nbsp; 문자열 메소드 &nbsp; &nbsp; &nbsp; &nbsp; &nbsp; &nbsp; | &nbsp; &nbsp; &nbsp; &nbsp; &nbsp; &nbsp; &nbsp; &nbsp; &nbsp; &nbsp; &nbsp; &nbsp; &nbsp; &nbsp; &nbsp; Python &nbsp; &nbsp; &nbsp; &nbsp; &nbsp; &nbsp; &nbsp; &nbsp; &nbsp; &nbsp; &nbsp; &nbsp; &nbsp; &nbsp; &nbsp; | &nbsp; &nbsp; &nbsp; &nbsp; &nbsp; &nbsp; &nbsp; &nbsp; &nbsp; &nbsp; &nbsp; &nbsp; &nbsp; &nbsp; &nbsp; Ruby &nbsp; &nbsp; &nbsp; &nbsp; &nbsp; &nbsp; &nbsp; &nbsp; &nbsp; &nbsp; &nbsp; &nbsp; &nbsp; &nbsp; &nbsp;\n",
    ":----------:| :------------------------------|:------------------------------\n",
    "첫문자 대문자화 | `\"hello\".capitalize()`         | `\"hello\".capitalize()`\n",
    "모두 대문자화   | `\"hello\".upper()`              | `\"hello\".upcase()`\n",
    "문자열 길이 확인| `\"hello\".__len()__`            | `\"hello\".length()`\n",
    "부분문자열 대체 | `\"hello\".replace(\"a\", \"cc\")`   | `\"hello\".sub(\"a\", \"cc\")`"
   ]
  },
  {
   "cell_type": "code",
   "execution_count": 3,
   "metadata": {},
   "outputs": [
    {
     "name": "stdout",
     "output_type": "stream",
     "text": [
      "hccllo\n"
     ]
    }
   ],
   "source": [
    "a = \"hello\"\n",
    "b = a.replace(\"e\", \"cc\")\n",
    "print(b)"
   ]
  },
  {
   "cell_type": "code",
   "execution_count": 4,
   "metadata": {},
   "outputs": [
    {
     "name": "stdout",
     "output_type": "stream",
     "text": [
      "hccllo\n"
     ]
    }
   ],
   "source": [
    "%%ruby\n",
    "a = 'hello'\n",
    "b = \"hello\".sub('e', 'cc')\n",
    "puts(b)"
   ]
  },
  {
   "cell_type": "markdown",
   "metadata": {},
   "source": [
    "#### 주의사항\n",
    "* 부분문자열을 대체하는 메소드인 `replace`와 `sub`는 기존의 문자열을 수정하지 않는다.\n",
    "* 대신에 기존의 문자열을 이용하여 새로운 문자열을 생성하여 리턴한다."
   ]
  },
  {
   "cell_type": "code",
   "execution_count": 5,
   "metadata": {},
   "outputs": [
    {
     "name": "stdout",
     "output_type": "stream",
     "text": [
      "hello\n"
     ]
    }
   ],
   "source": [
    "a = \"hello\"\n",
    "b = a.replace(\"e\", \"cc\")\n",
    "print(a)"
   ]
  },
  {
   "cell_type": "code",
   "execution_count": 6,
   "metadata": {},
   "outputs": [
    {
     "name": "stdout",
     "output_type": "stream",
     "text": [
      "hello\n"
     ]
    }
   ],
   "source": [
    "%%ruby\n",
    "a = 'hello'\n",
    "b = \"hello\".sub('e', 'cc')\n",
    "puts(a)"
   ]
  },
  {
   "cell_type": "markdown",
   "metadata": {},
   "source": [
    "### 메소드와 함수\n",
    "메소드와 함수를 구분할 줄 알아야 한다.\n",
    "* 함수: 입력을 받아 실행된 결과를 리턴하는 프로그램\n",
    "    * 사용법:\n",
    "        > 함수이름(인자1, 인자2, ...)\n",
    "* 메소드: 특정 클래스 안에 정의된 함수\n",
    "    * 메소드는 어느 클래스에 속하느냐가 매우 중요함\n",
    "    * 사용법:\n",
    "        > 클래스객체.메소드이름(인자1, 인자2, ...)"
   ]
  },
  {
   "cell_type": "markdown",
   "metadata": {},
   "source": [
    "#### 예제\n",
    "* 파이썬에서 문자열의 길이를 리턴하는 `len`이란 함수가 있다.\n",
    "    하지만 이 함수는 문자열 클래스의 메소드가 아니다.\n",
    "    > len('hello') = 5\n",
    "* 파이썬에서 문자열의 길이를 리턴하는 문자열 메소드가 따로 존재한다.\n",
    "    > 'hello'.__len() = 5"
   ]
  },
  {
   "cell_type": "markdown",
   "metadata": {},
   "source": [
    "#### 주의사항\n",
    "* 다른 클래스에 속한 메소드를 활용할 수는 없다.\n",
    "    예를 들어, 루비에서 아래 명령문을 실행하면 오류를 유발한다.\n",
    "    > 17.length()\n",
    "\n",
    "    정수 클래스에는 `length` 메소드가 존재하지 않기 때문에 `NoMethodError`가 발생한다."
   ]
  },
  {
   "cell_type": "code",
   "execution_count": 7,
   "metadata": {},
   "outputs": [
    {
     "name": "stderr",
     "output_type": "stream",
     "text": [
      "-:1:in `<main>': undefined method `length' for 17:Integer (NoMethodError)\n"
     ]
    }
   ],
   "source": [
    "%%ruby\n",
    "puts(17.length())"
   ]
  },
  {
   "cell_type": "markdown",
   "metadata": {},
   "source": [
    "### 메소드와 함수의 작동방식의 차이\n",
    "메소드와 함수가 호출되어 실행될 때 내부적으로 서로 다르게 작동한다.\n",
    "예를 들어, 파이썬과 루비에서 올림함수인 `ceil` 함수를 호출할 때의 차이점을 아래 예제를 통해 확인할 수 있다."
   ]
  },
  {
   "cell_type": "markdown",
   "metadata": {},
   "source": [
    "* 파이썬: 아래 예제코드 오류 발생원인\n",
    "    * `ceil` 함수는 임의의 값과 함께 호출하면 일단 실행이 된다.\n",
    "    * 하지만 인자의 자료형을 확인할 때 정수 또는 부동소수점이 아니면 바로 자료형 오류(TypeError)를 발생시키고 실행을 멈춘다."
   ]
  },
  {
   "cell_type": "code",
   "execution_count": 8,
   "metadata": {},
   "outputs": [
    {
     "ename": "TypeError",
     "evalue": "must be real number, not str",
     "output_type": "error",
     "traceback": [
      "\u001b[0;31m---------------------------------------------------------------------------\u001b[0m",
      "\u001b[0;31mTypeError\u001b[0m                                 Traceback (most recent call last)",
      "\u001b[0;32m<ipython-input-8-49dd6aa60f1d>\u001b[0m in \u001b[0;36m<module>\u001b[0;34m()\u001b[0m\n\u001b[1;32m      1\u001b[0m \u001b[0;32mimport\u001b[0m \u001b[0mmath\u001b[0m\u001b[0;34m\u001b[0m\u001b[0m\n\u001b[0;32m----> 2\u001b[0;31m \u001b[0mmath\u001b[0m\u001b[0;34m.\u001b[0m\u001b[0mceil\u001b[0m\u001b[0;34m(\u001b[0m\u001b[0;34m\"abc\"\u001b[0m\u001b[0;34m)\u001b[0m\u001b[0;34m\u001b[0m\u001b[0m\n\u001b[0m",
      "\u001b[0;31mTypeError\u001b[0m: must be real number, not str"
     ]
    }
   ],
   "source": [
    "import math\n",
    "math.ceil(\"abc\")"
   ]
  },
  {
   "cell_type": "markdown",
   "metadata": {},
   "source": [
    "* 루비: 아래 예제코드 오류 발생원인\n",
    "    * 실행하기 전에 먼저 문자열 자료형 클래스에서 `ceil` 이라는 메소드 존재여부 확인\n",
    "    * 없을 경우 바로 메소드 오류(NoMethodError)를 발생시키고 멈춘다."
   ]
  },
  {
   "cell_type": "code",
   "execution_count": 9,
   "metadata": {},
   "outputs": [
    {
     "name": "stderr",
     "output_type": "stream",
     "text": [
      "-:1:in `<main>': undefined method `ceil' for \"abc\":String (NoMethodError)\n"
     ]
    }
   ],
   "source": [
    "%%ruby\n",
    "print(\"abc\".ceil())"
   ]
  },
  {
   "cell_type": "markdown",
   "metadata": {},
   "source": [
    "## 특수 문자 다루기"
   ]
  },
  {
   "cell_type": "markdown",
   "metadata": {},
   "source": [
    "### 예제: 따옴표 포함하기"
   ]
  },
  {
   "cell_type": "markdown",
   "metadata": {},
   "source": [
    "아래 문자열을 보이는 그대로 출력하고자 한다.\n",
    "\n",
    "> egoing's \"tutotial\""
   ]
  },
  {
   "cell_type": "markdown",
   "metadata": {},
   "source": [
    "* 파이썬: 다음과 같이 할 수 있다.\n",
    "    * 문자열을 감싸는 따옴표의 종류에 따라 달라진다.\n",
    "    * 문자열 내부에 사용되는 따옴표는 기본적으로 역슬래시를 함께 사용해야 한다."
   ]
  },
  {
   "cell_type": "code",
   "execution_count": 10,
   "metadata": {},
   "outputs": [
    {
     "name": "stdout",
     "output_type": "stream",
     "text": [
      "egoing's \"tutorial\"\n"
     ]
    }
   ],
   "source": [
    "print(\"egoing's \\\"tutorial\\\"\")"
   ]
  },
  {
   "cell_type": "markdown",
   "metadata": {},
   "source": [
    "또는"
   ]
  },
  {
   "cell_type": "code",
   "execution_count": 11,
   "metadata": {},
   "outputs": [
    {
     "name": "stdout",
     "output_type": "stream",
     "text": [
      "egoing's \"tutorial\"\n"
     ]
    }
   ],
   "source": [
    "print('egoing\\'s \"tutorial\"')"
   ]
  },
  {
   "cell_type": "markdown",
   "metadata": {},
   "source": [
    "* 루비: 기본적으로 파이썬과 동일함"
   ]
  },
  {
   "cell_type": "code",
   "execution_count": 12,
   "metadata": {},
   "outputs": [
    {
     "name": "stdout",
     "output_type": "stream",
     "text": [
      "egoing's \"tutorial\"\n"
     ]
    }
   ],
   "source": [
    "%%ruby\n",
    "puts(\"egoing\\'s \\\"tutorial\\\"\")"
   ]
  },
  {
   "cell_type": "code",
   "execution_count": 13,
   "metadata": {},
   "outputs": [
    {
     "name": "stdout",
     "output_type": "stream",
     "text": [
      "egoing's \"tutorial\"\n"
     ]
    }
   ],
   "source": [
    "%%ruby\n",
    "puts('egoing\\'s \"tutorial\"')"
   ]
  },
  {
   "cell_type": "markdown",
   "metadata": {},
   "source": [
    "### 예제: 특수 문자 활용 예제\n",
    "\n",
    "역슬래시(`\\`), 줄바꾸기(`\\n`), 탭(`\\t`) 등은 문자열에 사용될 경우 특수한 기능을 갖는다."
   ]
  },
  {
   "cell_type": "code",
   "execution_count": 14,
   "metadata": {},
   "outputs": [
    {
     "name": "stdout",
     "output_type": "stream",
     "text": [
      "Hello\n",
      " World\n"
     ]
    }
   ],
   "source": [
    "print(\"Hello\\n World\")"
   ]
  },
  {
   "cell_type": "code",
   "execution_count": 15,
   "metadata": {},
   "outputs": [
    {
     "name": "stdout",
     "output_type": "stream",
     "text": [
      "Hello\t World\n"
     ]
    }
   ],
   "source": [
    "print(\"Hello\\t World\")"
   ]
  },
  {
   "cell_type": "code",
   "execution_count": 16,
   "metadata": {},
   "outputs": [
    {
     "name": "stdout",
     "output_type": "stream",
     "text": [
      "Hello\n",
      " World\n"
     ]
    }
   ],
   "source": [
    "%%ruby\n",
    "puts(\"Hello\\n World\")"
   ]
  },
  {
   "cell_type": "code",
   "execution_count": 17,
   "metadata": {},
   "outputs": [
    {
     "name": "stdout",
     "output_type": "stream",
     "text": [
      "Hello\t World\n"
     ]
    }
   ],
   "source": [
    "%%ruby\n",
    "puts(\"Hello\\t World\")"
   ]
  },
  {
   "cell_type": "markdown",
   "metadata": {},
   "source": [
    "따라서 문자열 내에 특수 기능을 갖는 문자열을 사용하고자 할 경우 역슬래시를 모든 역슬래시 앞에 사용하여서 특수 긴을 제거해야 한다."
   ]
  },
  {
   "cell_type": "code",
   "execution_count": 18,
   "metadata": {},
   "outputs": [
    {
     "name": "stdout",
     "output_type": "stream",
     "text": [
      "Hello\\n World\n"
     ]
    }
   ],
   "source": [
    "print(\"Hello\\\\n World\")"
   ]
  },
  {
   "cell_type": "code",
   "execution_count": 19,
   "metadata": {},
   "outputs": [
    {
     "name": "stdout",
     "output_type": "stream",
     "text": [
      "Hello\\t World\n"
     ]
    }
   ],
   "source": [
    "print(\"Hello\\\\t World\")"
   ]
  },
  {
   "cell_type": "code",
   "execution_count": 20,
   "metadata": {},
   "outputs": [
    {
     "name": "stdout",
     "output_type": "stream",
     "text": [
      "Hello\\ World\n"
     ]
    }
   ],
   "source": [
    "print(\"Hello\\\\ World\")"
   ]
  },
  {
   "cell_type": "markdown",
   "metadata": {},
   "source": [
    "루비의 경우도 비슷하다."
   ]
  },
  {
   "cell_type": "code",
   "execution_count": 21,
   "metadata": {},
   "outputs": [
    {
     "name": "stdout",
     "output_type": "stream",
     "text": [
      "Hello\\n World\n"
     ]
    }
   ],
   "source": [
    "%%ruby\n",
    "puts(\"Hello\\\\n World\")"
   ]
  },
  {
   "cell_type": "code",
   "execution_count": 22,
   "metadata": {},
   "outputs": [
    {
     "name": "stdout",
     "output_type": "stream",
     "text": [
      "Hello\\t World\n"
     ]
    }
   ],
   "source": [
    "%%ruby\n",
    "puts(\"Hello\\\\t World\")"
   ]
  },
  {
   "cell_type": "code",
   "execution_count": 23,
   "metadata": {},
   "outputs": [
    {
     "name": "stdout",
     "output_type": "stream",
     "text": [
      "Hello\\ World\n"
     ]
    }
   ],
   "source": [
    "%%ruby\n",
    "puts(\"Hello\\\\ World\")"
   ]
  },
  {
   "cell_type": "markdown",
   "metadata": {},
   "source": [
    "#### 주의사항\n",
    "루비의 경우 작은 따옴표를 사용하면 경우에 따라 역슬래시의 특수 기능이 자동으로 사라지기도 한다."
   ]
  },
  {
   "cell_type": "code",
   "execution_count": 24,
   "metadata": {},
   "outputs": [
    {
     "name": "stdout",
     "output_type": "stream",
     "text": [
      "Hello\\n World\n"
     ]
    }
   ],
   "source": [
    "%%ruby\n",
    "puts('Hello\\\\n World')"
   ]
  },
  {
   "cell_type": "code",
   "execution_count": 25,
   "metadata": {},
   "outputs": [
    {
     "name": "stdout",
     "output_type": "stream",
     "text": [
      "Hello\\t World\n"
     ]
    }
   ],
   "source": [
    "%%ruby\n",
    "puts('Hello\\\\t World')"
   ]
  },
  {
   "cell_type": "code",
   "execution_count": 26,
   "metadata": {},
   "outputs": [
    {
     "name": "stdout",
     "output_type": "stream",
     "text": [
      "Hello\\ World\n"
     ]
    }
   ],
   "source": [
    "%%ruby\n",
    "puts('Hello\\ World')"
   ]
  },
  {
   "cell_type": "markdown",
   "metadata": {},
   "source": [
    "## 연습문제\n",
    "1. C 언어에서 문자열 색인과 인덱싱을 다루는 법을 예제를 들어 설명하라.\n",
    "1. Java 언어에서 문자열 색인과 인덱싱을 다루는 법을 예제를 들어 설명하라.\n",
    "1. C와 자바에서 문자열의 수정가능성을 예제를 통해 설명하라.\n",
    "1. C와 자바에서 앞서 언급된 문자열 메소드들에 해당하는 함수 또는 메소드를 예제를 통해 설명하라."
   ]
  }
 ],
 "metadata": {
  "kernelspec": {
   "display_name": "Python 3",
   "language": "python",
   "name": "python3"
  },
  "language_info": {
   "codemirror_mode": {
    "name": "ipython",
    "version": 3
   },
   "file_extension": ".py",
   "mimetype": "text/x-python",
   "name": "python",
   "nbconvert_exporter": "python",
   "pygments_lexer": "ipython3",
   "version": "3.6.3"
  }
 },
 "nbformat": 4,
 "nbformat_minor": 2
}
